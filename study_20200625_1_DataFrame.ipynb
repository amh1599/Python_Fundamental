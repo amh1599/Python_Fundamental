{
 "cells": [
  {
   "cell_type": "code",
   "execution_count": 4,
   "metadata": {},
   "outputs": [],
   "source": [
    "import pandas as pd\n",
    "import numpy as np"
   ]
  },
  {
   "cell_type": "markdown",
   "metadata": {},
   "source": [
    "# DataFrame\n",
    "### Series는 가로줄에만 index가 있다면\n",
    "### DataFrame은 가로줄 뿐만 아니라 세로줄에도 inedx(컬럼)가 있다"
   ]
  },
  {
   "cell_type": "code",
   "execution_count": 23,
   "metadata": {},
   "outputs": [
    {
     "name": "stdout",
     "output_type": "stream",
     "text": [
      "   0\n",
      "0  0\n",
      "1  1\n",
      "2  2\n",
      "3  3\n",
      "4  4\n",
      "----------\n",
      "0    0\n",
      "1    1\n",
      "2    2\n",
      "3    3\n",
      "4    4\n",
      "dtype: int64\n"
     ]
    }
   ],
   "source": [
    "d=[0,1,2,3,4]\n",
    "df = pd.DataFrame(d)\n",
    "print(df)\n",
    "print(\"----------\")\n",
    "ds = pd.Series(d)\n",
    "print(ds)"
   ]
  },
  {
   "cell_type": "markdown",
   "metadata": {},
   "source": [
    "ㅡㅡㅡㅡㅡㅡㅡㅡㅡㅡㅡㅡㅡㅡㅡㅡㅡㅡㅡㅡㅡㅡ<br>\n",
    "### column에 이름 부여\n",
    "1)   df.columns=[\"컬럼이름\"]<br>\n",
    "2)   df.[\"컬럼이름\"]=데이터"
   ]
  },
  {
   "cell_type": "code",
   "execution_count": 24,
   "metadata": {},
   "outputs": [
    {
     "name": "stdout",
     "output_type": "stream",
     "text": [
      "   0\n",
      "0  0\n",
      "1  1\n",
      "2  2\n",
      "3  3\n",
      "4  4\n",
      "----------\n",
      "   column1\n",
      "0        0\n",
      "1        1\n",
      "2        2\n",
      "3        3\n",
      "4        4\n"
     ]
    }
   ],
   "source": [
    "d=[0,1,2,3,4]\n",
    "df = pd.DataFrame(d)\n",
    "print(df)\n",
    "print(\"----------\")\n",
    "df.columns=[\"column1\"]\n",
    "print(df)"
   ]
  },
  {
   "cell_type": "code",
   "execution_count": 25,
   "metadata": {
    "scrolled": false
   },
   "outputs": [
    {
     "name": "stdout",
     "output_type": "stream",
     "text": [
      "   column1  newCol\n",
      "0        0       0\n",
      "1        1       1\n",
      "2        2       2\n",
      "3        3       3\n",
      "4        4       4\n",
      "----------\n",
      "   column1  newCol  newCol2\n",
      "0        0       0        5\n",
      "1        1       1        5\n",
      "2        2       2        5\n",
      "3        3       3        5\n",
      "4        4       4        5\n"
     ]
    }
   ],
   "source": [
    "# 컬럼 이름이 기존에 있으면 update\n",
    "# 기존에 없으면 append\n",
    "df[\"newCol\"]=d\n",
    "print(df)\n",
    "print(\"----------\")\n",
    "df[\"newCol2\"]=5\n",
    "print(df)"
   ]
  },
  {
   "cell_type": "code",
   "execution_count": 26,
   "metadata": {},
   "outputs": [
    {
     "data": {
      "text/html": [
       "<div>\n",
       "<style scoped>\n",
       "    .dataframe tbody tr th:only-of-type {\n",
       "        vertical-align: middle;\n",
       "    }\n",
       "\n",
       "    .dataframe tbody tr th {\n",
       "        vertical-align: top;\n",
       "    }\n",
       "\n",
       "    .dataframe thead th {\n",
       "        text-align: right;\n",
       "    }\n",
       "</style>\n",
       "<table border=\"1\" class=\"dataframe\">\n",
       "  <thead>\n",
       "    <tr style=\"text-align: right;\">\n",
       "      <th></th>\n",
       "      <th>column1</th>\n",
       "      <th>newCol</th>\n",
       "      <th>newCol2</th>\n",
       "    </tr>\n",
       "    <tr>\n",
       "      <th>count</th>\n",
       "      <th></th>\n",
       "      <th></th>\n",
       "      <th></th>\n",
       "    </tr>\n",
       "  </thead>\n",
       "  <tbody>\n",
       "    <tr>\n",
       "      <th>0</th>\n",
       "      <td>0</td>\n",
       "      <td>0</td>\n",
       "      <td>5</td>\n",
       "    </tr>\n",
       "    <tr>\n",
       "      <th>1</th>\n",
       "      <td>1</td>\n",
       "      <td>1</td>\n",
       "      <td>5</td>\n",
       "    </tr>\n",
       "    <tr>\n",
       "      <th>2</th>\n",
       "      <td>2</td>\n",
       "      <td>2</td>\n",
       "      <td>5</td>\n",
       "    </tr>\n",
       "    <tr>\n",
       "      <th>3</th>\n",
       "      <td>3</td>\n",
       "      <td>3</td>\n",
       "      <td>5</td>\n",
       "    </tr>\n",
       "    <tr>\n",
       "      <th>4</th>\n",
       "      <td>4</td>\n",
       "      <td>4</td>\n",
       "      <td>5</td>\n",
       "    </tr>\n",
       "  </tbody>\n",
       "</table>\n",
       "</div>"
      ],
      "text/plain": [
       "       column1  newCol  newCol2\n",
       "count                          \n",
       "0            0       0        5\n",
       "1            1       1        5\n",
       "2            2       2        5\n",
       "3            3       3        5\n",
       "4            4       4        5"
      ]
     },
     "execution_count": 26,
     "metadata": {},
     "output_type": "execute_result"
    }
   ],
   "source": [
    "df.index.name=\"count\"\n",
    "df"
   ]
  },
  {
   "cell_type": "markdown",
   "metadata": {},
   "source": [
    "### 예제 1\n",
    "df에서 newCol3를 기존의 newCol2의 값을 기준으로 만을고, 기존의 newCol2의 모든 값을 100배 한 값을 newCol3에 생성"
   ]
  },
  {
   "cell_type": "code",
   "execution_count": 27,
   "metadata": {},
   "outputs": [
    {
     "data": {
      "text/html": [
       "<div>\n",
       "<style scoped>\n",
       "    .dataframe tbody tr th:only-of-type {\n",
       "        vertical-align: middle;\n",
       "    }\n",
       "\n",
       "    .dataframe tbody tr th {\n",
       "        vertical-align: top;\n",
       "    }\n",
       "\n",
       "    .dataframe thead th {\n",
       "        text-align: right;\n",
       "    }\n",
       "</style>\n",
       "<table border=\"1\" class=\"dataframe\">\n",
       "  <thead>\n",
       "    <tr style=\"text-align: right;\">\n",
       "      <th></th>\n",
       "      <th>column1</th>\n",
       "      <th>newCol</th>\n",
       "      <th>newCol2</th>\n",
       "      <th>newCol3</th>\n",
       "    </tr>\n",
       "    <tr>\n",
       "      <th>count</th>\n",
       "      <th></th>\n",
       "      <th></th>\n",
       "      <th></th>\n",
       "      <th></th>\n",
       "    </tr>\n",
       "  </thead>\n",
       "  <tbody>\n",
       "    <tr>\n",
       "      <th>0</th>\n",
       "      <td>0</td>\n",
       "      <td>0</td>\n",
       "      <td>5</td>\n",
       "      <td>500</td>\n",
       "    </tr>\n",
       "    <tr>\n",
       "      <th>1</th>\n",
       "      <td>1</td>\n",
       "      <td>1</td>\n",
       "      <td>5</td>\n",
       "      <td>500</td>\n",
       "    </tr>\n",
       "    <tr>\n",
       "      <th>2</th>\n",
       "      <td>2</td>\n",
       "      <td>2</td>\n",
       "      <td>5</td>\n",
       "      <td>500</td>\n",
       "    </tr>\n",
       "    <tr>\n",
       "      <th>3</th>\n",
       "      <td>3</td>\n",
       "      <td>3</td>\n",
       "      <td>5</td>\n",
       "      <td>500</td>\n",
       "    </tr>\n",
       "    <tr>\n",
       "      <th>4</th>\n",
       "      <td>4</td>\n",
       "      <td>4</td>\n",
       "      <td>5</td>\n",
       "      <td>500</td>\n",
       "    </tr>\n",
       "  </tbody>\n",
       "</table>\n",
       "</div>"
      ],
      "text/plain": [
       "       column1  newCol  newCol2  newCol3\n",
       "count                                   \n",
       "0            0       0        5      500\n",
       "1            1       1        5      500\n",
       "2            2       2        5      500\n",
       "3            3       3        5      500\n",
       "4            4       4        5      500"
      ]
     },
     "execution_count": 27,
     "metadata": {},
     "output_type": "execute_result"
    }
   ],
   "source": [
    "df[\"newCol3\"]=df[\"newCol2\"]*100\n",
    "df"
   ]
  },
  {
   "cell_type": "markdown",
   "metadata": {},
   "source": [
    "### 예제 2\n",
    "df에서 newCol2에서 2번째 값을 확인(5)하고, 이 값을 2000으로 변경하기"
   ]
  },
  {
   "cell_type": "code",
   "execution_count": 28,
   "metadata": {},
   "outputs": [
    {
     "data": {
      "text/html": [
       "<div>\n",
       "<style scoped>\n",
       "    .dataframe tbody tr th:only-of-type {\n",
       "        vertical-align: middle;\n",
       "    }\n",
       "\n",
       "    .dataframe tbody tr th {\n",
       "        vertical-align: top;\n",
       "    }\n",
       "\n",
       "    .dataframe thead th {\n",
       "        text-align: right;\n",
       "    }\n",
       "</style>\n",
       "<table border=\"1\" class=\"dataframe\">\n",
       "  <thead>\n",
       "    <tr style=\"text-align: right;\">\n",
       "      <th></th>\n",
       "      <th>column1</th>\n",
       "      <th>newCol</th>\n",
       "      <th>newCol2</th>\n",
       "      <th>newCol3</th>\n",
       "    </tr>\n",
       "    <tr>\n",
       "      <th>count</th>\n",
       "      <th></th>\n",
       "      <th></th>\n",
       "      <th></th>\n",
       "      <th></th>\n",
       "    </tr>\n",
       "  </thead>\n",
       "  <tbody>\n",
       "    <tr>\n",
       "      <th>0</th>\n",
       "      <td>0</td>\n",
       "      <td>0</td>\n",
       "      <td>5</td>\n",
       "      <td>500</td>\n",
       "    </tr>\n",
       "    <tr>\n",
       "      <th>1</th>\n",
       "      <td>1</td>\n",
       "      <td>1</td>\n",
       "      <td>2000</td>\n",
       "      <td>500</td>\n",
       "    </tr>\n",
       "    <tr>\n",
       "      <th>2</th>\n",
       "      <td>2</td>\n",
       "      <td>2</td>\n",
       "      <td>5</td>\n",
       "      <td>500</td>\n",
       "    </tr>\n",
       "    <tr>\n",
       "      <th>3</th>\n",
       "      <td>3</td>\n",
       "      <td>3</td>\n",
       "      <td>5</td>\n",
       "      <td>500</td>\n",
       "    </tr>\n",
       "    <tr>\n",
       "      <th>4</th>\n",
       "      <td>4</td>\n",
       "      <td>4</td>\n",
       "      <td>5</td>\n",
       "      <td>500</td>\n",
       "    </tr>\n",
       "  </tbody>\n",
       "</table>\n",
       "</div>"
      ],
      "text/plain": [
       "       column1  newCol  newCol2  newCol3\n",
       "count                                   \n",
       "0            0       0        5      500\n",
       "1            1       1     2000      500\n",
       "2            2       2        5      500\n",
       "3            3       3        5      500\n",
       "4            4       4        5      500"
      ]
     },
     "execution_count": 28,
     "metadata": {},
     "output_type": "execute_result"
    }
   ],
   "source": [
    "df.iat[1,2]=2000\n",
    "df"
   ]
  },
  {
   "cell_type": "code",
   "execution_count": null,
   "metadata": {},
   "outputs": [],
   "source": []
  },
  {
   "cell_type": "markdown",
   "metadata": {},
   "source": [
    "### Column 삭제\n",
    "1)  del df[\"칼럼이름\"]<br>\n",
    "2)  df.drop(칼럼이름 or index이름, axis=1 or 2)"
   ]
  },
  {
   "cell_type": "code",
   "execution_count": 29,
   "metadata": {},
   "outputs": [
    {
     "data": {
      "text/html": [
       "<div>\n",
       "<style scoped>\n",
       "    .dataframe tbody tr th:only-of-type {\n",
       "        vertical-align: middle;\n",
       "    }\n",
       "\n",
       "    .dataframe tbody tr th {\n",
       "        vertical-align: top;\n",
       "    }\n",
       "\n",
       "    .dataframe thead th {\n",
       "        text-align: right;\n",
       "    }\n",
       "</style>\n",
       "<table border=\"1\" class=\"dataframe\">\n",
       "  <thead>\n",
       "    <tr style=\"text-align: right;\">\n",
       "      <th></th>\n",
       "      <th>column1</th>\n",
       "      <th>newCol2</th>\n",
       "      <th>newCol3</th>\n",
       "    </tr>\n",
       "    <tr>\n",
       "      <th>count</th>\n",
       "      <th></th>\n",
       "      <th></th>\n",
       "      <th></th>\n",
       "    </tr>\n",
       "  </thead>\n",
       "  <tbody>\n",
       "    <tr>\n",
       "      <th>0</th>\n",
       "      <td>0</td>\n",
       "      <td>5</td>\n",
       "      <td>500</td>\n",
       "    </tr>\n",
       "    <tr>\n",
       "      <th>1</th>\n",
       "      <td>1</td>\n",
       "      <td>2000</td>\n",
       "      <td>500</td>\n",
       "    </tr>\n",
       "    <tr>\n",
       "      <th>2</th>\n",
       "      <td>2</td>\n",
       "      <td>5</td>\n",
       "      <td>500</td>\n",
       "    </tr>\n",
       "    <tr>\n",
       "      <th>3</th>\n",
       "      <td>3</td>\n",
       "      <td>5</td>\n",
       "      <td>500</td>\n",
       "    </tr>\n",
       "    <tr>\n",
       "      <th>4</th>\n",
       "      <td>4</td>\n",
       "      <td>5</td>\n",
       "      <td>500</td>\n",
       "    </tr>\n",
       "  </tbody>\n",
       "</table>\n",
       "</div>"
      ],
      "text/plain": [
       "       column1  newCol2  newCol3\n",
       "count                           \n",
       "0            0        5      500\n",
       "1            1     2000      500\n",
       "2            2        5      500\n",
       "3            3        5      500\n",
       "4            4        5      500"
      ]
     },
     "execution_count": 29,
     "metadata": {},
     "output_type": "execute_result"
    }
   ],
   "source": [
    "del df[\"newCol\"]\n",
    "df"
   ]
  },
  {
   "cell_type": "code",
   "execution_count": 30,
   "metadata": {},
   "outputs": [
    {
     "data": {
      "text/html": [
       "<div>\n",
       "<style scoped>\n",
       "    .dataframe tbody tr th:only-of-type {\n",
       "        vertical-align: middle;\n",
       "    }\n",
       "\n",
       "    .dataframe tbody tr th {\n",
       "        vertical-align: top;\n",
       "    }\n",
       "\n",
       "    .dataframe thead th {\n",
       "        text-align: right;\n",
       "    }\n",
       "</style>\n",
       "<table border=\"1\" class=\"dataframe\">\n",
       "  <thead>\n",
       "    <tr style=\"text-align: right;\">\n",
       "      <th></th>\n",
       "      <th>column1</th>\n",
       "      <th>newCol3</th>\n",
       "    </tr>\n",
       "    <tr>\n",
       "      <th>count</th>\n",
       "      <th></th>\n",
       "      <th></th>\n",
       "    </tr>\n",
       "  </thead>\n",
       "  <tbody>\n",
       "    <tr>\n",
       "      <th>0</th>\n",
       "      <td>0</td>\n",
       "      <td>500</td>\n",
       "    </tr>\n",
       "    <tr>\n",
       "      <th>1</th>\n",
       "      <td>1</td>\n",
       "      <td>500</td>\n",
       "    </tr>\n",
       "    <tr>\n",
       "      <th>2</th>\n",
       "      <td>2</td>\n",
       "      <td>500</td>\n",
       "    </tr>\n",
       "    <tr>\n",
       "      <th>3</th>\n",
       "      <td>3</td>\n",
       "      <td>500</td>\n",
       "    </tr>\n",
       "    <tr>\n",
       "      <th>4</th>\n",
       "      <td>4</td>\n",
       "      <td>500</td>\n",
       "    </tr>\n",
       "  </tbody>\n",
       "</table>\n",
       "</div>"
      ],
      "text/plain": [
       "       column1  newCol3\n",
       "count                  \n",
       "0            0      500\n",
       "1            1      500\n",
       "2            2      500\n",
       "3            3      500\n",
       "4            4      500"
      ]
     },
     "execution_count": 30,
     "metadata": {},
     "output_type": "execute_result"
    }
   ],
   "source": [
    "# pandas의 함수 이용\n",
    "df.drop(\"newCol2\",axis=1)     # axis => 1:세로  ,  0:가로"
   ]
  },
  {
   "cell_type": "code",
   "execution_count": 31,
   "metadata": {},
   "outputs": [
    {
     "data": {
      "text/html": [
       "<div>\n",
       "<style scoped>\n",
       "    .dataframe tbody tr th:only-of-type {\n",
       "        vertical-align: middle;\n",
       "    }\n",
       "\n",
       "    .dataframe tbody tr th {\n",
       "        vertical-align: top;\n",
       "    }\n",
       "\n",
       "    .dataframe thead th {\n",
       "        text-align: right;\n",
       "    }\n",
       "</style>\n",
       "<table border=\"1\" class=\"dataframe\">\n",
       "  <thead>\n",
       "    <tr style=\"text-align: right;\">\n",
       "      <th></th>\n",
       "      <th>column1</th>\n",
       "      <th>newCol3</th>\n",
       "    </tr>\n",
       "    <tr>\n",
       "      <th>count</th>\n",
       "      <th></th>\n",
       "      <th></th>\n",
       "    </tr>\n",
       "  </thead>\n",
       "  <tbody>\n",
       "    <tr>\n",
       "      <th>0</th>\n",
       "      <td>0</td>\n",
       "      <td>500</td>\n",
       "    </tr>\n",
       "    <tr>\n",
       "      <th>1</th>\n",
       "      <td>1</td>\n",
       "      <td>500</td>\n",
       "    </tr>\n",
       "    <tr>\n",
       "      <th>2</th>\n",
       "      <td>2</td>\n",
       "      <td>500</td>\n",
       "    </tr>\n",
       "    <tr>\n",
       "      <th>3</th>\n",
       "      <td>3</td>\n",
       "      <td>500</td>\n",
       "    </tr>\n",
       "    <tr>\n",
       "      <th>4</th>\n",
       "      <td>4</td>\n",
       "      <td>500</td>\n",
       "    </tr>\n",
       "  </tbody>\n",
       "</table>\n",
       "</div>"
      ],
      "text/plain": [
       "       column1  newCol3\n",
       "count                  \n",
       "0            0      500\n",
       "1            1      500\n",
       "2            2      500\n",
       "3            3      500\n",
       "4            4      500"
      ]
     },
     "execution_count": 31,
     "metadata": {},
     "output_type": "execute_result"
    }
   ],
   "source": [
    "# df.drop()만 실행하면 실제로 지워지는것이 아님\n",
    "# 업데이트를 해야 적용됨\n",
    "df = df.drop(\"newCol2\",axis=1)\n",
    "df"
   ]
  },
  {
   "cell_type": "code",
   "execution_count": 32,
   "metadata": {},
   "outputs": [
    {
     "data": {
      "text/html": [
       "<div>\n",
       "<style scoped>\n",
       "    .dataframe tbody tr th:only-of-type {\n",
       "        vertical-align: middle;\n",
       "    }\n",
       "\n",
       "    .dataframe tbody tr th {\n",
       "        vertical-align: top;\n",
       "    }\n",
       "\n",
       "    .dataframe thead th {\n",
       "        text-align: right;\n",
       "    }\n",
       "</style>\n",
       "<table border=\"1\" class=\"dataframe\">\n",
       "  <thead>\n",
       "    <tr style=\"text-align: right;\">\n",
       "      <th></th>\n",
       "      <th>column1</th>\n",
       "      <th>newCol3</th>\n",
       "    </tr>\n",
       "    <tr>\n",
       "      <th>count</th>\n",
       "      <th></th>\n",
       "      <th></th>\n",
       "    </tr>\n",
       "  </thead>\n",
       "  <tbody>\n",
       "    <tr>\n",
       "      <th>0</th>\n",
       "      <td>0</td>\n",
       "      <td>500</td>\n",
       "    </tr>\n",
       "    <tr>\n",
       "      <th>1</th>\n",
       "      <td>1</td>\n",
       "      <td>500</td>\n",
       "    </tr>\n",
       "    <tr>\n",
       "      <th>2</th>\n",
       "      <td>2</td>\n",
       "      <td>500</td>\n",
       "    </tr>\n",
       "    <tr>\n",
       "      <th>4</th>\n",
       "      <td>4</td>\n",
       "      <td>500</td>\n",
       "    </tr>\n",
       "  </tbody>\n",
       "</table>\n",
       "</div>"
      ],
      "text/plain": [
       "       column1  newCol3\n",
       "count                  \n",
       "0            0      500\n",
       "1            1      500\n",
       "2            2      500\n",
       "4            4      500"
      ]
     },
     "execution_count": 32,
     "metadata": {},
     "output_type": "execute_result"
    }
   ],
   "source": [
    "df = df.drop(3,axis=0)\n",
    "df"
   ]
  },
  {
   "cell_type": "code",
   "execution_count": null,
   "metadata": {},
   "outputs": [],
   "source": []
  },
  {
   "cell_type": "markdown",
   "metadata": {},
   "source": [
    "## 변수 이름 = pd.DataFrame([....], index=[....])"
   ]
  },
  {
   "cell_type": "code",
   "execution_count": 34,
   "metadata": {},
   "outputs": [
    {
     "data": {
      "text/html": [
       "<div>\n",
       "<style scoped>\n",
       "    .dataframe tbody tr th:only-of-type {\n",
       "        vertical-align: middle;\n",
       "    }\n",
       "\n",
       "    .dataframe tbody tr th {\n",
       "        vertical-align: top;\n",
       "    }\n",
       "\n",
       "    .dataframe thead th {\n",
       "        text-align: right;\n",
       "    }\n",
       "</style>\n",
       "<table border=\"1\" class=\"dataframe\">\n",
       "  <thead>\n",
       "    <tr style=\"text-align: right;\">\n",
       "      <th></th>\n",
       "      <th>0</th>\n",
       "    </tr>\n",
       "  </thead>\n",
       "  <tbody>\n",
       "    <tr>\n",
       "      <th>2020-03-01</th>\n",
       "      <td>1000</td>\n",
       "    </tr>\n",
       "    <tr>\n",
       "      <th>2020-03-02</th>\n",
       "      <td>10300</td>\n",
       "    </tr>\n",
       "    <tr>\n",
       "      <th>2020-03-03</th>\n",
       "      <td>9900</td>\n",
       "    </tr>\n",
       "    <tr>\n",
       "      <th>2020-03-04</th>\n",
       "      <td>10500</td>\n",
       "    </tr>\n",
       "    <tr>\n",
       "      <th>2020-03-5</th>\n",
       "      <td>11000</td>\n",
       "    </tr>\n",
       "  </tbody>\n",
       "</table>\n",
       "</div>"
      ],
      "text/plain": [
       "                0\n",
       "2020-03-01   1000\n",
       "2020-03-02  10300\n",
       "2020-03-03   9900\n",
       "2020-03-04  10500\n",
       "2020-03-5   11000"
      ]
     },
     "execution_count": 34,
     "metadata": {},
     "output_type": "execute_result"
    }
   ],
   "source": [
    "stock_price_DF_withindex = pd.DataFrame(\n",
    "    [1000,10300,9900,10500,11000], \n",
    "    index=[\"2020-03-01\",\"2020-03-02\",\"2020-03-03\",\"2020-03-04\",\"2020-03-5\"])\n",
    "stock_price_DF_withindex"
   ]
  },
  {
   "cell_type": "markdown",
   "metadata": {},
   "source": [
    "### Column 이름 변경\n",
    ".rename(columns={\"0\":\"시가\"}, inplace=True)<br>\n",
    "column의 이름을 dictionary형태로 바꾼다<br>\n",
    "inplace=True 새로운 데이터프레임으로 적용(False이면 적용 안됨)"
   ]
  },
  {
   "cell_type": "code",
   "execution_count": 35,
   "metadata": {},
   "outputs": [
    {
     "data": {
      "text/html": [
       "<div>\n",
       "<style scoped>\n",
       "    .dataframe tbody tr th:only-of-type {\n",
       "        vertical-align: middle;\n",
       "    }\n",
       "\n",
       "    .dataframe tbody tr th {\n",
       "        vertical-align: top;\n",
       "    }\n",
       "\n",
       "    .dataframe thead th {\n",
       "        text-align: right;\n",
       "    }\n",
       "</style>\n",
       "<table border=\"1\" class=\"dataframe\">\n",
       "  <thead>\n",
       "    <tr style=\"text-align: right;\">\n",
       "      <th></th>\n",
       "      <th>시가</th>\n",
       "    </tr>\n",
       "  </thead>\n",
       "  <tbody>\n",
       "    <tr>\n",
       "      <th>2020-03-01</th>\n",
       "      <td>1000</td>\n",
       "    </tr>\n",
       "    <tr>\n",
       "      <th>2020-03-02</th>\n",
       "      <td>10300</td>\n",
       "    </tr>\n",
       "    <tr>\n",
       "      <th>2020-03-03</th>\n",
       "      <td>9900</td>\n",
       "    </tr>\n",
       "    <tr>\n",
       "      <th>2020-03-04</th>\n",
       "      <td>10500</td>\n",
       "    </tr>\n",
       "    <tr>\n",
       "      <th>2020-03-5</th>\n",
       "      <td>11000</td>\n",
       "    </tr>\n",
       "  </tbody>\n",
       "</table>\n",
       "</div>"
      ],
      "text/plain": [
       "               시가\n",
       "2020-03-01   1000\n",
       "2020-03-02  10300\n",
       "2020-03-03   9900\n",
       "2020-03-04  10500\n",
       "2020-03-5   11000"
      ]
     },
     "execution_count": 35,
     "metadata": {},
     "output_type": "execute_result"
    }
   ],
   "source": [
    "stock_price_DF_withindex.rename(columns={0:\"시가\"}, inplace=True)\n",
    "stock_price_DF_withindex"
   ]
  },
  {
   "cell_type": "code",
   "execution_count": 36,
   "metadata": {},
   "outputs": [
    {
     "data": {
      "text/html": [
       "<div>\n",
       "<style scoped>\n",
       "    .dataframe tbody tr th:only-of-type {\n",
       "        vertical-align: middle;\n",
       "    }\n",
       "\n",
       "    .dataframe tbody tr th {\n",
       "        vertical-align: top;\n",
       "    }\n",
       "\n",
       "    .dataframe thead th {\n",
       "        text-align: right;\n",
       "    }\n",
       "</style>\n",
       "<table border=\"1\" class=\"dataframe\">\n",
       "  <thead>\n",
       "    <tr style=\"text-align: right;\">\n",
       "      <th></th>\n",
       "      <th>시가2</th>\n",
       "    </tr>\n",
       "  </thead>\n",
       "  <tbody>\n",
       "    <tr>\n",
       "      <th>2020-03-01</th>\n",
       "      <td>1000</td>\n",
       "    </tr>\n",
       "    <tr>\n",
       "      <th>2020-03-02</th>\n",
       "      <td>10300</td>\n",
       "    </tr>\n",
       "    <tr>\n",
       "      <th>2020-03-03</th>\n",
       "      <td>9900</td>\n",
       "    </tr>\n",
       "    <tr>\n",
       "      <th>2020-03-04</th>\n",
       "      <td>10500</td>\n",
       "    </tr>\n",
       "    <tr>\n",
       "      <th>2020-03-5</th>\n",
       "      <td>11000</td>\n",
       "    </tr>\n",
       "  </tbody>\n",
       "</table>\n",
       "</div>"
      ],
      "text/plain": [
       "              시가2\n",
       "2020-03-01   1000\n",
       "2020-03-02  10300\n",
       "2020-03-03   9900\n",
       "2020-03-04  10500\n",
       "2020-03-5   11000"
      ]
     },
     "execution_count": 36,
     "metadata": {},
     "output_type": "execute_result"
    }
   ],
   "source": [
    "stock_price_DF_withindex.rename(columns={\"시가\":\"시가2\"}, inplace=True)\n",
    "stock_price_DF_withindex"
   ]
  },
  {
   "cell_type": "code",
   "execution_count": null,
   "metadata": {},
   "outputs": [],
   "source": []
  },
  {
   "cell_type": "code",
   "execution_count": 37,
   "metadata": {},
   "outputs": [
    {
     "data": {
      "text/html": [
       "<div>\n",
       "<style scoped>\n",
       "    .dataframe tbody tr th:only-of-type {\n",
       "        vertical-align: middle;\n",
       "    }\n",
       "\n",
       "    .dataframe tbody tr th {\n",
       "        vertical-align: top;\n",
       "    }\n",
       "\n",
       "    .dataframe thead th {\n",
       "        text-align: right;\n",
       "    }\n",
       "</style>\n",
       "<table border=\"1\" class=\"dataframe\">\n",
       "  <thead>\n",
       "    <tr style=\"text-align: right;\">\n",
       "      <th></th>\n",
       "      <th>시가2</th>\n",
       "      <th>종가</th>\n",
       "      <th>고가</th>\n",
       "      <th>저가</th>\n",
       "    </tr>\n",
       "  </thead>\n",
       "  <tbody>\n",
       "    <tr>\n",
       "      <th>2020-03-01</th>\n",
       "      <td>1000</td>\n",
       "      <td>11000</td>\n",
       "      <td>13000</td>\n",
       "      <td>3000</td>\n",
       "    </tr>\n",
       "    <tr>\n",
       "      <th>2020-03-02</th>\n",
       "      <td>10300</td>\n",
       "      <td>12000</td>\n",
       "      <td>15000</td>\n",
       "      <td>5000</td>\n",
       "    </tr>\n",
       "    <tr>\n",
       "      <th>2020-03-03</th>\n",
       "      <td>9900</td>\n",
       "      <td>10000</td>\n",
       "      <td>15000</td>\n",
       "      <td>5000</td>\n",
       "    </tr>\n",
       "    <tr>\n",
       "      <th>2020-03-04</th>\n",
       "      <td>10500</td>\n",
       "      <td>13000</td>\n",
       "      <td>18000</td>\n",
       "      <td>8000</td>\n",
       "    </tr>\n",
       "    <tr>\n",
       "      <th>2020-03-5</th>\n",
       "      <td>11000</td>\n",
       "      <td>12000</td>\n",
       "      <td>17000</td>\n",
       "      <td>7000</td>\n",
       "    </tr>\n",
       "  </tbody>\n",
       "</table>\n",
       "</div>"
      ],
      "text/plain": [
       "              시가2     종가     고가    저가\n",
       "2020-03-01   1000  11000  13000  3000\n",
       "2020-03-02  10300  12000  15000  5000\n",
       "2020-03-03   9900  10000  15000  5000\n",
       "2020-03-04  10500  13000  18000  8000\n",
       "2020-03-5   11000  12000  17000  7000"
      ]
     },
     "execution_count": 37,
     "metadata": {},
     "output_type": "execute_result"
    }
   ],
   "source": [
    "stock_price_DF_withindex[\"종가\"]=[11000,12000,10000,13000,12000]\n",
    "stock_price_DF_withindex[\"고가\"]=[13000,15000,15000,18000,17000]\n",
    "stock_price_DF_withindex[\"저가\"]=[3000,5000,5000,8000,7000]\n",
    "stock_price_DF_withindex"
   ]
  },
  {
   "cell_type": "code",
   "execution_count": null,
   "metadata": {},
   "outputs": [],
   "source": []
  },
  {
   "cell_type": "code",
   "execution_count": null,
   "metadata": {},
   "outputs": [],
   "source": []
  },
  {
   "cell_type": "code",
   "execution_count": 53,
   "metadata": {},
   "outputs": [
    {
     "data": {
      "text/plain": [
       "13000"
      ]
     },
     "execution_count": 53,
     "metadata": {},
     "output_type": "execute_result"
    }
   ],
   "source": [
    "# iat는 단일 값으로 가져오므로 정확한 좌표를 입력해야 한다\n",
    "stock_price_DF_withindex.iat[0,2]"
   ]
  },
  {
   "cell_type": "markdown",
   "metadata": {},
   "source": [
    "### 예제 3"
   ]
  },
  {
   "cell_type": "code",
   "execution_count": 105,
   "metadata": {},
   "outputs": [
    {
     "data": {
      "text/html": [
       "<div>\n",
       "<style scoped>\n",
       "    .dataframe tbody tr th:only-of-type {\n",
       "        vertical-align: middle;\n",
       "    }\n",
       "\n",
       "    .dataframe tbody tr th {\n",
       "        vertical-align: top;\n",
       "    }\n",
       "\n",
       "    .dataframe thead th {\n",
       "        text-align: right;\n",
       "    }\n",
       "</style>\n",
       "<table border=\"1\" class=\"dataframe\">\n",
       "  <thead>\n",
       "    <tr style=\"text-align: right;\">\n",
       "      <th></th>\n",
       "      <th>시가</th>\n",
       "      <th>종가</th>\n",
       "      <th>고가</th>\n",
       "      <th>저가</th>\n",
       "    </tr>\n",
       "  </thead>\n",
       "  <tbody>\n",
       "    <tr>\n",
       "      <th>2020-03-01</th>\n",
       "      <td>10000</td>\n",
       "      <td>11000</td>\n",
       "      <td>13000</td>\n",
       "      <td>3000</td>\n",
       "    </tr>\n",
       "    <tr>\n",
       "      <th>2020-03-02</th>\n",
       "      <td>10300</td>\n",
       "      <td>12000</td>\n",
       "      <td>15000</td>\n",
       "      <td>5000</td>\n",
       "    </tr>\n",
       "    <tr>\n",
       "      <th>2020-03-03</th>\n",
       "      <td>9900</td>\n",
       "      <td>10000</td>\n",
       "      <td>15000</td>\n",
       "      <td>5000</td>\n",
       "    </tr>\n",
       "    <tr>\n",
       "      <th>2020-03-04</th>\n",
       "      <td>10500</td>\n",
       "      <td>13000</td>\n",
       "      <td>18000</td>\n",
       "      <td>8000</td>\n",
       "    </tr>\n",
       "    <tr>\n",
       "      <th>2020-03-5</th>\n",
       "      <td>11000</td>\n",
       "      <td>12000</td>\n",
       "      <td>17000</td>\n",
       "      <td>7000</td>\n",
       "    </tr>\n",
       "  </tbody>\n",
       "</table>\n",
       "</div>"
      ],
      "text/plain": [
       "               시가     종가     고가    저가\n",
       "2020-03-01  10000  11000  13000  3000\n",
       "2020-03-02  10300  12000  15000  5000\n",
       "2020-03-03   9900  10000  15000  5000\n",
       "2020-03-04  10500  13000  18000  8000\n",
       "2020-03-5   11000  12000  17000  7000"
      ]
     },
     "execution_count": 105,
     "metadata": {},
     "output_type": "execute_result"
    }
   ],
   "source": [
    "stock_price_DF_withindex = pd.DataFrame(\n",
    "    [10000,10300,9900,10500,11000], \n",
    "    index=[\"2020-03-01\",\"2020-03-02\",\"2020-03-03\",\"2020-03-04\",\"2020-03-5\"])\n",
    "stock_price_DF_withindex.rename(columns={0:\"시가\"}, inplace=True)\n",
    "stock_price_DF_withindex[\"종가\"]=[11000,12000,10000,13000,12000]\n",
    "stock_price_DF_withindex[\"고가\"]=[13000,15000,15000,18000,17000]\n",
    "stock_price_DF_withindex[\"저가\"]=[3000,5000,5000,8000,7000]\n",
    "stock_price_DF_withindex"
   ]
  },
  {
   "cell_type": "markdown",
   "metadata": {},
   "source": [
    "#### 1) 2020년 3월 1일의 시가/종가를 출력해보세요\n",
    "#### 2) 2020년 3월 1일에서 2020년 3월 3일의 시가/종가/고가/저가를 출력해 보세요"
   ]
  },
  {
   "cell_type": "code",
   "execution_count": 106,
   "metadata": {},
   "outputs": [
    {
     "data": {
      "text/plain": [
       "시가    10000\n",
       "종가    11000\n",
       "Name: 2020-03-01, dtype: int64"
      ]
     },
     "execution_count": 106,
     "metadata": {},
     "output_type": "execute_result"
    }
   ],
   "source": [
    "# stock_price_DF_withindex.iloc[0,0:2] 와 같음\n",
    "stock_price_DF_withindex.loc[\"2020-03-01\",[\"시가\",\"종가\"]]"
   ]
  },
  {
   "cell_type": "code",
   "execution_count": 107,
   "metadata": {
    "scrolled": true
   },
   "outputs": [
    {
     "data": {
      "text/html": [
       "<div>\n",
       "<style scoped>\n",
       "    .dataframe tbody tr th:only-of-type {\n",
       "        vertical-align: middle;\n",
       "    }\n",
       "\n",
       "    .dataframe tbody tr th {\n",
       "        vertical-align: top;\n",
       "    }\n",
       "\n",
       "    .dataframe thead th {\n",
       "        text-align: right;\n",
       "    }\n",
       "</style>\n",
       "<table border=\"1\" class=\"dataframe\">\n",
       "  <thead>\n",
       "    <tr style=\"text-align: right;\">\n",
       "      <th></th>\n",
       "      <th>시가</th>\n",
       "      <th>종가</th>\n",
       "      <th>고가</th>\n",
       "      <th>저가</th>\n",
       "    </tr>\n",
       "  </thead>\n",
       "  <tbody>\n",
       "    <tr>\n",
       "      <th>2020-03-01</th>\n",
       "      <td>10000</td>\n",
       "      <td>11000</td>\n",
       "      <td>13000</td>\n",
       "      <td>3000</td>\n",
       "    </tr>\n",
       "    <tr>\n",
       "      <th>2020-03-02</th>\n",
       "      <td>10300</td>\n",
       "      <td>12000</td>\n",
       "      <td>15000</td>\n",
       "      <td>5000</td>\n",
       "    </tr>\n",
       "    <tr>\n",
       "      <th>2020-03-03</th>\n",
       "      <td>9900</td>\n",
       "      <td>10000</td>\n",
       "      <td>15000</td>\n",
       "      <td>5000</td>\n",
       "    </tr>\n",
       "  </tbody>\n",
       "</table>\n",
       "</div>"
      ],
      "text/plain": [
       "               시가     종가     고가    저가\n",
       "2020-03-01  10000  11000  13000  3000\n",
       "2020-03-02  10300  12000  15000  5000\n",
       "2020-03-03   9900  10000  15000  5000"
      ]
     },
     "execution_count": 107,
     "metadata": {},
     "output_type": "execute_result"
    }
   ],
   "source": [
    "# stock_price_DF_withindex.iloc[0:3] 와 같음\n",
    "stock_price_DF_withindex.loc[\"2020-03-01\":\"2020-03-03\"]"
   ]
  },
  {
   "cell_type": "code",
   "execution_count": null,
   "metadata": {},
   "outputs": [],
   "source": []
  },
  {
   "cell_type": "markdown",
   "metadata": {},
   "source": [
    "### 데이터 프레임 정보"
   ]
  },
  {
   "cell_type": "code",
   "execution_count": 108,
   "metadata": {},
   "outputs": [
    {
     "data": {
      "text/plain": [
       "(5, 4)"
      ]
     },
     "execution_count": 108,
     "metadata": {},
     "output_type": "execute_result"
    }
   ],
   "source": [
    "stock_price_DF_withindex.shape"
   ]
  },
  {
   "cell_type": "code",
   "execution_count": 109,
   "metadata": {},
   "outputs": [
    {
     "data": {
      "text/plain": [
       "5"
      ]
     },
     "execution_count": 109,
     "metadata": {},
     "output_type": "execute_result"
    }
   ],
   "source": [
    "stock_price_DF_withindex.shape[0]   # 가로"
   ]
  },
  {
   "cell_type": "code",
   "execution_count": 110,
   "metadata": {},
   "outputs": [
    {
     "data": {
      "text/plain": [
       "4"
      ]
     },
     "execution_count": 110,
     "metadata": {},
     "output_type": "execute_result"
    }
   ],
   "source": [
    "stock_price_DF_withindex.shape[1]   # 세로"
   ]
  },
  {
   "cell_type": "code",
   "execution_count": 111,
   "metadata": {},
   "outputs": [
    {
     "data": {
      "text/plain": [
       "array([[10000, 11000, 13000,  3000],\n",
       "       [10300, 12000, 15000,  5000],\n",
       "       [ 9900, 10000, 15000,  5000],\n",
       "       [10500, 13000, 18000,  8000],\n",
       "       [11000, 12000, 17000,  7000]], dtype=int64)"
      ]
     },
     "execution_count": 111,
     "metadata": {},
     "output_type": "execute_result"
    }
   ],
   "source": [
    "stock_price_DF_withindex.values"
   ]
  },
  {
   "cell_type": "code",
   "execution_count": null,
   "metadata": {},
   "outputs": [],
   "source": []
  },
  {
   "cell_type": "markdown",
   "metadata": {},
   "source": [
    "### 데이터 프레임 정렬\n",
    "sort_index( axis=1, ascending = True)<br>\n",
    "axis => 0, 1<br>\n",
    "False => True, False\n",
    "\n",
    "sort_values(by = \"컬럼이름\", ascending = True)"
   ]
  },
  {
   "cell_type": "code",
   "execution_count": 112,
   "metadata": {},
   "outputs": [
    {
     "data": {
      "text/html": [
       "<div>\n",
       "<style scoped>\n",
       "    .dataframe tbody tr th:only-of-type {\n",
       "        vertical-align: middle;\n",
       "    }\n",
       "\n",
       "    .dataframe tbody tr th {\n",
       "        vertical-align: top;\n",
       "    }\n",
       "\n",
       "    .dataframe thead th {\n",
       "        text-align: right;\n",
       "    }\n",
       "</style>\n",
       "<table border=\"1\" class=\"dataframe\">\n",
       "  <thead>\n",
       "    <tr style=\"text-align: right;\">\n",
       "      <th></th>\n",
       "      <th>종가</th>\n",
       "      <th>저가</th>\n",
       "      <th>시가</th>\n",
       "      <th>고가</th>\n",
       "    </tr>\n",
       "  </thead>\n",
       "  <tbody>\n",
       "    <tr>\n",
       "      <th>2020-03-01</th>\n",
       "      <td>11000</td>\n",
       "      <td>3000</td>\n",
       "      <td>10000</td>\n",
       "      <td>13000</td>\n",
       "    </tr>\n",
       "    <tr>\n",
       "      <th>2020-03-02</th>\n",
       "      <td>12000</td>\n",
       "      <td>5000</td>\n",
       "      <td>10300</td>\n",
       "      <td>15000</td>\n",
       "    </tr>\n",
       "    <tr>\n",
       "      <th>2020-03-03</th>\n",
       "      <td>10000</td>\n",
       "      <td>5000</td>\n",
       "      <td>9900</td>\n",
       "      <td>15000</td>\n",
       "    </tr>\n",
       "    <tr>\n",
       "      <th>2020-03-04</th>\n",
       "      <td>13000</td>\n",
       "      <td>8000</td>\n",
       "      <td>10500</td>\n",
       "      <td>18000</td>\n",
       "    </tr>\n",
       "    <tr>\n",
       "      <th>2020-03-5</th>\n",
       "      <td>12000</td>\n",
       "      <td>7000</td>\n",
       "      <td>11000</td>\n",
       "      <td>17000</td>\n",
       "    </tr>\n",
       "  </tbody>\n",
       "</table>\n",
       "</div>"
      ],
      "text/plain": [
       "               종가    저가     시가     고가\n",
       "2020-03-01  11000  3000  10000  13000\n",
       "2020-03-02  12000  5000  10300  15000\n",
       "2020-03-03  10000  5000   9900  15000\n",
       "2020-03-04  13000  8000  10500  18000\n",
       "2020-03-5   12000  7000  11000  17000"
      ]
     },
     "execution_count": 112,
     "metadata": {},
     "output_type": "execute_result"
    }
   ],
   "source": [
    "# index 세로를 내림차순\n",
    "stock_price_DF_withindex.sort_index(axis=1, ascending=False)"
   ]
  },
  {
   "cell_type": "code",
   "execution_count": 113,
   "metadata": {},
   "outputs": [
    {
     "data": {
      "text/html": [
       "<div>\n",
       "<style scoped>\n",
       "    .dataframe tbody tr th:only-of-type {\n",
       "        vertical-align: middle;\n",
       "    }\n",
       "\n",
       "    .dataframe tbody tr th {\n",
       "        vertical-align: top;\n",
       "    }\n",
       "\n",
       "    .dataframe thead th {\n",
       "        text-align: right;\n",
       "    }\n",
       "</style>\n",
       "<table border=\"1\" class=\"dataframe\">\n",
       "  <thead>\n",
       "    <tr style=\"text-align: right;\">\n",
       "      <th></th>\n",
       "      <th>고가</th>\n",
       "      <th>시가</th>\n",
       "      <th>저가</th>\n",
       "      <th>종가</th>\n",
       "    </tr>\n",
       "  </thead>\n",
       "  <tbody>\n",
       "    <tr>\n",
       "      <th>2020-03-5</th>\n",
       "      <td>17000</td>\n",
       "      <td>11000</td>\n",
       "      <td>7000</td>\n",
       "      <td>12000</td>\n",
       "    </tr>\n",
       "    <tr>\n",
       "      <th>2020-03-04</th>\n",
       "      <td>18000</td>\n",
       "      <td>10500</td>\n",
       "      <td>8000</td>\n",
       "      <td>13000</td>\n",
       "    </tr>\n",
       "    <tr>\n",
       "      <th>2020-03-03</th>\n",
       "      <td>15000</td>\n",
       "      <td>9900</td>\n",
       "      <td>5000</td>\n",
       "      <td>10000</td>\n",
       "    </tr>\n",
       "    <tr>\n",
       "      <th>2020-03-02</th>\n",
       "      <td>15000</td>\n",
       "      <td>10300</td>\n",
       "      <td>5000</td>\n",
       "      <td>12000</td>\n",
       "    </tr>\n",
       "    <tr>\n",
       "      <th>2020-03-01</th>\n",
       "      <td>13000</td>\n",
       "      <td>10000</td>\n",
       "      <td>3000</td>\n",
       "      <td>11000</td>\n",
       "    </tr>\n",
       "  </tbody>\n",
       "</table>\n",
       "</div>"
      ],
      "text/plain": [
       "               고가     시가    저가     종가\n",
       "2020-03-5   17000  11000  7000  12000\n",
       "2020-03-04  18000  10500  8000  13000\n",
       "2020-03-03  15000   9900  5000  10000\n",
       "2020-03-02  15000  10300  5000  12000\n",
       "2020-03-01  13000  10000  3000  11000"
      ]
     },
     "execution_count": 113,
     "metadata": {},
     "output_type": "execute_result"
    }
   ],
   "source": [
    "# index 세로를 오름차순, 가로를 내림차순\n",
    "stock_price_DF_withindex.sort_index(axis=1, ascending=True).sort_index(\n",
    "    axis=0, ascending=False)"
   ]
  },
  {
   "cell_type": "code",
   "execution_count": 114,
   "metadata": {},
   "outputs": [
    {
     "data": {
      "text/html": [
       "<div>\n",
       "<style scoped>\n",
       "    .dataframe tbody tr th:only-of-type {\n",
       "        vertical-align: middle;\n",
       "    }\n",
       "\n",
       "    .dataframe tbody tr th {\n",
       "        vertical-align: top;\n",
       "    }\n",
       "\n",
       "    .dataframe thead th {\n",
       "        text-align: right;\n",
       "    }\n",
       "</style>\n",
       "<table border=\"1\" class=\"dataframe\">\n",
       "  <thead>\n",
       "    <tr style=\"text-align: right;\">\n",
       "      <th></th>\n",
       "      <th>시가</th>\n",
       "      <th>종가</th>\n",
       "      <th>고가</th>\n",
       "      <th>저가</th>\n",
       "    </tr>\n",
       "  </thead>\n",
       "  <tbody>\n",
       "    <tr>\n",
       "      <th>2020-03-04</th>\n",
       "      <td>10500</td>\n",
       "      <td>13000</td>\n",
       "      <td>18000</td>\n",
       "      <td>8000</td>\n",
       "    </tr>\n",
       "    <tr>\n",
       "      <th>2020-03-5</th>\n",
       "      <td>11000</td>\n",
       "      <td>12000</td>\n",
       "      <td>17000</td>\n",
       "      <td>7000</td>\n",
       "    </tr>\n",
       "    <tr>\n",
       "      <th>2020-03-02</th>\n",
       "      <td>10300</td>\n",
       "      <td>12000</td>\n",
       "      <td>15000</td>\n",
       "      <td>5000</td>\n",
       "    </tr>\n",
       "    <tr>\n",
       "      <th>2020-03-03</th>\n",
       "      <td>9900</td>\n",
       "      <td>10000</td>\n",
       "      <td>15000</td>\n",
       "      <td>5000</td>\n",
       "    </tr>\n",
       "    <tr>\n",
       "      <th>2020-03-01</th>\n",
       "      <td>10000</td>\n",
       "      <td>11000</td>\n",
       "      <td>13000</td>\n",
       "      <td>3000</td>\n",
       "    </tr>\n",
       "  </tbody>\n",
       "</table>\n",
       "</div>"
      ],
      "text/plain": [
       "               시가     종가     고가    저가\n",
       "2020-03-04  10500  13000  18000  8000\n",
       "2020-03-5   11000  12000  17000  7000\n",
       "2020-03-02  10300  12000  15000  5000\n",
       "2020-03-03   9900  10000  15000  5000\n",
       "2020-03-01  10000  11000  13000  3000"
      ]
     },
     "execution_count": 114,
     "metadata": {},
     "output_type": "execute_result"
    }
   ],
   "source": [
    "# values에서 \"고가\"의 value를 내림차순, 후에 \"종가\" 내림차순\n",
    "stock_price_DF_withindex.sort_values(by=[\"고가\",\"종가\"], ascending=False)"
   ]
  },
  {
   "cell_type": "code",
   "execution_count": null,
   "metadata": {},
   "outputs": [],
   "source": []
  },
  {
   "cell_type": "markdown",
   "metadata": {},
   "source": [
    "### index의 이름과 value"
   ]
  },
  {
   "cell_type": "code",
   "execution_count": 5,
   "metadata": {
    "scrolled": false
   },
   "outputs": [
    {
     "data": {
      "text/plain": [
       "c    4.5\n",
       "b    7.2\n",
       "a   -5.3\n",
       "dtype: float64"
      ]
     },
     "execution_count": 5,
     "metadata": {},
     "output_type": "execute_result"
    }
   ],
   "source": [
    "obj=pd.Series([4.5,7.2,-5.3], index=[\"c\",\"b\",\"a\"])\n",
    "obj"
   ]
  },
  {
   "cell_type": "code",
   "execution_count": 9,
   "metadata": {},
   "outputs": [
    {
     "data": {
      "text/plain": [
       "a    -5.3\n",
       "b     7.2\n",
       "c    45.0\n",
       "d     NaN\n",
       "e     NaN\n",
       "dtype: float64"
      ]
     },
     "execution_count": 9,
     "metadata": {},
     "output_type": "execute_result"
    }
   ],
   "source": [
    "obj2= obj.reindex([\"a\",\"b\",\"c\",\"d\",\"e\"])\n",
    "obj2"
   ]
  },
  {
   "cell_type": "code",
   "execution_count": 7,
   "metadata": {
    "scrolled": true
   },
   "outputs": [
    {
     "data": {
      "text/plain": [
       "a   -5.3\n",
       "b    7.2\n",
       "c    4.5\n",
       "d    0.0\n",
       "e    0.0\n",
       "dtype: float64"
      ]
     },
     "execution_count": 7,
     "metadata": {},
     "output_type": "execute_result"
    }
   ],
   "source": [
    "# fill_value=0 => NaN값을 0으로 채운다\n",
    "obj2= obj.reindex([\"a\",\"b\",\"c\",\"d\",\"e\"], fill_value=0)\n",
    "obj2"
   ]
  },
  {
   "cell_type": "code",
   "execution_count": null,
   "metadata": {},
   "outputs": [],
   "source": []
  },
  {
   "cell_type": "code",
   "execution_count": 10,
   "metadata": {},
   "outputs": [
    {
     "data": {
      "text/plain": [
       "c    45.0\n",
       "b     7.2\n",
       "a    -5.3\n",
       "dtype: float64"
      ]
     },
     "execution_count": 10,
     "metadata": {},
     "output_type": "execute_result"
    }
   ],
   "source": [
    "obj=pd.Series([45.,7.2,-5.3], index=[\"c\",\"b\",\"a\"])\n",
    "obj"
   ]
  },
  {
   "cell_type": "code",
   "execution_count": 11,
   "metadata": {
    "scrolled": false
   },
   "outputs": [
    {
     "data": {
      "text/plain": [
       "a    -5.3\n",
       "d     NaN\n",
       "e     NaN\n",
       "c    45.0\n",
       "b     7.2\n",
       "dtype: float64"
      ]
     },
     "execution_count": 11,
     "metadata": {},
     "output_type": "execute_result"
    }
   ],
   "source": [
    "obj.reindex([\"a\",\"d\",\"e\",\"c\",\"b\"])"
   ]
  },
  {
   "cell_type": "code",
   "execution_count": 118,
   "metadata": {
    "scrolled": false
   },
   "outputs": [
    {
     "data": {
      "text/plain": [
       "a    -5.300000\n",
       "d    11.466667\n",
       "e    28.233333\n",
       "c    45.000000\n",
       "b     7.200000\n",
       "dtype: float64"
      ]
     },
     "execution_count": 118,
     "metadata": {},
     "output_type": "execute_result"
    }
   ],
   "source": [
    "# .interpolate() => 연속되는 데이터중 중간에 누락된 값을 선형적으로 채워줌\n",
    "obj.reindex([\"a\",\"d\",\"e\",\"c\",\"b\"]).interpolate()"
   ]
  },
  {
   "cell_type": "code",
   "execution_count": null,
   "metadata": {},
   "outputs": [],
   "source": []
  },
  {
   "cell_type": "markdown",
   "metadata": {},
   "source": [
    "### 데이터 프레임 일괄 적용\n",
    "#### apply & lambda\n",
    ".apply(lambda x : 원하는 연산, axis = 1) => 각 셀<br>\n",
    ".applymap(lambda x : 원하는 연산) => 줄단위"
   ]
  },
  {
   "cell_type": "code",
   "execution_count": 119,
   "metadata": {},
   "outputs": [
    {
     "data": {
      "text/html": [
       "<div>\n",
       "<style scoped>\n",
       "    .dataframe tbody tr th:only-of-type {\n",
       "        vertical-align: middle;\n",
       "    }\n",
       "\n",
       "    .dataframe tbody tr th {\n",
       "        vertical-align: top;\n",
       "    }\n",
       "\n",
       "    .dataframe thead th {\n",
       "        text-align: right;\n",
       "    }\n",
       "</style>\n",
       "<table border=\"1\" class=\"dataframe\">\n",
       "  <thead>\n",
       "    <tr style=\"text-align: right;\">\n",
       "      <th></th>\n",
       "      <th>시가</th>\n",
       "      <th>종가</th>\n",
       "      <th>고가</th>\n",
       "      <th>저가</th>\n",
       "    </tr>\n",
       "  </thead>\n",
       "  <tbody>\n",
       "    <tr>\n",
       "      <th>2020-03-01</th>\n",
       "      <td>10000</td>\n",
       "      <td>11000</td>\n",
       "      <td>13000</td>\n",
       "      <td>3000</td>\n",
       "    </tr>\n",
       "    <tr>\n",
       "      <th>2020-03-02</th>\n",
       "      <td>10300</td>\n",
       "      <td>12000</td>\n",
       "      <td>15000</td>\n",
       "      <td>5000</td>\n",
       "    </tr>\n",
       "    <tr>\n",
       "      <th>2020-03-03</th>\n",
       "      <td>9900</td>\n",
       "      <td>10000</td>\n",
       "      <td>15000</td>\n",
       "      <td>5000</td>\n",
       "    </tr>\n",
       "    <tr>\n",
       "      <th>2020-03-04</th>\n",
       "      <td>10500</td>\n",
       "      <td>13000</td>\n",
       "      <td>18000</td>\n",
       "      <td>8000</td>\n",
       "    </tr>\n",
       "    <tr>\n",
       "      <th>2020-03-5</th>\n",
       "      <td>11000</td>\n",
       "      <td>12000</td>\n",
       "      <td>17000</td>\n",
       "      <td>7000</td>\n",
       "    </tr>\n",
       "  </tbody>\n",
       "</table>\n",
       "</div>"
      ],
      "text/plain": [
       "               시가     종가     고가    저가\n",
       "2020-03-01  10000  11000  13000  3000\n",
       "2020-03-02  10300  12000  15000  5000\n",
       "2020-03-03   9900  10000  15000  5000\n",
       "2020-03-04  10500  13000  18000  8000\n",
       "2020-03-5   11000  12000  17000  7000"
      ]
     },
     "execution_count": 119,
     "metadata": {},
     "output_type": "execute_result"
    }
   ],
   "source": [
    "stock_price_DF_withindex"
   ]
  },
  {
   "cell_type": "code",
   "execution_count": 121,
   "metadata": {
    "scrolled": true
   },
   "outputs": [
    {
     "data": {
      "text/plain": [
       "2020-03-01    10000\n",
       "2020-03-02    10000\n",
       "2020-03-03    10000\n",
       "2020-03-04    10000\n",
       "2020-03-5     10000\n",
       "dtype: int64"
      ]
     },
     "execution_count": 121,
     "metadata": {},
     "output_type": "execute_result"
    }
   ],
   "source": [
    "stock_price_DF_withindex.apply(lambda x : x.max()-x.min(), axis=1)"
   ]
  },
  {
   "cell_type": "code",
   "execution_count": 122,
   "metadata": {},
   "outputs": [
    {
     "data": {
      "text/html": [
       "<div>\n",
       "<style scoped>\n",
       "    .dataframe tbody tr th:only-of-type {\n",
       "        vertical-align: middle;\n",
       "    }\n",
       "\n",
       "    .dataframe tbody tr th {\n",
       "        vertical-align: top;\n",
       "    }\n",
       "\n",
       "    .dataframe thead th {\n",
       "        text-align: right;\n",
       "    }\n",
       "</style>\n",
       "<table border=\"1\" class=\"dataframe\">\n",
       "  <thead>\n",
       "    <tr style=\"text-align: right;\">\n",
       "      <th></th>\n",
       "      <th>시가</th>\n",
       "      <th>종가</th>\n",
       "      <th>고가</th>\n",
       "      <th>저가</th>\n",
       "    </tr>\n",
       "  </thead>\n",
       "  <tbody>\n",
       "    <tr>\n",
       "      <th>2020-03-01</th>\n",
       "      <td>10100</td>\n",
       "      <td>11100</td>\n",
       "      <td>13100</td>\n",
       "      <td>3100</td>\n",
       "    </tr>\n",
       "    <tr>\n",
       "      <th>2020-03-02</th>\n",
       "      <td>10400</td>\n",
       "      <td>12100</td>\n",
       "      <td>15100</td>\n",
       "      <td>5100</td>\n",
       "    </tr>\n",
       "    <tr>\n",
       "      <th>2020-03-03</th>\n",
       "      <td>10000</td>\n",
       "      <td>10100</td>\n",
       "      <td>15100</td>\n",
       "      <td>5100</td>\n",
       "    </tr>\n",
       "    <tr>\n",
       "      <th>2020-03-04</th>\n",
       "      <td>10600</td>\n",
       "      <td>13100</td>\n",
       "      <td>18100</td>\n",
       "      <td>8100</td>\n",
       "    </tr>\n",
       "    <tr>\n",
       "      <th>2020-03-5</th>\n",
       "      <td>11100</td>\n",
       "      <td>12100</td>\n",
       "      <td>17100</td>\n",
       "      <td>7100</td>\n",
       "    </tr>\n",
       "  </tbody>\n",
       "</table>\n",
       "</div>"
      ],
      "text/plain": [
       "               시가     종가     고가    저가\n",
       "2020-03-01  10100  11100  13100  3100\n",
       "2020-03-02  10400  12100  15100  5100\n",
       "2020-03-03  10000  10100  15100  5100\n",
       "2020-03-04  10600  13100  18100  8100\n",
       "2020-03-5   11100  12100  17100  7100"
      ]
     },
     "execution_count": 122,
     "metadata": {},
     "output_type": "execute_result"
    }
   ],
   "source": [
    "stock_price_DF_withindex.applymap(lambda x : x+100)"
   ]
  },
  {
   "cell_type": "code",
   "execution_count": null,
   "metadata": {},
   "outputs": [],
   "source": []
  },
  {
   "cell_type": "markdown",
   "metadata": {},
   "source": [
    "### 예제 4"
   ]
  },
  {
   "cell_type": "code",
   "execution_count": 144,
   "metadata": {},
   "outputs": [
    {
     "data": {
      "text/html": [
       "<div>\n",
       "<style scoped>\n",
       "    .dataframe tbody tr th:only-of-type {\n",
       "        vertical-align: middle;\n",
       "    }\n",
       "\n",
       "    .dataframe tbody tr th {\n",
       "        vertical-align: top;\n",
       "    }\n",
       "\n",
       "    .dataframe thead th {\n",
       "        text-align: right;\n",
       "    }\n",
       "</style>\n",
       "<table border=\"1\" class=\"dataframe\">\n",
       "  <thead>\n",
       "    <tr style=\"text-align: right;\">\n",
       "      <th></th>\n",
       "      <th>시가</th>\n",
       "      <th>종가</th>\n",
       "      <th>고가</th>\n",
       "      <th>저가</th>\n",
       "    </tr>\n",
       "  </thead>\n",
       "  <tbody>\n",
       "    <tr>\n",
       "      <th>2020-03-01</th>\n",
       "      <td>10000</td>\n",
       "      <td>11000</td>\n",
       "      <td>13000</td>\n",
       "      <td>3000</td>\n",
       "    </tr>\n",
       "    <tr>\n",
       "      <th>2020-03-02</th>\n",
       "      <td>10300</td>\n",
       "      <td>12000</td>\n",
       "      <td>15000</td>\n",
       "      <td>5000</td>\n",
       "    </tr>\n",
       "    <tr>\n",
       "      <th>2020-03-03</th>\n",
       "      <td>9900</td>\n",
       "      <td>10000</td>\n",
       "      <td>15000</td>\n",
       "      <td>5000</td>\n",
       "    </tr>\n",
       "    <tr>\n",
       "      <th>2020-03-04</th>\n",
       "      <td>10500</td>\n",
       "      <td>13000</td>\n",
       "      <td>18000</td>\n",
       "      <td>8000</td>\n",
       "    </tr>\n",
       "    <tr>\n",
       "      <th>2020-03-5</th>\n",
       "      <td>11000</td>\n",
       "      <td>12000</td>\n",
       "      <td>17000</td>\n",
       "      <td>7000</td>\n",
       "    </tr>\n",
       "  </tbody>\n",
       "</table>\n",
       "</div>"
      ],
      "text/plain": [
       "               시가     종가     고가    저가\n",
       "2020-03-01  10000  11000  13000  3000\n",
       "2020-03-02  10300  12000  15000  5000\n",
       "2020-03-03   9900  10000  15000  5000\n",
       "2020-03-04  10500  13000  18000  8000\n",
       "2020-03-5   11000  12000  17000  7000"
      ]
     },
     "execution_count": 144,
     "metadata": {},
     "output_type": "execute_result"
    }
   ],
   "source": [
    "stock_price_DF_withindex = pd.DataFrame(\n",
    "    [10000,10300,9900,10500,11000], \n",
    "    index=[\"2020-03-01\",\"2020-03-02\",\"2020-03-03\",\"2020-03-04\",\"2020-03-5\"])\n",
    "stock_price_DF_withindex.rename(columns={0:\"시가\"}, inplace=True)\n",
    "stock_price_DF_withindex[\"종가\"]=[11000,12000,10000,13000,12000]\n",
    "stock_price_DF_withindex[\"고가\"]=[13000,15000,15000,18000,17000]\n",
    "stock_price_DF_withindex[\"저가\"]=[3000,5000,5000,8000,7000]\n",
    "stock_price_DF_withindex"
   ]
  },
  {
   "cell_type": "code",
   "execution_count": 145,
   "metadata": {},
   "outputs": [
    {
     "data": {
      "text/html": [
       "<div>\n",
       "<style scoped>\n",
       "    .dataframe tbody tr th:only-of-type {\n",
       "        vertical-align: middle;\n",
       "    }\n",
       "\n",
       "    .dataframe tbody tr th {\n",
       "        vertical-align: top;\n",
       "    }\n",
       "\n",
       "    .dataframe thead th {\n",
       "        text-align: right;\n",
       "    }\n",
       "</style>\n",
       "<table border=\"1\" class=\"dataframe\">\n",
       "  <thead>\n",
       "    <tr style=\"text-align: right;\">\n",
       "      <th></th>\n",
       "      <th>시가</th>\n",
       "      <th>종가</th>\n",
       "      <th>고가</th>\n",
       "      <th>저가</th>\n",
       "      <th>Gap</th>\n",
       "    </tr>\n",
       "  </thead>\n",
       "  <tbody>\n",
       "    <tr>\n",
       "      <th>2020-03-01</th>\n",
       "      <td>10000</td>\n",
       "      <td>11000</td>\n",
       "      <td>13000</td>\n",
       "      <td>3000</td>\n",
       "      <td>10000</td>\n",
       "    </tr>\n",
       "    <tr>\n",
       "      <th>2020-03-02</th>\n",
       "      <td>10300</td>\n",
       "      <td>12000</td>\n",
       "      <td>15000</td>\n",
       "      <td>5000</td>\n",
       "      <td>10000</td>\n",
       "    </tr>\n",
       "    <tr>\n",
       "      <th>2020-03-03</th>\n",
       "      <td>9900</td>\n",
       "      <td>10000</td>\n",
       "      <td>15000</td>\n",
       "      <td>5000</td>\n",
       "      <td>10000</td>\n",
       "    </tr>\n",
       "    <tr>\n",
       "      <th>2020-03-04</th>\n",
       "      <td>10500</td>\n",
       "      <td>13000</td>\n",
       "      <td>18000</td>\n",
       "      <td>8000</td>\n",
       "      <td>10000</td>\n",
       "    </tr>\n",
       "    <tr>\n",
       "      <th>2020-03-5</th>\n",
       "      <td>11000</td>\n",
       "      <td>12000</td>\n",
       "      <td>17000</td>\n",
       "      <td>7000</td>\n",
       "      <td>10000</td>\n",
       "    </tr>\n",
       "  </tbody>\n",
       "</table>\n",
       "</div>"
      ],
      "text/plain": [
       "               시가     종가     고가    저가    Gap\n",
       "2020-03-01  10000  11000  13000  3000  10000\n",
       "2020-03-02  10300  12000  15000  5000  10000\n",
       "2020-03-03   9900  10000  15000  5000  10000\n",
       "2020-03-04  10500  13000  18000  8000  10000\n",
       "2020-03-5   11000  12000  17000  7000  10000"
      ]
     },
     "execution_count": 145,
     "metadata": {},
     "output_type": "execute_result"
    }
   ],
   "source": [
    "stock_price_DF_withindex[\"Gap\"] = stock_price_DF_withindex.apply(\n",
    "    lambda x : x.max() - x.min(), axis=1)\n",
    "stock_price_DF_withindex"
   ]
  },
  {
   "cell_type": "markdown",
   "metadata": {},
   "source": [
    "#### 예제 4-1"
   ]
  },
  {
   "cell_type": "code",
   "execution_count": 182,
   "metadata": {
    "scrolled": false
   },
   "outputs": [
    {
     "data": {
      "text/html": [
       "<div>\n",
       "<style scoped>\n",
       "    .dataframe tbody tr th:only-of-type {\n",
       "        vertical-align: middle;\n",
       "    }\n",
       "\n",
       "    .dataframe tbody tr th {\n",
       "        vertical-align: top;\n",
       "    }\n",
       "\n",
       "    .dataframe thead th {\n",
       "        text-align: right;\n",
       "    }\n",
       "</style>\n",
       "<table border=\"1\" class=\"dataframe\">\n",
       "  <thead>\n",
       "    <tr style=\"text-align: right;\">\n",
       "      <th></th>\n",
       "      <th>시가</th>\n",
       "      <th>종가</th>\n",
       "      <th>고가</th>\n",
       "      <th>저가</th>\n",
       "    </tr>\n",
       "  </thead>\n",
       "  <tbody>\n",
       "    <tr>\n",
       "      <th>2020-03-01</th>\n",
       "      <td>10000</td>\n",
       "      <td>350</td>\n",
       "      <td>13000</td>\n",
       "      <td>3000</td>\n",
       "    </tr>\n",
       "    <tr>\n",
       "      <th>2020-03-02</th>\n",
       "      <td>10300</td>\n",
       "      <td>264</td>\n",
       "      <td>15000</td>\n",
       "      <td>5000</td>\n",
       "    </tr>\n",
       "    <tr>\n",
       "      <th>2020-03-03</th>\n",
       "      <td>9900</td>\n",
       "      <td>264000</td>\n",
       "      <td>15000</td>\n",
       "      <td>5000</td>\n",
       "    </tr>\n",
       "    <tr>\n",
       "      <th>2020-03-04</th>\n",
       "      <td>10500</td>\n",
       "      <td>13000</td>\n",
       "      <td>122000</td>\n",
       "      <td>8000</td>\n",
       "    </tr>\n",
       "    <tr>\n",
       "      <th>2020-03-5</th>\n",
       "      <td>11000</td>\n",
       "      <td>12000</td>\n",
       "      <td>17000</td>\n",
       "      <td>7000</td>\n",
       "    </tr>\n",
       "  </tbody>\n",
       "</table>\n",
       "</div>"
      ],
      "text/plain": [
       "               시가      종가      고가    저가\n",
       "2020-03-01  10000     350   13000  3000\n",
       "2020-03-02  10300     264   15000  5000\n",
       "2020-03-03   9900  264000   15000  5000\n",
       "2020-03-04  10500   13000  122000  8000\n",
       "2020-03-5   11000   12000   17000  7000"
      ]
     },
     "execution_count": 182,
     "metadata": {},
     "output_type": "execute_result"
    }
   ],
   "source": [
    "stock_price_DF_withindex = pd.DataFrame(\n",
    "    [10000,10300,9900,10500,11000], \n",
    "    index=[\"2020-03-01\",\"2020-03-02\",\"2020-03-03\",\"2020-03-04\",\"2020-03-5\"])\n",
    "stock_price_DF_withindex.rename(columns={0:\"시가\"}, inplace=True)\n",
    "stock_price_DF_withindex[\"종가\"]=[350,264,264000,13000,12000]\n",
    "stock_price_DF_withindex[\"고가\"]=[13000,15000,15000,122000,17000]\n",
    "stock_price_DF_withindex[\"저가\"]=[3000,5000,5000,8000,7000]\n",
    "stock_price_DF_withindex"
   ]
  },
  {
   "cell_type": "code",
   "execution_count": 170,
   "metadata": {
    "scrolled": true
   },
   "outputs": [
    {
     "data": {
      "text/html": [
       "<div>\n",
       "<style scoped>\n",
       "    .dataframe tbody tr th:only-of-type {\n",
       "        vertical-align: middle;\n",
       "    }\n",
       "\n",
       "    .dataframe tbody tr th {\n",
       "        vertical-align: top;\n",
       "    }\n",
       "\n",
       "    .dataframe thead th {\n",
       "        text-align: right;\n",
       "    }\n",
       "</style>\n",
       "<table border=\"1\" class=\"dataframe\">\n",
       "  <thead>\n",
       "    <tr style=\"text-align: right;\">\n",
       "      <th></th>\n",
       "      <th>시가</th>\n",
       "      <th>종가</th>\n",
       "      <th>고가</th>\n",
       "      <th>저가</th>\n",
       "      <th>Gap_forloop</th>\n",
       "    </tr>\n",
       "  </thead>\n",
       "  <tbody>\n",
       "    <tr>\n",
       "      <th>2020-03-01</th>\n",
       "      <td>10000</td>\n",
       "      <td>350</td>\n",
       "      <td>13000</td>\n",
       "      <td>3000</td>\n",
       "      <td>12650</td>\n",
       "    </tr>\n",
       "    <tr>\n",
       "      <th>2020-03-02</th>\n",
       "      <td>10300</td>\n",
       "      <td>264</td>\n",
       "      <td>15000</td>\n",
       "      <td>5000</td>\n",
       "      <td>14736</td>\n",
       "    </tr>\n",
       "    <tr>\n",
       "      <th>2020-03-03</th>\n",
       "      <td>9900</td>\n",
       "      <td>264000</td>\n",
       "      <td>15000</td>\n",
       "      <td>5000</td>\n",
       "      <td>259000</td>\n",
       "    </tr>\n",
       "    <tr>\n",
       "      <th>2020-03-04</th>\n",
       "      <td>10500</td>\n",
       "      <td>13000</td>\n",
       "      <td>122000</td>\n",
       "      <td>8000</td>\n",
       "      <td>114000</td>\n",
       "    </tr>\n",
       "    <tr>\n",
       "      <th>2020-03-5</th>\n",
       "      <td>11000</td>\n",
       "      <td>12000</td>\n",
       "      <td>17000</td>\n",
       "      <td>7000</td>\n",
       "      <td>10000</td>\n",
       "    </tr>\n",
       "  </tbody>\n",
       "</table>\n",
       "</div>"
      ],
      "text/plain": [
       "               시가      종가      고가    저가  Gap_forloop\n",
       "2020-03-01  10000     350   13000  3000        12650\n",
       "2020-03-02  10300     264   15000  5000        14736\n",
       "2020-03-03   9900  264000   15000  5000       259000\n",
       "2020-03-04  10500   13000  122000  8000       114000\n",
       "2020-03-5   11000   12000   17000  7000        10000"
      ]
     },
     "execution_count": 170,
     "metadata": {},
     "output_type": "execute_result"
    }
   ],
   "source": [
    "a=[]\n",
    "for i in range(0,stock_price_DF_withindex.shape[0]):\n",
    "    a.append(stock_price_DF_withindex.iloc[i,0:4].max()-\n",
    "             stock_price_DF_withindex.iloc[i,0:4].min())\n",
    "stock_price_DF_withindex[\"Gap_forloop\"]=a\n",
    "stock_price_DF_withindex"
   ]
  },
  {
   "cell_type": "markdown",
   "metadata": {},
   "source": [
    "다른 방법"
   ]
  },
  {
   "cell_type": "code",
   "execution_count": 166,
   "metadata": {
    "scrolled": true
   },
   "outputs": [
    {
     "data": {
      "text/plain": [
       "1"
      ]
     },
     "execution_count": 166,
     "metadata": {},
     "output_type": "execute_result"
    }
   ],
   "source": [
    "#  column이 \"종가\" 인 index를 반환\n",
    "stock_price_DF_withindex.columns.get_loc(\"종가\")"
   ]
  },
  {
   "cell_type": "code",
   "execution_count": 212,
   "metadata": {
    "scrolled": true
   },
   "outputs": [
    {
     "data": {
      "text/html": [
       "<div>\n",
       "<style scoped>\n",
       "    .dataframe tbody tr th:only-of-type {\n",
       "        vertical-align: middle;\n",
       "    }\n",
       "\n",
       "    .dataframe tbody tr th {\n",
       "        vertical-align: top;\n",
       "    }\n",
       "\n",
       "    .dataframe thead th {\n",
       "        text-align: right;\n",
       "    }\n",
       "</style>\n",
       "<table border=\"1\" class=\"dataframe\">\n",
       "  <thead>\n",
       "    <tr style=\"text-align: right;\">\n",
       "      <th></th>\n",
       "      <th>시가</th>\n",
       "      <th>종가</th>\n",
       "      <th>고가</th>\n",
       "      <th>저가</th>\n",
       "      <th>Gap_forloop</th>\n",
       "      <th>Gap_forloop2</th>\n",
       "    </tr>\n",
       "  </thead>\n",
       "  <tbody>\n",
       "    <tr>\n",
       "      <th>2020-03-01</th>\n",
       "      <td>10000</td>\n",
       "      <td>350</td>\n",
       "      <td>13000</td>\n",
       "      <td>3000</td>\n",
       "      <td>12650</td>\n",
       "      <td>12650</td>\n",
       "    </tr>\n",
       "    <tr>\n",
       "      <th>2020-03-02</th>\n",
       "      <td>10300</td>\n",
       "      <td>264</td>\n",
       "      <td>15000</td>\n",
       "      <td>5000</td>\n",
       "      <td>14736</td>\n",
       "      <td>14736</td>\n",
       "    </tr>\n",
       "    <tr>\n",
       "      <th>2020-03-03</th>\n",
       "      <td>9900</td>\n",
       "      <td>264000</td>\n",
       "      <td>15000</td>\n",
       "      <td>5000</td>\n",
       "      <td>259000</td>\n",
       "      <td>259000</td>\n",
       "    </tr>\n",
       "    <tr>\n",
       "      <th>2020-03-04</th>\n",
       "      <td>10500</td>\n",
       "      <td>13000</td>\n",
       "      <td>122000</td>\n",
       "      <td>8000</td>\n",
       "      <td>114000</td>\n",
       "      <td>114000</td>\n",
       "    </tr>\n",
       "    <tr>\n",
       "      <th>2020-03-5</th>\n",
       "      <td>11000</td>\n",
       "      <td>12000</td>\n",
       "      <td>17000</td>\n",
       "      <td>7000</td>\n",
       "      <td>10000</td>\n",
       "      <td>10000</td>\n",
       "    </tr>\n",
       "  </tbody>\n",
       "</table>\n",
       "</div>"
      ],
      "text/plain": [
       "               시가      종가      고가    저가  Gap_forloop  Gap_forloop2\n",
       "2020-03-01  10000     350   13000  3000        12650         12650\n",
       "2020-03-02  10300     264   15000  5000        14736         14736\n",
       "2020-03-03   9900  264000   15000  5000       259000        259000\n",
       "2020-03-04  10500   13000  122000  8000       114000        114000\n",
       "2020-03-5   11000   12000   17000  7000        10000         10000"
      ]
     },
     "execution_count": 212,
     "metadata": {},
     "output_type": "execute_result"
    }
   ],
   "source": [
    "stock_price_DF_withindex[\"Gap_forloop\"]=0\n",
    "\n",
    "labels=[\"Gap_forloop\"]\n",
    "labels_idx = [stock_price_DF_withindex.columns.get_loc(i) for i in labels]\n",
    "# labels_idx => [5] 이므로 오류 발생\n",
    "# labels_idx[0] => 5  이와 같이 해야 iat[]에서 오류가 발생하지 않는다\n",
    "\n",
    "cols=[\"시가\",\"종가\",\"저가\",\"고가\"]\n",
    "cols_idx = [stock_price_DF_withindex.columns.get_loc(i) for i in cols]\n",
    "\n",
    "for i in range(0,stock_price_DF_withindex.shape[0]):\n",
    "    temp =stock_price_DF_withindex.iloc[i,cols_idx]\n",
    "    stock_price_DF_withindex.iat[i,labels_idx[0]] = temp.max() - temp.min()\n",
    "stock_price_DF_withindex"
   ]
  },
  {
   "cell_type": "code",
   "execution_count": 174,
   "metadata": {},
   "outputs": [
    {
     "data": {
      "text/plain": [
       "[0, 2, 1]"
      ]
     },
     "execution_count": 174,
     "metadata": {},
     "output_type": "execute_result"
    }
   ],
   "source": [
    "labels=[\"시가\",\"고가\",\"종가\"]\n",
    "labels_idx=[stock_price_DF_withindex.columns.get_loc(label) for label in labels]\n",
    "labels_idx"
   ]
  },
  {
   "cell_type": "code",
   "execution_count": null,
   "metadata": {},
   "outputs": [],
   "source": []
  },
  {
   "cell_type": "code",
   "execution_count": 184,
   "metadata": {},
   "outputs": [
    {
     "data": {
      "text/html": [
       "<div>\n",
       "<style scoped>\n",
       "    .dataframe tbody tr th:only-of-type {\n",
       "        vertical-align: middle;\n",
       "    }\n",
       "\n",
       "    .dataframe tbody tr th {\n",
       "        vertical-align: top;\n",
       "    }\n",
       "\n",
       "    .dataframe thead th {\n",
       "        text-align: right;\n",
       "    }\n",
       "</style>\n",
       "<table border=\"1\" class=\"dataframe\">\n",
       "  <thead>\n",
       "    <tr style=\"text-align: right;\">\n",
       "      <th></th>\n",
       "      <th>시가</th>\n",
       "      <th>종가</th>\n",
       "      <th>고가</th>\n",
       "      <th>저가</th>\n",
       "      <th>Gap_forloop</th>\n",
       "      <th>Gap_forloop2</th>\n",
       "    </tr>\n",
       "  </thead>\n",
       "  <tbody>\n",
       "    <tr>\n",
       "      <th>2020-03-01</th>\n",
       "      <td>10000</td>\n",
       "      <td>350</td>\n",
       "      <td>13000</td>\n",
       "      <td>3000</td>\n",
       "      <td>12650</td>\n",
       "      <td>0</td>\n",
       "    </tr>\n",
       "    <tr>\n",
       "      <th>2020-03-02</th>\n",
       "      <td>10300</td>\n",
       "      <td>264</td>\n",
       "      <td>15000</td>\n",
       "      <td>5000</td>\n",
       "      <td>14736</td>\n",
       "      <td>0</td>\n",
       "    </tr>\n",
       "    <tr>\n",
       "      <th>2020-03-03</th>\n",
       "      <td>9900</td>\n",
       "      <td>264000</td>\n",
       "      <td>15000</td>\n",
       "      <td>5000</td>\n",
       "      <td>259000</td>\n",
       "      <td>0</td>\n",
       "    </tr>\n",
       "    <tr>\n",
       "      <th>2020-03-04</th>\n",
       "      <td>10500</td>\n",
       "      <td>13000</td>\n",
       "      <td>122000</td>\n",
       "      <td>8000</td>\n",
       "      <td>114000</td>\n",
       "      <td>0</td>\n",
       "    </tr>\n",
       "    <tr>\n",
       "      <th>2020-03-5</th>\n",
       "      <td>11000</td>\n",
       "      <td>12000</td>\n",
       "      <td>17000</td>\n",
       "      <td>7000</td>\n",
       "      <td>10000</td>\n",
       "      <td>0</td>\n",
       "    </tr>\n",
       "  </tbody>\n",
       "</table>\n",
       "</div>"
      ],
      "text/plain": [
       "               시가      종가      고가    저가  Gap_forloop  Gap_forloop2\n",
       "2020-03-01  10000     350   13000  3000        12650             0\n",
       "2020-03-02  10300     264   15000  5000        14736             0\n",
       "2020-03-03   9900  264000   15000  5000       259000             0\n",
       "2020-03-04  10500   13000  122000  8000       114000             0\n",
       "2020-03-5   11000   12000   17000  7000        10000             0"
      ]
     },
     "execution_count": 184,
     "metadata": {},
     "output_type": "execute_result"
    }
   ],
   "source": [
    "stock_price_DF_withindex[\"Gap_forloop2\"]=0\n",
    "stock_price_DF_withindex"
   ]
  },
  {
   "cell_type": "code",
   "execution_count": 210,
   "metadata": {},
   "outputs": [
    {
     "data": {
      "text/html": [
       "<div>\n",
       "<style scoped>\n",
       "    .dataframe tbody tr th:only-of-type {\n",
       "        vertical-align: middle;\n",
       "    }\n",
       "\n",
       "    .dataframe tbody tr th {\n",
       "        vertical-align: top;\n",
       "    }\n",
       "\n",
       "    .dataframe thead th {\n",
       "        text-align: right;\n",
       "    }\n",
       "</style>\n",
       "<table border=\"1\" class=\"dataframe\">\n",
       "  <thead>\n",
       "    <tr style=\"text-align: right;\">\n",
       "      <th></th>\n",
       "      <th>시가</th>\n",
       "      <th>종가</th>\n",
       "      <th>고가</th>\n",
       "      <th>저가</th>\n",
       "      <th>Gap_forloop</th>\n",
       "      <th>Gap_forloop2</th>\n",
       "    </tr>\n",
       "  </thead>\n",
       "  <tbody>\n",
       "    <tr>\n",
       "      <th>2020-03-01</th>\n",
       "      <td>10000</td>\n",
       "      <td>350</td>\n",
       "      <td>13000</td>\n",
       "      <td>3000</td>\n",
       "      <td>12650</td>\n",
       "      <td>12650</td>\n",
       "    </tr>\n",
       "    <tr>\n",
       "      <th>2020-03-02</th>\n",
       "      <td>10300</td>\n",
       "      <td>264</td>\n",
       "      <td>15000</td>\n",
       "      <td>5000</td>\n",
       "      <td>14736</td>\n",
       "      <td>14736</td>\n",
       "    </tr>\n",
       "    <tr>\n",
       "      <th>2020-03-03</th>\n",
       "      <td>9900</td>\n",
       "      <td>264000</td>\n",
       "      <td>15000</td>\n",
       "      <td>5000</td>\n",
       "      <td>259000</td>\n",
       "      <td>259000</td>\n",
       "    </tr>\n",
       "    <tr>\n",
       "      <th>2020-03-04</th>\n",
       "      <td>10500</td>\n",
       "      <td>13000</td>\n",
       "      <td>122000</td>\n",
       "      <td>8000</td>\n",
       "      <td>114000</td>\n",
       "      <td>114000</td>\n",
       "    </tr>\n",
       "    <tr>\n",
       "      <th>2020-03-5</th>\n",
       "      <td>11000</td>\n",
       "      <td>12000</td>\n",
       "      <td>17000</td>\n",
       "      <td>7000</td>\n",
       "      <td>10000</td>\n",
       "      <td>10000</td>\n",
       "    </tr>\n",
       "  </tbody>\n",
       "</table>\n",
       "</div>"
      ],
      "text/plain": [
       "               시가      종가      고가    저가  Gap_forloop  Gap_forloop2\n",
       "2020-03-01  10000     350   13000  3000        12650         12650\n",
       "2020-03-02  10300     264   15000  5000        14736         14736\n",
       "2020-03-03   9900  264000   15000  5000       259000        259000\n",
       "2020-03-04  10500   13000  122000  8000       114000        114000\n",
       "2020-03-5   11000   12000   17000  7000        10000         10000"
      ]
     },
     "execution_count": 210,
     "metadata": {},
     "output_type": "execute_result"
    }
   ],
   "source": [
    "for i in stock_price_DF_withindex.index:\n",
    "    temp = stock_price_DF_withindex.loc[i]\n",
    "    gap = temp.max()-temp.min()\n",
    "    stock_price_DF_withindex.at[i,\"Gap_forloop2\"]=gap\n",
    "stock_price_DF_withindex"
   ]
  },
  {
   "cell_type": "code",
   "execution_count": 206,
   "metadata": {},
   "outputs": [
    {
     "name": "stdout",
     "output_type": "stream",
     "text": [
      "시가    10340.0\n",
      "종가    57922.8\n",
      "고가    36400.0\n",
      "저가     5600.0\n",
      "dtype: float64\n",
      "------------------------\n"
     ]
    },
    {
     "data": {
      "text/plain": [
       "시가    10340.0\n",
       "종가    57922.8\n",
       "고가    36400.0\n",
       "저가     5600.0\n",
       "dtype: float64"
      ]
     },
     "execution_count": 206,
     "metadata": {},
     "output_type": "execute_result"
    }
   ],
   "source": [
    "labels=[\"시가\",\"종가\",\"고가\",\"저가\"]\n",
    "a=stock_price_DF_withindex[labels].apply(lambda x : x.mean() ,axis=0)\n",
    "print(a)\n",
    "# stock_price_DF_withindex[labels].mean()\n",
    "\n",
    "print(\"------------------------\")\n",
    "\n",
    "stock_price_DF_withindex.loc[:,[\"시가\",\"종가\",\"고가\",\"저가\"]].apply(lambda x :x.mean(), axis=0)\n",
    "      "
   ]
  },
  {
   "cell_type": "code",
   "execution_count": 207,
   "metadata": {
    "scrolled": true
   },
   "outputs": [
    {
     "data": {
      "text/plain": [
       "시가    10340.0\n",
       "종가    57922.8\n",
       "고가    36400.0\n",
       "저가     5600.0\n",
       "dtype: float64"
      ]
     },
     "execution_count": 207,
     "metadata": {},
     "output_type": "execute_result"
    }
   ],
   "source": [
    "stock_price_DF_withindex[labels].mean()"
   ]
  },
  {
   "cell_type": "code",
   "execution_count": 209,
   "metadata": {},
   "outputs": [
    {
     "data": {
      "text/plain": [
       "시가    10340.0\n",
       "종가    57922.8\n",
       "고가    36400.0\n",
       "저가     5600.0\n",
       "dtype: float64"
      ]
     },
     "execution_count": 209,
     "metadata": {},
     "output_type": "execute_result"
    }
   ],
   "source": [
    "stock_price_DF_withindex.loc[:,[\"시가\",\"종가\",\"고가\",\"저가\"]].mean()"
   ]
  },
  {
   "cell_type": "code",
   "execution_count": null,
   "metadata": {},
   "outputs": [],
   "source": []
  }
 ],
 "metadata": {
  "kernelspec": {
   "display_name": "Python 3",
   "language": "python",
   "name": "python3"
  },
  "language_info": {
   "codemirror_mode": {
    "name": "ipython",
    "version": 3
   },
   "file_extension": ".py",
   "mimetype": "text/x-python",
   "name": "python",
   "nbconvert_exporter": "python",
   "pygments_lexer": "ipython3",
   "version": "3.7.6"
  }
 },
 "nbformat": 4,
 "nbformat_minor": 4
}
