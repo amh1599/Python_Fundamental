{
 "cells": [
  {
   "cell_type": "code",
   "execution_count": 1,
   "metadata": {
    "colab": {
     "base_uri": "https://localhost:8080/",
     "height": 35
    },
    "colab_type": "code",
    "executionInfo": {
     "elapsed": 4211,
     "status": "ok",
     "timestamp": 1575820913129,
     "user": {
      "displayName": "Hwanhee Kim",
      "photoUrl": "https://lh3.googleusercontent.com/a-/AAuE7mAJC9PPBoQ91glDwFjxm3TlW5EqGy0BIAJ52D-ekw=s64",
      "userId": "04863080312902369470"
     },
     "user_tz": -540
    },
    "id": "gl58Zr-ZKjRE",
    "outputId": "e79e9d7f-37e0-4e15-ba28-62661df716f3"
   },
   "outputs": [],
   "source": [
    "# 텐서플로 2 버전 선택\n",
    "try:\n",
    "    # %tensorflow_version only exists in Colab.\n",
    "    %tensorflow_version 2.x\n",
    "except Exception:\n",
    "    pass\n",
    "import tensorflow as tf\n",
    "import numpy as np"
   ]
  },
  {
   "cell_type": "markdown",
   "metadata": {
    "colab_type": "text",
    "id": "OSciZqogK0Mg"
   },
   "source": [
    "# 7.2 주요 레이어 정리"
   ]
  },
  {
   "cell_type": "markdown",
   "metadata": {
    "colab_type": "text",
    "id": "8DmYqaWfcxJa"
   },
   "source": [
    "## 7.2.1 SimpleRNN 레이어"
   ]
  },
  {
   "cell_type": "code",
   "execution_count": 2,
   "metadata": {
    "colab": {},
    "colab_type": "code",
    "id": "s0f2FG66cx27"
   },
   "outputs": [],
   "source": [
    "# 7.1 SimpleRNN 레이어 생성 코드\n",
    "\n",
    "rnn1 = tf.keras.layers.SimpleRNN(units=1, activation='tanh', return_sequences=True)"
   ]
  },
  {
   "cell_type": "code",
   "execution_count": 3,
   "metadata": {
    "colab": {
     "base_uri": "https://localhost:8080/",
     "height": 449
    },
    "colab_type": "code",
    "executionInfo": {
     "elapsed": 43014,
     "status": "ok",
     "timestamp": 1565400947872,
     "user": {
      "displayName": "Hwanhee Kim",
      "photoUrl": "https://lh6.googleusercontent.com/-nodxsDvEvZo/AAAAAAAAAAI/AAAAAAAABHE/Ybrj2myvr5Q/s64/photo.jpg",
      "userId": "04863080312902369470"
     },
     "user_tz": -540
    },
    "id": "vU4_rMdw47Au",
    "outputId": "c395215a-9a07-4a78-f9d2-d088c9c8a0a9"
   },
   "outputs": [
    {
     "name": "stdout",
     "output_type": "stream",
     "text": [
      "[[0. ]\n",
      " [0.1]\n",
      " [0.2]\n",
      " [0.3]] 0.4\n",
      "[[0.1]\n",
      " [0.2]\n",
      " [0.3]\n",
      " [0.4]] 0.5\n",
      "[[0.2]\n",
      " [0.3]\n",
      " [0.4]\n",
      " [0.5]] 0.6\n",
      "[[0.3]\n",
      " [0.4]\n",
      " [0.5]\n",
      " [0.6]] 0.7\n",
      "[[0.4]\n",
      " [0.5]\n",
      " [0.6]\n",
      " [0.7]] 0.8\n",
      "[[0.5]\n",
      " [0.6]\n",
      " [0.7]\n",
      " [0.8]] 0.9\n"
     ]
    }
   ],
   "source": [
    "# 7.2 시퀀스 예측 데이터 생성\n",
    "X = []\n",
    "Y = []\n",
    "for i in range(6):\n",
    "    # [0,1,2,3], [1,2,3,4] 같은 정수의 시퀀스를 만듭니다.\n",
    "    lst = list(range(i,i+4))\n",
    "\n",
    "    # 위에서 구한 시퀀스의 숫자들을 각각 10으로 나눈 다음 저장합니다.\n",
    "    # SimpleRNN 에 각 타임스텝에 하나씩 숫자가 들어가기 때문에 여기서도 하나씩 분리해서 배열에 저장합니다.\n",
    "    X.append(list(map(lambda c: [c/10], lst)))\n",
    "\n",
    "    # 정답에 해당하는 4, 5 등의 정수를 역시 위처럼 10으로 나눠서 저장합니다.\n",
    "    Y.append((i+4)/10)\n",
    "    \n",
    "X = np.array(X)\n",
    "Y = np.array(Y)\n",
    "for i in range(len(X)):\n",
    "    print(X[i], Y[i])"
   ]
  },
  {
   "cell_type": "markdown",
   "metadata": {},
   "source": [
    "<img src=\"img/img_26.png\">"
   ]
  },
  {
   "cell_type": "code",
   "execution_count": 6,
   "metadata": {
    "colab": {
     "base_uri": "https://localhost:8080/",
     "height": 233
    },
    "colab_type": "code",
    "executionInfo": {
     "elapsed": 3098,
     "status": "ok",
     "timestamp": 1565420204501,
     "user": {
      "displayName": "Hwanhee Kim",
      "photoUrl": "https://lh6.googleusercontent.com/-nodxsDvEvZo/AAAAAAAAAAI/AAAAAAAABHE/Ybrj2myvr5Q/s64/photo.jpg",
      "userId": "04863080312902369470"
     },
     "user_tz": -540
    },
    "id": "yFdjOc6G5kO1",
    "outputId": "b1f16a66-1bc5-439e-e51b-89709bd3a85f"
   },
   "outputs": [
    {
     "name": "stdout",
     "output_type": "stream",
     "text": [
      "Model: \"sequential\"\n",
      "_________________________________________________________________\n",
      "Layer (type)                 Output Shape              Param #   \n",
      "=================================================================\n",
      "simple_rnn_1 (SimpleRNN)     (None, 10)                120       \n",
      "_________________________________________________________________\n",
      "dense (Dense)                (None, 1)                 11        \n",
      "=================================================================\n",
      "Total params: 131\n",
      "Trainable params: 131\n",
      "Non-trainable params: 0\n",
      "_________________________________________________________________\n"
     ]
    }
   ],
   "source": [
    "# 7.3 시퀀스 예측 모델 정의\n",
    "model = tf.keras.Sequential([\n",
    "    tf.keras.layers.SimpleRNN(units=10, return_sequences=False, input_shape=[4,1]),\n",
    "    tf.keras.layers.Dense(1)\n",
    "])\n",
    "model.compile(optimizer=\"adam\",\n",
    "             loss=\"mse\")\n",
    "model.summary()"
   ]
  },
  {
   "cell_type": "code",
   "execution_count": 7,
   "metadata": {
    "colab": {
     "base_uri": "https://localhost:8080/",
     "height": 125
    },
    "colab_type": "code",
    "executionInfo": {
     "elapsed": 3394,
     "status": "ok",
     "timestamp": 1565095662369,
     "user": {
      "displayName": "Hwanhee Kim",
      "photoUrl": "https://lh6.googleusercontent.com/-nodxsDvEvZo/AAAAAAAAAAI/AAAAAAAABHE/Ybrj2myvr5Q/s64/photo.jpg",
      "userId": "04863080312902369470"
     },
     "user_tz": -540
    },
    "id": "7odqgVWw5oyH",
    "outputId": "c67cc65e-2ea1-4f8a-b979-9977d5827747"
   },
   "outputs": [
    {
     "name": "stdout",
     "output_type": "stream",
     "text": [
      "[[0.3727741 ]\n",
      " [0.508041  ]\n",
      " [0.6248599 ]\n",
      " [0.72224116]\n",
      " [0.8015249 ]\n",
      " [0.86513114]]\n"
     ]
    }
   ],
   "source": [
    "# 7.4 네트워크 훈련 및 결과 확인\n",
    "model.fit(X, Y, epochs=100, verbose=0)\n",
    "print(model.predict(X))"
   ]
  },
  {
   "cell_type": "code",
   "execution_count": 8,
   "metadata": {},
   "outputs": [
    {
     "name": "stdout",
     "output_type": "stream",
     "text": [
      "[[0.3924037 ]\n",
      " [0.50213444]\n",
      " [0.60718465]\n",
      " [0.70687646]\n",
      " [0.8010682 ]\n",
      " [0.889881  ]]\n"
     ]
    }
   ],
   "source": [
    "# 7.4 네트워크 훈련 및 결과 확인\n",
    "model.fit(X, Y, epochs=300, verbose=0)\n",
    "print(model.predict(X))"
   ]
  },
  {
   "cell_type": "code",
   "execution_count": 9,
   "metadata": {
    "colab": {
     "base_uri": "https://localhost:8080/",
     "height": 53
    },
    "colab_type": "code",
    "executionInfo": {
     "elapsed": 805,
     "status": "ok",
     "timestamp": 1565095663313,
     "user": {
      "displayName": "Hwanhee Kim",
      "photoUrl": "https://lh6.googleusercontent.com/-nodxsDvEvZo/AAAAAAAAAAI/AAAAAAAABHE/Ybrj2myvr5Q/s64/photo.jpg",
      "userId": "04863080312902369470"
     },
     "user_tz": -540
    },
    "id": "KQUaYRRG7aWA",
    "outputId": "c5baa2e9-e25c-4195-98a6-2b58d1b0fdb1"
   },
   "outputs": [
    {
     "name": "stdout",
     "output_type": "stream",
     "text": [
      "[[0.9734516]]\n",
      "[[0.2792811]]\n"
     ]
    }
   ],
   "source": [
    "# 7.5 학습되지 않은 시퀀스에 대한 예측 결과\n",
    "print(model.predict(np.array([[[0.6],[0.7],[0.8],[0.9]]])))\n",
    "print(model.predict(np.array([[[-0.1],[0.0],[0.1],[0.2]]])))"
   ]
  },
  {
   "cell_type": "markdown",
   "metadata": {
    "colab_type": "text",
    "id": "HGzdLJHZvSUg"
   },
   "source": [
    "## 7.2.2 LSTM 레이어"
   ]
  },
  {
   "cell_type": "markdown",
   "metadata": {},
   "source": [
    "<img src=\"img/img_27.png\">"
   ]
  },
  {
   "cell_type": "code",
   "execution_count": 10,
   "metadata": {
    "colab": {
     "base_uri": "https://localhost:8080/",
     "height": 1000
    },
    "colab_type": "code",
    "executionInfo": {
     "elapsed": 40878,
     "status": "ok",
     "timestamp": 1565400949229,
     "user": {
      "displayName": "Hwanhee Kim",
      "photoUrl": "https://lh6.googleusercontent.com/-nodxsDvEvZo/AAAAAAAAAAI/AAAAAAAABHE/Ybrj2myvr5Q/s64/photo.jpg",
      "userId": "04863080312902369470"
     },
     "user_tz": -540
    },
    "id": "iYyU1BKZFDvo",
    "outputId": "579631eb-65e7-4e6f-96ef-a1b15fd83823",
    "scrolled": true
   },
   "outputs": [
    {
     "name": "stdout",
     "output_type": "stream",
     "text": [
      "[[0.         0.10925731]\n",
      " [0.         0.78932808]\n",
      " [0.         0.76565564]\n",
      " [0.         0.70783844]\n",
      " [0.         0.0876141 ]\n",
      " [0.         0.43374262]\n",
      " [1.         0.40204617]\n",
      " [0.         0.43743676]\n",
      " [0.         0.86606557]\n",
      " [0.         0.57491019]\n",
      " [0.         0.3081082 ]\n",
      " [0.         0.95702729]\n",
      " [0.         0.43871728]\n",
      " [0.         0.49712629]\n",
      " [0.         0.97706252]\n",
      " [0.         0.13341592]\n",
      " [0.         0.8666612 ]\n",
      " [0.         0.30681769]\n",
      " [0.         0.8465878 ]\n",
      " [0.         0.85901058]\n",
      " [0.         0.78495183]\n",
      " [0.         0.08658224]\n",
      " [0.         0.85333086]\n",
      " [0.         0.02466915]\n",
      " [0.         0.04127179]\n",
      " [0.         0.8587625 ]\n",
      " [0.         0.57426167]\n",
      " [0.         0.43205358]\n",
      " [0.         0.03547664]\n",
      " [0.         0.86313926]\n",
      " [0.         0.70657588]\n",
      " [0.         0.82956965]\n",
      " [0.         0.16217168]\n",
      " [0.         0.51367229]\n",
      " [0.         0.37937166]\n",
      " [0.         0.59087087]\n",
      " [0.         0.13085819]\n",
      " [0.         0.12184037]\n",
      " [0.         0.56835127]\n",
      " [0.         0.01120651]\n",
      " [0.         0.39665162]\n",
      " [0.         0.19029215]\n",
      " [0.         0.15850986]\n",
      " [0.         0.81269034]\n",
      " [0.         0.92702367]\n",
      " [0.         0.26445465]\n",
      " [0.         0.26634626]\n",
      " [0.         0.7677875 ]\n",
      " [0.         0.49040543]\n",
      " [0.         0.12146625]\n",
      " [0.         0.06476951]\n",
      " [0.         0.87869049]\n",
      " [0.         0.96758079]\n",
      " [0.         0.97198177]\n",
      " [0.         0.67767138]\n",
      " [0.         0.11335936]\n",
      " [0.         0.68570654]\n",
      " [0.         0.17376608]\n",
      " [0.         0.78164696]\n",
      " [0.         0.34329115]\n",
      " [0.         0.413088  ]\n",
      " [0.         0.05482889]\n",
      " [0.         0.88219856]\n",
      " [0.         0.82905322]\n",
      " [0.         0.82802147]\n",
      " [0.         0.54361966]\n",
      " [0.         0.96361009]\n",
      " [0.         0.00715903]\n",
      " [0.         0.42135706]\n",
      " [0.         0.668656  ]\n",
      " [0.         0.5113239 ]\n",
      " [0.         0.27759291]\n",
      " [0.         0.91658026]\n",
      " [0.         0.65074869]\n",
      " [0.         0.1663201 ]\n",
      " [0.         0.27673529]\n",
      " [0.         0.60857162]\n",
      " [0.         0.40037514]\n",
      " [0.         0.62056669]\n",
      " [0.         0.4336081 ]\n",
      " [0.         0.42193795]\n",
      " [0.         0.01511498]\n",
      " [0.         0.62873178]\n",
      " [0.         0.08343393]\n",
      " [0.         0.18214936]\n",
      " [0.         0.51675343]\n",
      " [0.         0.68815272]\n",
      " [0.         0.44865734]\n",
      " [0.         0.83993865]\n",
      " [0.         0.70189483]\n",
      " [0.         0.02347316]\n",
      " [0.         0.85724747]\n",
      " [0.         0.44429187]\n",
      " [0.         0.80131407]\n",
      " [1.         0.91702719]\n",
      " [0.         0.95431832]\n",
      " [0.         0.3849434 ]\n",
      " [0.         0.29843808]\n",
      " [0.         0.7424763 ]\n",
      " [0.         0.61732992]] 0.36868727382080757\n"
     ]
    }
   ],
   "source": [
    "# 7.6 곱셈 문제 데이터 생성\n",
    "X = []\n",
    "Y = []\n",
    "for i in range(3000):\n",
    "    # 0~1 사이의 랜덤한 숫자 100 개를 만듭니다.\n",
    "    lst = np.random.rand(100)\n",
    "    # 마킹할 숫자 2개의 인덱스를 뽑습니다.\n",
    "    idx = np.random.choice(100, 2, replace=False)\n",
    "    # 마킹 인덱스가 저장된 원-핫 인코딩 벡터를 만듭니다.\n",
    "    zeros = np.zeros(100)\n",
    "    zeros[idx] = 1\n",
    "    # 마킹 인덱스와 랜덤한 숫자를 합쳐서 X 에 저장합니다.\n",
    "    X.append(np.array(list(zip(zeros, lst))))\n",
    "    # 마킹 인덱스가 1인 값들만 서로 곱해서 Y 에 저장합니다.\n",
    "    Y.append(np.prod(lst[idx]))\n",
    "    \n",
    "print(X[0], Y[0])"
   ]
  },
  {
   "cell_type": "markdown",
   "metadata": {},
   "source": [
    "<img src=\"img/img_28.png\">"
   ]
  },
  {
   "cell_type": "code",
   "execution_count": 12,
   "metadata": {
    "colab": {
     "base_uri": "https://localhost:8080/",
     "height": 269
    },
    "colab_type": "code",
    "executionInfo": {
     "elapsed": 1081,
     "status": "ok",
     "timestamp": 1565420208111,
     "user": {
      "displayName": "Hwanhee Kim",
      "photoUrl": "https://lh6.googleusercontent.com/-nodxsDvEvZo/AAAAAAAAAAI/AAAAAAAABHE/Ybrj2myvr5Q/s64/photo.jpg",
      "userId": "04863080312902369470"
     },
     "user_tz": -540
    },
    "id": "doitxA8uOm5i",
    "outputId": "d2cf0fe0-2497-4fb0-91e9-35f82da28b8c"
   },
   "outputs": [
    {
     "name": "stdout",
     "output_type": "stream",
     "text": [
      "Model: \"sequential_1\"\n",
      "_________________________________________________________________\n",
      "Layer (type)                 Output Shape              Param #   \n",
      "=================================================================\n",
      "simple_rnn_2 (SimpleRNN)     (None, 100, 30)           990       \n",
      "_________________________________________________________________\n",
      "simple_rnn_3 (SimpleRNN)     (None, 30)                1830      \n",
      "_________________________________________________________________\n",
      "dense_1 (Dense)              (None, 1)                 31        \n",
      "=================================================================\n",
      "Total params: 2,851\n",
      "Trainable params: 2,851\n",
      "Non-trainable params: 0\n",
      "_________________________________________________________________\n"
     ]
    }
   ],
   "source": [
    "# 7.7 SimpleRNN 레이어를 사용한 곱셈 문제 모델 정의 --> 실질적으로는 위로 많이 쌓지는 않음;;;;\n",
    "model = tf.keras.Sequential([\n",
    "    tf.keras.layers.SimpleRNN(units=30, return_sequences=True, input_shape=[100,2]),\n",
    "    tf.keras.layers.SimpleRNN(units=30),\n",
    "    tf.keras.layers.Dense(1)\n",
    "])\n",
    "model.compile(optimizer=\"adam\",\n",
    "              loss=\"mse\")\n",
    "model.summary()"
   ]
  },
  {
   "cell_type": "code",
   "execution_count": 13,
   "metadata": {
    "colab": {
     "base_uri": "https://localhost:8080/",
     "height": 1000
    },
    "colab_type": "code",
    "executionInfo": {
     "elapsed": 1863900,
     "status": "ok",
     "timestamp": 1565017987773,
     "user": {
      "displayName": "Hwanhee Kim",
      "photoUrl": "https://lh6.googleusercontent.com/-nodxsDvEvZo/AAAAAAAAAAI/AAAAAAAABHE/Ybrj2myvr5Q/s64/photo.jpg",
      "userId": "04863080312902369470"
     },
     "user_tz": -540
    },
    "id": "HTp4nvHYOqOZ",
    "outputId": "eb794c29-17b8-4a37-8d37-36fce66569fa",
    "scrolled": true
   },
   "outputs": [
    {
     "name": "stdout",
     "output_type": "stream",
     "text": [
      "Epoch 1/100\n",
      "64/64 [==============================] - 1s 20ms/step - loss: 0.0588 - val_loss: 0.0473\n",
      "Epoch 2/100\n",
      "64/64 [==============================] - 1s 17ms/step - loss: 0.0511 - val_loss: 0.0468\n",
      "Epoch 3/100\n",
      "64/64 [==============================] - 1s 18ms/step - loss: 0.0515 - val_loss: 0.0490\n",
      "Epoch 4/100\n",
      "64/64 [==============================] - 1s 17ms/step - loss: 0.0495 - val_loss: 0.0470\n",
      "Epoch 5/100\n",
      "64/64 [==============================] - 1s 17ms/step - loss: 0.0510 - val_loss: 0.0473\n",
      "Epoch 6/100\n",
      "64/64 [==============================] - 1s 17ms/step - loss: 0.0496 - val_loss: 0.0470\n",
      "Epoch 7/100\n",
      "64/64 [==============================] - 1s 17ms/step - loss: 0.0502 - val_loss: 0.0468\n",
      "Epoch 8/100\n",
      "64/64 [==============================] - 1s 17ms/step - loss: 0.0495 - val_loss: 0.0483\n",
      "Epoch 9/100\n",
      "64/64 [==============================] - 1s 17ms/step - loss: 0.0502 - val_loss: 0.0468\n",
      "Epoch 10/100\n",
      "64/64 [==============================] - 1s 17ms/step - loss: 0.0502 - val_loss: 0.0468\n",
      "Epoch 11/100\n",
      "64/64 [==============================] - 1s 19ms/step - loss: 0.0498 - val_loss: 0.0476\n",
      "Epoch 12/100\n",
      "64/64 [==============================] - 1s 18ms/step - loss: 0.0490 - val_loss: 0.0481\n",
      "Epoch 13/100\n",
      "64/64 [==============================] - 1s 17ms/step - loss: 0.0495 - val_loss: 0.0469\n",
      "Epoch 14/100\n",
      "64/64 [==============================] - 1s 17ms/step - loss: 0.0484 - val_loss: 0.0474\n",
      "Epoch 15/100\n",
      "64/64 [==============================] - 1s 17ms/step - loss: 0.0485 - val_loss: 0.0469\n",
      "Epoch 16/100\n",
      "64/64 [==============================] - 1s 17ms/step - loss: 0.0481 - val_loss: 0.0464\n",
      "Epoch 17/100\n",
      "64/64 [==============================] - 1s 17ms/step - loss: 0.0481 - val_loss: 0.0483\n",
      "Epoch 18/100\n",
      "64/64 [==============================] - 1s 18ms/step - loss: 0.0485 - val_loss: 0.0466\n",
      "Epoch 19/100\n",
      "64/64 [==============================] - 1s 17ms/step - loss: 0.0479 - val_loss: 0.0471\n",
      "Epoch 20/100\n",
      "64/64 [==============================] - 1s 17ms/step - loss: 0.0479 - val_loss: 0.0480\n",
      "Epoch 21/100\n",
      "64/64 [==============================] - 1s 17ms/step - loss: 0.0477 - val_loss: 0.0491\n",
      "Epoch 22/100\n",
      "64/64 [==============================] - 1s 18ms/step - loss: 0.0476 - val_loss: 0.0487\n",
      "Epoch 23/100\n",
      "64/64 [==============================] - 1s 17ms/step - loss: 0.0479 - val_loss: 0.0487\n",
      "Epoch 24/100\n",
      "64/64 [==============================] - 1s 18ms/step - loss: 0.0479 - val_loss: 0.0469\n",
      "Epoch 25/100\n",
      "64/64 [==============================] - 1s 18ms/step - loss: 0.0469 - val_loss: 0.0463\n",
      "Epoch 26/100\n",
      "64/64 [==============================] - 1s 17ms/step - loss: 0.0465 - val_loss: 0.0483\n",
      "Epoch 27/100\n",
      "64/64 [==============================] - 1s 17ms/step - loss: 0.0461 - val_loss: 0.0474\n",
      "Epoch 28/100\n",
      "64/64 [==============================] - 1s 18ms/step - loss: 0.0458 - val_loss: 0.0462\n",
      "Epoch 29/100\n",
      "64/64 [==============================] - 1s 18ms/step - loss: 0.0466 - val_loss: 0.0468\n",
      "Epoch 30/100\n",
      "64/64 [==============================] - 1s 17ms/step - loss: 0.0452 - val_loss: 0.0471\n",
      "Epoch 31/100\n",
      "64/64 [==============================] - 1s 18ms/step - loss: 0.0452 - val_loss: 0.0497\n",
      "Epoch 32/100\n",
      "64/64 [==============================] - 1s 17ms/step - loss: 0.0454 - val_loss: 0.0473\n",
      "Epoch 33/100\n",
      "64/64 [==============================] - 1s 17ms/step - loss: 0.0444 - val_loss: 0.0487\n",
      "Epoch 34/100\n",
      "64/64 [==============================] - 1s 17ms/step - loss: 0.0443 - val_loss: 0.0476\n",
      "Epoch 35/100\n",
      "64/64 [==============================] - 1s 18ms/step - loss: 0.0439 - val_loss: 0.0480\n",
      "Epoch 36/100\n",
      "64/64 [==============================] - 1s 17ms/step - loss: 0.0441 - val_loss: 0.0472\n",
      "Epoch 37/100\n",
      "64/64 [==============================] - 1s 17ms/step - loss: 0.0439 - val_loss: 0.0501\n",
      "Epoch 38/100\n",
      "64/64 [==============================] - 1s 17ms/step - loss: 0.0430 - val_loss: 0.0518\n",
      "Epoch 39/100\n",
      "64/64 [==============================] - 1s 18ms/step - loss: 0.0441 - val_loss: 0.0515\n",
      "Epoch 40/100\n",
      "64/64 [==============================] - 1s 18ms/step - loss: 0.0426 - val_loss: 0.0509\n",
      "Epoch 41/100\n",
      "64/64 [==============================] - 1s 17ms/step - loss: 0.0430 - val_loss: 0.0526\n",
      "Epoch 42/100\n",
      "64/64 [==============================] - 1s 17ms/step - loss: 0.0436 - val_loss: 0.0529\n",
      "Epoch 43/100\n",
      "64/64 [==============================] - 1s 17ms/step - loss: 0.0417 - val_loss: 0.0497\n",
      "Epoch 44/100\n",
      "64/64 [==============================] - 1s 17ms/step - loss: 0.0424 - val_loss: 0.0540\n",
      "Epoch 45/100\n",
      "64/64 [==============================] - 1s 18ms/step - loss: 0.0415 - val_loss: 0.0548\n",
      "Epoch 46/100\n",
      "64/64 [==============================] - 1s 17ms/step - loss: 0.0413 - val_loss: 0.0559\n",
      "Epoch 47/100\n",
      "64/64 [==============================] - 1s 18ms/step - loss: 0.0406 - val_loss: 0.0498\n",
      "Epoch 48/100\n",
      "64/64 [==============================] - 1s 17ms/step - loss: 0.0403 - val_loss: 0.0516\n",
      "Epoch 49/100\n",
      "64/64 [==============================] - 1s 17ms/step - loss: 0.0392 - val_loss: 0.0527\n",
      "Epoch 50/100\n",
      "64/64 [==============================] - 1s 17ms/step - loss: 0.0398 - val_loss: 0.0523\n",
      "Epoch 51/100\n",
      "64/64 [==============================] - 1s 17ms/step - loss: 0.0390 - val_loss: 0.0536\n",
      "Epoch 52/100\n",
      "64/64 [==============================] - 1s 17ms/step - loss: 0.0388 - val_loss: 0.0536\n",
      "Epoch 53/100\n",
      "64/64 [==============================] - 1s 18ms/step - loss: 0.0392 - val_loss: 0.0527\n",
      "Epoch 54/100\n",
      "64/64 [==============================] - 1s 18ms/step - loss: 0.0398 - val_loss: 0.0516\n",
      "Epoch 55/100\n",
      "64/64 [==============================] - 1s 18ms/step - loss: 0.0381 - val_loss: 0.0578\n",
      "Epoch 56/100\n",
      "64/64 [==============================] - 1s 18ms/step - loss: 0.0389 - val_loss: 0.0503\n",
      "Epoch 57/100\n",
      "64/64 [==============================] - 1s 18ms/step - loss: 0.0393 - val_loss: 0.0509\n",
      "Epoch 58/100\n",
      "64/64 [==============================] - 1s 18ms/step - loss: 0.0380 - val_loss: 0.0553\n",
      "Epoch 59/100\n",
      "64/64 [==============================] - 1s 17ms/step - loss: 0.0383 - val_loss: 0.0543\n",
      "Epoch 60/100\n",
      "64/64 [==============================] - 1s 18ms/step - loss: 0.0376 - val_loss: 0.0530\n",
      "Epoch 61/100\n",
      "64/64 [==============================] - 1s 17ms/step - loss: 0.0366 - val_loss: 0.0561\n",
      "Epoch 62/100\n",
      "64/64 [==============================] - 1s 17ms/step - loss: 0.0365 - val_loss: 0.0534\n",
      "Epoch 63/100\n",
      "64/64 [==============================] - 1s 17ms/step - loss: 0.0357 - val_loss: 0.0534\n",
      "Epoch 64/100\n",
      "64/64 [==============================] - 1s 17ms/step - loss: 0.0359 - val_loss: 0.0516\n",
      "Epoch 65/100\n",
      "64/64 [==============================] - 1s 17ms/step - loss: 0.0353 - val_loss: 0.0528\n",
      "Epoch 66/100\n",
      "64/64 [==============================] - 1s 18ms/step - loss: 0.0348 - val_loss: 0.0523\n",
      "Epoch 67/100\n",
      "64/64 [==============================] - 1s 18ms/step - loss: 0.0344 - val_loss: 0.0543\n",
      "Epoch 68/100\n",
      "64/64 [==============================] - 1s 18ms/step - loss: 0.0346 - val_loss: 0.0553\n",
      "Epoch 69/100\n",
      "64/64 [==============================] - 1s 18ms/step - loss: 0.0349 - val_loss: 0.0544\n",
      "Epoch 70/100\n",
      "64/64 [==============================] - 1s 18ms/step - loss: 0.0339 - val_loss: 0.0514\n",
      "Epoch 71/100\n",
      "64/64 [==============================] - 1s 18ms/step - loss: 0.0340 - val_loss: 0.0568\n",
      "Epoch 72/100\n",
      "64/64 [==============================] - 1s 18ms/step - loss: 0.0327 - val_loss: 0.0543\n",
      "Epoch 73/100\n",
      "64/64 [==============================] - 1s 18ms/step - loss: 0.0332 - val_loss: 0.0524\n",
      "Epoch 74/100\n",
      "64/64 [==============================] - 1s 17ms/step - loss: 0.0334 - val_loss: 0.0530\n",
      "Epoch 75/100\n",
      "64/64 [==============================] - 1s 18ms/step - loss: 0.0322 - val_loss: 0.0543\n",
      "Epoch 76/100\n",
      "64/64 [==============================] - 1s 18ms/step - loss: 0.0328 - val_loss: 0.0551\n",
      "Epoch 77/100\n",
      "64/64 [==============================] - 1s 18ms/step - loss: 0.0311 - val_loss: 0.0540\n",
      "Epoch 78/100\n",
      "64/64 [==============================] - 1s 18ms/step - loss: 0.0316 - val_loss: 0.0549\n",
      "Epoch 79/100\n",
      "64/64 [==============================] - 1s 18ms/step - loss: 0.0312 - val_loss: 0.0567\n",
      "Epoch 80/100\n",
      "64/64 [==============================] - 1s 18ms/step - loss: 0.0309 - val_loss: 0.0542\n",
      "Epoch 81/100\n",
      "64/64 [==============================] - 1s 19ms/step - loss: 0.0310 - val_loss: 0.0578\n",
      "Epoch 82/100\n"
     ]
    },
    {
     "name": "stdout",
     "output_type": "stream",
     "text": [
      "64/64 [==============================] - 1s 18ms/step - loss: 0.0300 - val_loss: 0.0591\n",
      "Epoch 83/100\n",
      "64/64 [==============================] - 1s 17ms/step - loss: 0.0302 - val_loss: 0.0549\n",
      "Epoch 84/100\n",
      "64/64 [==============================] - 1s 17ms/step - loss: 0.0295 - val_loss: 0.0591\n",
      "Epoch 85/100\n",
      "64/64 [==============================] - 1s 17ms/step - loss: 0.0297 - val_loss: 0.0589\n",
      "Epoch 86/100\n",
      "64/64 [==============================] - 1s 17ms/step - loss: 0.0289 - val_loss: 0.0556\n",
      "Epoch 87/100\n",
      "64/64 [==============================] - 1s 17ms/step - loss: 0.0280 - val_loss: 0.0566\n",
      "Epoch 88/100\n",
      "64/64 [==============================] - 1s 17ms/step - loss: 0.0303 - val_loss: 0.0559\n",
      "Epoch 89/100\n",
      "64/64 [==============================] - 1s 17ms/step - loss: 0.0285 - val_loss: 0.0546\n",
      "Epoch 90/100\n",
      "64/64 [==============================] - 1s 17ms/step - loss: 0.0272 - val_loss: 0.0569\n",
      "Epoch 91/100\n",
      "64/64 [==============================] - 1s 17ms/step - loss: 0.0268 - val_loss: 0.0601\n",
      "Epoch 92/100\n",
      "64/64 [==============================] - 1s 18ms/step - loss: 0.0270 - val_loss: 0.0584\n",
      "Epoch 93/100\n",
      "64/64 [==============================] - 1s 17ms/step - loss: 0.0269 - val_loss: 0.0567\n",
      "Epoch 94/100\n",
      "64/64 [==============================] - 1s 17ms/step - loss: 0.0265 - val_loss: 0.0578\n",
      "Epoch 95/100\n",
      "64/64 [==============================] - 1s 18ms/step - loss: 0.0259 - val_loss: 0.0574\n",
      "Epoch 96/100\n",
      "64/64 [==============================] - 1s 17ms/step - loss: 0.0275 - val_loss: 0.0630\n",
      "Epoch 97/100\n",
      "64/64 [==============================] - 1s 18ms/step - loss: 0.0260 - val_loss: 0.0593\n",
      "Epoch 98/100\n",
      "64/64 [==============================] - 1s 18ms/step - loss: 0.0248 - val_loss: 0.0593\n",
      "Epoch 99/100\n",
      "64/64 [==============================] - 1s 18ms/step - loss: 0.0248 - val_loss: 0.0590\n",
      "Epoch 100/100\n",
      "64/64 [==============================] - 1s 18ms/step - loss: 0.0241 - val_loss: 0.0623\n"
     ]
    }
   ],
   "source": [
    "# 7.8 SimpleRNN 네트워크 학습\n",
    "X = np.array(X)\n",
    "Y = np.array(Y)\n",
    "# 2560개의 데이터만 학습시킵니다. validation 데이터는 20% 로 지정합니다.\n",
    "history = model.fit(X[:2560],Y[:2560],epochs=100, validation_split=0.2)"
   ]
  },
  {
   "cell_type": "code",
   "execution_count": 14,
   "metadata": {
    "colab": {
     "base_uri": "https://localhost:8080/",
     "height": 283
    },
    "colab_type": "code",
    "executionInfo": {
     "elapsed": 1323,
     "status": "ok",
     "timestamp": 1565020968714,
     "user": {
      "displayName": "Hwanhee Kim",
      "photoUrl": "https://lh6.googleusercontent.com/-nodxsDvEvZo/AAAAAAAAAAI/AAAAAAAABHE/Ybrj2myvr5Q/s64/photo.jpg",
      "userId": "04863080312902369470"
     },
     "user_tz": -540
    },
    "id": "3EiSvd5rOsIV",
    "outputId": "5b51499b-b5cd-4a94-b733-424f4e46faeb"
   },
   "outputs": [
    {
     "data": {
      "image/png": "[encoded data removed]",
      "text/plain": [
       "<Figure size 432x288 with 1 Axes>"
      ]
     },
     "metadata": {
      "needs_background": "light"
     },
     "output_type": "display_data"
    }
   ],
   "source": [
    "# 7.9 SimpleRNN 네트워크 학습 결과 확인\n",
    "import matplotlib.pyplot as plt\n",
    "plt.plot(history.history['loss'], 'b-', label='loss')\n",
    "plt.plot(history.history['val_loss'], 'r--', label='val_loss')\n",
    "plt.xlabel('Epoch')\n",
    "plt.legend()\n",
    "plt.show()"
   ]
  },
  {
   "cell_type": "code",
   "execution_count": 15,
   "metadata": {
    "colab": {
     "base_uri": "https://localhost:8080/",
     "height": 143
    },
    "colab_type": "code",
    "executionInfo": {
     "elapsed": 3140,
     "status": "ok",
     "timestamp": 1565020973154,
     "user": {
      "displayName": "Hwanhee Kim",
      "photoUrl": "https://lh6.googleusercontent.com/-nodxsDvEvZo/AAAAAAAAAAI/AAAAAAAABHE/Ybrj2myvr5Q/s64/photo.jpg",
      "userId": "04863080312902369470"
     },
     "user_tz": -540
    },
    "id": "g5OnirteOyut",
    "outputId": "09b4541d-aa7e-4906-b950-b119ac841168"
   },
   "outputs": [
    {
     "name": "stdout",
     "output_type": "stream",
     "text": [
      "14/14 [==============================] - 0s 6ms/step - loss: 0.0621\n",
      "0.5495745943430808 \t 0.02929364 \tdiff: 0.520280954757705\n",
      "0.25035874774716044 \t 0.46635133 \tdiff: 0.21599258253314352\n",
      "0.4944867840626954 \t 0.042179517 \tdiff: 0.45230726661474696\n",
      "0.13015757454184348 \t 0.25854847 \tdiff: 0.12839089380952065\n",
      "0.07682973395632361 \t 0.48501295 \tdiff: 0.40818321455670736\n",
      "correctness: 12.272727272727273 %\n"
     ]
    }
   ],
   "source": [
    "# 7.10 Test 데이터에 대한 예측 정확도 확인\n",
    "model.evaluate(X[2560:], Y[2560:])\n",
    "prediction = model.predict(X[2560:2560+5])\n",
    "\n",
    "\n",
    "# 5개 테스트 데이터에 대한 예측을 표시합니다.\n",
    "for i in range(5):\n",
    "    print(Y[2560+i], '\\t', prediction[i][0], '\\tdiff:', abs(prediction[i][0] - Y[2560+i]))\n",
    "    \n",
    "prediction = model.predict(X[2560:])\n",
    "fail = 0\n",
    "for i in range(len(prediction)):\n",
    "    # 오차가 0.04 이상이면 오답입니다.\n",
    "    if abs(prediction[i][0] - Y[2560+i]) > 0.04:\n",
    "        fail += 1\n",
    "print('correctness:', (440 - fail) / 440 * 100, '%')"
   ]
  },
  {
   "cell_type": "code",
   "execution_count": 16,
   "metadata": {
    "colab": {
     "base_uri": "https://localhost:8080/",
     "height": 325
    },
    "colab_type": "code",
    "executionInfo": {
     "elapsed": 1051,
     "status": "ok",
     "timestamp": 1565420214041,
     "user": {
      "displayName": "Hwanhee Kim",
      "photoUrl": "https://lh6.googleusercontent.com/-nodxsDvEvZo/AAAAAAAAAAI/AAAAAAAABHE/Ybrj2myvr5Q/s64/photo.jpg",
      "userId": "04863080312902369470"
     },
     "user_tz": -540
    },
    "id": "6o1z24gWIe4B",
    "outputId": "7124a02f-34bb-4114-8b9e-d8168c576e7d"
   },
   "outputs": [
    {
     "name": "stdout",
     "output_type": "stream",
     "text": [
      "Model: \"sequential_2\"\n",
      "_________________________________________________________________\n",
      "Layer (type)                 Output Shape              Param #   \n",
      "=================================================================\n",
      "lstm (LSTM)                  (None, 100, 30)           3960      \n",
      "_________________________________________________________________\n",
      "lstm_1 (LSTM)                (None, 30)                7320      \n",
      "_________________________________________________________________\n",
      "dense_2 (Dense)              (None, 1)                 31        \n",
      "=================================================================\n",
      "Total params: 11,311\n",
      "Trainable params: 11,311\n",
      "Non-trainable params: 0\n",
      "_________________________________________________________________\n"
     ]
    }
   ],
   "source": [
    "# 7.11 LSTM 레이어를 사용한 곱셈 문제 모델 정의\n",
    "model = tf.keras.Sequential([\n",
    "    tf.keras.layers.LSTM(units=30, return_sequences=True, input_shape=[100,2]),\n",
    "    tf.keras.layers.LSTM(units=30),\n",
    "    tf.keras.layers.Dense(1)\n",
    "])\n",
    "model.compile(optimizer=\"adam\",\n",
    "              loss=\"mse\")\n",
    "model.summary()"
   ]
  },
  {
   "cell_type": "code",
   "execution_count": 17,
   "metadata": {
    "colab": {
     "base_uri": "https://localhost:8080/",
     "height": 1000
    },
    "colab_type": "code",
    "executionInfo": {
     "elapsed": 285145,
     "status": "ok",
     "timestamp": 1565249375352,
     "user": {
      "displayName": "Hwanhee Kim",
      "photoUrl": "https://lh6.googleusercontent.com/-nodxsDvEvZo/AAAAAAAAAAI/AAAAAAAABHE/Ybrj2myvr5Q/s64/photo.jpg",
      "userId": "04863080312902369470"
     },
     "user_tz": -540
    },
    "id": "XavhYhX4Imax",
    "outputId": "d6f20c85-3fdd-4115-fbfc-56a91ef82c4f",
    "scrolled": true
   },
   "outputs": [
    {
     "name": "stdout",
     "output_type": "stream",
     "text": [
      "Epoch 1/100\n",
      "64/64 [==============================] - 2s 37ms/step - loss: 0.0573 - val_loss: 0.0468\n",
      "Epoch 2/100\n",
      "64/64 [==============================] - 2s 29ms/step - loss: 0.0496 - val_loss: 0.0466\n",
      "Epoch 3/100\n",
      "64/64 [==============================] - 2s 29ms/step - loss: 0.0495 - val_loss: 0.0478\n",
      "Epoch 4/100\n",
      "64/64 [==============================] - 2s 29ms/step - loss: 0.0494 - val_loss: 0.0467\n",
      "Epoch 5/100\n",
      "64/64 [==============================] - 2s 31ms/step - loss: 0.0496 - val_loss: 0.0467\n",
      "Epoch 6/100\n",
      "64/64 [==============================] - 2s 29ms/step - loss: 0.0498 - val_loss: 0.0467\n",
      "Epoch 7/100\n",
      "64/64 [==============================] - 2s 29ms/step - loss: 0.0494 - val_loss: 0.0476\n",
      "Epoch 8/100\n",
      "64/64 [==============================] - 2s 29ms/step - loss: 0.0496 - val_loss: 0.0465\n",
      "Epoch 9/100\n",
      "64/64 [==============================] - 2s 29ms/step - loss: 0.0494 - val_loss: 0.0472\n",
      "Epoch 10/100\n",
      "64/64 [==============================] - 2s 29ms/step - loss: 0.0494 - val_loss: 0.0465\n",
      "Epoch 11/100\n",
      "64/64 [==============================] - 2s 29ms/step - loss: 0.0492 - val_loss: 0.0469\n",
      "Epoch 12/100\n",
      "64/64 [==============================] - 2s 29ms/step - loss: 0.0493 - val_loss: 0.0464\n",
      "Epoch 13/100\n",
      "64/64 [==============================] - 2s 30ms/step - loss: 0.0490 - val_loss: 0.0470\n",
      "Epoch 14/100\n",
      "64/64 [==============================] - 2s 29ms/step - loss: 0.0492 - val_loss: 0.0463\n",
      "Epoch 15/100\n",
      "64/64 [==============================] - 2s 29ms/step - loss: 0.0494 - val_loss: 0.0464\n",
      "Epoch 16/100\n",
      "64/64 [==============================] - 2s 29ms/step - loss: 0.0490 - val_loss: 0.0472\n",
      "Epoch 17/100\n",
      "64/64 [==============================] - 2s 29ms/step - loss: 0.0489 - val_loss: 0.0462\n",
      "Epoch 18/100\n",
      "64/64 [==============================] - 2s 29ms/step - loss: 0.0490 - val_loss: 0.0462\n",
      "Epoch 19/100\n",
      "64/64 [==============================] - 2s 31ms/step - loss: 0.0488 - val_loss: 0.0459\n",
      "Epoch 20/100\n",
      "64/64 [==============================] - 2s 29ms/step - loss: 0.0489 - val_loss: 0.0462\n",
      "Epoch 21/100\n",
      "64/64 [==============================] - 2s 30ms/step - loss: 0.0487 - val_loss: 0.0459\n",
      "Epoch 22/100\n",
      "64/64 [==============================] - 2s 29ms/step - loss: 0.0484 - val_loss: 0.0451\n",
      "Epoch 23/100\n",
      "64/64 [==============================] - 2s 29ms/step - loss: 0.0484 - val_loss: 0.0457\n",
      "Epoch 24/100\n",
      "64/64 [==============================] - 2s 29ms/step - loss: 0.0468 - val_loss: 0.0414\n",
      "Epoch 25/100\n",
      "64/64 [==============================] - 2s 29ms/step - loss: 0.0425 - val_loss: 0.0264\n",
      "Epoch 26/100\n",
      "64/64 [==============================] - 2s 29ms/step - loss: 0.0265 - val_loss: 0.0141\n",
      "Epoch 27/100\n",
      "64/64 [==============================] - 2s 30ms/step - loss: 0.0134 - val_loss: 0.0083\n",
      "Epoch 28/100\n",
      "64/64 [==============================] - 2s 29ms/step - loss: 0.0089 - val_loss: 0.0057\n",
      "Epoch 29/100\n",
      "64/64 [==============================] - 2s 29ms/step - loss: 0.0070 - val_loss: 0.0127\n",
      "Epoch 30/100\n",
      "64/64 [==============================] - 2s 30ms/step - loss: 0.0060 - val_loss: 0.0034\n",
      "Epoch 31/100\n",
      "64/64 [==============================] - 2s 29ms/step - loss: 0.0048 - val_loss: 0.0041\n",
      "Epoch 32/100\n",
      "64/64 [==============================] - 2s 29ms/step - loss: 0.0041 - val_loss: 0.0022\n",
      "Epoch 33/100\n",
      "64/64 [==============================] - 2s 29ms/step - loss: 0.0029 - val_loss: 0.0037\n",
      "Epoch 34/100\n",
      "64/64 [==============================] - 2s 29ms/step - loss: 0.0025 - val_loss: 0.0019\n",
      "Epoch 35/100\n",
      "64/64 [==============================] - 2s 29ms/step - loss: 0.0022 - val_loss: 0.0016\n",
      "Epoch 36/100\n",
      "64/64 [==============================] - 2s 29ms/step - loss: 0.0026 - val_loss: 0.0022\n",
      "Epoch 37/100\n",
      "64/64 [==============================] - 2s 29ms/step - loss: 0.0017 - val_loss: 0.0015\n",
      "Epoch 38/100\n",
      "64/64 [==============================] - 2s 31ms/step - loss: 0.0022 - val_loss: 0.0018\n",
      "Epoch 39/100\n",
      "64/64 [==============================] - 2s 29ms/step - loss: 0.0018 - val_loss: 0.0015\n",
      "Epoch 40/100\n",
      "64/64 [==============================] - 2s 29ms/step - loss: 0.0017 - val_loss: 0.0032\n",
      "Epoch 41/100\n",
      "64/64 [==============================] - 2s 29ms/step - loss: 0.0021 - val_loss: 0.0032\n",
      "Epoch 42/100\n",
      "64/64 [==============================] - 2s 29ms/step - loss: 0.0023 - val_loss: 0.0013\n",
      "Epoch 43/100\n",
      "64/64 [==============================] - 2s 29ms/step - loss: 0.0016 - val_loss: 0.0014\n",
      "Epoch 44/100\n",
      "64/64 [==============================] - 2s 29ms/step - loss: 0.0018 - val_loss: 0.0015\n",
      "Epoch 45/100\n",
      "64/64 [==============================] - 2s 29ms/step - loss: 0.0017 - val_loss: 0.0011\n",
      "Epoch 46/100\n",
      "64/64 [==============================] - 2s 29ms/step - loss: 0.0011 - val_loss: 0.0017\n",
      "Epoch 47/100\n",
      "64/64 [==============================] - 2s 30ms/step - loss: 0.0015 - val_loss: 0.0039\n",
      "Epoch 48/100\n",
      "64/64 [==============================] - 2s 29ms/step - loss: 0.0012 - val_loss: 0.0011\n",
      "Epoch 49/100\n",
      "64/64 [==============================] - 2s 29ms/step - loss: 0.0013 - val_loss: 0.0013\n",
      "Epoch 50/100\n",
      "64/64 [==============================] - 2s 29ms/step - loss: 0.0014 - val_loss: 9.3638e-04\n",
      "Epoch 51/100\n",
      "64/64 [==============================] - 2s 29ms/step - loss: 0.0013 - val_loss: 0.0013\n",
      "Epoch 52/100\n",
      "64/64 [==============================] - 2s 30ms/step - loss: 0.0010 - val_loss: 0.0010\n",
      "Epoch 53/100\n",
      "64/64 [==============================] - 2s 29ms/step - loss: 8.2658e-04 - val_loss: 0.0014\n",
      "Epoch 54/100\n",
      "64/64 [==============================] - 2s 29ms/step - loss: 7.9341e-04 - val_loss: 6.9588e-04\n",
      "Epoch 55/100\n",
      "64/64 [==============================] - 2s 30ms/step - loss: 7.5181e-04 - val_loss: 6.9571e-04\n",
      "Epoch 56/100\n",
      "64/64 [==============================] - 2s 29ms/step - loss: 8.3592e-04 - val_loss: 0.0013\n",
      "Epoch 57/100\n",
      "64/64 [==============================] - 2s 29ms/step - loss: 0.0010 - val_loss: 7.3944e-04\n",
      "Epoch 58/100\n",
      "64/64 [==============================] - 2s 29ms/step - loss: 7.6799e-04 - val_loss: 0.0015\n",
      "Epoch 59/100\n",
      "64/64 [==============================] - 2s 29ms/step - loss: 8.4107e-04 - val_loss: 8.4770e-04\n",
      "Epoch 60/100\n",
      "64/64 [==============================] - 2s 29ms/step - loss: 6.3823e-04 - val_loss: 7.5886e-04\n",
      "Epoch 61/100\n",
      "64/64 [==============================] - 2s 29ms/step - loss: 5.5605e-04 - val_loss: 5.6348e-04\n",
      "Epoch 62/100\n",
      "64/64 [==============================] - 2s 29ms/step - loss: 6.0455e-04 - val_loss: 9.5732e-04\n",
      "Epoch 63/100\n",
      "64/64 [==============================] - 2s 29ms/step - loss: 6.1985e-04 - val_loss: 7.2389e-04\n",
      "Epoch 64/100\n",
      "64/64 [==============================] - 2s 29ms/step - loss: 5.6708e-04 - val_loss: 5.4613e-04\n",
      "Epoch 65/100\n",
      "64/64 [==============================] - 2s 29ms/step - loss: 6.1741e-04 - val_loss: 4.5561e-04\n",
      "Epoch 66/100\n",
      "64/64 [==============================] - 2s 29ms/step - loss: 5.7545e-04 - val_loss: 4.7629e-04\n",
      "Epoch 67/100\n",
      "64/64 [==============================] - 2s 29ms/step - loss: 8.6471e-04 - val_loss: 0.0011\n",
      "Epoch 68/100\n",
      "64/64 [==============================] - 2s 29ms/step - loss: 6.2931e-04 - val_loss: 5.7582e-04\n",
      "Epoch 69/100\n",
      "64/64 [==============================] - 2s 29ms/step - loss: 5.4729e-04 - val_loss: 6.4788e-04\n",
      "Epoch 70/100\n",
      "64/64 [==============================] - 2s 29ms/step - loss: 7.1845e-04 - val_loss: 6.3210e-04\n",
      "Epoch 71/100\n",
      "64/64 [==============================] - 2s 29ms/step - loss: 4.4674e-04 - val_loss: 6.4580e-04\n",
      "Epoch 72/100\n",
      "64/64 [==============================] - 2s 31ms/step - loss: 5.5034e-04 - val_loss: 4.7556e-04\n",
      "Epoch 73/100\n",
      "64/64 [==============================] - 2s 29ms/step - loss: 9.8063e-04 - val_loss: 8.4953e-04\n",
      "Epoch 74/100\n",
      "64/64 [==============================] - 2s 29ms/step - loss: 5.6539e-04 - val_loss: 4.5283e-04\n",
      "Epoch 75/100\n",
      "64/64 [==============================] - 2s 29ms/step - loss: 8.2601e-04 - val_loss: 5.5509e-04\n",
      "Epoch 76/100\n",
      "64/64 [==============================] - 2s 29ms/step - loss: 4.4693e-04 - val_loss: 4.2725e-04\n",
      "Epoch 77/100\n",
      "64/64 [==============================] - 2s 29ms/step - loss: 5.9618e-04 - val_loss: 4.1310e-04\n",
      "Epoch 78/100\n",
      "64/64 [==============================] - 2s 29ms/step - loss: 4.4457e-04 - val_loss: 4.0682e-04\n",
      "Epoch 79/100\n",
      "64/64 [==============================] - 2s 29ms/step - loss: 4.7361e-04 - val_loss: 9.2213e-04\n",
      "Epoch 80/100\n"
     ]
    },
    {
     "name": "stdout",
     "output_type": "stream",
     "text": [
      "64/64 [==============================] - 2s 30ms/step - loss: 5.2982e-04 - val_loss: 6.5927e-04\n",
      "Epoch 81/100\n",
      "64/64 [==============================] - 2s 29ms/step - loss: 3.5474e-04 - val_loss: 5.5111e-04\n",
      "Epoch 82/100\n",
      "64/64 [==============================] - 2s 29ms/step - loss: 5.2626e-04 - val_loss: 3.8648e-04\n",
      "Epoch 83/100\n",
      "64/64 [==============================] - 2s 29ms/step - loss: 4.3624e-04 - val_loss: 5.4903e-04\n",
      "Epoch 84/100\n",
      "64/64 [==============================] - 2s 29ms/step - loss: 5.2998e-04 - val_loss: 4.5376e-04\n",
      "Epoch 85/100\n",
      "64/64 [==============================] - 2s 29ms/step - loss: 4.7528e-04 - val_loss: 3.6981e-04\n",
      "Epoch 86/100\n",
      "64/64 [==============================] - 2s 29ms/step - loss: 5.0468e-04 - val_loss: 4.9441e-04\n",
      "Epoch 87/100\n",
      "64/64 [==============================] - 2s 29ms/step - loss: 2.7947e-04 - val_loss: 5.7874e-04\n",
      "Epoch 88/100\n",
      "64/64 [==============================] - 2s 29ms/step - loss: 3.6551e-04 - val_loss: 2.9901e-04\n",
      "Epoch 89/100\n",
      "64/64 [==============================] - 2s 30ms/step - loss: 3.1895e-04 - val_loss: 4.6752e-04\n",
      "Epoch 90/100\n",
      "64/64 [==============================] - 2s 29ms/step - loss: 3.2495e-04 - val_loss: 7.8496e-04\n",
      "Epoch 91/100\n",
      "64/64 [==============================] - 2s 29ms/step - loss: 3.0913e-04 - val_loss: 3.6757e-04\n",
      "Epoch 92/100\n",
      "64/64 [==============================] - 2s 29ms/step - loss: 3.9289e-04 - val_loss: 8.3535e-04\n",
      "Epoch 93/100\n",
      "64/64 [==============================] - 2s 29ms/step - loss: 3.9941e-04 - val_loss: 3.1955e-04\n",
      "Epoch 94/100\n",
      "64/64 [==============================] - 2s 29ms/step - loss: 3.1090e-04 - val_loss: 4.4212e-04\n",
      "Epoch 95/100\n",
      "64/64 [==============================] - 2s 29ms/step - loss: 3.2541e-04 - val_loss: 3.8907e-04\n",
      "Epoch 96/100\n",
      "64/64 [==============================] - 2s 30ms/step - loss: 6.3533e-04 - val_loss: 0.0016\n",
      "Epoch 97/100\n",
      "64/64 [==============================] - 2s 31ms/step - loss: 6.9997e-04 - val_loss: 0.0011\n",
      "Epoch 98/100\n",
      "64/64 [==============================] - 2s 29ms/step - loss: 5.0949e-04 - val_loss: 0.0014\n",
      "Epoch 99/100\n",
      "64/64 [==============================] - 2s 29ms/step - loss: 5.0033e-04 - val_loss: 2.8101e-04\n",
      "Epoch 100/100\n",
      "64/64 [==============================] - 2s 29ms/step - loss: 3.3587e-04 - val_loss: 3.9961e-04\n"
     ]
    }
   ],
   "source": [
    "# 7.12 LSTM 네트워크 학습\n",
    "X = np.array(X)\n",
    "Y = np.array(Y)\n",
    "history = model.fit(X[:2560], Y[:2560], epochs=100, validation_split=0.2)"
   ]
  },
  {
   "cell_type": "code",
   "execution_count": 18,
   "metadata": {
    "colab": {
     "base_uri": "https://localhost:8080/",
     "height": 283
    },
    "colab_type": "code",
    "executionInfo": {
     "elapsed": 80481,
     "status": "ok",
     "timestamp": 1565015931206,
     "user": {
      "displayName": "Hwanhee Kim",
      "photoUrl": "https://lh6.googleusercontent.com/-nodxsDvEvZo/AAAAAAAAAAI/AAAAAAAABHE/Ybrj2myvr5Q/s64/photo.jpg",
      "userId": "04863080312902369470"
     },
     "user_tz": -540
    },
    "id": "NJSlA-z7NRHE",
    "outputId": "7a17b10f-139b-4afc-be65-a70dd039bf30"
   },
   "outputs": [
    {
     "data": {
      "image/png": "[encoded data removed]",
      "text/plain": [
       "<Figure size 432x288 with 1 Axes>"
      ]
     },
     "metadata": {
      "needs_background": "light"
     },
     "output_type": "display_data"
    }
   ],
   "source": [
    "# 7.13 LSTM 네트워크 학습 결과 확인\n",
    "import matplotlib.pyplot as plt\n",
    "plt.plot(history.history['loss'], 'b-', label='loss')\n",
    "plt.plot(history.history['val_loss'], 'r--', label='val_loss')\n",
    "plt.xlabel('Epoch')\n",
    "plt.legend()\n",
    "plt.show()"
   ]
  },
  {
   "cell_type": "code",
   "execution_count": 19,
   "metadata": {
    "colab": {
     "base_uri": "https://localhost:8080/",
     "height": 143
    },
    "colab_type": "code",
    "executionInfo": {
     "elapsed": 761,
     "status": "ok",
     "timestamp": 1565016079805,
     "user": {
      "displayName": "Hwanhee Kim",
      "photoUrl": "https://lh6.googleusercontent.com/-nodxsDvEvZo/AAAAAAAAAAI/AAAAAAAABHE/Ybrj2myvr5Q/s64/photo.jpg",
      "userId": "04863080312902369470"
     },
     "user_tz": -540
    },
    "id": "Ob1VbaYzJCWa",
    "outputId": "74c30022-c570-4a34-ecc9-4e964573e661"
   },
   "outputs": [
    {
     "name": "stdout",
     "output_type": "stream",
     "text": [
      "14/14 [==============================] - 0s 10ms/step - loss: 3.2597e-04\n",
      "0.5495745943430808 \t 0.52473235 \tdiff: 0.024842243039980172\n",
      "0.25035874774716044 \t 0.24051967 \tdiff: 0.00983907511494303\n",
      "0.4944867840626954 \t 0.4872463 \tdiff: 0.007240479312252912\n",
      "0.13015757454184348 \t 0.119367294 \tdiff: 0.010790280528343271\n",
      "0.07682973395632361 \t 0.07601997 \tdiff: 0.0008097613935336978\n",
      "correctness: 95.45454545454545 %\n"
     ]
    }
   ],
   "source": [
    "# 7.14 Test 데이터에 대한 예측 정확도 확인\n",
    "model.evaluate(X[2560:], Y[2560:])\n",
    "prediction = model.predict(X[2560:2560+5])\n",
    "for i in range(5):\n",
    "    print(Y[2560+i], '\\t', prediction[i][0], '\\tdiff:', abs(prediction[i][0] - Y[2560+i]))\n",
    "    \n",
    "prediction = model.predict(X[2560:])\n",
    "cnt = 0\n",
    "for i in range(len(prediction)):\n",
    "    if abs(prediction[i][0] - Y[2560+i]) > 0.04:\n",
    "        cnt += 1\n",
    "print('correctness:', (440 - cnt) / 440 * 100, '%')"
   ]
  },
  {
   "cell_type": "markdown",
   "metadata": {
    "colab_type": "text",
    "id": "VxV7T14AvXkH"
   },
   "source": [
    "## 7.2.3 GRU 레이어"
   ]
  },
  {
   "cell_type": "code",
   "execution_count": 20,
   "metadata": {
    "colab": {
     "base_uri": "https://localhost:8080/",
     "height": 269
    },
    "colab_type": "code",
    "executionInfo": {
     "elapsed": 1059,
     "status": "ok",
     "timestamp": 1565420218129,
     "user": {
      "displayName": "Hwanhee Kim",
      "photoUrl": "https://lh6.googleusercontent.com/-nodxsDvEvZo/AAAAAAAAAAI/AAAAAAAABHE/Ybrj2myvr5Q/s64/photo.jpg",
      "userId": "04863080312902369470"
     },
     "user_tz": -540
    },
    "id": "8WjH-A0WvNAO",
    "outputId": "454743b1-553a-47ae-fe0e-c02ffa31d098"
   },
   "outputs": [
    {
     "name": "stdout",
     "output_type": "stream",
     "text": [
      "Model: \"sequential_3\"\n",
      "_________________________________________________________________\n",
      "Layer (type)                 Output Shape              Param #   \n",
      "=================================================================\n",
      "gru (GRU)                    (None, 100, 30)           3060      \n",
      "_________________________________________________________________\n",
      "gru_1 (GRU)                  (None, 30)                5580      \n",
      "_________________________________________________________________\n",
      "dense_3 (Dense)              (None, 1)                 31        \n",
      "=================================================================\n",
      "Total params: 8,671\n",
      "Trainable params: 8,671\n",
      "Non-trainable params: 0\n",
      "_________________________________________________________________\n"
     ]
    }
   ],
   "source": [
    "# 7.15 GRU 레이어를 사용한 곱셈 문제 모델 정의\n",
    "model = tf.keras.Sequential([\n",
    "    tf.keras.layers.GRU(units=30, return_sequences=True, input_shape=[100,2]),\n",
    "    tf.keras.layers.GRU(units=30),\n",
    "    tf.keras.layers.Dense(1)\n",
    "])\n",
    "model.compile(optimizer=\"adam\",\n",
    "              loss=\"mse\")\n",
    "model.summary()"
   ]
  },
  {
   "cell_type": "code",
   "execution_count": 21,
   "metadata": {
    "colab": {
     "base_uri": "https://localhost:8080/",
     "height": 1000
    },
    "colab_type": "code",
    "executionInfo": {
     "elapsed": 515269,
     "status": "ok",
     "timestamp": 1565249609835,
     "user": {
      "displayName": "Hwanhee Kim",
      "photoUrl": "https://lh6.googleusercontent.com/-nodxsDvEvZo/AAAAAAAAAAI/AAAAAAAABHE/Ybrj2myvr5Q/s64/photo.jpg",
      "userId": "04863080312902369470"
     },
     "user_tz": -540
    },
    "id": "vd6C4gvUvdQS",
    "outputId": "efd36828-7906-4dc2-c92d-197230073c83",
    "scrolled": true
   },
   "outputs": [
    {
     "name": "stdout",
     "output_type": "stream",
     "text": [
      "Epoch 1/100\n",
      "64/64 [==============================] - 2s 36ms/step - loss: 0.0516 - val_loss: 0.0478\n",
      "Epoch 2/100\n",
      "64/64 [==============================] - 2s 28ms/step - loss: 0.0502 - val_loss: 0.0478\n",
      "Epoch 3/100\n",
      "64/64 [==============================] - 2s 28ms/step - loss: 0.0500 - val_loss: 0.0471\n",
      "Epoch 4/100\n",
      "64/64 [==============================] - 2s 29ms/step - loss: 0.0494 - val_loss: 0.0473\n",
      "Epoch 5/100\n",
      "64/64 [==============================] - 2s 28ms/step - loss: 0.0496 - val_loss: 0.0467\n",
      "Epoch 6/100\n",
      "64/64 [==============================] - 2s 28ms/step - loss: 0.0492 - val_loss: 0.0466\n",
      "Epoch 7/100\n",
      "64/64 [==============================] - ETA: 0s - loss: 0.0491- ETA - 2s 27ms/step - loss: 0.0491 - val_loss: 0.0466\n",
      "Epoch 8/100\n",
      "64/64 [==============================] - 2s 27ms/step - loss: 0.0493 - val_loss: 0.0465\n",
      "Epoch 9/100\n",
      "64/64 [==============================] - 2s 27ms/step - loss: 0.0493 - val_loss: 0.0468\n",
      "Epoch 10/100\n",
      "64/64 [==============================] - 2s 29ms/step - loss: 0.0492 - val_loss: 0.0464\n",
      "Epoch 11/100\n",
      "64/64 [==============================] - 2s 27ms/step - loss: 0.0488 - val_loss: 0.0465\n",
      "Epoch 12/100\n",
      "64/64 [==============================] - 2s 27ms/step - loss: 0.0486 - val_loss: 0.0464\n",
      "Epoch 13/100\n",
      "64/64 [==============================] - 2s 28ms/step - loss: 0.0486 - val_loss: 0.0465\n",
      "Epoch 14/100\n",
      "64/64 [==============================] - 2s 28ms/step - loss: 0.0484 - val_loss: 0.0459\n",
      "Epoch 15/100\n",
      "64/64 [==============================] - 2s 27ms/step - loss: 0.0480 - val_loss: 0.0462\n",
      "Epoch 16/100\n",
      "64/64 [==============================] - 2s 28ms/step - loss: 0.0477 - val_loss: 0.0451\n",
      "Epoch 17/100\n",
      "64/64 [==============================] - 2s 27ms/step - loss: 0.0459 - val_loss: 0.0438\n",
      "Epoch 18/100\n",
      "64/64 [==============================] - 2s 28ms/step - loss: 0.0433 - val_loss: 0.0369\n",
      "Epoch 19/100\n",
      "64/64 [==============================] - 2s 28ms/step - loss: 0.0200 - val_loss: 0.0080\n",
      "Epoch 20/100\n",
      "64/64 [==============================] - 2s 28ms/step - loss: 0.0052 - val_loss: 0.0033\n",
      "Epoch 21/100\n",
      "64/64 [==============================] - 2s 28ms/step - loss: 0.0028 - val_loss: 0.0023\n",
      "Epoch 22/100\n",
      "64/64 [==============================] - 2s 28ms/step - loss: 0.0022 - val_loss: 0.0025\n",
      "Epoch 23/100\n",
      "64/64 [==============================] - 2s 28ms/step - loss: 0.0020 - val_loss: 0.0018\n",
      "Epoch 24/100\n",
      "64/64 [==============================] - 2s 28ms/step - loss: 0.0016 - val_loss: 0.0017\n",
      "Epoch 25/100\n",
      "64/64 [==============================] - 2s 27ms/step - loss: 0.0016 - val_loss: 0.0015\n",
      "Epoch 26/100\n",
      "64/64 [==============================] - 2s 27ms/step - loss: 0.0013 - val_loss: 0.0015\n",
      "Epoch 27/100\n",
      "64/64 [==============================] - 2s 28ms/step - loss: 0.0011 - val_loss: 0.0012\n",
      "Epoch 28/100\n",
      "64/64 [==============================] - 2s 28ms/step - loss: 0.0011 - val_loss: 0.0013\n",
      "Epoch 29/100\n",
      "64/64 [==============================] - 2s 27ms/step - loss: 0.0012 - val_loss: 0.0011\n",
      "Epoch 30/100\n",
      "64/64 [==============================] - 2s 27ms/step - loss: 8.9060e-04 - val_loss: 0.0012\n",
      "Epoch 31/100\n",
      "64/64 [==============================] - 2s 27ms/step - loss: 0.0012 - val_loss: 0.0013\n",
      "Epoch 32/100\n",
      "64/64 [==============================] - 2s 27ms/step - loss: 7.8267e-04 - val_loss: 8.7815e-04\n",
      "Epoch 33/100\n",
      "64/64 [==============================] - 2s 27ms/step - loss: 8.6905e-04 - val_loss: 0.0013\n",
      "Epoch 34/100\n",
      "64/64 [==============================] - 2s 27ms/step - loss: 7.0719e-04 - val_loss: 8.4122e-04\n",
      "Epoch 35/100\n",
      "64/64 [==============================] - 2s 28ms/step - loss: 5.8816e-04 - val_loss: 8.0398e-04\n",
      "Epoch 36/100\n",
      "64/64 [==============================] - 2s 28ms/step - loss: 6.0820e-04 - val_loss: 8.5683e-04\n",
      "Epoch 37/100\n",
      "64/64 [==============================] - 2s 28ms/step - loss: 6.2617e-04 - val_loss: 0.0010\n",
      "Epoch 38/100\n",
      "64/64 [==============================] - 2s 27ms/step - loss: 5.6806e-04 - val_loss: 8.0375e-04\n",
      "Epoch 39/100\n",
      "64/64 [==============================] - 2s 27ms/step - loss: 5.7456e-04 - val_loss: 7.3948e-04\n",
      "Epoch 40/100\n",
      "64/64 [==============================] - 2s 27ms/step - loss: 4.9648e-04 - val_loss: 6.7691e-04\n",
      "Epoch 41/100\n",
      "64/64 [==============================] - 2s 27ms/step - loss: 4.8690e-04 - val_loss: 6.2816e-04\n",
      "Epoch 42/100\n",
      "64/64 [==============================] - 2s 28ms/step - loss: 4.5449e-04 - val_loss: 6.7731e-04\n",
      "Epoch 43/100\n",
      "64/64 [==============================] - 2s 27ms/step - loss: 4.5928e-04 - val_loss: 9.2255e-04\n",
      "Epoch 44/100\n",
      "64/64 [==============================] - 2s 28ms/step - loss: 5.5711e-04 - val_loss: 5.6810e-04\n",
      "Epoch 45/100\n",
      "64/64 [==============================] - 2s 29ms/step - loss: 4.5316e-04 - val_loss: 4.9758e-04\n",
      "Epoch 46/100\n",
      "64/64 [==============================] - 2s 28ms/step - loss: 3.7983e-04 - val_loss: 4.7628e-04\n",
      "Epoch 47/100\n",
      "64/64 [==============================] - 2s 28ms/step - loss: 3.9391e-04 - val_loss: 6.0505e-04\n",
      "Epoch 48/100\n",
      "64/64 [==============================] - 2s 28ms/step - loss: 3.9269e-04 - val_loss: 4.9649e-04\n",
      "Epoch 49/100\n",
      "64/64 [==============================] - 2s 27ms/step - loss: 4.1555e-04 - val_loss: 5.4389e-04\n",
      "Epoch 50/100\n",
      "64/64 [==============================] - 2s 28ms/step - loss: 4.0553e-04 - val_loss: 0.0012\n",
      "Epoch 51/100\n",
      "64/64 [==============================] - 2s 28ms/step - loss: 4.4464e-04 - val_loss: 3.8531e-04\n",
      "Epoch 52/100\n",
      "64/64 [==============================] - 2s 28ms/step - loss: 3.8712e-04 - val_loss: 8.1543e-04\n",
      "Epoch 53/100\n",
      "64/64 [==============================] - 2s 28ms/step - loss: 3.6850e-04 - val_loss: 4.3695e-04\n",
      "Epoch 54/100\n",
      "64/64 [==============================] - 2s 29ms/step - loss: 2.9263e-04 - val_loss: 3.8949e-04\n",
      "Epoch 55/100\n",
      "64/64 [==============================] - 2s 28ms/step - loss: 2.9575e-04 - val_loss: 4.3555e-04\n",
      "Epoch 56/100\n",
      "64/64 [==============================] - 2s 28ms/step - loss: 3.0559e-04 - val_loss: 4.4796e-04\n",
      "Epoch 57/100\n",
      "64/64 [==============================] - 2s 28ms/step - loss: 2.8214e-04 - val_loss: 3.8879e-04\n",
      "Epoch 58/100\n",
      "64/64 [==============================] - 2s 28ms/step - loss: 2.5196e-04 - val_loss: 3.2652e-04\n",
      "Epoch 59/100\n",
      "64/64 [==============================] - 2s 28ms/step - loss: 3.3245e-04 - val_loss: 4.0896e-04\n",
      "Epoch 60/100\n",
      "64/64 [==============================] - 2s 28ms/step - loss: 2.4212e-04 - val_loss: 3.1568e-04\n",
      "Epoch 61/100\n",
      "64/64 [==============================] - 2s 28ms/step - loss: 3.1937e-04 - val_loss: 5.1613e-04\n",
      "Epoch 62/100\n",
      "64/64 [==============================] - 2s 28ms/step - loss: 2.8655e-04 - val_loss: 5.1476e-04\n",
      "Epoch 63/100\n",
      "64/64 [==============================] - 2s 30ms/step - loss: 2.9156e-04 - val_loss: 5.0791e-04\n",
      "Epoch 64/100\n",
      "64/64 [==============================] - 2s 27ms/step - loss: 2.3105e-04 - val_loss: 2.7817e-04\n",
      "Epoch 65/100\n",
      "64/64 [==============================] - 2s 28ms/step - loss: 2.6296e-04 - val_loss: 2.6348e-04\n",
      "Epoch 66/100\n",
      "64/64 [==============================] - 2s 28ms/step - loss: 2.2417e-04 - val_loss: 3.4070e-04\n",
      "Epoch 67/100\n",
      "64/64 [==============================] - 2s 27ms/step - loss: 2.9948e-04 - val_loss: 3.5619e-04\n",
      "Epoch 68/100\n",
      "64/64 [==============================] - 2s 27ms/step - loss: 2.2065e-04 - val_loss: 2.9183e-04\n",
      "Epoch 69/100\n",
      "64/64 [==============================] - 2s 27ms/step - loss: 2.0108e-04 - val_loss: 2.6596e-04\n",
      "Epoch 70/100\n",
      "64/64 [==============================] - 2s 27ms/step - loss: 1.9390e-04 - val_loss: 2.9133e-04\n",
      "Epoch 71/100\n",
      "64/64 [==============================] - 2s 27ms/step - loss: 2.4715e-04 - val_loss: 2.8887e-04\n",
      "Epoch 72/100\n",
      "64/64 [==============================] - 2s 29ms/step - loss: 1.9712e-04 - val_loss: 2.4321e-04\n",
      "Epoch 73/100\n",
      "64/64 [==============================] - 2s 27ms/step - loss: 2.4265e-04 - val_loss: 3.2745e-04\n",
      "Epoch 74/100\n",
      "64/64 [==============================] - 2s 27ms/step - loss: 2.0281e-04 - val_loss: 5.1794e-04\n",
      "Epoch 75/100\n",
      "64/64 [==============================] - 2s 27ms/step - loss: 1.8357e-04 - val_loss: 2.9947e-04\n",
      "Epoch 76/100\n",
      "64/64 [==============================] - 2s 27ms/step - loss: 2.1689e-04 - val_loss: 2.7600e-04\n",
      "Epoch 77/100\n",
      "64/64 [==============================] - 2s 28ms/step - loss: 1.7603e-04 - val_loss: 2.3482e-04\n",
      "Epoch 78/100\n"
     ]
    },
    {
     "name": "stdout",
     "output_type": "stream",
     "text": [
      "64/64 [==============================] - 2s 27ms/step - loss: 1.8401e-04 - val_loss: 4.2378e-04\n",
      "Epoch 79/100\n",
      "64/64 [==============================] - 2s 27ms/step - loss: 1.8642e-04 - val_loss: 2.3269e-04\n",
      "Epoch 80/100\n",
      "64/64 [==============================] - 2s 27ms/step - loss: 1.6635e-04 - val_loss: 2.6675e-04\n",
      "Epoch 81/100\n",
      "64/64 [==============================] - 2s 30ms/step - loss: 2.2986e-04 - val_loss: 5.4870e-04\n",
      "Epoch 82/100\n",
      "64/64 [==============================] - 2s 27ms/step - loss: 1.7221e-04 - val_loss: 2.2513e-04\n",
      "Epoch 83/100\n",
      "64/64 [==============================] - 2s 28ms/step - loss: 1.5158e-04 - val_loss: 2.1244e-04\n",
      "Epoch 84/100\n",
      "64/64 [==============================] - 2s 27ms/step - loss: 1.6768e-04 - val_loss: 2.5832e-04\n",
      "Epoch 85/100\n",
      "64/64 [==============================] - 2s 27ms/step - loss: 2.1931e-04 - val_loss: 2.1112e-04\n",
      "Epoch 86/100\n",
      "64/64 [==============================] - 2s 27ms/step - loss: 1.6743e-04 - val_loss: 1.9541e-04\n",
      "Epoch 87/100\n",
      "64/64 [==============================] - 2s 28ms/step - loss: 2.0547e-04 - val_loss: 2.8068e-04\n",
      "Epoch 88/100\n",
      "64/64 [==============================] - 2s 28ms/step - loss: 1.6808e-04 - val_loss: 1.7670e-04\n",
      "Epoch 89/100\n",
      "64/64 [==============================] - 2s 28ms/step - loss: 1.3546e-04 - val_loss: 2.5858e-04\n",
      "Epoch 90/100\n",
      "64/64 [==============================] - 2s 29ms/step - loss: 1.4194e-04 - val_loss: 2.0206e-04\n",
      "Epoch 91/100\n",
      "64/64 [==============================] - 2s 28ms/step - loss: 1.8873e-04 - val_loss: 3.3827e-04\n",
      "Epoch 92/100\n",
      "64/64 [==============================] - 2s 27ms/step - loss: 1.6075e-04 - val_loss: 1.7868e-04\n",
      "Epoch 93/100\n",
      "64/64 [==============================] - 2s 28ms/step - loss: 1.4548e-04 - val_loss: 2.2345e-04\n",
      "Epoch 94/100\n",
      "64/64 [==============================] - 2s 28ms/step - loss: 1.4977e-04 - val_loss: 3.1361e-04\n",
      "Epoch 95/100\n",
      "64/64 [==============================] - 2s 28ms/step - loss: 1.9190e-04 - val_loss: 1.9907e-04\n",
      "Epoch 96/100\n",
      "64/64 [==============================] - 2s 27ms/step - loss: 1.3555e-04 - val_loss: 1.9484e-04\n",
      "Epoch 97/100\n",
      "64/64 [==============================] - 2s 27ms/step - loss: 1.8990e-04 - val_loss: 1.8027e-04\n",
      "Epoch 98/100\n",
      "64/64 [==============================] - 2s 28ms/step - loss: 2.5506e-04 - val_loss: 2.0335e-04\n",
      "Epoch 99/100\n",
      "64/64 [==============================] - 2s 28ms/step - loss: 1.4125e-04 - val_loss: 1.6258e-04\n",
      "Epoch 100/100\n",
      "64/64 [==============================] - 2s 28ms/step - loss: 1.2405e-04 - val_loss: 1.8246e-04\n"
     ]
    }
   ],
   "source": [
    "# 7.16 GRU 네트워크 학습\n",
    "X = np.array(X)\n",
    "Y = np.array(Y)\n",
    "history = model.fit(X[:2560], Y[:2560], epochs=100, validation_split=0.2)"
   ]
  },
  {
   "cell_type": "code",
   "execution_count": 22,
   "metadata": {
    "colab": {
     "base_uri": "https://localhost:8080/",
     "height": 283
    },
    "colab_type": "code",
    "executionInfo": {
     "elapsed": 1853,
     "status": "ok",
     "timestamp": 1565176283841,
     "user": {
      "displayName": "Hwanhee Kim",
      "photoUrl": "https://lh6.googleusercontent.com/-nodxsDvEvZo/AAAAAAAAAAI/AAAAAAAABHE/Ybrj2myvr5Q/s64/photo.jpg",
      "userId": "04863080312902369470"
     },
     "user_tz": -540
    },
    "id": "-SHz_LHExkH3",
    "outputId": "89a43f72-ea39-450c-d88b-a7da9208e72a"
   },
   "outputs": [
    {
     "data": {
      "image/png": "[encoded data removed]",
      "text/plain": [
       "<Figure size 432x288 with 1 Axes>"
      ]
     },
     "metadata": {
      "needs_background": "light"
     },
     "output_type": "display_data"
    }
   ],
   "source": [
    "# 7.17 GRU 네트워크 학습 결과 확인\n",
    "import matplotlib.pyplot as plt\n",
    "plt.plot(history.history['loss'], 'b-', label='loss')\n",
    "plt.plot(history.history['val_loss'], 'r--', label='val_loss')\n",
    "plt.xlabel('Epoch')\n",
    "plt.legend()\n",
    "plt.show()"
   ]
  },
  {
   "cell_type": "code",
   "execution_count": 23,
   "metadata": {
    "colab": {
     "base_uri": "https://localhost:8080/",
     "height": 143
    },
    "colab_type": "code",
    "executionInfo": {
     "elapsed": 1717,
     "status": "ok",
     "timestamp": 1565176412723,
     "user": {
      "displayName": "Hwanhee Kim",
      "photoUrl": "https://lh6.googleusercontent.com/-nodxsDvEvZo/AAAAAAAAAAI/AAAAAAAABHE/Ybrj2myvr5Q/s64/photo.jpg",
      "userId": "04863080312902369470"
     },
     "user_tz": -540
    },
    "id": "JdecdSb0xkDj",
    "outputId": "8695a72f-4f0c-4fe0-f8ce-b4159ca249f4"
   },
   "outputs": [
    {
     "name": "stdout",
     "output_type": "stream",
     "text": [
      "14/14 [==============================] - 0s 9ms/step - loss: 1.5143e-04\n",
      "0.5495745943430808 \t 0.55037755 \tdiff: 0.0008029533978555214\n",
      "0.25035874774716044 \t 0.274123 \tdiff: 0.02376426527240133\n",
      "0.4944867840626954 \t 0.5003807 \tdiff: 0.005893910803485003\n",
      "0.13015757454184348 \t 0.13625972 \tdiff: 0.006102145187580038\n",
      "0.07682973395632361 \t 0.086997 \tdiff: 0.010167268406881341\n",
      "correctness: 99.54545454545455 %\n"
     ]
    }
   ],
   "source": [
    "# 7.18 Test 데이터에 대한 예측 정확도 확인\n",
    "model.evaluate(X[2560:], Y[2560:])\n",
    "prediction = model.predict(X[2560:2560+5])\n",
    "for i in range(5):\n",
    "    print(Y[2560+i], '\\t', prediction[i][0], '\\tdiff:', abs(prediction[i][0] - Y[2560+i]))\n",
    "    \n",
    "prediction = model.predict(X[2560:])\n",
    "cnt = 0\n",
    "for i in range(len(prediction)):\n",
    "    if abs(prediction[i][0] - Y[2560+i]) > 0.04:\n",
    "        cnt += 1\n",
    "print('correctness:', (440 - cnt) / 440 * 100, '%')"
   ]
  },
  {
   "cell_type": "markdown",
   "metadata": {
    "colab_type": "text",
    "id": "b4rFl018T7Py"
   },
   "source": [
    "# 7.3 긍정, 부정 감성 분석"
   ]
  },
  {
   "cell_type": "code",
   "execution_count": 24,
   "metadata": {
    "colab": {
     "base_uri": "https://localhost:8080/",
     "height": 89
    },
    "colab_type": "code",
    "executionInfo": {
     "elapsed": 7711,
     "status": "ok",
     "timestamp": 1575820930037,
     "user": {
      "displayName": "Hwanhee Kim",
      "photoUrl": "https://lh3.googleusercontent.com/a-/AAuE7mAJC9PPBoQ91glDwFjxm3TlW5EqGy0BIAJ52D-ekw=s64",
      "userId": "04863080312902369470"
     },
     "user_tz": -540
    },
    "id": "srjpifEqUAx3",
    "outputId": "512b0ae7-097f-4760-8a38-eb0c145d7c4c"
   },
   "outputs": [
    {
     "name": "stdout",
     "output_type": "stream",
     "text": [
      "Downloading data from https://raw.githubusercontent.com/e9t/nsmc/master/ratings_train.txt\n",
      "14630912/14628807 [==============================] - 3s 0us/step\n",
      "Downloading data from https://raw.githubusercontent.com/e9t/nsmc/master/ratings_test.txt\n",
      "4898816/4893335 [==============================] - 1s 0us/step\n"
     ]
    }
   ],
   "source": [
    "# 7.19 Naver Sentiment Movie Corpus v1.0 다운로드\n",
    "path_to_train_file = tf.keras.utils.get_file('train.txt', 'https://raw.githubusercontent.com/e9t/nsmc/master/ratings_train.txt')\n",
    "path_to_test_file = tf.keras.utils.get_file('test.txt', 'https://raw.githubusercontent.com/e9t/nsmc/master/ratings_test.txt')"
   ]
  },
  {
   "cell_type": "code",
   "execution_count": 3,
   "metadata": {
    "colab": {
     "base_uri": "https://localhost:8080/",
     "height": 215
    },
    "colab_type": "code",
    "executionInfo": {
     "elapsed": 1412,
     "status": "ok",
     "timestamp": 1575820932961,
     "user": {
      "displayName": "Hwanhee Kim",
      "photoUrl": "https://lh3.googleusercontent.com/a-/AAuE7mAJC9PPBoQ91glDwFjxm3TlW5EqGy0BIAJ52D-ekw=s64",
      "userId": "04863080312902369470"
     },
     "user_tz": -540
    },
    "id": "8e3_cWrjcZ8X",
    "outputId": "d43321b8-60f9-4976-e6e8-51358ad42ee4"
   },
   "outputs": [
    {
     "name": "stdout",
     "output_type": "stream",
     "text": [
      "Length of text: 6937271 characters\n",
      "Length of text: 2318260 characters\n",
      "\n",
      "id\tdocument\tlabel\n",
      "9976970\t아 더빙.. 진짜 짜증나네요 목소리\t0\n",
      "3819312\t흠...포스터보고 초딩영화줄....오버연기조차 가볍지 않구나\t1\n",
      "10265843\t너무재밓었다그래서보는것을추천한다\t0\n",
      "9045019\t교도소 이야기구먼 ..솔직히 재미는 없다..평점 조정\t0\n",
      "6483659\t사이몬페그의 익살스런 연기가 돋보였던 영화!스파이더맨에서 늙어보이기만 했던 커스틴 던스트가 너무나도 이뻐보였다\t1\n",
      "5403919\t막 걸음마 뗀 3세부터 초등학교 1학년생인 8살용영화.ㅋㅋㅋ...별반개도 아까움.\t0\n",
      "7797314\t원작의\n"
     ]
    }
   ],
   "source": [
    "# 7.20 데이터 로드 및 확인\n",
    "# 데이터를 메모리에 불러옵니다. encoding 형식으로 utf-8 을 지정해야합니다.\n",
    "train_text = open(path_to_train_file, 'rb').read().decode(encoding='utf-8')\n",
    "test_text = open(path_to_test_file, 'rb').read().decode(encoding='utf-8')\n",
    "\n",
    "# 텍스트가 총 몇 자인지 확인합니다.\n",
    "print('Length of text: {} characters'.format(len(train_text)))\n",
    "print('Length of text: {} characters'.format(len(test_text)))\n",
    "print()\n",
    "\n",
    "# 처음 300 자를 확인해봅니다.\n",
    "print(train_text[:300])"
   ]
  },
  {
   "cell_type": "code",
   "execution_count": 4,
   "metadata": {
    "colab": {
     "base_uri": "https://localhost:8080/",
     "height": 125
    },
    "colab_type": "code",
    "executionInfo": {
     "elapsed": 1501,
     "status": "ok",
     "timestamp": 1575820941539,
     "user": {
      "displayName": "Hwanhee Kim",
      "photoUrl": "https://lh3.googleusercontent.com/a-/AAuE7mAJC9PPBoQ91glDwFjxm3TlW5EqGy0BIAJ52D-ekw=s64",
      "userId": "04863080312902369470"
     },
     "user_tz": -540
    },
    "id": "3R4G9NAekYsE",
    "outputId": "10821adf-ba4c-4b52-8b9f-76f2af204691"
   },
   "outputs": [
    {
     "name": "stdout",
     "output_type": "stream",
     "text": [
      "(150000, 1) (50000, 1)\n",
      "[[0]\n",
      " [1]\n",
      " [0]\n",
      " [0]\n",
      " [1]]\n"
     ]
    }
   ],
   "source": [
    "# 7.21 학습을 위한 정답 데이터(Y) 만들기\n",
    "train_Y = np.array([[int(row.split('\\t')[2])] for row in train_text.split('\\n')[1:] if row.count('\\t') > 0])\n",
    "test_Y = np.array([[int(row.split('\\t')[2])] for row in test_text.split('\\n')[1:] if row.count('\\t') > 0])\n",
    "print(train_Y.shape, test_Y.shape)\n",
    "print(train_Y[:5])"
   ]
  },
  {
   "cell_type": "code",
   "execution_count": 5,
   "metadata": {
    "colab": {
     "base_uri": "https://localhost:8080/",
     "height": 107
    },
    "colab_type": "code",
    "executionInfo": {
     "elapsed": 4604,
     "status": "ok",
     "timestamp": 1575820949497,
     "user": {
      "displayName": "Hwanhee Kim",
      "photoUrl": "https://lh3.googleusercontent.com/a-/AAuE7mAJC9PPBoQ91glDwFjxm3TlW5EqGy0BIAJ52D-ekw=s64",
      "userId": "04863080312902369470"
     },
     "user_tz": -540
    },
    "id": "IlrwaPyJ06V5",
    "outputId": "0cdb25ca-b6fd-4f2b-f071-e1e1b732a667"
   },
   "outputs": [
    {
     "name": "stdout",
     "output_type": "stream",
     "text": [
      "['아', '더빙', '진짜', '짜증나네요', '목소리']\n",
      "['흠', '포스터보고', '초딩영화줄', '오버연기조차', '가볍지', '않구나']\n",
      "['너무재밓었다그래서보는것을추천한다']\n",
      "['교도소', '이야기구먼', '솔직히', '재미는', '없다', '평점', '조정']\n",
      "['사이몬페그의', '익살스런', '연기가', '돋보였던', '영화', '!', '스파이더맨에서', '늙어보이기만', '했던', '커스틴', '던스트가', '너무나도', '이뻐보였다']\n"
     ]
    }
   ],
   "source": [
    "# 7.22 train 데이터의 입력(X)에 대한 정제(Cleaning)\n",
    "import re\n",
    "# From https://github.com/yoonkim/CNN_sentence/blob/master/process_data.py\n",
    "def clean_str(string):    \n",
    "    string = re.sub(r\"[^가-힣A-Za-z0-9(),!?\\'\\`]\", \" \", string)\n",
    "    string = re.sub(r\"\\'s\", \" \\'s\", string)\n",
    "    string = re.sub(r\"\\'ve\", \" \\'ve\", string)\n",
    "    string = re.sub(r\"n\\'t\", \" n\\'t\", string)\n",
    "    string = re.sub(r\"\\'re\", \" \\'re\", string)\n",
    "    string = re.sub(r\"\\'d\", \" \\'d\", string)\n",
    "    string = re.sub(r\"\\'ll\", \" \\'ll\", string)\n",
    "    string = re.sub(r\",\", \" , \", string)\n",
    "    string = re.sub(r\"!\", \" ! \", string)\n",
    "    string = re.sub(r\"\\(\", \" \\( \", string)\n",
    "    string = re.sub(r\"\\)\", \" \\) \", string)\n",
    "    string = re.sub(r\"\\?\", \" \\? \", string)\n",
    "    string = re.sub(r\"\\s{2,}\", \" \", string)\n",
    "    string = re.sub(r\"\\'{2,}\", \"\\'\", string)\n",
    "    string = re.sub(r\"\\'\", \"\", string)\n",
    "\n",
    "    return string.lower()\n",
    "\n",
    "\n",
    "train_text_X = [row.split('\\t')[1] for row in train_text.split('\\n')[1:] if row.count('\\t') > 0]\n",
    "train_text_X = [clean_str(sentence) for sentence in train_text_X]\n",
    "# 문장을 띄어쓰기 단위로 단어 분리\n",
    "sentences = [sentence.split(' ') for sentence in train_text_X]\n",
    "for i in range(5):\n",
    "    print(sentences[i])"
   ]
  },
  {
   "cell_type": "code",
   "execution_count": 6,
   "metadata": {
    "colab": {
     "base_uri": "https://localhost:8080/",
     "height": 287
    },
    "colab_type": "code",
    "executionInfo": {
     "elapsed": 4592,
     "status": "ok",
     "timestamp": 1565420230262,
     "user": {
      "displayName": "Hwanhee Kim",
      "photoUrl": "https://lh6.googleusercontent.com/-nodxsDvEvZo/AAAAAAAAAAI/AAAAAAAABHE/Ybrj2myvr5Q/s64/photo.jpg",
      "userId": "04863080312902369470"
     },
     "user_tz": -540
    },
    "id": "zwtf77CE0xPi",
    "outputId": "4dacfde9-2015-4092-8d3f-cabaf6e2bc65"
   },
   "outputs": [
    {
     "data": {
      "image/png": "[encoded data removed]",
      "text/plain": [
       "<Figure size 432x288 with 1 Axes>"
      ]
     },
     "metadata": {
      "needs_background": "light"
     },
     "output_type": "display_data"
    },
    {
     "name": "stdout",
     "output_type": "stream",
     "text": [
      "142587\n"
     ]
    }
   ],
   "source": [
    "# 7.23 각 문장의 단어 길이 확인 : y축이 문장의 단어 수, X축이 데이터의 수\n",
    "import matplotlib.pyplot as plt\n",
    "sentence_len = [len(sentence) for sentence in sentences]\n",
    "sentence_len.sort()\n",
    "plt.plot(sentence_len)\n",
    "plt.show()\n",
    "\n",
    "print(sum([int(l<=25) for l in sentence_len]))"
   ]
  },
  {
   "cell_type": "code",
   "execution_count": 29,
   "metadata": {
    "colab": {
     "base_uri": "https://localhost:8080/",
     "height": 107
    },
    "colab_type": "code",
    "executionInfo": {
     "elapsed": 1132,
     "status": "ok",
     "timestamp": 1575820955978,
     "user": {
      "displayName": "Hwanhee Kim",
      "photoUrl": "https://lh3.googleusercontent.com/a-/AAuE7mAJC9PPBoQ91glDwFjxm3TlW5EqGy0BIAJ52D-ekw=s64",
      "userId": "04863080312902369470"
     },
     "user_tz": -540
    },
    "id": "c9F0OQSB71Az",
    "outputId": "5319762b-c8e9-4227-abc8-879f4373e2af"
   },
   "outputs": [
    {
     "name": "stdout",
     "output_type": "stream",
     "text": [
      "['아', '더빙', '진짜', '짜증나네요', '목소리']\n",
      "['흠', '포스터보고', '초딩영화줄', '오버연기조', '가볍지', '않구나']\n",
      "['너무재밓었']\n",
      "['교도소', '이야기구먼', '솔직히', '재미는', '없다', '평점', '조정']\n",
      "['사이몬페그', '익살스런', '연기가', '돋보였던', '영화', '!', '스파이더맨', '늙어보이기', '했던', '커스틴', '던스트가', '너무나도', '이뻐보였다']\n"
     ]
    }
   ],
   "source": [
    "# 7.24 단어 정제 및 문장 길이 줄임  --> 위의 결과로 25개로 ㅋ컷을 정했으니..다 줄이기..\n",
    "sentences_new = []\n",
    "for sentence in sentences:\n",
    "    sentences_new.append([word[:5] for word in sentence][:25])\n",
    "sentences = sentences_new\n",
    "for i in range(5):\n",
    "    print(sentences[i])"
   ]
  },
  {
   "cell_type": "code",
   "execution_count": 30,
   "metadata": {
    "colab": {
     "base_uri": "https://localhost:8080/",
     "height": 287
    },
    "colab_type": "code",
    "executionInfo": {
     "elapsed": 4189,
     "status": "ok",
     "timestamp": 1575820961410,
     "user": {
      "displayName": "Hwanhee Kim",
      "photoUrl": "https://lh3.googleusercontent.com/a-/AAuE7mAJC9PPBoQ91glDwFjxm3TlW5EqGy0BIAJ52D-ekw=s64",
      "userId": "04863080312902369470"
     },
     "user_tz": -540
    },
    "id": "9iHRApH_SxJz",
    "outputId": "056cfd8f-5603-4924-bc22-1bff886b0469"
   },
   "outputs": [
    {
     "name": "stdout",
     "output_type": "stream",
     "text": [
      "[[   25   884     8  5795  1111     0     0     0     0     0     0     0\n",
      "      0     0     0     0     0     0     0     0     0     0     0     0\n",
      "      0]\n",
      " [  588  5796  6697     0     0     0     0     0     0     0     0     0\n",
      "      0     0     0     0     0     0     0     0     0     0     0     0\n",
      "      0]\n",
      " [    0     0     0     0     0     0     0     0     0     0     0     0\n",
      "      0     0     0     0     0     0     0     0     0     0     0     0\n",
      "      0]\n",
      " [   71   346    31    35 10468     0     0     0     0     0     0     0\n",
      "      0     0     0     0     0     0     0     0     0     0     0     0\n",
      "      0]\n",
      " [  106  5338     4     2  2169   869   573     0     0     0     0     0\n",
      "      0     0     0     0     0     0     0     0     0     0     0     0\n",
      "      0]]\n"
     ]
    }
   ],
   "source": [
    "# 7.25 Tokenizer와 pad_sequences를 사용한 문장 전처리 --> 뒤에 비는 경우에는 padding 처리를 위해서 pad_sequence 사용!!!!\n",
    "from tensorflow.keras.preprocessing.text import Tokenizer\n",
    "from tensorflow.keras.preprocessing.sequence import pad_sequences\n",
    "\n",
    "tokenizer = Tokenizer(num_words=20000)\n",
    "tokenizer.fit_on_texts(sentences)\n",
    "train_X = tokenizer.texts_to_sequences(sentences)\n",
    "train_X = pad_sequences(train_X, padding='post')\n",
    "\n",
    "print(train_X[:5])"
   ]
  },
  {
   "cell_type": "code",
   "execution_count": 31,
   "metadata": {
    "colab": {
     "base_uri": "https://localhost:8080/",
     "height": 143
    },
    "colab_type": "code",
    "executionInfo": {
     "elapsed": 3597,
     "status": "ok",
     "timestamp": 1565420237085,
     "user": {
      "displayName": "Hwanhee Kim",
      "photoUrl": "https://lh6.googleusercontent.com/-nodxsDvEvZo/AAAAAAAAAAI/AAAAAAAABHE/Ybrj2myvr5Q/s64/photo.jpg",
      "userId": "04863080312902369470"
     },
     "user_tz": -540
    },
    "id": "Id3SzN7350CB",
    "outputId": "260569cf-9119-4a51-d65a-bf5bf4aa0c3c"
   },
   "outputs": [
    {
     "name": "stdout",
     "output_type": "stream",
     "text": [
      "경우는\n",
      "잊혀질\n",
      "[[], [19999], [], [106]]\n",
      "[[    0]\n",
      " [19999]\n",
      " [    0]\n",
      " [  106]]\n"
     ]
    }
   ],
   "source": [
    "# 7.26 Tokenizer의 동작 확인\n",
    "print(tokenizer.index_word[19999])\n",
    "print(tokenizer.index_word[20000])\n",
    "temp = tokenizer.texts_to_sequences(['#$#$#', '경우는', '잊혀질', '연기가'])\n",
    "print(temp)\n",
    "temp = pad_sequences(temp, padding='post')\n",
    "print(temp)"
   ]
  },
  {
   "cell_type": "code",
   "execution_count": 32,
   "metadata": {
    "colab": {
     "base_uri": "https://localhost:8080/",
     "height": 269
    },
    "colab_type": "code",
    "executionInfo": {
     "elapsed": 4286,
     "status": "ok",
     "timestamp": 1575820976746,
     "user": {
      "displayName": "Hwanhee Kim",
      "photoUrl": "https://lh3.googleusercontent.com/a-/AAuE7mAJC9PPBoQ91glDwFjxm3TlW5EqGy0BIAJ52D-ekw=s64",
      "userId": "04863080312902369470"
     },
     "user_tz": -540
    },
    "id": "qHkCAL4QpVAF",
    "outputId": "4805b775-d77a-49ba-bd6c-b2a98d3d0285"
   },
   "outputs": [
    {
     "name": "stdout",
     "output_type": "stream",
     "text": [
      "Model: \"sequential_4\"\n",
      "_________________________________________________________________\n",
      "Layer (type)                 Output Shape              Param #   \n",
      "=================================================================\n",
      "embedding (Embedding)        (None, 25, 300)           6000000   \n",
      "_________________________________________________________________\n",
      "lstm_2 (LSTM)                (None, 50)                70200     \n",
      "_________________________________________________________________\n",
      "dense_4 (Dense)              (None, 2)                 102       \n",
      "=================================================================\n",
      "Total params: 6,070,302\n",
      "Trainable params: 6,070,302\n",
      "Non-trainable params: 0\n",
      "_________________________________________________________________\n"
     ]
    }
   ],
   "source": [
    "# 7.27 감성 분석을 위한 모델 정의\n",
    "model = tf.keras.Sequential([\n",
    "    tf.keras.layers.Embedding(20000, 300, input_length=25),\n",
    "    tf.keras.layers.LSTM(units=50),\n",
    "    tf.keras.layers.Dense(2, activation='softmax')\n",
    "])\n",
    "\n",
    "model.compile(optimizer='adam', loss='sparse_categorical_crossentropy', metrics=['accuracy'])\n",
    "model.summary()"
   ]
  },
  {
   "cell_type": "code",
   "execution_count": 33,
   "metadata": {
    "colab": {
     "base_uri": "https://localhost:8080/",
     "height": 215
    },
    "colab_type": "code",
    "executionInfo": {
     "elapsed": 351765,
     "status": "ok",
     "timestamp": 1575821336811,
     "user": {
      "displayName": "Hwanhee Kim",
      "photoUrl": "https://lh3.googleusercontent.com/a-/AAuE7mAJC9PPBoQ91glDwFjxm3TlW5EqGy0BIAJ52D-ekw=s64",
      "userId": "04863080312902369470"
     },
     "user_tz": -540
    },
    "id": "DG5bZtehpU8O",
    "outputId": "28868beb-1759-4b61-911b-d2a0fdee4365"
   },
   "outputs": [
    {
     "name": "stdout",
     "output_type": "stream",
     "text": [
      "Train on 120000 samples, validate on 30000 samples\n",
      "Epoch 1/5\n",
      "120000/120000 [==============================] - 135s 1ms/sample - loss: 0.4331 - accuracy: 0.7855 - val_loss: 0.3798 - val_accuracy: 0.8223\n",
      "Epoch 2/5\n",
      "120000/120000 [==============================] - 133s 1ms/sample - loss: 0.3244 - accuracy: 0.8479 - val_loss: 0.4006 - val_accuracy: 0.8221\n",
      "Epoch 3/5\n",
      "120000/120000 [==============================] - 144s 1ms/sample - loss: 0.2719 - accuracy: 0.8702 - val_loss: 0.4126 - val_accuracy: 0.8159\n",
      "Epoch 4/5\n",
      "120000/120000 [==============================] - 147s 1ms/sample - loss: 0.2266 - accuracy: 0.8900 - val_loss: 0.4544 - val_accuracy: 0.8140\n",
      "Epoch 5/5\n",
      "120000/120000 [==============================] - 132s 1ms/sample - loss: 0.1903 - accuracy: 0.9059 - val_loss: 0.5882 - val_accuracy: 0.8075\n"
     ]
    }
   ],
   "source": [
    "# 7.28 감성 분석 모델 학습\n",
    "history = model.fit(train_X, train_Y, epochs=5, batch_size=128, validation_split=0.2)"
   ]
  },
  {
   "cell_type": "code",
   "execution_count": 34,
   "metadata": {
    "colab": {
     "base_uri": "https://localhost:8080/",
     "height": 283
    },
    "colab_type": "code",
    "executionInfo": {
     "elapsed": 1119,
     "status": "ok",
     "timestamp": 1575821337948,
     "user": {
      "displayName": "Hwanhee Kim",
      "photoUrl": "https://lh3.googleusercontent.com/a-/AAuE7mAJC9PPBoQ91glDwFjxm3TlW5EqGy0BIAJ52D-ekw=s64",
      "userId": "04863080312902369470"
     },
     "user_tz": -540
    },
    "id": "-N83MOKFpU4a",
    "outputId": "51b3157e-569c-4a8c-a4ab-53ec8cb99c4f"
   },
   "outputs": [
    {
     "data": {
      "image/png": "[encoded data removed]",
      "text/plain": [
       "<Figure size 864x288 with 2 Axes>"
      ]
     },
     "metadata": {
      "needs_background": "light"
     },
     "output_type": "display_data"
    }
   ],
   "source": [
    "# 7.29 감성 분석 모델 학습 결과 확인\n",
    "import matplotlib.pyplot as plt\n",
    "plt.figure(figsize=(12, 4))\n",
    "\n",
    "plt.subplot(1, 2, 1)\n",
    "plt.plot(history.history['loss'], 'b-', label='loss')\n",
    "plt.plot(history.history['val_loss'], 'r--', label='val_loss')\n",
    "plt.xlabel('Epoch')\n",
    "plt.legend()\n",
    "\n",
    "plt.subplot(1, 2, 2)\n",
    "plt.plot(history.history['accuracy'], 'g-', label='accuracy')\n",
    "plt.plot(history.history['val_accuracy'], 'k--', label='val_accuracy')\n",
    "plt.xlabel('Epoch')\n",
    "plt.ylim(0.7, 1)\n",
    "plt.legend()\n",
    "\n",
    "plt.show()"
   ]
  },
  {
   "cell_type": "code",
   "execution_count": 35,
   "metadata": {
    "colab": {
     "base_uri": "https://localhost:8080/",
     "height": 35
    },
    "colab_type": "code",
    "executionInfo": {
     "elapsed": 18470,
     "status": "ok",
     "timestamp": 1575821789255,
     "user": {
      "displayName": "Hwanhee Kim",
      "photoUrl": "https://lh3.googleusercontent.com/a-/AAuE7mAJC9PPBoQ91glDwFjxm3TlW5EqGy0BIAJ52D-ekw=s64",
      "userId": "04863080312902369470"
     },
     "user_tz": -540
    },
    "id": "dS4Bw55e1HQa",
    "outputId": "3d4de552-203e-483d-83f0-7d009f175d0b"
   },
   "outputs": [
    {
     "data": {
      "text/plain": [
       "[0.5955543177032471, 0.80164]"
      ]
     },
     "execution_count": 35,
     "metadata": {},
     "output_type": "execute_result"
    }
   ],
   "source": [
    "# 7.30 테스트 데이터 평가\n",
    "test_text_X = [row.split('\\t')[1] for row in test_text.split('\\n')[1:] if row.count('\\t') > 0]\n",
    "test_text_X = [clean_str(sentence) for sentence in test_text_X]\n",
    "sentences = [sentence.split(' ') for sentence in test_text_X]\n",
    "sentences_new = []\n",
    "for sentence in sentences:\n",
    "    sentences_new.append([word[:5] for word in sentence][:25])\n",
    "sentences = sentences_new\n",
    "\n",
    "test_X = tokenizer.texts_to_sequences(sentences)\n",
    "test_X = pad_sequences(test_X, padding='post')\n",
    "\n",
    "model.evaluate(test_X, test_Y, verbose=0)"
   ]
  },
  {
   "cell_type": "code",
   "execution_count": 20,
   "metadata": {},
   "outputs": [
    {
     "data": {
      "text/plain": [
       "[1, 2]"
      ]
     },
     "execution_count": 20,
     "metadata": {},
     "output_type": "execute_result"
    }
   ],
   "source": [
    "a = [1,2,3,4,5]\n",
    "\n",
    "[x for x in a if x not in [3,4,5]]"
   ]
  },
  {
   "cell_type": "code",
   "execution_count": null,
   "metadata": {},
   "outputs": [],
   "source": []
  },
  {
   "cell_type": "code",
   "execution_count": null,
   "metadata": {},
   "outputs": [],
   "source": []
  },
  {
   "cell_type": "code",
   "execution_count": null,
   "metadata": {},
   "outputs": [],
   "source": []
  },
  {
   "cell_type": "code",
   "execution_count": 36,
   "metadata": {
    "colab": {
     "base_uri": "https://localhost:8080/",
     "height": 341
    },
    "colab_type": "code",
    "executionInfo": {
     "elapsed": 1041,
     "status": "ok",
     "timestamp": 1565429969185,
     "user": {
      "displayName": "Hwanhee Kim",
      "photoUrl": "https://lh6.googleusercontent.com/-nodxsDvEvZo/AAAAAAAAAAI/AAAAAAAABHE/Ybrj2myvr5Q/s64/photo.jpg",
      "userId": "04863080312902369470"
     },
     "user_tz": -540
    },
    "id": "S_gWAXeb1HM0",
    "outputId": "f04c63d8-bef8-48c7-ca68-57b1e0f56581"
   },
   "outputs": [
    {
     "name": "stdout",
     "output_type": "stream",
     "text": [
      "['재미있을']\n",
      "[0.32289687 0.6771031 ]\n",
      "['재미있을', '줄']\n",
      "[0.3081396 0.6918604]\n",
      "['재미있을', '줄', '알았는데']\n",
      "[0.32964516 0.6703549 ]\n",
      "['재미있을', '줄', '알았는데', '완전']\n",
      "[0.3915065 0.6084935]\n",
      "['재미있을', '줄', '알았는데', '완전', '실망했다.']\n",
      "[0.3915065 0.6084935]\n",
      "['재미있을', '줄', '알았는데', '완전', '실망했다.', '너무']\n",
      "[0.45829684 0.54170316]\n",
      "['재미있을', '줄', '알았는데', '완전', '실망했다.', '너무', '졸리고']\n",
      "[0.9914281 0.0085719]\n",
      "['재미있을', '줄', '알았는데', '완전', '실망했다.', '너무', '졸리고', '돈이']\n",
      "[9.9936098e-01 6.3901814e-04]\n",
      "['재미있을', '줄', '알았는데', '완전', '실망했다.', '너무', '졸리고', '돈이', '아까웠다.']\n",
      "[9.9936098e-01 6.3901814e-04]\n"
     ]
    }
   ],
   "source": [
    "# 7.31 임의의 문장 감성 분석 결과 확인 ( 부정0, 긍정1--> 입력 단어들을 늘려가면서 해당하는 감성 분석에 대한 결과가 어떻게 다르게 되는지..)\n",
    "test_sentence = '재미있을 줄 알았는데 완전 실망했다. 너무 졸리고 돈이 아까웠다.'\n",
    "test_sentence = test_sentence.split(' ')\n",
    "test_sentences = []\n",
    "now_sentence = []\n",
    "for word in test_sentence:\n",
    "    now_sentence.append(word)\n",
    "    test_sentences.append(now_sentence[:])\n",
    "    \n",
    "test_X_1 = tokenizer.texts_to_sequences(test_sentences)\n",
    "test_X_1 = pad_sequences(test_X_1, padding='post', maxlen=25)\n",
    "prediction = model.predict(test_X_1)\n",
    "for idx, sentence in enumerate(test_sentences):\n",
    "    print(sentence)\n",
    "    print(prediction[idx])"
   ]
  }
 ],
 "metadata": {
  "accelerator": "GPU",
  "colab": {
   "collapsed_sections": [],
   "name": "Chapter7.ipynb",
   "provenance": [
    {
     "file_id": "148SI-wpi5Z3vDvYyOrNwGKsQQLZnVF-S",
     "timestamp": 1565493431491
    }
   ],
   "toc_visible": true
  },
  "kernelspec": {
   "display_name": "Python 3",
   "language": "python",
   "name": "python3"
  },
  "language_info": {
   "codemirror_mode": {
    "name": "ipython",
    "version": 3
   },
   "file_extension": ".py",
   "mimetype": "text/x-python",
   "name": "python",
   "nbconvert_exporter": "python",
   "pygments_lexer": "ipython3",
   "version": "3.7.6"
  },
  "toc": {
   "base_numbering": 1,
   "nav_menu": {},
   "number_sections": true,
   "sideBar": true,
   "skip_h1_title": false,
   "title_cell": "Table of Contents",
   "title_sidebar": "Contents",
   "toc_cell": false,
   "toc_position": {},
   "toc_section_display": true,
   "toc_window_display": false
  }
 },
 "nbformat": 4,
 "nbformat_minor": 1
}
