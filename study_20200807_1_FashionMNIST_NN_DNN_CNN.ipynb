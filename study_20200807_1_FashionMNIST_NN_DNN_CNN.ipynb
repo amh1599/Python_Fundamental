{
  "nbformat": 4,
  "nbformat_minor": 0,
  "metadata": {
    "kernelspec": {
      "display_name": "Python 3",
      "language": "python",
      "name": "python3"
    },
    "language_info": {
      "codemirror_mode": {
        "name": "ipython",
        "version": 3
      },
      "file_extension": ".py",
      "mimetype": "text/x-python",
      "name": "python",
      "nbconvert_exporter": "python",
      "pygments_lexer": "ipython3",
      "version": "3.7.6"
    },
    "toc": {
      "base_numbering": 1,
      "nav_menu": {},
      "number_sections": true,
      "sideBar": true,
      "skip_h1_title": false,
      "title_cell": "Table of Contents",
      "title_sidebar": "Contents",
      "toc_cell": false,
      "toc_position": {
        "height": "calc(100% - 180px)",
        "left": "10px",
        "top": "150px",
        "width": "165px"
      },
      "toc_section_display": true,
      "toc_window_display": true
    },
    "colab": {
      "name": "FashionMNIST-NN-DNN-CNN.ipynb",
      "provenance": [],
      "collapsed_sections": [
        "Ur0NLOnug_NV",
        "C2Hb1W8Xg_Nt",
        "MwqzW8rPg_N3",
        "LZjoCyzMg_OB",
        "CtLNu-w_g_OZ",
        "Ue-WR7REg_Og"
      ],
      "toc_visible": true
    },
    "accelerator": "GPU"
  },
  "cells": [
    {
      "cell_type": "markdown",
      "metadata": {
        "id": "v_gtzTOeg_Mb",
        "colab_type": "text"
      },
      "source": [
        "# Fashion MNIST"
      ]
    },
    {
      "cell_type": "code",
      "metadata": {
        "id": "t-Ah0PaPg_Md",
        "colab_type": "code",
        "colab": {
          "base_uri": "https://localhost:8080/",
          "height": 36
        },
        "outputId": "21114c14-bfe1-4ad9-9cfd-84e09f07ddb2"
      },
      "source": [
        "import tensorflow as tf\n",
        "tf.__version__"
      ],
      "execution_count": 1,
      "outputs": [
        {
          "output_type": "execute_result",
          "data": {
            "application/vnd.google.colaboratory.intrinsic+json": {
              "type": "string"
            },
            "text/plain": [
              "'2.3.0'"
            ]
          },
          "metadata": {
            "tags": []
          },
          "execution_count": 1
        }
      ]
    },
    {
      "cell_type": "code",
      "metadata": {
        "id": "QkC2unmxg_Mm",
        "colab_type": "code",
        "colab": {}
      },
      "source": [
        "tf.random.set_seed(1234)"
      ],
      "execution_count": 2,
      "outputs": []
    },
    {
      "cell_type": "markdown",
      "metadata": {
        "id": "toxUYYbzg_Mt",
        "colab_type": "text"
      },
      "source": [
        "## DNN 구조"
      ]
    },
    {
      "cell_type": "markdown",
      "metadata": {
        "id": "9EXVFxGng_Mu",
        "colab_type": "text"
      },
      "source": [
        "### 일반적인 DNN"
      ]
    },
    {
      "cell_type": "code",
      "metadata": {
        "id": "hKi1wY2Ag_Mw",
        "colab_type": "code",
        "colab": {
          "base_uri": "https://localhost:8080/",
          "height": 36
        },
        "outputId": "0714d910-fdc4-44ab-cde1-1e71b7311718"
      },
      "source": [
        "fashion_mnist = tf.keras.datasets.fashion_mnist\n",
        "(train_X, train_Y), (test_X, test_Y) = fashion_mnist.load_data()\n",
        "\n",
        "print(len(train_X), len(test_X))"
      ],
      "execution_count": 3,
      "outputs": [
        {
          "output_type": "stream",
          "text": [
            "60000 10000\n"
          ],
          "name": "stdout"
        }
      ]
    },
    {
      "cell_type": "code",
      "metadata": {
        "id": "6pt1ldjBg_M1",
        "colab_type": "code",
        "colab": {}
      },
      "source": [
        "train_X = train_X / 255.0\n",
        "test_X = test_X / 255.0"
      ],
      "execution_count": 4,
      "outputs": []
    },
    {
      "cell_type": "code",
      "metadata": {
        "id": "ODqdkIHSg_M5",
        "colab_type": "code",
        "colab": {
          "base_uri": "https://localhost:8080/",
          "height": 281
        },
        "outputId": "98bd9eda-042f-4591-fd41-01cbbb4eeefb"
      },
      "source": [
        "model = tf.keras.Sequential([\n",
        "    tf.keras.layers.Flatten(input_shape=(28,28)),\n",
        "    tf.keras.layers.Dense(units=128, activation='relu'),\n",
        "    tf.keras.layers.Dense(units=10, activation='softmax')\n",
        "])\n",
        "\n",
        "model.compile(optimizer=tf.keras.optimizers.Adam(), \n",
        "              loss='sparse_categorical_crossentropy', \n",
        "              metrics=['accuracy'])\n",
        "\n",
        "model.summary()"
      ],
      "execution_count": 5,
      "outputs": [
        {
          "output_type": "stream",
          "text": [
            "Model: \"sequential\"\n",
            "_________________________________________________________________\n",
            "Layer (type)                 Output Shape              Param #   \n",
            "=================================================================\n",
            "flatten (Flatten)            (None, 784)               0         \n",
            "_________________________________________________________________\n",
            "dense (Dense)                (None, 128)               100480    \n",
            "_________________________________________________________________\n",
            "dense_1 (Dense)              (None, 10)                1290      \n",
            "=================================================================\n",
            "Total params: 101,770\n",
            "Trainable params: 101,770\n",
            "Non-trainable params: 0\n",
            "_________________________________________________________________\n"
          ],
          "name": "stdout"
        }
      ]
    },
    {
      "cell_type": "code",
      "metadata": {
        "scrolled": true,
        "id": "fAlwutFBg_M-",
        "colab_type": "code",
        "colab": {
          "base_uri": "https://localhost:8080/",
          "height": 1000
        },
        "outputId": "6494cf43-3dd4-481f-cc60-e24bb2ed843a"
      },
      "source": [
        "history = model.fit(train_X, train_Y, epochs=40, validation_split=0.25)"
      ],
      "execution_count": 6,
      "outputs": [
        {
          "output_type": "stream",
          "text": [
            "Epoch 1/40\n",
            "1407/1407 [==============================] - 5s 3ms/step - loss: 0.5345 - accuracy: 0.8146 - val_loss: 0.4304 - val_accuracy: 0.8485\n",
            "Epoch 2/40\n",
            "1407/1407 [==============================] - 5s 3ms/step - loss: 0.3908 - accuracy: 0.8602 - val_loss: 0.3790 - val_accuracy: 0.8634\n",
            "Epoch 3/40\n",
            "1407/1407 [==============================] - 5s 3ms/step - loss: 0.3505 - accuracy: 0.8728 - val_loss: 0.3670 - val_accuracy: 0.8674\n",
            "Epoch 4/40\n",
            "1407/1407 [==============================] - 5s 3ms/step - loss: 0.3240 - accuracy: 0.8803 - val_loss: 0.3451 - val_accuracy: 0.8762\n",
            "Epoch 5/40\n",
            "1407/1407 [==============================] - 5s 3ms/step - loss: 0.3038 - accuracy: 0.8881 - val_loss: 0.3422 - val_accuracy: 0.8758\n",
            "Epoch 6/40\n",
            "1407/1407 [==============================] - 5s 3ms/step - loss: 0.2884 - accuracy: 0.8928 - val_loss: 0.3347 - val_accuracy: 0.8821\n",
            "Epoch 7/40\n",
            "1407/1407 [==============================] - 5s 3ms/step - loss: 0.2732 - accuracy: 0.8984 - val_loss: 0.3482 - val_accuracy: 0.8778\n",
            "Epoch 8/40\n",
            "1407/1407 [==============================] - 5s 3ms/step - loss: 0.2632 - accuracy: 0.9014 - val_loss: 0.3242 - val_accuracy: 0.8848\n",
            "Epoch 9/40\n",
            "1407/1407 [==============================] - 5s 3ms/step - loss: 0.2540 - accuracy: 0.9057 - val_loss: 0.3242 - val_accuracy: 0.8873\n",
            "Epoch 10/40\n",
            "1407/1407 [==============================] - 5s 3ms/step - loss: 0.2423 - accuracy: 0.9095 - val_loss: 0.3254 - val_accuracy: 0.8867\n",
            "Epoch 11/40\n",
            "1407/1407 [==============================] - 5s 3ms/step - loss: 0.2340 - accuracy: 0.9129 - val_loss: 0.3285 - val_accuracy: 0.8851\n",
            "Epoch 12/40\n",
            "1407/1407 [==============================] - 5s 3ms/step - loss: 0.2280 - accuracy: 0.9150 - val_loss: 0.3182 - val_accuracy: 0.8903\n",
            "Epoch 13/40\n",
            "1407/1407 [==============================] - 5s 3ms/step - loss: 0.2184 - accuracy: 0.9196 - val_loss: 0.3137 - val_accuracy: 0.8928\n",
            "Epoch 14/40\n",
            "1407/1407 [==============================] - 5s 3ms/step - loss: 0.2107 - accuracy: 0.9216 - val_loss: 0.3528 - val_accuracy: 0.8813\n",
            "Epoch 15/40\n",
            "1407/1407 [==============================] - 5s 3ms/step - loss: 0.2044 - accuracy: 0.9244 - val_loss: 0.3155 - val_accuracy: 0.8917\n",
            "Epoch 16/40\n",
            "1407/1407 [==============================] - 5s 3ms/step - loss: 0.2008 - accuracy: 0.9251 - val_loss: 0.3317 - val_accuracy: 0.8901\n",
            "Epoch 17/40\n",
            "1407/1407 [==============================] - 5s 3ms/step - loss: 0.1924 - accuracy: 0.9287 - val_loss: 0.3389 - val_accuracy: 0.8879\n",
            "Epoch 18/40\n",
            "1407/1407 [==============================] - 5s 3ms/step - loss: 0.1877 - accuracy: 0.9303 - val_loss: 0.3463 - val_accuracy: 0.8852\n",
            "Epoch 19/40\n",
            "1407/1407 [==============================] - 5s 3ms/step - loss: 0.1829 - accuracy: 0.9302 - val_loss: 0.3457 - val_accuracy: 0.8883\n",
            "Epoch 20/40\n",
            "1407/1407 [==============================] - 5s 3ms/step - loss: 0.1786 - accuracy: 0.9318 - val_loss: 0.3650 - val_accuracy: 0.8857\n",
            "Epoch 21/40\n",
            "1407/1407 [==============================] - 5s 3ms/step - loss: 0.1730 - accuracy: 0.9348 - val_loss: 0.3685 - val_accuracy: 0.8892\n",
            "Epoch 22/40\n",
            "1407/1407 [==============================] - 5s 3ms/step - loss: 0.1692 - accuracy: 0.9363 - val_loss: 0.3597 - val_accuracy: 0.8877\n",
            "Epoch 23/40\n",
            "1407/1407 [==============================] - 5s 3ms/step - loss: 0.1642 - accuracy: 0.9388 - val_loss: 0.3748 - val_accuracy: 0.8843\n",
            "Epoch 24/40\n",
            "1407/1407 [==============================] - 5s 3ms/step - loss: 0.1614 - accuracy: 0.9394 - val_loss: 0.3704 - val_accuracy: 0.8841\n",
            "Epoch 25/40\n",
            "1407/1407 [==============================] - 5s 3ms/step - loss: 0.1543 - accuracy: 0.9427 - val_loss: 0.3734 - val_accuracy: 0.8903\n",
            "Epoch 26/40\n",
            "1407/1407 [==============================] - 5s 3ms/step - loss: 0.1511 - accuracy: 0.9432 - val_loss: 0.3572 - val_accuracy: 0.8911\n",
            "Epoch 27/40\n",
            "1407/1407 [==============================] - 5s 3ms/step - loss: 0.1490 - accuracy: 0.9438 - val_loss: 0.3957 - val_accuracy: 0.8891\n",
            "Epoch 28/40\n",
            "1407/1407 [==============================] - 5s 3ms/step - loss: 0.1463 - accuracy: 0.9446 - val_loss: 0.3716 - val_accuracy: 0.8888\n",
            "Epoch 29/40\n",
            "1407/1407 [==============================] - 5s 3ms/step - loss: 0.1404 - accuracy: 0.9468 - val_loss: 0.3826 - val_accuracy: 0.8888\n",
            "Epoch 30/40\n",
            "1407/1407 [==============================] - 5s 3ms/step - loss: 0.1375 - accuracy: 0.9478 - val_loss: 0.3795 - val_accuracy: 0.8900\n",
            "Epoch 31/40\n",
            "1407/1407 [==============================] - 5s 3ms/step - loss: 0.1357 - accuracy: 0.9485 - val_loss: 0.4129 - val_accuracy: 0.8831\n",
            "Epoch 32/40\n",
            "1407/1407 [==============================] - 5s 3ms/step - loss: 0.1303 - accuracy: 0.9517 - val_loss: 0.3977 - val_accuracy: 0.8923\n",
            "Epoch 33/40\n",
            "1407/1407 [==============================] - 5s 3ms/step - loss: 0.1301 - accuracy: 0.9513 - val_loss: 0.3848 - val_accuracy: 0.8891\n",
            "Epoch 34/40\n",
            "1407/1407 [==============================] - 5s 3ms/step - loss: 0.1260 - accuracy: 0.9526 - val_loss: 0.4121 - val_accuracy: 0.8846\n",
            "Epoch 35/40\n",
            "1407/1407 [==============================] - 5s 3ms/step - loss: 0.1243 - accuracy: 0.9538 - val_loss: 0.4187 - val_accuracy: 0.8898\n",
            "Epoch 36/40\n",
            "1407/1407 [==============================] - 5s 3ms/step - loss: 0.1213 - accuracy: 0.9537 - val_loss: 0.4489 - val_accuracy: 0.8857\n",
            "Epoch 37/40\n",
            "1407/1407 [==============================] - 5s 3ms/step - loss: 0.1187 - accuracy: 0.9563 - val_loss: 0.4295 - val_accuracy: 0.8904\n",
            "Epoch 38/40\n",
            "1407/1407 [==============================] - 5s 3ms/step - loss: 0.1190 - accuracy: 0.9546 - val_loss: 0.4388 - val_accuracy: 0.8899\n",
            "Epoch 39/40\n",
            "1407/1407 [==============================] - 5s 3ms/step - loss: 0.1138 - accuracy: 0.9570 - val_loss: 0.4441 - val_accuracy: 0.8819\n",
            "Epoch 40/40\n",
            "1407/1407 [==============================] - 5s 3ms/step - loss: 0.1091 - accuracy: 0.9592 - val_loss: 0.4380 - val_accuracy: 0.8881\n"
          ],
          "name": "stdout"
        }
      ]
    },
    {
      "cell_type": "code",
      "metadata": {
        "id": "4d6I99qKg_NE",
        "colab_type": "code",
        "colab": {
          "base_uri": "https://localhost:8080/",
          "height": 291
        },
        "outputId": "f09a77ff-a012-4762-ea63-01e39b049883"
      },
      "source": [
        "import matplotlib.pyplot as plt\n",
        "plt.figure(figsize=(12, 4))\n",
        "\n",
        "plt.subplot(1, 2, 1)\n",
        "plt.plot(history.history['loss'], 'b-', label='loss')\n",
        "plt.plot(history.history['val_loss'], 'r--', label='val_loss')\n",
        "plt.xlabel('Epoch')\n",
        "plt.legend()\n",
        "\n",
        "plt.subplot(1, 2, 2)\n",
        "plt.plot(history.history['accuracy'], 'g-', label='accuracy')\n",
        "plt.plot(history.history['val_accuracy'], 'k--', label='val_accuracy')\n",
        "plt.xlabel('Epoch')\n",
        "plt.ylim(0.7, 1)\n",
        "plt.legend()\n",
        "\n",
        "plt.show()\n",
        "\n",
        "model.evaluate(test_X, test_Y)"
      ],
      "execution_count": 7,
      "outputs": [
        {
          "output_type": "display_data",
          "data": {
            "image/png": "[encoded data removed]",
            "text/plain": [
              "<Figure size 864x288 with 2 Axes>"
            ]
          },
          "metadata": {
            "tags": [],
            "needs_background": "light"
          }
        },
        {
          "output_type": "stream",
          "text": [
            "313/313 [==============================] - 1s 2ms/step - loss: 0.4681 - accuracy: 0.8859\n"
          ],
          "name": "stdout"
        },
        {
          "output_type": "execute_result",
          "data": {
            "text/plain": [
              "[0.46806615591049194, 0.8859000205993652]"
            ]
          },
          "metadata": {
            "tags": []
          },
          "execution_count": 7
        }
      ]
    },
    {
      "cell_type": "markdown",
      "metadata": {
        "id": "aNbz8I8wg_NG",
        "colab_type": "text"
      },
      "source": [
        "### BatchNormal + Multi Layers"
      ]
    },
    {
      "cell_type": "code",
      "metadata": {
        "id": "hfe09CTQg_NH",
        "colab_type": "code",
        "colab": {
          "base_uri": "https://localhost:8080/",
          "height": 507
        },
        "outputId": "0154210b-cd9a-47e2-d426-b51e05bacd0c"
      },
      "source": [
        "model = tf.keras.Sequential([\n",
        "    tf.keras.layers.Flatten(input_shape=(28,28)),\n",
        "    tf.keras.layers.Dense(units=128, activation='relu'),\n",
        "    tf.keras.layers.BatchNormalization(),\n",
        "    tf.keras.layers.Activation(\"relu\"),\n",
        "    tf.keras.layers.Dense(units=128, activation='relu'),\n",
        "    tf.keras.layers.BatchNormalization(),\n",
        "    tf.keras.layers.Activation(\"relu\"),\n",
        "    tf.keras.layers.Dense(units=128, activation='relu'),\n",
        "    tf.keras.layers.Dense(units=10, activation='softmax')\n",
        "])\n",
        "\n",
        "model.compile(optimizer=tf.keras.optimizers.Adam(), \n",
        "              loss='sparse_categorical_crossentropy', \n",
        "              metrics=['accuracy'])\n",
        "\n",
        "model.summary()"
      ],
      "execution_count": 8,
      "outputs": [
        {
          "output_type": "stream",
          "text": [
            "Model: \"sequential_1\"\n",
            "_________________________________________________________________\n",
            "Layer (type)                 Output Shape              Param #   \n",
            "=================================================================\n",
            "flatten_1 (Flatten)          (None, 784)               0         \n",
            "_________________________________________________________________\n",
            "dense_2 (Dense)              (None, 128)               100480    \n",
            "_________________________________________________________________\n",
            "batch_normalization (BatchNo (None, 128)               512       \n",
            "_________________________________________________________________\n",
            "activation (Activation)      (None, 128)               0         \n",
            "_________________________________________________________________\n",
            "dense_3 (Dense)              (None, 128)               16512     \n",
            "_________________________________________________________________\n",
            "batch_normalization_1 (Batch (None, 128)               512       \n",
            "_________________________________________________________________\n",
            "activation_1 (Activation)    (None, 128)               0         \n",
            "_________________________________________________________________\n",
            "dense_4 (Dense)              (None, 128)               16512     \n",
            "_________________________________________________________________\n",
            "dense_5 (Dense)              (None, 10)                1290      \n",
            "=================================================================\n",
            "Total params: 135,818\n",
            "Trainable params: 135,306\n",
            "Non-trainable params: 512\n",
            "_________________________________________________________________\n"
          ],
          "name": "stdout"
        }
      ]
    },
    {
      "cell_type": "code",
      "metadata": {
        "id": "tb4mSZu9g_NL",
        "colab_type": "code",
        "colab": {
          "base_uri": "https://localhost:8080/",
          "height": 1000
        },
        "outputId": "2f283aa8-a1f1-4730-b89d-158d507bb43b"
      },
      "source": [
        "history = model.fit(train_X, train_Y, epochs=40, validation_split=0.25)"
      ],
      "execution_count": 9,
      "outputs": [
        {
          "output_type": "stream",
          "text": [
            "Epoch 1/40\n",
            "1407/1407 [==============================] - 7s 5ms/step - loss: 0.5542 - accuracy: 0.8095 - val_loss: 0.5028 - val_accuracy: 0.8203\n",
            "Epoch 2/40\n",
            "1407/1407 [==============================] - 7s 5ms/step - loss: 0.4193 - accuracy: 0.8480 - val_loss: 0.4213 - val_accuracy: 0.8434\n",
            "Epoch 3/40\n",
            "1407/1407 [==============================] - 8s 6ms/step - loss: 0.3768 - accuracy: 0.8623 - val_loss: 0.4185 - val_accuracy: 0.8489\n",
            "Epoch 4/40\n",
            "1407/1407 [==============================] - 7s 5ms/step - loss: 0.3465 - accuracy: 0.8729 - val_loss: 0.4099 - val_accuracy: 0.8501\n",
            "Epoch 5/40\n",
            "1407/1407 [==============================] - 7s 5ms/step - loss: 0.3282 - accuracy: 0.8797 - val_loss: 0.3598 - val_accuracy: 0.8695\n",
            "Epoch 6/40\n",
            "1407/1407 [==============================] - 8s 5ms/step - loss: 0.3137 - accuracy: 0.8836 - val_loss: 0.3612 - val_accuracy: 0.8711\n",
            "Epoch 7/40\n",
            "1407/1407 [==============================] - 7s 5ms/step - loss: 0.2973 - accuracy: 0.8891 - val_loss: 0.4051 - val_accuracy: 0.8608\n",
            "Epoch 8/40\n",
            "1407/1407 [==============================] - 7s 5ms/step - loss: 0.2881 - accuracy: 0.8938 - val_loss: 0.4009 - val_accuracy: 0.8501\n",
            "Epoch 9/40\n",
            "1407/1407 [==============================] - 7s 5ms/step - loss: 0.2828 - accuracy: 0.8941 - val_loss: 0.3165 - val_accuracy: 0.8842\n",
            "Epoch 10/40\n",
            "1407/1407 [==============================] - 7s 5ms/step - loss: 0.2711 - accuracy: 0.8980 - val_loss: 0.3614 - val_accuracy: 0.8718\n",
            "Epoch 11/40\n",
            "1407/1407 [==============================] - 7s 5ms/step - loss: 0.2587 - accuracy: 0.9046 - val_loss: 0.3532 - val_accuracy: 0.8765\n",
            "Epoch 12/40\n",
            "1407/1407 [==============================] - 7s 5ms/step - loss: 0.2588 - accuracy: 0.9030 - val_loss: 0.3497 - val_accuracy: 0.8801\n",
            "Epoch 13/40\n",
            "1407/1407 [==============================] - 7s 5ms/step - loss: 0.2513 - accuracy: 0.9064 - val_loss: 0.3331 - val_accuracy: 0.8854\n",
            "Epoch 14/40\n",
            "1407/1407 [==============================] - 7s 5ms/step - loss: 0.2410 - accuracy: 0.9096 - val_loss: 0.3926 - val_accuracy: 0.8697\n",
            "Epoch 15/40\n",
            "1407/1407 [==============================] - 7s 5ms/step - loss: 0.2415 - accuracy: 0.9090 - val_loss: 0.3409 - val_accuracy: 0.8843\n",
            "Epoch 16/40\n",
            "1407/1407 [==============================] - 7s 5ms/step - loss: 0.2306 - accuracy: 0.9123 - val_loss: 0.3486 - val_accuracy: 0.8834\n",
            "Epoch 17/40\n",
            "1407/1407 [==============================] - 7s 5ms/step - loss: 0.2262 - accuracy: 0.9145 - val_loss: 0.3500 - val_accuracy: 0.8810\n",
            "Epoch 18/40\n",
            "1407/1407 [==============================] - 7s 5ms/step - loss: 0.2224 - accuracy: 0.9156 - val_loss: 0.3744 - val_accuracy: 0.8759\n",
            "Epoch 19/40\n",
            "1407/1407 [==============================] - 7s 5ms/step - loss: 0.2164 - accuracy: 0.9175 - val_loss: 0.3668 - val_accuracy: 0.8742\n",
            "Epoch 20/40\n",
            "1407/1407 [==============================] - 7s 5ms/step - loss: 0.2122 - accuracy: 0.9195 - val_loss: 0.3613 - val_accuracy: 0.8801\n",
            "Epoch 21/40\n",
            "1407/1407 [==============================] - 7s 5ms/step - loss: 0.2082 - accuracy: 0.9218 - val_loss: 0.3739 - val_accuracy: 0.8788\n",
            "Epoch 22/40\n",
            "1407/1407 [==============================] - 7s 5ms/step - loss: 0.2050 - accuracy: 0.9230 - val_loss: 0.4299 - val_accuracy: 0.8752\n",
            "Epoch 23/40\n",
            "1407/1407 [==============================] - 7s 5ms/step - loss: 0.2005 - accuracy: 0.9237 - val_loss: 0.3617 - val_accuracy: 0.8841\n",
            "Epoch 24/40\n",
            "1407/1407 [==============================] - 7s 5ms/step - loss: 0.2033 - accuracy: 0.9224 - val_loss: 0.3885 - val_accuracy: 0.8764\n",
            "Epoch 25/40\n",
            "1407/1407 [==============================] - 7s 5ms/step - loss: 0.1953 - accuracy: 0.9256 - val_loss: 0.3803 - val_accuracy: 0.8853\n",
            "Epoch 26/40\n",
            "1407/1407 [==============================] - 7s 5ms/step - loss: 0.1959 - accuracy: 0.9251 - val_loss: 0.3737 - val_accuracy: 0.8825\n",
            "Epoch 27/40\n",
            "1407/1407 [==============================] - 7s 5ms/step - loss: 0.1868 - accuracy: 0.9290 - val_loss: 0.4028 - val_accuracy: 0.8760\n",
            "Epoch 28/40\n",
            "1407/1407 [==============================] - 7s 5ms/step - loss: 0.1912 - accuracy: 0.9269 - val_loss: 0.4068 - val_accuracy: 0.8802\n",
            "Epoch 29/40\n",
            "1407/1407 [==============================] - 7s 5ms/step - loss: 0.1814 - accuracy: 0.9305 - val_loss: 0.3826 - val_accuracy: 0.8783\n",
            "Epoch 30/40\n",
            "1407/1407 [==============================] - 7s 5ms/step - loss: 0.1802 - accuracy: 0.9317 - val_loss: 0.3856 - val_accuracy: 0.8801\n",
            "Epoch 31/40\n",
            "1407/1407 [==============================] - 7s 5ms/step - loss: 0.1732 - accuracy: 0.9347 - val_loss: 0.3684 - val_accuracy: 0.8872\n",
            "Epoch 32/40\n",
            "1407/1407 [==============================] - 7s 5ms/step - loss: 0.1687 - accuracy: 0.9348 - val_loss: 0.3770 - val_accuracy: 0.8863\n",
            "Epoch 33/40\n",
            "1407/1407 [==============================] - 7s 5ms/step - loss: 0.1638 - accuracy: 0.9368 - val_loss: 0.3928 - val_accuracy: 0.8829\n",
            "Epoch 34/40\n",
            "1407/1407 [==============================] - 7s 5ms/step - loss: 0.1619 - accuracy: 0.9384 - val_loss: 0.3836 - val_accuracy: 0.8849\n",
            "Epoch 35/40\n",
            "1407/1407 [==============================] - 7s 5ms/step - loss: 0.1617 - accuracy: 0.9383 - val_loss: 0.4031 - val_accuracy: 0.8836\n",
            "Epoch 36/40\n",
            "1407/1407 [==============================] - 7s 5ms/step - loss: 0.1548 - accuracy: 0.9408 - val_loss: 0.4204 - val_accuracy: 0.8847\n",
            "Epoch 37/40\n",
            "1407/1407 [==============================] - 8s 5ms/step - loss: 0.1543 - accuracy: 0.9420 - val_loss: 0.4100 - val_accuracy: 0.8819\n",
            "Epoch 38/40\n",
            "1407/1407 [==============================] - 7s 5ms/step - loss: 0.1655 - accuracy: 0.9380 - val_loss: 0.3819 - val_accuracy: 0.8823\n",
            "Epoch 39/40\n",
            "1407/1407 [==============================] - 7s 5ms/step - loss: 0.1593 - accuracy: 0.9404 - val_loss: 0.4158 - val_accuracy: 0.8785\n",
            "Epoch 40/40\n",
            "1407/1407 [==============================] - 7s 5ms/step - loss: 0.1530 - accuracy: 0.9423 - val_loss: 0.3854 - val_accuracy: 0.8891\n"
          ],
          "name": "stdout"
        }
      ]
    },
    {
      "cell_type": "code",
      "metadata": {
        "id": "ZCeLWs66g_NP",
        "colab_type": "code",
        "colab": {
          "base_uri": "https://localhost:8080/",
          "height": 289
        },
        "outputId": "6007840b-5097-414e-8d54-b053ffea54e7"
      },
      "source": [
        "import matplotlib.pyplot as plt\n",
        "plt.figure(figsize=(12, 4))\n",
        "\n",
        "plt.subplot(1, 2, 1)\n",
        "plt.plot(history.history['loss'], 'b-', label='loss')\n",
        "plt.plot(history.history['val_loss'], 'r--', label='val_loss')\n",
        "plt.xlabel('Epoch')\n",
        "plt.legend()\n",
        "\n",
        "plt.subplot(1, 2, 2)\n",
        "plt.plot(history.history['accuracy'], 'g-', label='accuracy')\n",
        "plt.plot(history.history['val_accuracy'], 'k--', label='val_accuracy')\n",
        "plt.xlabel('Epoch')\n",
        "plt.ylim(0.7, 1)\n",
        "plt.legend()\n",
        "\n",
        "plt.show()\n",
        "\n",
        "model.evaluate(test_X, test_Y)"
      ],
      "execution_count": 10,
      "outputs": [
        {
          "output_type": "display_data",
          "data": {
            "image/png": "[encoded data removed]",
            "text/plain": [
              "<Figure size 864x288 with 2 Axes>"
            ]
          },
          "metadata": {
            "tags": [],
            "needs_background": "light"
          }
        },
        {
          "output_type": "stream",
          "text": [
            "313/313 [==============================] - 1s 3ms/step - loss: 0.4278 - accuracy: 0.8862\n"
          ],
          "name": "stdout"
        },
        {
          "output_type": "execute_result",
          "data": {
            "text/plain": [
              "[0.42781034111976624, 0.8862000107765198]"
            ]
          },
          "metadata": {
            "tags": []
          },
          "execution_count": 10
        }
      ]
    },
    {
      "cell_type": "markdown",
      "metadata": {
        "id": "JKGc9bOng_NU",
        "colab_type": "text"
      },
      "source": [
        "## CNN 구조"
      ]
    },
    {
      "cell_type": "markdown",
      "metadata": {
        "id": "ltwjMgA6g_NV",
        "colab_type": "text"
      },
      "source": [
        "### 구조적인 부분"
      ]
    },
    {
      "cell_type": "markdown",
      "metadata": {
        "id": "Ur0NLOnug_NV",
        "colab_type": "text"
      },
      "source": [
        "#### 단순 Conv Layer들로만 사용하는 구조"
      ]
    },
    {
      "cell_type": "code",
      "metadata": {
        "id": "Ux4muNwYg_NW",
        "colab_type": "code",
        "colab": {}
      },
      "source": [
        "fashion_mnist = tf.keras.datasets.fashion_mnist\n",
        "(train_X, train_Y), (test_X, test_Y) = fashion_mnist.load_data()\n",
        "\n",
        "train_X = train_X/255\n",
        "test_X = test_X/255"
      ],
      "execution_count": 11,
      "outputs": []
    },
    {
      "cell_type": "code",
      "metadata": {
        "id": "4fLPosZ0g_Na",
        "colab_type": "code",
        "colab": {
          "base_uri": "https://localhost:8080/",
          "height": 36
        },
        "outputId": "49b1ffa2-a0cb-4ccd-9291-59e4c6d165d1"
      },
      "source": [
        "print(train_X.shape, test_X.shape)"
      ],
      "execution_count": 12,
      "outputs": [
        {
          "output_type": "stream",
          "text": [
            "(60000, 28, 28) (10000, 28, 28)\n"
          ],
          "name": "stdout"
        }
      ]
    },
    {
      "cell_type": "code",
      "metadata": {
        "id": "1UhqkHyZg_Ne",
        "colab_type": "code",
        "colab": {
          "base_uri": "https://localhost:8080/",
          "height": 36
        },
        "outputId": "f0b12ac4-1f07-4144-bbad-fac2267cdb7b"
      },
      "source": [
        "train_X = train_X.reshape(-1, 28,28,1) # (60000,28,28) -->(60000,28,28,1)\n",
        "test_X = test_X.reshape(-1, 28,28,1) ## (10000,28,28)--> (10000, 28, 28,1)\n",
        "\n",
        "# reshape 이후\n",
        "print(train_X.shape, test_X.shape)"
      ],
      "execution_count": 13,
      "outputs": [
        {
          "output_type": "stream",
          "text": [
            "(60000, 28, 28, 1) (10000, 28, 28, 1)\n"
          ],
          "name": "stdout"
        }
      ]
    },
    {
      "cell_type": "code",
      "metadata": {
        "id": "tMwqTngIg_Nj",
        "colab_type": "code",
        "colab": {
          "base_uri": "https://localhost:8080/",
          "height": 394
        },
        "outputId": "af4b64f4-23c4-4265-af5a-444a522aa374"
      },
      "source": [
        "model = tf.keras.Sequential([\n",
        "    # 입력레이어 + 처음 conv레이어 설계로...특징들추출..\n",
        "    tf.keras.layers.Conv2D(input_shape=(28,28,1), kernel_size=(3,3), filters=16),\n",
        "    tf.keras.layers.Conv2D(kernel_size=(3,3), filters=32),\n",
        "    tf.keras.layers.Conv2D(kernel_size=(3,3), filters=64),\n",
        "    # 분류 NN을 하기 위해서 평탄화작업...\n",
        "    tf.keras.layers.Flatten(),\n",
        "    tf.keras.layers.Dense(units=128, activation=\"relu\"),\n",
        "    # 출력단을 설계.....분류가 10개 종류...\n",
        "    tf.keras.layers.Dense(units=10, activation=\"softmax\")\n",
        "])\n",
        "# 그 구조에 대한 파라미터 어떻게...\n",
        "model.compile(optimizer=tf.keras.optimizers.Adam(),\n",
        "             loss=\"sparse_categorical_crossentropy\",\n",
        "             metrics=[\"accuracy\"])\n",
        "\n",
        "model.summary()"
      ],
      "execution_count": 14,
      "outputs": [
        {
          "output_type": "stream",
          "text": [
            "Model: \"sequential_2\"\n",
            "_________________________________________________________________\n",
            "Layer (type)                 Output Shape              Param #   \n",
            "=================================================================\n",
            "conv2d (Conv2D)              (None, 26, 26, 16)        160       \n",
            "_________________________________________________________________\n",
            "conv2d_1 (Conv2D)            (None, 24, 24, 32)        4640      \n",
            "_________________________________________________________________\n",
            "conv2d_2 (Conv2D)            (None, 22, 22, 64)        18496     \n",
            "_________________________________________________________________\n",
            "flatten_2 (Flatten)          (None, 30976)             0         \n",
            "_________________________________________________________________\n",
            "dense_6 (Dense)              (None, 128)               3965056   \n",
            "_________________________________________________________________\n",
            "dense_7 (Dense)              (None, 10)                1290      \n",
            "=================================================================\n",
            "Total params: 3,989,642\n",
            "Trainable params: 3,989,642\n",
            "Non-trainable params: 0\n",
            "_________________________________________________________________\n"
          ],
          "name": "stdout"
        }
      ]
    },
    {
      "cell_type": "code",
      "metadata": {
        "id": "8982T5ydg_Nm",
        "colab_type": "code",
        "colab": {
          "base_uri": "https://localhost:8080/",
          "height": 1000
        },
        "outputId": "9463b04c-126a-4090-93ee-fcda51dfc715"
      },
      "source": [
        "history = model.fit(train_X, train_Y, epochs=40, validation_split=0.25)"
      ],
      "execution_count": 15,
      "outputs": [
        {
          "output_type": "stream",
          "text": [
            "Epoch 1/40\n",
            "1407/1407 [==============================] - 13s 9ms/step - loss: 0.4679 - accuracy: 0.8331 - val_loss: 0.3912 - val_accuracy: 0.8591\n",
            "Epoch 2/40\n",
            "1407/1407 [==============================] - 12s 9ms/step - loss: 0.3392 - accuracy: 0.8760 - val_loss: 0.3878 - val_accuracy: 0.8667\n",
            "Epoch 3/40\n",
            "1407/1407 [==============================] - 13s 9ms/step - loss: 0.2883 - accuracy: 0.8940 - val_loss: 0.4008 - val_accuracy: 0.8658\n",
            "Epoch 4/40\n",
            "1407/1407 [==============================] - 13s 9ms/step - loss: 0.2436 - accuracy: 0.9092 - val_loss: 0.4024 - val_accuracy: 0.8705\n",
            "Epoch 5/40\n",
            "1407/1407 [==============================] - 12s 9ms/step - loss: 0.2100 - accuracy: 0.9218 - val_loss: 0.4180 - val_accuracy: 0.8735\n",
            "Epoch 6/40\n",
            "1407/1407 [==============================] - 12s 9ms/step - loss: 0.1869 - accuracy: 0.9307 - val_loss: 0.4614 - val_accuracy: 0.8723\n",
            "Epoch 7/40\n",
            "1407/1407 [==============================] - 12s 9ms/step - loss: 0.1680 - accuracy: 0.9385 - val_loss: 0.4898 - val_accuracy: 0.8687\n",
            "Epoch 8/40\n",
            "1407/1407 [==============================] - 12s 9ms/step - loss: 0.1460 - accuracy: 0.9473 - val_loss: 0.6007 - val_accuracy: 0.8682\n",
            "Epoch 9/40\n",
            "1407/1407 [==============================] - 12s 9ms/step - loss: 0.1382 - accuracy: 0.9501 - val_loss: 0.6081 - val_accuracy: 0.8616\n",
            "Epoch 10/40\n",
            "1407/1407 [==============================] - 12s 9ms/step - loss: 0.1230 - accuracy: 0.9554 - val_loss: 0.6555 - val_accuracy: 0.8622\n",
            "Epoch 11/40\n",
            "1407/1407 [==============================] - 12s 9ms/step - loss: 0.1111 - accuracy: 0.9592 - val_loss: 0.7039 - val_accuracy: 0.8601\n",
            "Epoch 12/40\n",
            "1407/1407 [==============================] - 12s 9ms/step - loss: 0.1029 - accuracy: 0.9619 - val_loss: 0.7033 - val_accuracy: 0.8679\n",
            "Epoch 13/40\n",
            "1407/1407 [==============================] - 12s 9ms/step - loss: 0.1032 - accuracy: 0.9628 - val_loss: 0.8226 - val_accuracy: 0.8611\n",
            "Epoch 14/40\n",
            "1407/1407 [==============================] - 12s 9ms/step - loss: 0.0980 - accuracy: 0.9660 - val_loss: 0.8450 - val_accuracy: 0.8629\n",
            "Epoch 15/40\n",
            "1407/1407 [==============================] - 13s 9ms/step - loss: 0.0810 - accuracy: 0.9720 - val_loss: 0.8416 - val_accuracy: 0.8632\n",
            "Epoch 16/40\n",
            "1407/1407 [==============================] - 12s 9ms/step - loss: 0.0856 - accuracy: 0.9697 - val_loss: 0.8978 - val_accuracy: 0.8610\n",
            "Epoch 17/40\n",
            "1407/1407 [==============================] - 12s 9ms/step - loss: 0.0782 - accuracy: 0.9719 - val_loss: 1.0163 - val_accuracy: 0.8621\n",
            "Epoch 18/40\n",
            "1407/1407 [==============================] - 13s 9ms/step - loss: 0.0812 - accuracy: 0.9714 - val_loss: 0.9925 - val_accuracy: 0.8597\n",
            "Epoch 19/40\n",
            "1407/1407 [==============================] - 12s 9ms/step - loss: 0.0694 - accuracy: 0.9761 - val_loss: 1.0211 - val_accuracy: 0.8653\n",
            "Epoch 20/40\n",
            "1407/1407 [==============================] - 12s 9ms/step - loss: 0.0699 - accuracy: 0.9757 - val_loss: 1.1131 - val_accuracy: 0.8623\n",
            "Epoch 21/40\n",
            "1407/1407 [==============================] - 12s 9ms/step - loss: 0.0771 - accuracy: 0.9747 - val_loss: 1.0270 - val_accuracy: 0.8671\n",
            "Epoch 22/40\n",
            "1407/1407 [==============================] - 12s 9ms/step - loss: 0.0531 - accuracy: 0.9812 - val_loss: 1.2477 - val_accuracy: 0.8561\n",
            "Epoch 23/40\n",
            "1407/1407 [==============================] - 12s 9ms/step - loss: 0.0723 - accuracy: 0.9763 - val_loss: 1.2632 - val_accuracy: 0.8603\n",
            "Epoch 24/40\n",
            "1407/1407 [==============================] - 12s 9ms/step - loss: 0.0602 - accuracy: 0.9795 - val_loss: 1.1990 - val_accuracy: 0.8636\n",
            "Epoch 25/40\n",
            "1407/1407 [==============================] - 12s 9ms/step - loss: 0.0616 - accuracy: 0.9796 - val_loss: 1.4935 - val_accuracy: 0.8579\n",
            "Epoch 26/40\n",
            "1407/1407 [==============================] - 12s 9ms/step - loss: 0.0639 - accuracy: 0.9794 - val_loss: 1.3376 - val_accuracy: 0.8648\n",
            "Epoch 27/40\n",
            "1407/1407 [==============================] - 13s 9ms/step - loss: 0.0626 - accuracy: 0.9807 - val_loss: 1.3211 - val_accuracy: 0.8641\n",
            "Epoch 28/40\n",
            "1407/1407 [==============================] - 13s 9ms/step - loss: 0.0608 - accuracy: 0.9813 - val_loss: 1.3219 - val_accuracy: 0.8593\n",
            "Epoch 29/40\n",
            "1407/1407 [==============================] - 13s 9ms/step - loss: 0.0548 - accuracy: 0.9822 - val_loss: 1.3529 - val_accuracy: 0.8626\n",
            "Epoch 30/40\n",
            "1407/1407 [==============================] - 13s 9ms/step - loss: 0.0629 - accuracy: 0.9801 - val_loss: 1.6052 - val_accuracy: 0.8586\n",
            "Epoch 31/40\n",
            "1407/1407 [==============================] - 13s 9ms/step - loss: 0.0626 - accuracy: 0.9819 - val_loss: 1.3672 - val_accuracy: 0.8609\n",
            "Epoch 32/40\n",
            "1407/1407 [==============================] - 13s 9ms/step - loss: 0.0509 - accuracy: 0.9842 - val_loss: 1.3508 - val_accuracy: 0.8632\n",
            "Epoch 33/40\n",
            "1407/1407 [==============================] - 13s 9ms/step - loss: 0.0517 - accuracy: 0.9842 - val_loss: 1.3998 - val_accuracy: 0.8595\n",
            "Epoch 34/40\n",
            "1407/1407 [==============================] - 13s 9ms/step - loss: 0.0502 - accuracy: 0.9842 - val_loss: 1.6357 - val_accuracy: 0.8610\n",
            "Epoch 35/40\n",
            "1407/1407 [==============================] - 13s 9ms/step - loss: 0.0616 - accuracy: 0.9825 - val_loss: 1.6654 - val_accuracy: 0.8579\n",
            "Epoch 36/40\n",
            "1407/1407 [==============================] - 12s 9ms/step - loss: 0.0553 - accuracy: 0.9837 - val_loss: 1.6200 - val_accuracy: 0.8642\n",
            "Epoch 37/40\n",
            "1407/1407 [==============================] - 12s 9ms/step - loss: 0.0516 - accuracy: 0.9858 - val_loss: 1.8603 - val_accuracy: 0.8577\n",
            "Epoch 38/40\n",
            "1407/1407 [==============================] - 12s 9ms/step - loss: 0.0459 - accuracy: 0.9860 - val_loss: 1.6836 - val_accuracy: 0.8627\n",
            "Epoch 39/40\n",
            "1407/1407 [==============================] - 12s 9ms/step - loss: 0.0523 - accuracy: 0.9850 - val_loss: 1.8565 - val_accuracy: 0.8616\n",
            "Epoch 40/40\n",
            "1407/1407 [==============================] - 12s 9ms/step - loss: 0.0653 - accuracy: 0.9826 - val_loss: 2.1120 - val_accuracy: 0.8555\n"
          ],
          "name": "stdout"
        }
      ]
    },
    {
      "cell_type": "code",
      "metadata": {
        "id": "lTRHBRcRg_Nq",
        "colab_type": "code",
        "colab": {
          "base_uri": "https://localhost:8080/",
          "height": 291
        },
        "outputId": "c0e67432-3a0f-4c33-95d2-9701feea18c5"
      },
      "source": [
        "import matplotlib.pyplot as plt\n",
        "plt.figure(figsize=(12, 4))\n",
        "\n",
        "plt.subplot(1, 2, 1)\n",
        "plt.plot(history.history[\"loss\"], \"b-\", label=\"train_loss\")\n",
        "plt.plot(history.history[\"val_loss\"], \"r--\", label=\"test_loss\")\n",
        "plt.xlabel('Epoch')\n",
        "plt.legend()\n",
        "plt.subplot(1, 2, 2)\n",
        "plt.plot(history.history[\"accuracy\"], \"b-\", label=\"train_accuracy\")\n",
        "plt.plot(history.history[\"val_accuracy\"], \"r--\", label=\"test_accuracy\")\n",
        "plt.xlabel('Epoch')\n",
        "plt.ylim(0.7, 1)\n",
        "plt.legend()\n",
        "plt.show()\n",
        "\n",
        "model.evaluate(test_X, test_Y)"
      ],
      "execution_count": 16,
      "outputs": [
        {
          "output_type": "display_data",
          "data": {
            "image/png": "[encoded data removed]",
            "text/plain": [
              "<Figure size 864x288 with 2 Axes>"
            ]
          },
          "metadata": {
            "tags": [],
            "needs_background": "light"
          }
        },
        {
          "output_type": "stream",
          "text": [
            "313/313 [==============================] - 1s 4ms/step - loss: 2.0857 - accuracy: 0.8509\n"
          ],
          "name": "stdout"
        },
        {
          "output_type": "execute_result",
          "data": {
            "text/plain": [
              "[2.085719585418701, 0.8508999943733215]"
            ]
          },
          "metadata": {
            "tags": []
          },
          "execution_count": 16
        }
      ]
    },
    {
      "cell_type": "markdown",
      "metadata": {
        "id": "C2Hb1W8Xg_Nt",
        "colab_type": "text"
      },
      "source": [
        "#### Conv + Pooling + Dropout 구조"
      ]
    },
    {
      "cell_type": "code",
      "metadata": {
        "id": "gY7Qdn2Jg_Nt",
        "colab_type": "code",
        "colab": {
          "base_uri": "https://localhost:8080/",
          "height": 507
        },
        "outputId": "7d097a6f-0ce7-4e2f-b2b0-42b254dedad2"
      },
      "source": [
        "model = tf.keras.Sequential([\n",
        "    # 입력레이어 + 처음 conv레이어 설계로...특징들추출..\n",
        "    tf.keras.layers.Conv2D(input_shape=(28,28,1), kernel_size=(3,3), filters=16, padding=\"same\"),\n",
        "    tf.keras.layers.MaxPool2D(strides=(2,2)),\n",
        "    tf.keras.layers.Conv2D(kernel_size=(3,3), filters=32),\n",
        "    tf.keras.layers.MaxPool2D(strides=(2,2)),\n",
        "    tf.keras.layers.Conv2D(kernel_size=(3,3), filters=64),\n",
        "    # 분류 NN을 하기 위해서 평탄화작업...\n",
        "    tf.keras.layers.Flatten(),\n",
        "    tf.keras.layers.Dense(units=128, activation=\"relu\"),\n",
        "    tf.keras.layers.Dropout(rate=0.2),\n",
        "    # 출력단을 설계.....분류가 10개 종류...\n",
        "    tf.keras.layers.Dense(units=10, activation=\"softmax\")\n",
        "])\n",
        "# 그 구조에 대한 파라미터 어떻게...\n",
        "model.compile(optimizer=tf.keras.optimizers.Adam(),\n",
        "             loss=\"sparse_categorical_crossentropy\",\n",
        "             metrics=[\"accuracy\"])\n",
        "\n",
        "model.summary()"
      ],
      "execution_count": 17,
      "outputs": [
        {
          "output_type": "stream",
          "text": [
            "Model: \"sequential_3\"\n",
            "_________________________________________________________________\n",
            "Layer (type)                 Output Shape              Param #   \n",
            "=================================================================\n",
            "conv2d_3 (Conv2D)            (None, 28, 28, 16)        160       \n",
            "_________________________________________________________________\n",
            "max_pooling2d (MaxPooling2D) (None, 14, 14, 16)        0         \n",
            "_________________________________________________________________\n",
            "conv2d_4 (Conv2D)            (None, 12, 12, 32)        4640      \n",
            "_________________________________________________________________\n",
            "max_pooling2d_1 (MaxPooling2 (None, 6, 6, 32)          0         \n",
            "_________________________________________________________________\n",
            "conv2d_5 (Conv2D)            (None, 4, 4, 64)          18496     \n",
            "_________________________________________________________________\n",
            "flatten_3 (Flatten)          (None, 1024)              0         \n",
            "_________________________________________________________________\n",
            "dense_8 (Dense)              (None, 128)               131200    \n",
            "_________________________________________________________________\n",
            "dropout (Dropout)            (None, 128)               0         \n",
            "_________________________________________________________________\n",
            "dense_9 (Dense)              (None, 10)                1290      \n",
            "=================================================================\n",
            "Total params: 155,786\n",
            "Trainable params: 155,786\n",
            "Non-trainable params: 0\n",
            "_________________________________________________________________\n"
          ],
          "name": "stdout"
        }
      ]
    },
    {
      "cell_type": "code",
      "metadata": {
        "id": "CvE0Ca4Jg_Nv",
        "colab_type": "code",
        "colab": {
          "base_uri": "https://localhost:8080/",
          "height": 1000
        },
        "outputId": "a18010d3-7e46-4b1e-9066-e56a04305c9c"
      },
      "source": [
        "history = model.fit(train_X, train_Y, epochs=40, validation_split=0.25)\n"
      ],
      "execution_count": 18,
      "outputs": [
        {
          "output_type": "stream",
          "text": [
            "Epoch 1/40\n",
            "1407/1407 [==============================] - 8s 5ms/step - loss: 0.4801 - accuracy: 0.8251 - val_loss: 0.3464 - val_accuracy: 0.8725\n",
            "Epoch 2/40\n",
            "1407/1407 [==============================] - 8s 5ms/step - loss: 0.3321 - accuracy: 0.8812 - val_loss: 0.2958 - val_accuracy: 0.8905\n",
            "Epoch 3/40\n",
            "1407/1407 [==============================] - 8s 5ms/step - loss: 0.2883 - accuracy: 0.8941 - val_loss: 0.2934 - val_accuracy: 0.8903\n",
            "Epoch 4/40\n",
            "1407/1407 [==============================] - 8s 5ms/step - loss: 0.2601 - accuracy: 0.9054 - val_loss: 0.2874 - val_accuracy: 0.8969\n",
            "Epoch 5/40\n",
            "1407/1407 [==============================] - 8s 5ms/step - loss: 0.2388 - accuracy: 0.9119 - val_loss: 0.2928 - val_accuracy: 0.8950\n",
            "Epoch 6/40\n",
            "1407/1407 [==============================] - 8s 5ms/step - loss: 0.2196 - accuracy: 0.9204 - val_loss: 0.2748 - val_accuracy: 0.9066\n",
            "Epoch 7/40\n",
            "1407/1407 [==============================] - 8s 6ms/step - loss: 0.2064 - accuracy: 0.9220 - val_loss: 0.3045 - val_accuracy: 0.9007\n",
            "Epoch 8/40\n",
            "1407/1407 [==============================] - 8s 5ms/step - loss: 0.1910 - accuracy: 0.9298 - val_loss: 0.2738 - val_accuracy: 0.9067\n",
            "Epoch 9/40\n",
            "1407/1407 [==============================] - 8s 5ms/step - loss: 0.1782 - accuracy: 0.9338 - val_loss: 0.2882 - val_accuracy: 0.9034\n",
            "Epoch 10/40\n",
            "1407/1407 [==============================] - 8s 5ms/step - loss: 0.1628 - accuracy: 0.9396 - val_loss: 0.2906 - val_accuracy: 0.9085\n",
            "Epoch 11/40\n",
            "1407/1407 [==============================] - 8s 5ms/step - loss: 0.1538 - accuracy: 0.9425 - val_loss: 0.2973 - val_accuracy: 0.9070\n",
            "Epoch 12/40\n",
            "1407/1407 [==============================] - 8s 5ms/step - loss: 0.1475 - accuracy: 0.9437 - val_loss: 0.3168 - val_accuracy: 0.9108\n",
            "Epoch 13/40\n",
            "1407/1407 [==============================] - 8s 5ms/step - loss: 0.1371 - accuracy: 0.9490 - val_loss: 0.3179 - val_accuracy: 0.9064\n",
            "Epoch 14/40\n",
            "1407/1407 [==============================] - 8s 5ms/step - loss: 0.1297 - accuracy: 0.9519 - val_loss: 0.3285 - val_accuracy: 0.9047\n",
            "Epoch 15/40\n",
            "1407/1407 [==============================] - 8s 5ms/step - loss: 0.1251 - accuracy: 0.9533 - val_loss: 0.3418 - val_accuracy: 0.9085\n",
            "Epoch 16/40\n",
            "1407/1407 [==============================] - 8s 5ms/step - loss: 0.1187 - accuracy: 0.9547 - val_loss: 0.3455 - val_accuracy: 0.9031\n",
            "Epoch 17/40\n",
            "1407/1407 [==============================] - 8s 6ms/step - loss: 0.1111 - accuracy: 0.9574 - val_loss: 0.3808 - val_accuracy: 0.9071\n",
            "Epoch 18/40\n",
            "1407/1407 [==============================] - 8s 5ms/step - loss: 0.1105 - accuracy: 0.9589 - val_loss: 0.3679 - val_accuracy: 0.9069\n",
            "Epoch 19/40\n",
            "1407/1407 [==============================] - 8s 6ms/step - loss: 0.1021 - accuracy: 0.9616 - val_loss: 0.3728 - val_accuracy: 0.9049\n",
            "Epoch 20/40\n",
            "1407/1407 [==============================] - 9s 6ms/step - loss: 0.1047 - accuracy: 0.9622 - val_loss: 0.3805 - val_accuracy: 0.9045\n",
            "Epoch 21/40\n",
            "1407/1407 [==============================] - 8s 6ms/step - loss: 0.1001 - accuracy: 0.9635 - val_loss: 0.3824 - val_accuracy: 0.9060\n",
            "Epoch 22/40\n",
            "1407/1407 [==============================] - 8s 6ms/step - loss: 0.0938 - accuracy: 0.9652 - val_loss: 0.4363 - val_accuracy: 0.9042\n",
            "Epoch 23/40\n",
            "1407/1407 [==============================] - 8s 5ms/step - loss: 0.0909 - accuracy: 0.9662 - val_loss: 0.4862 - val_accuracy: 0.9010\n",
            "Epoch 24/40\n",
            "1407/1407 [==============================] - 8s 5ms/step - loss: 0.0872 - accuracy: 0.9696 - val_loss: 0.4412 - val_accuracy: 0.9029\n",
            "Epoch 25/40\n",
            "1407/1407 [==============================] - 8s 5ms/step - loss: 0.0863 - accuracy: 0.9681 - val_loss: 0.4787 - val_accuracy: 0.9047\n",
            "Epoch 26/40\n",
            "1407/1407 [==============================] - 8s 5ms/step - loss: 0.0858 - accuracy: 0.9684 - val_loss: 0.4195 - val_accuracy: 0.9026\n",
            "Epoch 27/40\n",
            "1407/1407 [==============================] - 8s 5ms/step - loss: 0.0833 - accuracy: 0.9694 - val_loss: 0.4708 - val_accuracy: 0.9045\n",
            "Epoch 28/40\n",
            "1407/1407 [==============================] - 8s 6ms/step - loss: 0.0795 - accuracy: 0.9701 - val_loss: 0.4812 - val_accuracy: 0.9040\n",
            "Epoch 29/40\n",
            "1407/1407 [==============================] - 8s 5ms/step - loss: 0.0811 - accuracy: 0.9703 - val_loss: 0.4586 - val_accuracy: 0.9038\n",
            "Epoch 30/40\n",
            "1407/1407 [==============================] - 8s 5ms/step - loss: 0.0823 - accuracy: 0.9702 - val_loss: 0.4843 - val_accuracy: 0.9050\n",
            "Epoch 31/40\n",
            "1407/1407 [==============================] - 8s 5ms/step - loss: 0.0769 - accuracy: 0.9723 - val_loss: 0.5041 - val_accuracy: 0.9047\n",
            "Epoch 32/40\n",
            "1407/1407 [==============================] - 8s 5ms/step - loss: 0.0741 - accuracy: 0.9736 - val_loss: 0.4843 - val_accuracy: 0.8999\n",
            "Epoch 33/40\n",
            "1407/1407 [==============================] - 8s 5ms/step - loss: 0.0718 - accuracy: 0.9739 - val_loss: 0.5582 - val_accuracy: 0.9021\n",
            "Epoch 34/40\n",
            "1407/1407 [==============================] - 8s 5ms/step - loss: 0.0774 - accuracy: 0.9728 - val_loss: 0.4990 - val_accuracy: 0.9010\n",
            "Epoch 35/40\n",
            "1407/1407 [==============================] - 8s 5ms/step - loss: 0.0709 - accuracy: 0.9749 - val_loss: 0.5343 - val_accuracy: 0.9027\n",
            "Epoch 36/40\n",
            "1407/1407 [==============================] - 8s 5ms/step - loss: 0.0715 - accuracy: 0.9744 - val_loss: 0.6004 - val_accuracy: 0.9079\n",
            "Epoch 37/40\n",
            "1407/1407 [==============================] - 8s 5ms/step - loss: 0.0707 - accuracy: 0.9750 - val_loss: 0.5475 - val_accuracy: 0.9072\n",
            "Epoch 38/40\n",
            "1407/1407 [==============================] - 8s 5ms/step - loss: 0.0717 - accuracy: 0.9744 - val_loss: 0.5837 - val_accuracy: 0.9069\n",
            "Epoch 39/40\n",
            "1407/1407 [==============================] - 8s 5ms/step - loss: 0.0725 - accuracy: 0.9745 - val_loss: 0.5440 - val_accuracy: 0.9065\n",
            "Epoch 40/40\n",
            "1407/1407 [==============================] - 8s 5ms/step - loss: 0.0667 - accuracy: 0.9761 - val_loss: 0.5995 - val_accuracy: 0.9042\n"
          ],
          "name": "stdout"
        }
      ]
    },
    {
      "cell_type": "code",
      "metadata": {
        "id": "XBaDC3b_g_N0",
        "colab_type": "code",
        "colab": {
          "base_uri": "https://localhost:8080/",
          "height": 291
        },
        "outputId": "13a004cd-78c1-4560-8d37-ec835c140ee8"
      },
      "source": [
        "\n",
        "import matplotlib.pyplot as plt\n",
        "plt.figure(figsize=(12, 4))\n",
        "\n",
        "plt.subplot(1, 2, 1)\n",
        "plt.plot(history.history[\"loss\"], \"b-\", label=\"train_loss\")\n",
        "plt.plot(history.history[\"val_loss\"], \"r--\", label=\"val_loss\")\n",
        "plt.xlabel('Epoch')\n",
        "plt.legend()\n",
        "\n",
        "plt.subplot(1, 2, 2)\n",
        "plt.plot(history.history[\"accuracy\"], \"b-\", label=\"train_accuracy\")\n",
        "plt.plot(history.history[\"val_accuracy\"], \"r--\", label=\"val_accuracy\")\n",
        "plt.xlabel('Epoch')\n",
        "plt.ylim(0.7, 1)\n",
        "plt.legend()\n",
        "plt.show()\n",
        "\n",
        "model.evaluate(test_X, test_Y)"
      ],
      "execution_count": 19,
      "outputs": [
        {
          "output_type": "display_data",
          "data": {
            "image/png": "[encoded data removed]",
            "text/plain": [
              "<Figure size 864x288 with 2 Axes>"
            ]
          },
          "metadata": {
            "tags": [],
            "needs_background": "light"
          }
        },
        {
          "output_type": "stream",
          "text": [
            "313/313 [==============================] - 1s 3ms/step - loss: 0.6479 - accuracy: 0.8987\n"
          ],
          "name": "stdout"
        },
        {
          "output_type": "execute_result",
          "data": {
            "text/plain": [
              "[0.6478920578956604, 0.8986999988555908]"
            ]
          },
          "metadata": {
            "tags": []
          },
          "execution_count": 19
        }
      ]
    },
    {
      "cell_type": "markdown",
      "metadata": {
        "id": "MwqzW8rPg_N3",
        "colab_type": "text"
      },
      "source": [
        "#### VGG-16 구조 차용"
      ]
    },
    {
      "cell_type": "code",
      "metadata": {
        "id": "5N3Avyhvg_N4",
        "colab_type": "code",
        "colab": {
          "base_uri": "https://localhost:8080/",
          "height": 695
        },
        "outputId": "f08dec74-3200-4bcc-a17c-a4fa1278d076"
      },
      "source": [
        "model = tf.keras.Sequential([\n",
        "    tf.keras.layers.Conv2D(input_shape=(28,28,1),kernel_size=(3,3), filters=32, padding=\"same\", activation=\"relu\"),\n",
        "    tf.keras.layers.Conv2D(kernel_size=(3,3), filters=64, padding=\"same\", activation=\"relu\"),\n",
        "    tf.keras.layers.MaxPool2D(pool_size=(2,2)),\n",
        "    tf.keras.layers.Dropout(rate=0.5),\n",
        "    tf.keras.layers.Conv2D(kernel_size=(3,3), filters=128, padding=\"same\", activation=\"relu\"),\n",
        "    tf.keras.layers.Conv2D(kernel_size=(3,3), filters=256, padding=\"valid\", activation=\"relu\"),\n",
        "    tf.keras.layers.MaxPool2D(pool_size=(2,2)),\n",
        "    tf.keras.layers.Dropout(rate=0.5),\n",
        "    tf.keras.layers.Flatten(),\n",
        "    tf.keras.layers.Dense(units=512, activation=\"relu\"),\n",
        "    tf.keras.layers.Dropout(rate=0.5),\n",
        "    tf.keras.layers.Dense(units=256, activation=\"relu\"),\n",
        "    tf.keras.layers.Dropout(rate=0.5),\n",
        "    tf.keras.layers.Dense(units=10, activation=\"softmax\"),\n",
        "])\n",
        "\n",
        "# Adam, sparse-cate-crossentro, accuracy\n",
        "model.compile(optimizer=tf.keras.optimizers.Adam(),\n",
        "             loss= \"sparse_categorical_crossentropy\",\n",
        "             metrics=[\"accuracy\"])\n",
        "model.summary()"
      ],
      "execution_count": 20,
      "outputs": [
        {
          "output_type": "stream",
          "text": [
            "Model: \"sequential_4\"\n",
            "_________________________________________________________________\n",
            "Layer (type)                 Output Shape              Param #   \n",
            "=================================================================\n",
            "conv2d_6 (Conv2D)            (None, 28, 28, 32)        320       \n",
            "_________________________________________________________________\n",
            "conv2d_7 (Conv2D)            (None, 28, 28, 64)        18496     \n",
            "_________________________________________________________________\n",
            "max_pooling2d_2 (MaxPooling2 (None, 14, 14, 64)        0         \n",
            "_________________________________________________________________\n",
            "dropout_1 (Dropout)          (None, 14, 14, 64)        0         \n",
            "_________________________________________________________________\n",
            "conv2d_8 (Conv2D)            (None, 14, 14, 128)       73856     \n",
            "_________________________________________________________________\n",
            "conv2d_9 (Conv2D)            (None, 12, 12, 256)       295168    \n",
            "_________________________________________________________________\n",
            "max_pooling2d_3 (MaxPooling2 (None, 6, 6, 256)         0         \n",
            "_________________________________________________________________\n",
            "dropout_2 (Dropout)          (None, 6, 6, 256)         0         \n",
            "_________________________________________________________________\n",
            "flatten_4 (Flatten)          (None, 9216)              0         \n",
            "_________________________________________________________________\n",
            "dense_10 (Dense)             (None, 512)               4719104   \n",
            "_________________________________________________________________\n",
            "dropout_3 (Dropout)          (None, 512)               0         \n",
            "_________________________________________________________________\n",
            "dense_11 (Dense)             (None, 256)               131328    \n",
            "_________________________________________________________________\n",
            "dropout_4 (Dropout)          (None, 256)               0         \n",
            "_________________________________________________________________\n",
            "dense_12 (Dense)             (None, 10)                2570      \n",
            "=================================================================\n",
            "Total params: 5,240,842\n",
            "Trainable params: 5,240,842\n",
            "Non-trainable params: 0\n",
            "_________________________________________________________________\n"
          ],
          "name": "stdout"
        }
      ]
    },
    {
      "cell_type": "code",
      "metadata": {
        "id": "QDBDVsYGg_N7",
        "colab_type": "code",
        "colab": {
          "base_uri": "https://localhost:8080/",
          "height": 1000
        },
        "outputId": "da47e1c2-6571-423d-c008-0810a6a87cd0"
      },
      "source": [
        "history = model.fit(train_X, train_Y, epochs=40, validation_split=0.25)"
      ],
      "execution_count": 21,
      "outputs": [
        {
          "output_type": "stream",
          "text": [
            "Epoch 1/40\n",
            "1407/1407 [==============================] - 23s 16ms/step - loss: 0.5898 - accuracy: 0.7836 - val_loss: 0.3281 - val_accuracy: 0.8806\n",
            "Epoch 2/40\n",
            "1407/1407 [==============================] - 23s 16ms/step - loss: 0.3748 - accuracy: 0.8651 - val_loss: 0.2704 - val_accuracy: 0.9001\n",
            "Epoch 3/40\n",
            "1407/1407 [==============================] - 23s 16ms/step - loss: 0.3250 - accuracy: 0.8829 - val_loss: 0.3011 - val_accuracy: 0.8867\n",
            "Epoch 4/40\n",
            "1407/1407 [==============================] - 23s 16ms/step - loss: 0.3019 - accuracy: 0.8909 - val_loss: 0.2385 - val_accuracy: 0.9132\n",
            "Epoch 5/40\n",
            "1407/1407 [==============================] - 23s 16ms/step - loss: 0.2884 - accuracy: 0.8971 - val_loss: 0.2245 - val_accuracy: 0.9163\n",
            "Epoch 6/40\n",
            "1407/1407 [==============================] - 23s 16ms/step - loss: 0.2777 - accuracy: 0.8993 - val_loss: 0.2330 - val_accuracy: 0.9175\n",
            "Epoch 7/40\n",
            "1407/1407 [==============================] - 23s 17ms/step - loss: 0.2703 - accuracy: 0.9022 - val_loss: 0.2432 - val_accuracy: 0.9151\n",
            "Epoch 8/40\n",
            "1407/1407 [==============================] - 23s 16ms/step - loss: 0.2629 - accuracy: 0.9046 - val_loss: 0.2127 - val_accuracy: 0.9252\n",
            "Epoch 9/40\n",
            "1407/1407 [==============================] - 23s 16ms/step - loss: 0.2579 - accuracy: 0.9084 - val_loss: 0.2237 - val_accuracy: 0.9165\n",
            "Epoch 10/40\n",
            "1407/1407 [==============================] - 23s 16ms/step - loss: 0.2478 - accuracy: 0.9105 - val_loss: 0.2240 - val_accuracy: 0.9195\n",
            "Epoch 11/40\n",
            "1407/1407 [==============================] - 23s 16ms/step - loss: 0.2492 - accuracy: 0.9107 - val_loss: 0.2097 - val_accuracy: 0.9279\n",
            "Epoch 12/40\n",
            "1407/1407 [==============================] - 23s 16ms/step - loss: 0.2465 - accuracy: 0.9125 - val_loss: 0.2181 - val_accuracy: 0.9227\n",
            "Epoch 13/40\n",
            "1407/1407 [==============================] - 23s 16ms/step - loss: 0.2407 - accuracy: 0.9146 - val_loss: 0.2150 - val_accuracy: 0.9204\n",
            "Epoch 14/40\n",
            "1407/1407 [==============================] - 23s 16ms/step - loss: 0.2407 - accuracy: 0.9135 - val_loss: 0.2085 - val_accuracy: 0.9232\n",
            "Epoch 15/40\n",
            "1407/1407 [==============================] - 23s 16ms/step - loss: 0.2373 - accuracy: 0.9151 - val_loss: 0.2135 - val_accuracy: 0.9241\n",
            "Epoch 16/40\n",
            "1407/1407 [==============================] - 23s 16ms/step - loss: 0.2310 - accuracy: 0.9162 - val_loss: 0.1989 - val_accuracy: 0.9287\n",
            "Epoch 17/40\n",
            "1407/1407 [==============================] - 23s 16ms/step - loss: 0.2400 - accuracy: 0.9150 - val_loss: 0.2009 - val_accuracy: 0.9299\n",
            "Epoch 18/40\n",
            "1407/1407 [==============================] - 23s 16ms/step - loss: 0.2270 - accuracy: 0.9184 - val_loss: 0.2039 - val_accuracy: 0.9289\n",
            "Epoch 19/40\n",
            "1407/1407 [==============================] - 23s 16ms/step - loss: 0.2275 - accuracy: 0.9171 - val_loss: 0.2065 - val_accuracy: 0.9255\n",
            "Epoch 20/40\n",
            "1407/1407 [==============================] - 23s 16ms/step - loss: 0.2276 - accuracy: 0.9189 - val_loss: 0.2111 - val_accuracy: 0.9231\n",
            "Epoch 21/40\n",
            "1407/1407 [==============================] - 23s 16ms/step - loss: 0.2278 - accuracy: 0.9188 - val_loss: 0.2088 - val_accuracy: 0.9245\n",
            "Epoch 22/40\n",
            "1407/1407 [==============================] - 23s 16ms/step - loss: 0.2233 - accuracy: 0.9204 - val_loss: 0.2013 - val_accuracy: 0.9288\n",
            "Epoch 23/40\n",
            "1407/1407 [==============================] - 23s 16ms/step - loss: 0.2213 - accuracy: 0.9212 - val_loss: 0.2021 - val_accuracy: 0.9277\n",
            "Epoch 24/40\n",
            "1407/1407 [==============================] - 23s 16ms/step - loss: 0.2253 - accuracy: 0.9207 - val_loss: 0.2043 - val_accuracy: 0.9262\n",
            "Epoch 25/40\n",
            "1407/1407 [==============================] - 23s 16ms/step - loss: 0.2218 - accuracy: 0.9224 - val_loss: 0.2090 - val_accuracy: 0.9280\n",
            "Epoch 26/40\n",
            "1407/1407 [==============================] - 23s 16ms/step - loss: 0.2203 - accuracy: 0.9211 - val_loss: 0.2082 - val_accuracy: 0.9259\n",
            "Epoch 27/40\n",
            "1407/1407 [==============================] - 23s 16ms/step - loss: 0.2211 - accuracy: 0.9211 - val_loss: 0.2037 - val_accuracy: 0.9271\n",
            "Epoch 28/40\n",
            "1407/1407 [==============================] - 23s 16ms/step - loss: 0.2220 - accuracy: 0.9212 - val_loss: 0.2153 - val_accuracy: 0.9255\n",
            "Epoch 29/40\n",
            "1407/1407 [==============================] - 23s 16ms/step - loss: 0.2213 - accuracy: 0.9206 - val_loss: 0.2167 - val_accuracy: 0.9225\n",
            "Epoch 30/40\n",
            "1407/1407 [==============================] - 23s 16ms/step - loss: 0.2207 - accuracy: 0.9215 - val_loss: 0.2121 - val_accuracy: 0.9253\n",
            "Epoch 31/40\n",
            "1407/1407 [==============================] - 23s 16ms/step - loss: 0.2127 - accuracy: 0.9234 - val_loss: 0.2138 - val_accuracy: 0.9254\n",
            "Epoch 32/40\n",
            "1407/1407 [==============================] - 23s 16ms/step - loss: 0.2255 - accuracy: 0.9208 - val_loss: 0.2005 - val_accuracy: 0.9313\n",
            "Epoch 33/40\n",
            "1407/1407 [==============================] - 23s 16ms/step - loss: 0.2190 - accuracy: 0.9230 - val_loss: 0.2044 - val_accuracy: 0.9280\n",
            "Epoch 34/40\n",
            "1407/1407 [==============================] - 24s 17ms/step - loss: 0.2148 - accuracy: 0.9240 - val_loss: 0.2074 - val_accuracy: 0.9269\n",
            "Epoch 35/40\n",
            "1407/1407 [==============================] - 23s 16ms/step - loss: 0.2139 - accuracy: 0.9262 - val_loss: 0.2126 - val_accuracy: 0.9267\n",
            "Epoch 36/40\n",
            "1407/1407 [==============================] - 23s 16ms/step - loss: 0.2228 - accuracy: 0.9220 - val_loss: 0.1995 - val_accuracy: 0.9309\n",
            "Epoch 37/40\n",
            "1407/1407 [==============================] - 23s 16ms/step - loss: 0.2143 - accuracy: 0.9234 - val_loss: 0.2179 - val_accuracy: 0.9224\n",
            "Epoch 38/40\n",
            "1407/1407 [==============================] - 23s 16ms/step - loss: 0.2204 - accuracy: 0.9244 - val_loss: 0.2109 - val_accuracy: 0.9281\n",
            "Epoch 39/40\n",
            "1407/1407 [==============================] - 23s 16ms/step - loss: 0.2146 - accuracy: 0.9241 - val_loss: 0.2049 - val_accuracy: 0.9286\n",
            "Epoch 40/40\n",
            "1407/1407 [==============================] - 23s 17ms/step - loss: 0.2175 - accuracy: 0.9235 - val_loss: 0.2072 - val_accuracy: 0.9251\n"
          ],
          "name": "stdout"
        }
      ]
    },
    {
      "cell_type": "code",
      "metadata": {
        "id": "jjNXZDHYg_N-",
        "colab_type": "code",
        "colab": {
          "base_uri": "https://localhost:8080/",
          "height": 270
        },
        "outputId": "562fd31e-dd84-438d-e2c7-135885f8e553"
      },
      "source": [
        "import matplotlib.pyplot as plt\n",
        "plt.figure(figsize=(12, 4))\n",
        "plt.subplot(1, 2, 1)\n",
        "plt.plot(history.history['loss'], 'b-', label='loss')\n",
        "plt.plot(history.history['val_loss'], 'r--', label='val_loss')\n",
        "plt.xlabel('Epoch')\n",
        "plt.legend()\n",
        "\n",
        "plt.subplot(1, 2, 2)\n",
        "plt.plot(history.history['accuracy'], 'g-', label='accuracy')\n",
        "plt.plot(history.history['val_accuracy'], 'k--', label='val_accuracy')\n",
        "plt.xlabel('Epoch')\n",
        "plt.ylim(0.7, 1)\n",
        "plt.legend()\n",
        "\n",
        "plt.show()\n",
        "\n",
        "model.evaluate(test_X, test_Y, verbose=0)"
      ],
      "execution_count": 22,
      "outputs": [
        {
          "output_type": "display_data",
          "data": {
            "image/png": "[encoded data removed]",
            "text/plain": [
              "<Figure size 864x288 with 2 Axes>"
            ]
          },
          "metadata": {
            "tags": [],
            "needs_background": "light"
          }
        },
        {
          "output_type": "execute_result",
          "data": {
            "text/plain": [
              "[0.21783240139484406, 0.9214000105857849]"
            ]
          },
          "metadata": {
            "tags": []
          },
          "execution_count": 22
        }
      ]
    },
    {
      "cell_type": "markdown",
      "metadata": {
        "id": "LZjoCyzMg_OB",
        "colab_type": "text"
      },
      "source": [
        "#### VGG-16 + BatchNormal 구조 추가"
      ]
    },
    {
      "cell_type": "code",
      "metadata": {
        "id": "rT7DK36Tg_OC",
        "colab_type": "code",
        "colab": {
          "base_uri": "https://localhost:8080/",
          "height": 996
        },
        "outputId": "d1215871-df6a-4935-9d5c-03655ead338e"
      },
      "source": [
        "model = tf.keras.Sequential([\n",
        "    tf.keras.layers.Conv2D(input_shape=(28,28,1),kernel_size=(3,3), filters=32, padding=\"same\", activation=\"relu\"),\n",
        "    \n",
        "    tf.keras.layers.BatchNormalization(),\n",
        "    tf.keras.layers.Activation(\"relu\"),\n",
        "    \n",
        "    tf.keras.layers.Conv2D(kernel_size=(3,3), filters=64, padding=\"same\", activation=\"relu\"),\n",
        "    \n",
        "    tf.keras.layers.BatchNormalization(),\n",
        "    tf.keras.layers.Activation(\"relu\"), \n",
        "    \n",
        "    tf.keras.layers.MaxPool2D(pool_size=(2,2)),\n",
        "    tf.keras.layers.Dropout(rate=0.5),\n",
        "    tf.keras.layers.Conv2D(kernel_size=(3,3), filters=128, padding=\"same\", activation=\"relu\"),\n",
        "    \n",
        "    tf.keras.layers.BatchNormalization(),\n",
        "    tf.keras.layers.Activation(\"relu\"),\n",
        "    \n",
        "    tf.keras.layers.Conv2D(kernel_size=(3,3), filters=256, padding=\"valid\", activation=\"relu\"),\n",
        "    \n",
        "    tf.keras.layers.BatchNormalization(),\n",
        "    tf.keras.layers.Activation(\"relu\"),\n",
        "    \n",
        "    tf.keras.layers.MaxPool2D(pool_size=(2,2)),\n",
        "    tf.keras.layers.Dropout(rate=0.5),\n",
        "    tf.keras.layers.Flatten(),\n",
        "    tf.keras.layers.Dense(units=512, activation=\"relu\"),\n",
        "    tf.keras.layers.Dropout(rate=0.5),\n",
        "    tf.keras.layers.Dense(units=256, activation=\"relu\"),\n",
        "    tf.keras.layers.Dropout(rate=0.5),\n",
        "    tf.keras.layers.Dense(units=10, activation=\"softmax\"),\n",
        "])\n",
        "\n",
        "# Adam, sparse-cate-crossentro, accuracy\n",
        "model.compile(optimizer=tf.keras.optimizers.Adam(),\n",
        "             loss= \"sparse_categorical_crossentropy\",\n",
        "             metrics=[\"accuracy\"])\n",
        "model.summary()\n"
      ],
      "execution_count": 23,
      "outputs": [
        {
          "output_type": "stream",
          "text": [
            "Model: \"sequential_5\"\n",
            "_________________________________________________________________\n",
            "Layer (type)                 Output Shape              Param #   \n",
            "=================================================================\n",
            "conv2d_10 (Conv2D)           (None, 28, 28, 32)        320       \n",
            "_________________________________________________________________\n",
            "batch_normalization_2 (Batch (None, 28, 28, 32)        128       \n",
            "_________________________________________________________________\n",
            "activation_2 (Activation)    (None, 28, 28, 32)        0         \n",
            "_________________________________________________________________\n",
            "conv2d_11 (Conv2D)           (None, 28, 28, 64)        18496     \n",
            "_________________________________________________________________\n",
            "batch_normalization_3 (Batch (None, 28, 28, 64)        256       \n",
            "_________________________________________________________________\n",
            "activation_3 (Activation)    (None, 28, 28, 64)        0         \n",
            "_________________________________________________________________\n",
            "max_pooling2d_4 (MaxPooling2 (None, 14, 14, 64)        0         \n",
            "_________________________________________________________________\n",
            "dropout_5 (Dropout)          (None, 14, 14, 64)        0         \n",
            "_________________________________________________________________\n",
            "conv2d_12 (Conv2D)           (None, 14, 14, 128)       73856     \n",
            "_________________________________________________________________\n",
            "batch_normalization_4 (Batch (None, 14, 14, 128)       512       \n",
            "_________________________________________________________________\n",
            "activation_4 (Activation)    (None, 14, 14, 128)       0         \n",
            "_________________________________________________________________\n",
            "conv2d_13 (Conv2D)           (None, 12, 12, 256)       295168    \n",
            "_________________________________________________________________\n",
            "batch_normalization_5 (Batch (None, 12, 12, 256)       1024      \n",
            "_________________________________________________________________\n",
            "activation_5 (Activation)    (None, 12, 12, 256)       0         \n",
            "_________________________________________________________________\n",
            "max_pooling2d_5 (MaxPooling2 (None, 6, 6, 256)         0         \n",
            "_________________________________________________________________\n",
            "dropout_6 (Dropout)          (None, 6, 6, 256)         0         \n",
            "_________________________________________________________________\n",
            "flatten_5 (Flatten)          (None, 9216)              0         \n",
            "_________________________________________________________________\n",
            "dense_13 (Dense)             (None, 512)               4719104   \n",
            "_________________________________________________________________\n",
            "dropout_7 (Dropout)          (None, 512)               0         \n",
            "_________________________________________________________________\n",
            "dense_14 (Dense)             (None, 256)               131328    \n",
            "_________________________________________________________________\n",
            "dropout_8 (Dropout)          (None, 256)               0         \n",
            "_________________________________________________________________\n",
            "dense_15 (Dense)             (None, 10)                2570      \n",
            "=================================================================\n",
            "Total params: 5,242,762\n",
            "Trainable params: 5,241,802\n",
            "Non-trainable params: 960\n",
            "_________________________________________________________________\n"
          ],
          "name": "stdout"
        }
      ]
    },
    {
      "cell_type": "code",
      "metadata": {
        "id": "iqD7EX0qg_OG",
        "colab_type": "code",
        "colab": {
          "base_uri": "https://localhost:8080/",
          "height": 1000
        },
        "outputId": "8c574aa2-4ea3-4696-e909-b4fa54d4fb40"
      },
      "source": [
        "history = model.fit(train_X, train_Y, epochs=40, validation_split=0.25)"
      ],
      "execution_count": 24,
      "outputs": [
        {
          "output_type": "stream",
          "text": [
            "Epoch 1/40\n",
            "1407/1407 [==============================] - 27s 19ms/step - loss: 0.9516 - accuracy: 0.7030 - val_loss: 0.4614 - val_accuracy: 0.8341\n",
            "Epoch 2/40\n",
            "1407/1407 [==============================] - 27s 19ms/step - loss: 0.5386 - accuracy: 0.8083 - val_loss: 0.4014 - val_accuracy: 0.8552\n",
            "Epoch 3/40\n",
            "1407/1407 [==============================] - 27s 19ms/step - loss: 0.4645 - accuracy: 0.8394 - val_loss: 0.3714 - val_accuracy: 0.8779\n",
            "Epoch 4/40\n",
            "1407/1407 [==============================] - 27s 19ms/step - loss: 0.4274 - accuracy: 0.8513 - val_loss: 0.3217 - val_accuracy: 0.8867\n",
            "Epoch 5/40\n",
            "1407/1407 [==============================] - 27s 19ms/step - loss: 0.4067 - accuracy: 0.8618 - val_loss: 0.3304 - val_accuracy: 0.8837\n",
            "Epoch 6/40\n",
            "1407/1407 [==============================] - 27s 19ms/step - loss: 0.3812 - accuracy: 0.8714 - val_loss: 0.2923 - val_accuracy: 0.9022\n",
            "Epoch 7/40\n",
            "1407/1407 [==============================] - 27s 19ms/step - loss: 0.3595 - accuracy: 0.8796 - val_loss: 0.2947 - val_accuracy: 0.8965\n",
            "Epoch 8/40\n",
            "1407/1407 [==============================] - 26s 19ms/step - loss: 0.3445 - accuracy: 0.8835 - val_loss: 0.2768 - val_accuracy: 0.9066\n",
            "Epoch 9/40\n",
            "1407/1407 [==============================] - 27s 19ms/step - loss: 0.3288 - accuracy: 0.8897 - val_loss: 0.2598 - val_accuracy: 0.9040\n",
            "Epoch 10/40\n",
            "1407/1407 [==============================] - 27s 19ms/step - loss: 0.3211 - accuracy: 0.8927 - val_loss: 0.2849 - val_accuracy: 0.9034\n",
            "Epoch 11/40\n",
            "1407/1407 [==============================] - 27s 19ms/step - loss: 0.3110 - accuracy: 0.8959 - val_loss: 0.2574 - val_accuracy: 0.9074\n",
            "Epoch 12/40\n",
            "1407/1407 [==============================] - 27s 19ms/step - loss: 0.2970 - accuracy: 0.9003 - val_loss: 0.2446 - val_accuracy: 0.9202\n",
            "Epoch 13/40\n",
            "1407/1407 [==============================] - 27s 19ms/step - loss: 0.2873 - accuracy: 0.9032 - val_loss: 0.2464 - val_accuracy: 0.9145\n",
            "Epoch 14/40\n",
            "1407/1407 [==============================] - 26s 19ms/step - loss: 0.2811 - accuracy: 0.9063 - val_loss: 0.2463 - val_accuracy: 0.9192\n",
            "Epoch 15/40\n",
            "1407/1407 [==============================] - 27s 19ms/step - loss: 0.2715 - accuracy: 0.9070 - val_loss: 0.2374 - val_accuracy: 0.9161\n",
            "Epoch 16/40\n",
            "1407/1407 [==============================] - 27s 19ms/step - loss: 0.2648 - accuracy: 0.9100 - val_loss: 0.2131 - val_accuracy: 0.9251\n",
            "Epoch 17/40\n",
            "1407/1407 [==============================] - 27s 19ms/step - loss: 0.2601 - accuracy: 0.9125 - val_loss: 0.2349 - val_accuracy: 0.9178\n",
            "Epoch 18/40\n",
            "1407/1407 [==============================] - 27s 19ms/step - loss: 0.2591 - accuracy: 0.9126 - val_loss: 0.2206 - val_accuracy: 0.9196\n",
            "Epoch 19/40\n",
            "1407/1407 [==============================] - 26s 19ms/step - loss: 0.2514 - accuracy: 0.9154 - val_loss: 0.2251 - val_accuracy: 0.9221\n",
            "Epoch 20/40\n",
            "1407/1407 [==============================] - 27s 19ms/step - loss: 0.2460 - accuracy: 0.9160 - val_loss: 0.2299 - val_accuracy: 0.9193\n",
            "Epoch 21/40\n",
            "1407/1407 [==============================] - 27s 19ms/step - loss: 0.2420 - accuracy: 0.9157 - val_loss: 0.2100 - val_accuracy: 0.9277\n",
            "Epoch 22/40\n",
            "1407/1407 [==============================] - 27s 19ms/step - loss: 0.2358 - accuracy: 0.9194 - val_loss: 0.2071 - val_accuracy: 0.9273\n",
            "Epoch 23/40\n",
            "1407/1407 [==============================] - 27s 19ms/step - loss: 0.2315 - accuracy: 0.9192 - val_loss: 0.2046 - val_accuracy: 0.9305\n",
            "Epoch 24/40\n",
            "1407/1407 [==============================] - 27s 19ms/step - loss: 0.2296 - accuracy: 0.9208 - val_loss: 0.2452 - val_accuracy: 0.9157\n",
            "Epoch 25/40\n",
            "1407/1407 [==============================] - 26s 19ms/step - loss: 0.2303 - accuracy: 0.9224 - val_loss: 0.2008 - val_accuracy: 0.9291\n",
            "Epoch 26/40\n",
            "1407/1407 [==============================] - 27s 19ms/step - loss: 0.2172 - accuracy: 0.9234 - val_loss: 0.1988 - val_accuracy: 0.9296\n",
            "Epoch 27/40\n",
            "1407/1407 [==============================] - 27s 19ms/step - loss: 0.2214 - accuracy: 0.9257 - val_loss: 0.2004 - val_accuracy: 0.9297\n",
            "Epoch 28/40\n",
            "1407/1407 [==============================] - 27s 19ms/step - loss: 0.2169 - accuracy: 0.9249 - val_loss: 0.1960 - val_accuracy: 0.9319\n",
            "Epoch 29/40\n",
            "1407/1407 [==============================] - 27s 19ms/step - loss: 0.2149 - accuracy: 0.9262 - val_loss: 0.2057 - val_accuracy: 0.9234\n",
            "Epoch 30/40\n",
            "1407/1407 [==============================] - 27s 19ms/step - loss: 0.2066 - accuracy: 0.9284 - val_loss: 0.2077 - val_accuracy: 0.9268\n",
            "Epoch 31/40\n",
            "1407/1407 [==============================] - 26s 19ms/step - loss: 0.2078 - accuracy: 0.9266 - val_loss: 0.1959 - val_accuracy: 0.9299\n",
            "Epoch 32/40\n",
            "1407/1407 [==============================] - 27s 19ms/step - loss: 0.2049 - accuracy: 0.9294 - val_loss: 0.1918 - val_accuracy: 0.9321\n",
            "Epoch 33/40\n",
            "1407/1407 [==============================] - 27s 19ms/step - loss: 0.1997 - accuracy: 0.9296 - val_loss: 0.1902 - val_accuracy: 0.9323\n",
            "Epoch 34/40\n",
            "1407/1407 [==============================] - 27s 19ms/step - loss: 0.1983 - accuracy: 0.9319 - val_loss: 0.1962 - val_accuracy: 0.9308\n",
            "Epoch 35/40\n",
            "1407/1407 [==============================] - 27s 19ms/step - loss: 0.1988 - accuracy: 0.9309 - val_loss: 0.1968 - val_accuracy: 0.9301\n",
            "Epoch 36/40\n",
            "1407/1407 [==============================] - 26s 19ms/step - loss: 0.1931 - accuracy: 0.9339 - val_loss: 0.1875 - val_accuracy: 0.9354\n",
            "Epoch 37/40\n",
            "1407/1407 [==============================] - 26s 19ms/step - loss: 0.1932 - accuracy: 0.9316 - val_loss: 0.1936 - val_accuracy: 0.9323\n",
            "Epoch 38/40\n",
            "1407/1407 [==============================] - 26s 19ms/step - loss: 0.1960 - accuracy: 0.9311 - val_loss: 0.1869 - val_accuracy: 0.9371\n",
            "Epoch 39/40\n",
            "1407/1407 [==============================] - 26s 19ms/step - loss: 0.1823 - accuracy: 0.9359 - val_loss: 0.2026 - val_accuracy: 0.9229\n",
            "Epoch 40/40\n",
            "1407/1407 [==============================] - 26s 19ms/step - loss: 0.1862 - accuracy: 0.9357 - val_loss: 0.1950 - val_accuracy: 0.9313\n"
          ],
          "name": "stdout"
        }
      ]
    },
    {
      "cell_type": "code",
      "metadata": {
        "id": "XmGSC95bg_OJ",
        "colab_type": "code",
        "colab": {
          "base_uri": "https://localhost:8080/",
          "height": 254
        },
        "outputId": "d979d6a1-84e6-481a-af49-bf2a39ed6eb8"
      },
      "source": [
        "import matplotlib.pyplot as plt\n",
        "plt.figure(figsize=(12, 4))\n",
        "plt.subplot(1, 2, 1)\n",
        "plt.plot(history.history['loss'], 'b-', label='loss')\n",
        "plt.plot(history.history['val_loss'], 'r--', label='val_loss')\n",
        "plt.xlabel('Epoch')\n",
        "plt.legend()\n",
        "\n",
        "plt.subplot(1, 2, 2)\n",
        "plt.plot(history.history['accuracy'], 'g-', label='accuracy')\n",
        "plt.plot(history.history['val_accuracy'], 'k--', label='val_accuracy')\n",
        "plt.xlabel('Epoch')\n",
        "plt.ylim(0.7, 1)\n",
        "plt.legend()\n",
        "\n",
        "plt.show()\n"
      ],
      "execution_count": 25,
      "outputs": [
        {
          "output_type": "display_data",
          "data": {
            "image/png": "[encoded data removed]",
            "text/plain": [
              "<Figure size 864x288 with 2 Axes>"
            ]
          },
          "metadata": {
            "tags": [],
            "needs_background": "light"
          }
        }
      ]
    },
    {
      "cell_type": "markdown",
      "metadata": {
        "id": "r0OyxBmmg_OM",
        "colab_type": "text"
      },
      "source": [
        "### Data  증가"
      ]
    },
    {
      "cell_type": "code",
      "metadata": {
        "id": "Q78r-Edvg_OM",
        "colab_type": "code",
        "colab": {}
      },
      "source": [
        "fashion_mnist = tf.keras.datasets.fashion_mnist\n",
        "(train_X, train_Y), (test_X, test_Y) = fashion_mnist.load_data()\n",
        "\n",
        "train_X = train_X/255\n",
        "test_X = test_X/255"
      ],
      "execution_count": 26,
      "outputs": []
    },
    {
      "cell_type": "code",
      "metadata": {
        "id": "bYHGTiekg_OO",
        "colab_type": "code",
        "colab": {
          "base_uri": "https://localhost:8080/",
          "height": 36
        },
        "outputId": "d29c832a-2b18-419b-b9b6-75d425333d8c"
      },
      "source": [
        "print(train_X.shape, test_X.shape)"
      ],
      "execution_count": 27,
      "outputs": [
        {
          "output_type": "stream",
          "text": [
            "(60000, 28, 28) (10000, 28, 28)\n"
          ],
          "name": "stdout"
        }
      ]
    },
    {
      "cell_type": "code",
      "metadata": {
        "id": "92Y3Xd_Yg_OR",
        "colab_type": "code",
        "colab": {
          "base_uri": "https://localhost:8080/",
          "height": 36
        },
        "outputId": "756de980-030e-4092-cf63-8a0f68872971"
      },
      "source": [
        "train_X = train_X.reshape(-1, 28,28,1) # (60000,28,28) -->(60000,28,28,1)\n",
        "test_X = test_X.reshape(-1, 28,28,1) ## (10000,28,28)--> (10000, 28, 28,1)\n",
        "\n",
        "# reshape 이후\n",
        "print(train_X.shape, test_X.shape)"
      ],
      "execution_count": 28,
      "outputs": [
        {
          "output_type": "stream",
          "text": [
            "(60000, 28, 28, 1) (10000, 28, 28, 1)\n"
          ],
          "name": "stdout"
        }
      ]
    },
    {
      "cell_type": "code",
      "metadata": {
        "id": "qEExbPcIg_OT",
        "colab_type": "code",
        "colab": {}
      },
      "source": [
        "from tensorflow.keras.preprocessing.image import ImageDataGenerator\n",
        "import numpy as np"
      ],
      "execution_count": 29,
      "outputs": []
    },
    {
      "cell_type": "code",
      "metadata": {
        "id": "K9-RHiV7g_OX",
        "colab_type": "code",
        "colab": {
          "base_uri": "https://localhost:8080/",
          "height": 36
        },
        "outputId": "b2714a7f-c388-4356-ac21-2db21724ac4e"
      },
      "source": [
        "image_generator = tf.keras.preprocessing.image.ImageDataGenerator(\n",
        "    rotation_range=10,\n",
        "    zoom_range=0.1,\n",
        "    width_shift_range = 0.1,\n",
        "    height_shift_range = 0.1,\n",
        "    shear_range=0.5,\n",
        "    horizontal_flip= True,\n",
        "    vertical_flip= False\n",
        ")\n",
        "\n",
        "# 훈련 데이터의 50%인 약 3만장 세팅\n",
        "augment_size = 60000\n",
        "\n",
        "# 변형할 3만장의 대상 랜덤 선택\n",
        "randidx = np.random.randint(train_X.shape[0], size=augment_size)\n",
        "\n",
        "\n",
        "x_augmented = train_X[randidx].copy()\n",
        "y_augmented = train_Y[randidx].copy()\n",
        "x_augmented = image_generator.flow(x_augmented, np.zeros(augment_size),\n",
        "                                  batch_size=augment_size,\n",
        "                                  shuffle=False).next()[0]\n",
        "\n",
        "# 원래 데이터인 x_train 에 Image Augmentation 된 x_augmented 를 추가합니다.\n",
        "# pandas의 concate와 유사함..\n",
        "train_X = np.concatenate((train_X, x_augmented))\n",
        "train_Y = np.concatenate((train_Y, y_augmented))\n",
        "\n",
        "print(train_X.shape)"
      ],
      "execution_count": 30,
      "outputs": [
        {
          "output_type": "stream",
          "text": [
            "(120000, 28, 28, 1)\n"
          ],
          "name": "stdout"
        }
      ]
    },
    {
      "cell_type": "markdown",
      "metadata": {
        "id": "CtLNu-w_g_OZ",
        "colab_type": "text"
      },
      "source": [
        "#### VGG-16의 기본 응용구조(위에 한 부분)"
      ]
    },
    {
      "cell_type": "code",
      "metadata": {
        "id": "PxJ9QqM9g_OZ",
        "colab_type": "code",
        "colab": {
          "base_uri": "https://localhost:8080/",
          "height": 695
        },
        "outputId": "7687c6ec-2d6d-472d-c642-e550640be931"
      },
      "source": [
        "model = tf.keras.Sequential([\n",
        "    tf.keras.layers.Conv2D(input_shape=(28,28,1),kernel_size=(3,3), filters=32, padding=\"same\", activation=\"relu\"),\n",
        "    tf.keras.layers.Conv2D(kernel_size=(3,3), filters=64, padding=\"same\", activation=\"relu\"),\n",
        "    tf.keras.layers.MaxPool2D(pool_size=(2,2)),\n",
        "    tf.keras.layers.Dropout(rate=0.5),\n",
        "    tf.keras.layers.Conv2D(kernel_size=(3,3), filters=128, padding=\"same\", activation=\"relu\"),\n",
        "    tf.keras.layers.Conv2D(kernel_size=(3,3), filters=256, padding=\"valid\", activation=\"relu\"),\n",
        "    tf.keras.layers.MaxPool2D(pool_size=(2,2)),\n",
        "    tf.keras.layers.Dropout(rate=0.5),\n",
        "    tf.keras.layers.Flatten(),\n",
        "    tf.keras.layers.Dense(units=512, activation=\"relu\"),\n",
        "    tf.keras.layers.Dropout(rate=0.5),\n",
        "    tf.keras.layers.Dense(units=256, activation=\"relu\"),\n",
        "    tf.keras.layers.Dropout(rate=0.5),\n",
        "    tf.keras.layers.Dense(units=10, activation=\"softmax\"),\n",
        "])\n",
        "\n",
        "# Adam, sparse-cate-crossentro, accuracy\n",
        "model.compile(optimizer=tf.keras.optimizers.Adam(),\n",
        "             loss= \"sparse_categorical_crossentropy\",\n",
        "             metrics=[\"accuracy\"])\n",
        "model.summary()"
      ],
      "execution_count": 31,
      "outputs": [
        {
          "output_type": "stream",
          "text": [
            "Model: \"sequential_6\"\n",
            "_________________________________________________________________\n",
            "Layer (type)                 Output Shape              Param #   \n",
            "=================================================================\n",
            "conv2d_14 (Conv2D)           (None, 28, 28, 32)        320       \n",
            "_________________________________________________________________\n",
            "conv2d_15 (Conv2D)           (None, 28, 28, 64)        18496     \n",
            "_________________________________________________________________\n",
            "max_pooling2d_6 (MaxPooling2 (None, 14, 14, 64)        0         \n",
            "_________________________________________________________________\n",
            "dropout_9 (Dropout)          (None, 14, 14, 64)        0         \n",
            "_________________________________________________________________\n",
            "conv2d_16 (Conv2D)           (None, 14, 14, 128)       73856     \n",
            "_________________________________________________________________\n",
            "conv2d_17 (Conv2D)           (None, 12, 12, 256)       295168    \n",
            "_________________________________________________________________\n",
            "max_pooling2d_7 (MaxPooling2 (None, 6, 6, 256)         0         \n",
            "_________________________________________________________________\n",
            "dropout_10 (Dropout)         (None, 6, 6, 256)         0         \n",
            "_________________________________________________________________\n",
            "flatten_6 (Flatten)          (None, 9216)              0         \n",
            "_________________________________________________________________\n",
            "dense_16 (Dense)             (None, 512)               4719104   \n",
            "_________________________________________________________________\n",
            "dropout_11 (Dropout)         (None, 512)               0         \n",
            "_________________________________________________________________\n",
            "dense_17 (Dense)             (None, 256)               131328    \n",
            "_________________________________________________________________\n",
            "dropout_12 (Dropout)         (None, 256)               0         \n",
            "_________________________________________________________________\n",
            "dense_18 (Dense)             (None, 10)                2570      \n",
            "=================================================================\n",
            "Total params: 5,240,842\n",
            "Trainable params: 5,240,842\n",
            "Non-trainable params: 0\n",
            "_________________________________________________________________\n"
          ],
          "name": "stdout"
        }
      ]
    },
    {
      "cell_type": "code",
      "metadata": {
        "id": "hPlrzOI-g_Ob",
        "colab_type": "code",
        "colab": {
          "base_uri": "https://localhost:8080/",
          "height": 1000
        },
        "outputId": "fcd18429-eca9-4282-fa1c-a433f8976532"
      },
      "source": [
        "history = model.fit(train_X, train_Y, epochs=40, validation_split=0.25)"
      ],
      "execution_count": 32,
      "outputs": [
        {
          "output_type": "stream",
          "text": [
            "Epoch 1/40\n",
            "2813/2813 [==============================] - 46s 16ms/step - loss: 0.6024 - accuracy: 0.7772 - val_loss: 0.4638 - val_accuracy: 0.8224\n",
            "Epoch 2/40\n",
            "2813/2813 [==============================] - 45s 16ms/step - loss: 0.4135 - accuracy: 0.8490 - val_loss: 0.3929 - val_accuracy: 0.8529\n",
            "Epoch 3/40\n",
            "2813/2813 [==============================] - 45s 16ms/step - loss: 0.3707 - accuracy: 0.8677 - val_loss: 0.3623 - val_accuracy: 0.8665\n",
            "Epoch 4/40\n",
            "2813/2813 [==============================] - 45s 16ms/step - loss: 0.3492 - accuracy: 0.8739 - val_loss: 0.3414 - val_accuracy: 0.8710\n",
            "Epoch 5/40\n",
            "2813/2813 [==============================] - 45s 16ms/step - loss: 0.3340 - accuracy: 0.8796 - val_loss: 0.3704 - val_accuracy: 0.8684\n",
            "Epoch 6/40\n",
            "2813/2813 [==============================] - 45s 16ms/step - loss: 0.3247 - accuracy: 0.8838 - val_loss: 0.3355 - val_accuracy: 0.8730\n",
            "Epoch 7/40\n",
            "2813/2813 [==============================] - 46s 16ms/step - loss: 0.3208 - accuracy: 0.8846 - val_loss: 0.3422 - val_accuracy: 0.8750\n",
            "Epoch 8/40\n",
            "2813/2813 [==============================] - 46s 16ms/step - loss: 0.3146 - accuracy: 0.8880 - val_loss: 0.3401 - val_accuracy: 0.8730\n",
            "Epoch 9/40\n",
            "2813/2813 [==============================] - 45s 16ms/step - loss: 0.3108 - accuracy: 0.8884 - val_loss: 0.3185 - val_accuracy: 0.8830\n",
            "Epoch 10/40\n",
            "2813/2813 [==============================] - 46s 16ms/step - loss: 0.3095 - accuracy: 0.8889 - val_loss: 0.3144 - val_accuracy: 0.8863\n",
            "Epoch 11/40\n",
            "2813/2813 [==============================] - 45s 16ms/step - loss: 0.3058 - accuracy: 0.8911 - val_loss: 0.3042 - val_accuracy: 0.8891\n",
            "Epoch 12/40\n",
            "2813/2813 [==============================] - 45s 16ms/step - loss: 0.3018 - accuracy: 0.8932 - val_loss: 0.3025 - val_accuracy: 0.8904\n",
            "Epoch 13/40\n",
            "2813/2813 [==============================] - 46s 16ms/step - loss: 0.3039 - accuracy: 0.8917 - val_loss: 0.3299 - val_accuracy: 0.8824\n",
            "Epoch 14/40\n",
            "2813/2813 [==============================] - 47s 17ms/step - loss: 0.3003 - accuracy: 0.8938 - val_loss: 0.3139 - val_accuracy: 0.8841\n",
            "Epoch 15/40\n",
            "2813/2813 [==============================] - 46s 16ms/step - loss: 0.3004 - accuracy: 0.8930 - val_loss: 0.3340 - val_accuracy: 0.8780\n",
            "Epoch 16/40\n",
            "2813/2813 [==============================] - 46s 16ms/step - loss: 0.2987 - accuracy: 0.8947 - val_loss: 0.3235 - val_accuracy: 0.8840\n",
            "Epoch 17/40\n",
            "2813/2813 [==============================] - 46s 16ms/step - loss: 0.2982 - accuracy: 0.8944 - val_loss: 0.3082 - val_accuracy: 0.8877\n",
            "Epoch 18/40\n",
            "2813/2813 [==============================] - 46s 16ms/step - loss: 0.2999 - accuracy: 0.8941 - val_loss: 0.3252 - val_accuracy: 0.8856\n",
            "Epoch 19/40\n",
            "2813/2813 [==============================] - 46s 16ms/step - loss: 0.2939 - accuracy: 0.8954 - val_loss: 0.3117 - val_accuracy: 0.8858\n",
            "Epoch 20/40\n",
            "2813/2813 [==============================] - 46s 16ms/step - loss: 0.2963 - accuracy: 0.8948 - val_loss: 0.3212 - val_accuracy: 0.8843\n",
            "Epoch 21/40\n",
            "2813/2813 [==============================] - 47s 17ms/step - loss: 0.2949 - accuracy: 0.8957 - val_loss: 0.3254 - val_accuracy: 0.8867\n",
            "Epoch 22/40\n",
            "2813/2813 [==============================] - 46s 16ms/step - loss: 0.2952 - accuracy: 0.8962 - val_loss: 0.3115 - val_accuracy: 0.8895\n",
            "Epoch 23/40\n",
            "2813/2813 [==============================] - 46s 16ms/step - loss: 0.2939 - accuracy: 0.8968 - val_loss: 0.3287 - val_accuracy: 0.8783\n",
            "Epoch 24/40\n",
            "2813/2813 [==============================] - 46s 16ms/step - loss: 0.2945 - accuracy: 0.8956 - val_loss: 0.3283 - val_accuracy: 0.8842\n",
            "Epoch 25/40\n",
            "2813/2813 [==============================] - 46s 16ms/step - loss: 0.2962 - accuracy: 0.8966 - val_loss: 0.3083 - val_accuracy: 0.8919\n",
            "Epoch 26/40\n",
            "2813/2813 [==============================] - 46s 16ms/step - loss: 0.2937 - accuracy: 0.8979 - val_loss: 0.2945 - val_accuracy: 0.8960\n",
            "Epoch 27/40\n",
            "2813/2813 [==============================] - 46s 16ms/step - loss: 0.2972 - accuracy: 0.8957 - val_loss: 0.3075 - val_accuracy: 0.8906\n",
            "Epoch 28/40\n",
            "2813/2813 [==============================] - 46s 16ms/step - loss: 0.2933 - accuracy: 0.8965 - val_loss: 0.3234 - val_accuracy: 0.8848\n",
            "Epoch 29/40\n",
            "2813/2813 [==============================] - 46s 16ms/step - loss: 0.2947 - accuracy: 0.8962 - val_loss: 0.3342 - val_accuracy: 0.8844\n",
            "Epoch 30/40\n",
            "2813/2813 [==============================] - 46s 16ms/step - loss: 0.2896 - accuracy: 0.8983 - val_loss: 0.3070 - val_accuracy: 0.8892\n",
            "Epoch 31/40\n",
            "2813/2813 [==============================] - 46s 16ms/step - loss: 0.2912 - accuracy: 0.8977 - val_loss: 0.3051 - val_accuracy: 0.8942\n",
            "Epoch 32/40\n",
            "2813/2813 [==============================] - 46s 16ms/step - loss: 0.2894 - accuracy: 0.8976 - val_loss: 0.3247 - val_accuracy: 0.8825\n",
            "Epoch 33/40\n",
            "2813/2813 [==============================] - 46s 16ms/step - loss: 0.2905 - accuracy: 0.8986 - val_loss: 0.3689 - val_accuracy: 0.8749\n",
            "Epoch 34/40\n",
            "2813/2813 [==============================] - 46s 16ms/step - loss: 0.2911 - accuracy: 0.8980 - val_loss: 0.3534 - val_accuracy: 0.8729\n",
            "Epoch 35/40\n",
            "2813/2813 [==============================] - 46s 16ms/step - loss: 0.2949 - accuracy: 0.8973 - val_loss: 0.3089 - val_accuracy: 0.8934\n",
            "Epoch 36/40\n",
            "2813/2813 [==============================] - 45s 16ms/step - loss: 0.2913 - accuracy: 0.8981 - val_loss: 0.3143 - val_accuracy: 0.8903\n",
            "Epoch 37/40\n",
            "2813/2813 [==============================] - 46s 16ms/step - loss: 0.2918 - accuracy: 0.8987 - val_loss: 0.3103 - val_accuracy: 0.8871\n",
            "Epoch 38/40\n",
            "2813/2813 [==============================] - 45s 16ms/step - loss: 0.2909 - accuracy: 0.8972 - val_loss: 0.3017 - val_accuracy: 0.8931\n",
            "Epoch 39/40\n",
            "2813/2813 [==============================] - 45s 16ms/step - loss: 0.2954 - accuracy: 0.8974 - val_loss: 0.3178 - val_accuracy: 0.8904\n",
            "Epoch 40/40\n",
            "2813/2813 [==============================] - 46s 16ms/step - loss: 0.2928 - accuracy: 0.8974 - val_loss: 0.3380 - val_accuracy: 0.8752\n"
          ],
          "name": "stdout"
        }
      ]
    },
    {
      "cell_type": "code",
      "metadata": {
        "id": "dYWeoEbyg_Od",
        "colab_type": "code",
        "colab": {
          "base_uri": "https://localhost:8080/",
          "height": 270
        },
        "outputId": "219f6fdd-9518-410e-b71a-4da990eb9566"
      },
      "source": [
        "import matplotlib.pyplot as plt\n",
        "plt.figure(figsize=(12, 4))\n",
        "plt.subplot(1, 2, 1)\n",
        "plt.plot(history.history['loss'], 'b-', label='loss')\n",
        "plt.plot(history.history['val_loss'], 'r--', label='val_loss')\n",
        "plt.xlabel('Epoch')\n",
        "plt.legend()\n",
        "\n",
        "plt.subplot(1, 2, 2)\n",
        "plt.plot(history.history['accuracy'], 'g-', label='accuracy')\n",
        "plt.plot(history.history['val_accuracy'], 'k--', label='val_accuracy')\n",
        "plt.xlabel('Epoch')\n",
        "plt.ylim(0.7, 1)\n",
        "plt.legend()\n",
        "\n",
        "plt.show()\n",
        "\n",
        "model.evaluate(test_X, test_Y, verbose=0)"
      ],
      "execution_count": 33,
      "outputs": [
        {
          "output_type": "display_data",
          "data": {
            "image/png": "[encoded data removed]",
            "text/plain": [
              "<Figure size 864x288 with 2 Axes>"
            ]
          },
          "metadata": {
            "tags": [],
            "needs_background": "light"
          }
        },
        {
          "output_type": "execute_result",
          "data": {
            "text/plain": [
              "[0.22563283145427704, 0.9176999926567078]"
            ]
          },
          "metadata": {
            "tags": []
          },
          "execution_count": 33
        }
      ]
    },
    {
      "cell_type": "markdown",
      "metadata": {
        "id": "Ue-WR7REg_Og",
        "colab_type": "text"
      },
      "source": [
        "#### VGG-16 + BatchNormal"
      ]
    },
    {
      "cell_type": "code",
      "metadata": {
        "id": "Iy4X-elQg_Oh",
        "colab_type": "code",
        "colab": {
          "base_uri": "https://localhost:8080/",
          "height": 996
        },
        "outputId": "12354386-f4f6-4f48-ebb3-741b80e1aea8"
      },
      "source": [
        "model = tf.keras.Sequential([\n",
        "    tf.keras.layers.Conv2D(input_shape=(28,28,1),kernel_size=(3,3), filters=32, padding=\"same\", activation=\"relu\"),\n",
        "    \n",
        "    tf.keras.layers.BatchNormalization(),\n",
        "    tf.keras.layers.Activation(\"relu\"),\n",
        "    \n",
        "    tf.keras.layers.Conv2D(kernel_size=(3,3), filters=64, padding=\"same\", activation=\"relu\"),\n",
        "    \n",
        "    tf.keras.layers.BatchNormalization(),\n",
        "    tf.keras.layers.Activation(\"relu\"), \n",
        "    \n",
        "    tf.keras.layers.MaxPool2D(pool_size=(2,2)),\n",
        "    tf.keras.layers.Dropout(rate=0.5),\n",
        "    tf.keras.layers.Conv2D(kernel_size=(3,3), filters=128, padding=\"same\", activation=\"relu\"),\n",
        "    \n",
        "    tf.keras.layers.BatchNormalization(),\n",
        "    tf.keras.layers.Activation(\"relu\"),\n",
        "    \n",
        "    tf.keras.layers.Conv2D(kernel_size=(3,3), filters=256, padding=\"valid\", activation=\"relu\"),\n",
        "    \n",
        "    tf.keras.layers.BatchNormalization(),\n",
        "    tf.keras.layers.Activation(\"relu\"),\n",
        "    \n",
        "    tf.keras.layers.MaxPool2D(pool_size=(2,2)),\n",
        "    tf.keras.layers.Dropout(rate=0.5),\n",
        "    tf.keras.layers.Flatten(),\n",
        "    tf.keras.layers.Dense(units=512, activation=\"relu\"),\n",
        "    tf.keras.layers.Dropout(rate=0.5),\n",
        "    tf.keras.layers.Dense(units=256, activation=\"relu\"),\n",
        "    tf.keras.layers.Dropout(rate=0.5),\n",
        "    tf.keras.layers.Dense(units=10, activation=\"softmax\"),\n",
        "])\n",
        "\n",
        "# Adam, sparse-cate-crossentro, accuracy\n",
        "model.compile(optimizer=tf.keras.optimizers.Adam(),\n",
        "             loss= \"sparse_categorical_crossentropy\",\n",
        "             metrics=[\"accuracy\"])\n",
        "model.summary()\n"
      ],
      "execution_count": 37,
      "outputs": [
        {
          "output_type": "stream",
          "text": [
            "Model: \"sequential_8\"\n",
            "_________________________________________________________________\n",
            "Layer (type)                 Output Shape              Param #   \n",
            "=================================================================\n",
            "conv2d_22 (Conv2D)           (None, 28, 28, 32)        320       \n",
            "_________________________________________________________________\n",
            "batch_normalization_10 (Batc (None, 28, 28, 32)        128       \n",
            "_________________________________________________________________\n",
            "activation_10 (Activation)   (None, 28, 28, 32)        0         \n",
            "_________________________________________________________________\n",
            "conv2d_23 (Conv2D)           (None, 28, 28, 64)        18496     \n",
            "_________________________________________________________________\n",
            "batch_normalization_11 (Batc (None, 28, 28, 64)        256       \n",
            "_________________________________________________________________\n",
            "activation_11 (Activation)   (None, 28, 28, 64)        0         \n",
            "_________________________________________________________________\n",
            "max_pooling2d_10 (MaxPooling (None, 14, 14, 64)        0         \n",
            "_________________________________________________________________\n",
            "dropout_17 (Dropout)         (None, 14, 14, 64)        0         \n",
            "_________________________________________________________________\n",
            "conv2d_24 (Conv2D)           (None, 14, 14, 128)       73856     \n",
            "_________________________________________________________________\n",
            "batch_normalization_12 (Batc (None, 14, 14, 128)       512       \n",
            "_________________________________________________________________\n",
            "activation_12 (Activation)   (None, 14, 14, 128)       0         \n",
            "_________________________________________________________________\n",
            "conv2d_25 (Conv2D)           (None, 12, 12, 256)       295168    \n",
            "_________________________________________________________________\n",
            "batch_normalization_13 (Batc (None, 12, 12, 256)       1024      \n",
            "_________________________________________________________________\n",
            "activation_13 (Activation)   (None, 12, 12, 256)       0         \n",
            "_________________________________________________________________\n",
            "max_pooling2d_11 (MaxPooling (None, 6, 6, 256)         0         \n",
            "_________________________________________________________________\n",
            "dropout_18 (Dropout)         (None, 6, 6, 256)         0         \n",
            "_________________________________________________________________\n",
            "flatten_8 (Flatten)          (None, 9216)              0         \n",
            "_________________________________________________________________\n",
            "dense_22 (Dense)             (None, 512)               4719104   \n",
            "_________________________________________________________________\n",
            "dropout_19 (Dropout)         (None, 512)               0         \n",
            "_________________________________________________________________\n",
            "dense_23 (Dense)             (None, 256)               131328    \n",
            "_________________________________________________________________\n",
            "dropout_20 (Dropout)         (None, 256)               0         \n",
            "_________________________________________________________________\n",
            "dense_24 (Dense)             (None, 10)                2570      \n",
            "=================================================================\n",
            "Total params: 5,242,762\n",
            "Trainable params: 5,241,802\n",
            "Non-trainable params: 960\n",
            "_________________________________________________________________\n"
          ],
          "name": "stdout"
        }
      ]
    },
    {
      "cell_type": "code",
      "metadata": {
        "id": "ibT2ZMdfg_Ok",
        "colab_type": "code",
        "colab": {
          "base_uri": "https://localhost:8080/",
          "height": 1000
        },
        "outputId": "64b6d5d8-26a3-4ad3-d9e8-9364c18b7dbd"
      },
      "source": [
        "history = model.fit(train_X, train_Y, epochs=100, validation_split=0.25)"
      ],
      "execution_count": 38,
      "outputs": [
        {
          "output_type": "stream",
          "text": [
            "Epoch 1/100\n",
            "2813/2813 [==============================] - 53s 19ms/step - loss: 0.8898 - accuracy: 0.7022 - val_loss: 0.6432 - val_accuracy: 0.7718\n",
            "Epoch 2/100\n",
            "2813/2813 [==============================] - 53s 19ms/step - loss: 0.5595 - accuracy: 0.8016 - val_loss: 0.5356 - val_accuracy: 0.8237\n",
            "Epoch 3/100\n",
            "2813/2813 [==============================] - 52s 19ms/step - loss: 0.4902 - accuracy: 0.8308 - val_loss: 0.4693 - val_accuracy: 0.8339\n",
            "Epoch 4/100\n",
            "2813/2813 [==============================] - 52s 19ms/step - loss: 0.4542 - accuracy: 0.8448 - val_loss: 0.4073 - val_accuracy: 0.8573\n",
            "Epoch 5/100\n",
            "2813/2813 [==============================] - 53s 19ms/step - loss: 0.4157 - accuracy: 0.8581 - val_loss: 0.4124 - val_accuracy: 0.8590\n",
            "Epoch 6/100\n",
            "2813/2813 [==============================] - 52s 19ms/step - loss: 0.3918 - accuracy: 0.8659 - val_loss: 0.3915 - val_accuracy: 0.8638\n",
            "Epoch 7/100\n",
            "2813/2813 [==============================] - 53s 19ms/step - loss: 0.3685 - accuracy: 0.8725 - val_loss: 0.4016 - val_accuracy: 0.8666\n",
            "Epoch 8/100\n",
            "2813/2813 [==============================] - 53s 19ms/step - loss: 0.3508 - accuracy: 0.8795 - val_loss: 0.3556 - val_accuracy: 0.8794\n",
            "Epoch 9/100\n",
            "2813/2813 [==============================] - 53s 19ms/step - loss: 0.3386 - accuracy: 0.8830 - val_loss: 0.3535 - val_accuracy: 0.8778\n",
            "Epoch 10/100\n",
            "2813/2813 [==============================] - 53s 19ms/step - loss: 0.3253 - accuracy: 0.8869 - val_loss: 0.3227 - val_accuracy: 0.8847\n",
            "Epoch 11/100\n",
            "2813/2813 [==============================] - 53s 19ms/step - loss: 0.3161 - accuracy: 0.8915 - val_loss: 0.3342 - val_accuracy: 0.8783\n",
            "Epoch 12/100\n",
            "2813/2813 [==============================] - 53s 19ms/step - loss: 0.3024 - accuracy: 0.8953 - val_loss: 0.3390 - val_accuracy: 0.8790\n",
            "Epoch 13/100\n",
            "2813/2813 [==============================] - 53s 19ms/step - loss: 0.2957 - accuracy: 0.8962 - val_loss: 0.3281 - val_accuracy: 0.8850\n",
            "Epoch 14/100\n",
            "2813/2813 [==============================] - 53s 19ms/step - loss: 0.2918 - accuracy: 0.8996 - val_loss: 0.3166 - val_accuracy: 0.8907\n",
            "Epoch 15/100\n",
            "2813/2813 [==============================] - 53s 19ms/step - loss: 0.2840 - accuracy: 0.9015 - val_loss: 0.3024 - val_accuracy: 0.8918\n",
            "Epoch 16/100\n",
            "2813/2813 [==============================] - 53s 19ms/step - loss: 0.2762 - accuracy: 0.9053 - val_loss: 0.3022 - val_accuracy: 0.8912\n",
            "Epoch 17/100\n",
            "2813/2813 [==============================] - 53s 19ms/step - loss: 0.2742 - accuracy: 0.9058 - val_loss: 0.2972 - val_accuracy: 0.8959\n",
            "Epoch 18/100\n",
            "2813/2813 [==============================] - 53s 19ms/step - loss: 0.2704 - accuracy: 0.9061 - val_loss: 0.3090 - val_accuracy: 0.8901\n",
            "Epoch 19/100\n",
            "2813/2813 [==============================] - 53s 19ms/step - loss: 0.2659 - accuracy: 0.9070 - val_loss: 0.2925 - val_accuracy: 0.8954\n",
            "Epoch 20/100\n",
            "2813/2813 [==============================] - 53s 19ms/step - loss: 0.2594 - accuracy: 0.9102 - val_loss: 0.3014 - val_accuracy: 0.8948\n",
            "Epoch 21/100\n",
            "2813/2813 [==============================] - 52s 19ms/step - loss: 0.2555 - accuracy: 0.9111 - val_loss: 0.2831 - val_accuracy: 0.8968\n",
            "Epoch 22/100\n",
            "2813/2813 [==============================] - 53s 19ms/step - loss: 0.2484 - accuracy: 0.9135 - val_loss: 0.2728 - val_accuracy: 0.9015\n",
            "Epoch 23/100\n",
            "2813/2813 [==============================] - 53s 19ms/step - loss: 0.2471 - accuracy: 0.9136 - val_loss: 0.2847 - val_accuracy: 0.8981\n",
            "Epoch 24/100\n",
            "2813/2813 [==============================] - 52s 19ms/step - loss: 0.2451 - accuracy: 0.9148 - val_loss: 0.2759 - val_accuracy: 0.9036\n",
            "Epoch 25/100\n",
            "2813/2813 [==============================] - 53s 19ms/step - loss: 0.2428 - accuracy: 0.9153 - val_loss: 0.2791 - val_accuracy: 0.8999\n",
            "Epoch 26/100\n",
            "2813/2813 [==============================] - 52s 19ms/step - loss: 0.2368 - accuracy: 0.9173 - val_loss: 0.2874 - val_accuracy: 0.8981\n",
            "Epoch 27/100\n",
            "2813/2813 [==============================] - 52s 19ms/step - loss: 0.2353 - accuracy: 0.9179 - val_loss: 0.2599 - val_accuracy: 0.9070\n",
            "Epoch 28/100\n",
            "2813/2813 [==============================] - 53s 19ms/step - loss: 0.2329 - accuracy: 0.9186 - val_loss: 0.2698 - val_accuracy: 0.9060\n",
            "Epoch 29/100\n",
            "2813/2813 [==============================] - 52s 19ms/step - loss: 0.2333 - accuracy: 0.9198 - val_loss: 0.2682 - val_accuracy: 0.9069\n",
            "Epoch 30/100\n",
            "2813/2813 [==============================] - 52s 19ms/step - loss: 0.2320 - accuracy: 0.9197 - val_loss: 0.2629 - val_accuracy: 0.9058\n",
            "Epoch 31/100\n",
            "2813/2813 [==============================] - 53s 19ms/step - loss: 0.2262 - accuracy: 0.9210 - val_loss: 0.2668 - val_accuracy: 0.9065\n",
            "Epoch 32/100\n",
            "2813/2813 [==============================] - 52s 19ms/step - loss: 0.2253 - accuracy: 0.9212 - val_loss: 0.2584 - val_accuracy: 0.9090\n",
            "Epoch 33/100\n",
            "2813/2813 [==============================] - 52s 19ms/step - loss: 0.2249 - accuracy: 0.9214 - val_loss: 0.2612 - val_accuracy: 0.9063\n",
            "Epoch 34/100\n",
            "2813/2813 [==============================] - 53s 19ms/step - loss: 0.2232 - accuracy: 0.9221 - val_loss: 0.2717 - val_accuracy: 0.9049\n",
            "Epoch 35/100\n",
            "2813/2813 [==============================] - 52s 19ms/step - loss: 0.2208 - accuracy: 0.9239 - val_loss: 0.2608 - val_accuracy: 0.9082\n",
            "Epoch 36/100\n",
            "2813/2813 [==============================] - 53s 19ms/step - loss: 0.2190 - accuracy: 0.9244 - val_loss: 0.2783 - val_accuracy: 0.9033\n",
            "Epoch 37/100\n",
            "2813/2813 [==============================] - 53s 19ms/step - loss: 0.2170 - accuracy: 0.9251 - val_loss: 0.2615 - val_accuracy: 0.9067\n",
            "Epoch 38/100\n",
            "2813/2813 [==============================] - 53s 19ms/step - loss: 0.2151 - accuracy: 0.9251 - val_loss: 0.2577 - val_accuracy: 0.9120\n",
            "Epoch 39/100\n",
            "2813/2813 [==============================] - 53s 19ms/step - loss: 0.2137 - accuracy: 0.9249 - val_loss: 0.2690 - val_accuracy: 0.9034\n",
            "Epoch 40/100\n",
            "2813/2813 [==============================] - 53s 19ms/step - loss: 0.2115 - accuracy: 0.9267 - val_loss: 0.2658 - val_accuracy: 0.9052\n",
            "Epoch 41/100\n",
            "2813/2813 [==============================] - 53s 19ms/step - loss: 0.2114 - accuracy: 0.9266 - val_loss: 0.2499 - val_accuracy: 0.9136\n",
            "Epoch 42/100\n",
            "2813/2813 [==============================] - 53s 19ms/step - loss: 0.2081 - accuracy: 0.9275 - val_loss: 0.2740 - val_accuracy: 0.9034\n",
            "Epoch 43/100\n",
            "2813/2813 [==============================] - 53s 19ms/step - loss: 0.2082 - accuracy: 0.9281 - val_loss: 0.2612 - val_accuracy: 0.9098\n",
            "Epoch 44/100\n",
            "2813/2813 [==============================] - 53s 19ms/step - loss: 0.2101 - accuracy: 0.9278 - val_loss: 0.2655 - val_accuracy: 0.9072\n",
            "Epoch 45/100\n",
            "2813/2813 [==============================] - 53s 19ms/step - loss: 0.2068 - accuracy: 0.9294 - val_loss: 0.2582 - val_accuracy: 0.9115\n",
            "Epoch 46/100\n",
            "2813/2813 [==============================] - 53s 19ms/step - loss: 0.2028 - accuracy: 0.9303 - val_loss: 0.2526 - val_accuracy: 0.9124\n",
            "Epoch 47/100\n",
            "2813/2813 [==============================] - 53s 19ms/step - loss: 0.2048 - accuracy: 0.9297 - val_loss: 0.2530 - val_accuracy: 0.9124\n",
            "Epoch 48/100\n",
            "2813/2813 [==============================] - 53s 19ms/step - loss: 0.2074 - accuracy: 0.9286 - val_loss: 0.2518 - val_accuracy: 0.9146\n",
            "Epoch 49/100\n",
            "2813/2813 [==============================] - 53s 19ms/step - loss: 0.2054 - accuracy: 0.9298 - val_loss: 0.2635 - val_accuracy: 0.9072\n",
            "Epoch 50/100\n",
            "2813/2813 [==============================] - 53s 19ms/step - loss: 0.2021 - accuracy: 0.9298 - val_loss: 0.2706 - val_accuracy: 0.9035\n",
            "Epoch 51/100\n",
            "2813/2813 [==============================] - 53s 19ms/step - loss: 0.1986 - accuracy: 0.9307 - val_loss: 0.2500 - val_accuracy: 0.9122\n",
            "Epoch 52/100\n",
            "2813/2813 [==============================] - 53s 19ms/step - loss: 0.1975 - accuracy: 0.9306 - val_loss: 0.2487 - val_accuracy: 0.9155\n",
            "Epoch 53/100\n",
            "2813/2813 [==============================] - 53s 19ms/step - loss: 0.1974 - accuracy: 0.9326 - val_loss: 0.2570 - val_accuracy: 0.9133\n",
            "Epoch 54/100\n",
            "2813/2813 [==============================] - 53s 19ms/step - loss: 0.1968 - accuracy: 0.9319 - val_loss: 0.2549 - val_accuracy: 0.9115\n",
            "Epoch 55/100\n",
            "2813/2813 [==============================] - 53s 19ms/step - loss: 0.1956 - accuracy: 0.9327 - val_loss: 0.2526 - val_accuracy: 0.9139\n",
            "Epoch 56/100\n",
            "2813/2813 [==============================] - 53s 19ms/step - loss: 0.1967 - accuracy: 0.9327 - val_loss: 0.2654 - val_accuracy: 0.9107\n",
            "Epoch 57/100\n",
            "2813/2813 [==============================] - 53s 19ms/step - loss: 0.1909 - accuracy: 0.9338 - val_loss: 0.2508 - val_accuracy: 0.9123\n",
            "Epoch 58/100\n",
            "2813/2813 [==============================] - 53s 19ms/step - loss: 0.1948 - accuracy: 0.9331 - val_loss: 0.2556 - val_accuracy: 0.9135\n",
            "Epoch 59/100\n",
            "2813/2813 [==============================] - 53s 19ms/step - loss: 0.1919 - accuracy: 0.9341 - val_loss: 0.2675 - val_accuracy: 0.9086\n",
            "Epoch 60/100\n",
            "2813/2813 [==============================] - 53s 19ms/step - loss: 0.1934 - accuracy: 0.9331 - val_loss: 0.2515 - val_accuracy: 0.9138\n",
            "Epoch 61/100\n",
            "2813/2813 [==============================] - 53s 19ms/step - loss: 0.1910 - accuracy: 0.9337 - val_loss: 0.2752 - val_accuracy: 0.9079\n",
            "Epoch 62/100\n",
            "2813/2813 [==============================] - 53s 19ms/step - loss: 0.1892 - accuracy: 0.9354 - val_loss: 0.2541 - val_accuracy: 0.9133\n",
            "Epoch 63/100\n",
            "2813/2813 [==============================] - 53s 19ms/step - loss: 0.1872 - accuracy: 0.9351 - val_loss: 0.2523 - val_accuracy: 0.9145\n",
            "Epoch 64/100\n",
            "2813/2813 [==============================] - 53s 19ms/step - loss: 0.1940 - accuracy: 0.9338 - val_loss: 0.2571 - val_accuracy: 0.9139\n",
            "Epoch 65/100\n",
            "2813/2813 [==============================] - 53s 19ms/step - loss: 0.1881 - accuracy: 0.9352 - val_loss: 0.2491 - val_accuracy: 0.9181\n",
            "Epoch 66/100\n",
            "2813/2813 [==============================] - 53s 19ms/step - loss: 0.1880 - accuracy: 0.9348 - val_loss: 0.2756 - val_accuracy: 0.9041\n",
            "Epoch 67/100\n",
            "2813/2813 [==============================] - 53s 19ms/step - loss: 0.1881 - accuracy: 0.9363 - val_loss: 0.2592 - val_accuracy: 0.9130\n",
            "Epoch 68/100\n",
            "2813/2813 [==============================] - 53s 19ms/step - loss: 0.1853 - accuracy: 0.9360 - val_loss: 0.2555 - val_accuracy: 0.9147\n",
            "Epoch 69/100\n",
            "2813/2813 [==============================] - 53s 19ms/step - loss: 0.1875 - accuracy: 0.9362 - val_loss: 0.2467 - val_accuracy: 0.9170\n",
            "Epoch 70/100\n",
            "2813/2813 [==============================] - 53s 19ms/step - loss: 0.1862 - accuracy: 0.9355 - val_loss: 0.2561 - val_accuracy: 0.9123\n",
            "Epoch 71/100\n",
            "2813/2813 [==============================] - 53s 19ms/step - loss: 0.1850 - accuracy: 0.9364 - val_loss: 0.2569 - val_accuracy: 0.9141\n",
            "Epoch 72/100\n",
            "2813/2813 [==============================] - 53s 19ms/step - loss: 0.1859 - accuracy: 0.9357 - val_loss: 0.2492 - val_accuracy: 0.9170\n",
            "Epoch 73/100\n",
            "2813/2813 [==============================] - 53s 19ms/step - loss: 0.1869 - accuracy: 0.9360 - val_loss: 0.2629 - val_accuracy: 0.9136\n",
            "Epoch 74/100\n",
            "2813/2813 [==============================] - 53s 19ms/step - loss: 0.1867 - accuracy: 0.9375 - val_loss: 0.2494 - val_accuracy: 0.9180\n",
            "Epoch 75/100\n",
            "2813/2813 [==============================] - 53s 19ms/step - loss: 0.1857 - accuracy: 0.9369 - val_loss: 0.2485 - val_accuracy: 0.9170\n",
            "Epoch 76/100\n",
            "2813/2813 [==============================] - 53s 19ms/step - loss: 0.1836 - accuracy: 0.9380 - val_loss: 0.2496 - val_accuracy: 0.9181\n",
            "Epoch 77/100\n",
            "2813/2813 [==============================] - 52s 19ms/step - loss: 0.1842 - accuracy: 0.9374 - val_loss: 0.2484 - val_accuracy: 0.9189\n",
            "Epoch 78/100\n",
            "2813/2813 [==============================] - 53s 19ms/step - loss: 0.1845 - accuracy: 0.9376 - val_loss: 0.2425 - val_accuracy: 0.9185\n",
            "Epoch 79/100\n",
            "2813/2813 [==============================] - 53s 19ms/step - loss: 0.1825 - accuracy: 0.9370 - val_loss: 0.2428 - val_accuracy: 0.9187\n",
            "Epoch 80/100\n",
            "2813/2813 [==============================] - 53s 19ms/step - loss: 0.1801 - accuracy: 0.9379 - val_loss: 0.2555 - val_accuracy: 0.9121\n",
            "Epoch 81/100\n",
            "2813/2813 [==============================] - 53s 19ms/step - loss: 0.1808 - accuracy: 0.9378 - val_loss: 0.2520 - val_accuracy: 0.9158\n",
            "Epoch 82/100\n",
            "2813/2813 [==============================] - 53s 19ms/step - loss: 0.1854 - accuracy: 0.9373 - val_loss: 0.2477 - val_accuracy: 0.9146\n",
            "Epoch 83/100\n",
            "2813/2813 [==============================] - 53s 19ms/step - loss: 0.1825 - accuracy: 0.9384 - val_loss: 0.2465 - val_accuracy: 0.9187\n",
            "Epoch 84/100\n",
            "2813/2813 [==============================] - 53s 19ms/step - loss: 0.1789 - accuracy: 0.9390 - val_loss: 0.2504 - val_accuracy: 0.9169\n",
            "Epoch 85/100\n",
            "2813/2813 [==============================] - 53s 19ms/step - loss: 0.1764 - accuracy: 0.9405 - val_loss: 0.2595 - val_accuracy: 0.9136\n",
            "Epoch 86/100\n",
            "2813/2813 [==============================] - 53s 19ms/step - loss: 0.1800 - accuracy: 0.9382 - val_loss: 0.2640 - val_accuracy: 0.9129\n",
            "Epoch 87/100\n",
            "2813/2813 [==============================] - 53s 19ms/step - loss: 0.1756 - accuracy: 0.9404 - val_loss: 0.2401 - val_accuracy: 0.9188\n",
            "Epoch 88/100\n",
            "2813/2813 [==============================] - 53s 19ms/step - loss: 0.1785 - accuracy: 0.9397 - val_loss: 0.2488 - val_accuracy: 0.9180\n",
            "Epoch 89/100\n",
            "2813/2813 [==============================] - 54s 19ms/step - loss: 0.1781 - accuracy: 0.9382 - val_loss: 0.2488 - val_accuracy: 0.9163\n",
            "Epoch 90/100\n",
            "2813/2813 [==============================] - 53s 19ms/step - loss: 0.1793 - accuracy: 0.9395 - val_loss: 0.2530 - val_accuracy: 0.9168\n",
            "Epoch 91/100\n",
            "2813/2813 [==============================] - 53s 19ms/step - loss: 0.1758 - accuracy: 0.9411 - val_loss: 0.2444 - val_accuracy: 0.9179\n",
            "Epoch 92/100\n",
            "2813/2813 [==============================] - 53s 19ms/step - loss: 0.1767 - accuracy: 0.9407 - val_loss: 0.2535 - val_accuracy: 0.9144\n",
            "Epoch 93/100\n",
            "2813/2813 [==============================] - 53s 19ms/step - loss: 0.1757 - accuracy: 0.9407 - val_loss: 0.2485 - val_accuracy: 0.9156\n",
            "Epoch 94/100\n",
            "2813/2813 [==============================] - 53s 19ms/step - loss: 0.1746 - accuracy: 0.9406 - val_loss: 0.2608 - val_accuracy: 0.9113\n",
            "Epoch 95/100\n",
            "2813/2813 [==============================] - 53s 19ms/step - loss: 0.1750 - accuracy: 0.9412 - val_loss: 0.2512 - val_accuracy: 0.9173\n",
            "Epoch 96/100\n",
            "2813/2813 [==============================] - 53s 19ms/step - loss: 0.1782 - accuracy: 0.9402 - val_loss: 0.2482 - val_accuracy: 0.9177\n",
            "Epoch 97/100\n",
            "2813/2813 [==============================] - 53s 19ms/step - loss: 0.1714 - accuracy: 0.9415 - val_loss: 0.2488 - val_accuracy: 0.9185\n",
            "Epoch 98/100\n",
            "2813/2813 [==============================] - 53s 19ms/step - loss: 0.1738 - accuracy: 0.9417 - val_loss: 0.2523 - val_accuracy: 0.9194\n",
            "Epoch 99/100\n",
            "2813/2813 [==============================] - 53s 19ms/step - loss: 0.1739 - accuracy: 0.9413 - val_loss: 0.2490 - val_accuracy: 0.9195\n",
            "Epoch 100/100\n",
            "2813/2813 [==============================] - 53s 19ms/step - loss: 0.1725 - accuracy: 0.9420 - val_loss: 0.2647 - val_accuracy: 0.9113\n"
          ],
          "name": "stdout"
        }
      ]
    },
    {
      "cell_type": "code",
      "metadata": {
        "id": "s4jSbqCBg_Ol",
        "colab_type": "code",
        "colab": {
          "base_uri": "https://localhost:8080/",
          "height": 254
        },
        "outputId": "dce88c6a-23a7-4b5b-b659-603747b320ab"
      },
      "source": [
        "import matplotlib.pyplot as plt\n",
        "plt.figure(figsize=(12, 4))\n",
        "plt.subplot(1, 2, 1)\n",
        "plt.plot(history.history['loss'], 'b-', label='loss')\n",
        "plt.plot(history.history['val_loss'], 'r--', label='val_loss')\n",
        "plt.xlabel('Epoch')\n",
        "plt.legend()\n",
        "\n",
        "plt.subplot(1, 2, 2)\n",
        "plt.plot(history.history['accuracy'], 'g-', label='accuracy')\n",
        "plt.plot(history.history['val_accuracy'], 'k--', label='val_accuracy')\n",
        "plt.xlabel('Epoch')\n",
        "plt.ylim(0.7, 1)\n",
        "plt.legend()\n",
        "\n",
        "\n",
        "\n",
        "plt.show()\n"
      ],
      "execution_count": 39,
      "outputs": [
        {
          "output_type": "display_data",
          "data": {
            "image/png": "[encoded data removed]",
            "text/plain": [
              "<Figure size 864x288 with 2 Axes>"
            ]
          },
          "metadata": {
            "tags": [],
            "needs_background": "light"
          }
        }
      ]
    },
    {
      "cell_type": "code",
      "metadata": {
        "id": "hBJwBq0sg_On",
        "colab_type": "code",
        "colab": {}
      },
      "source": [
        ""
      ],
      "execution_count": null,
      "outputs": []
    },
    {
      "cell_type": "code",
      "metadata": {
        "id": "ojHuWluDg_Op",
        "colab_type": "code",
        "colab": {}
      },
      "source": [
        ""
      ],
      "execution_count": null,
      "outputs": []
    },
    {
      "cell_type": "code",
      "metadata": {
        "id": "fn9H06sBg_Or",
        "colab_type": "code",
        "colab": {}
      },
      "source": [
        ""
      ],
      "execution_count": null,
      "outputs": []
    },
    {
      "cell_type": "code",
      "metadata": {
        "id": "hyxoIvO5g_O3",
        "colab_type": "code",
        "colab": {}
      },
      "source": [
        ""
      ],
      "execution_count": null,
      "outputs": []
    },
    {
      "cell_type": "code",
      "metadata": {
        "id": "tsVbHWD5g_O5",
        "colab_type": "code",
        "colab": {}
      },
      "source": [
        ""
      ],
      "execution_count": null,
      "outputs": []
    },
    {
      "cell_type": "code",
      "metadata": {
        "id": "E9YH4CoVg_O7",
        "colab_type": "code",
        "colab": {}
      },
      "source": [
        ""
      ],
      "execution_count": null,
      "outputs": []
    },
    {
      "cell_type": "code",
      "metadata": {
        "id": "OGgrkMiFg_O8",
        "colab_type": "code",
        "colab": {}
      },
      "source": [
        ""
      ],
      "execution_count": null,
      "outputs": []
    },
    {
      "cell_type": "code",
      "metadata": {
        "id": "EIPJHG1hg_O_",
        "colab_type": "code",
        "colab": {}
      },
      "source": [
        ""
      ],
      "execution_count": null,
      "outputs": []
    },
    {
      "cell_type": "code",
      "metadata": {
        "id": "_QIUhy4Ag_PB",
        "colab_type": "code",
        "colab": {}
      },
      "source": [
        ""
      ],
      "execution_count": null,
      "outputs": []
    },
    {
      "cell_type": "code",
      "metadata": {
        "id": "OBaU_rzZg_PC",
        "colab_type": "code",
        "colab": {}
      },
      "source": [
        ""
      ],
      "execution_count": null,
      "outputs": []
    },
    {
      "cell_type": "code",
      "metadata": {
        "id": "ST2J9YXRg_PE",
        "colab_type": "code",
        "colab": {}
      },
      "source": [
        ""
      ],
      "execution_count": null,
      "outputs": []
    },
    {
      "cell_type": "code",
      "metadata": {
        "id": "hHDhsI3Sg_PI",
        "colab_type": "code",
        "colab": {}
      },
      "source": [
        ""
      ],
      "execution_count": null,
      "outputs": []
    },
    {
      "cell_type": "code",
      "metadata": {
        "id": "tFoo_XFSg_PL",
        "colab_type": "code",
        "colab": {}
      },
      "source": [
        ""
      ],
      "execution_count": null,
      "outputs": []
    },
    {
      "cell_type": "code",
      "metadata": {
        "id": "jQVNGGyGg_PN",
        "colab_type": "code",
        "colab": {}
      },
      "source": [
        ""
      ],
      "execution_count": null,
      "outputs": []
    },
    {
      "cell_type": "code",
      "metadata": {
        "id": "5ErLwW4Zg_PO",
        "colab_type": "code",
        "colab": {}
      },
      "source": [
        ""
      ],
      "execution_count": null,
      "outputs": []
    },
    {
      "cell_type": "code",
      "metadata": {
        "id": "GLQvx-P0g_PP",
        "colab_type": "code",
        "colab": {}
      },
      "source": [
        ""
      ],
      "execution_count": null,
      "outputs": []
    },
    {
      "cell_type": "code",
      "metadata": {
        "id": "V1q4t-Ixg_PS",
        "colab_type": "code",
        "colab": {}
      },
      "source": [
        ""
      ],
      "execution_count": null,
      "outputs": []
    },
    {
      "cell_type": "code",
      "metadata": {
        "id": "b1_7Yq6lg_PU",
        "colab_type": "code",
        "colab": {}
      },
      "source": [
        ""
      ],
      "execution_count": null,
      "outputs": []
    },
    {
      "cell_type": "code",
      "metadata": {
        "id": "1D2_7y6ng_PV",
        "colab_type": "code",
        "colab": {}
      },
      "source": [
        ""
      ],
      "execution_count": null,
      "outputs": []
    },
    {
      "cell_type": "code",
      "metadata": {
        "id": "sp3SJ-ORg_PY",
        "colab_type": "code",
        "colab": {}
      },
      "source": [
        ""
      ],
      "execution_count": null,
      "outputs": []
    },
    {
      "cell_type": "code",
      "metadata": {
        "id": "fwchyv0tg_PZ",
        "colab_type": "code",
        "colab": {}
      },
      "source": [
        ""
      ],
      "execution_count": null,
      "outputs": []
    },
    {
      "cell_type": "code",
      "metadata": {
        "id": "vyrG-K8Cg_Pa",
        "colab_type": "code",
        "colab": {}
      },
      "source": [
        ""
      ],
      "execution_count": null,
      "outputs": []
    },
    {
      "cell_type": "code",
      "metadata": {
        "id": "UE26DxyTg_Pc",
        "colab_type": "code",
        "colab": {}
      },
      "source": [
        ""
      ],
      "execution_count": null,
      "outputs": []
    },
    {
      "cell_type": "code",
      "metadata": {
        "id": "0f5m0halg_Pd",
        "colab_type": "code",
        "colab": {}
      },
      "source": [
        ""
      ],
      "execution_count": null,
      "outputs": []
    },
    {
      "cell_type": "code",
      "metadata": {
        "id": "DBeZgHmTg_Pe",
        "colab_type": "code",
        "colab": {}
      },
      "source": [
        ""
      ],
      "execution_count": null,
      "outputs": []
    },
    {
      "cell_type": "code",
      "metadata": {
        "id": "8ozXPxh8g_Pg",
        "colab_type": "code",
        "colab": {}
      },
      "source": [
        ""
      ],
      "execution_count": null,
      "outputs": []
    },
    {
      "cell_type": "code",
      "metadata": {
        "id": "xoW4ESllg_Ph",
        "colab_type": "code",
        "colab": {}
      },
      "source": [
        ""
      ],
      "execution_count": null,
      "outputs": []
    },
    {
      "cell_type": "code",
      "metadata": {
        "id": "afN2UxEHg_Pk",
        "colab_type": "code",
        "colab": {}
      },
      "source": [
        ""
      ],
      "execution_count": null,
      "outputs": []
    },
    {
      "cell_type": "code",
      "metadata": {
        "id": "OdtvVpaog_Pl",
        "colab_type": "code",
        "colab": {}
      },
      "source": [
        ""
      ],
      "execution_count": null,
      "outputs": []
    },
    {
      "cell_type": "code",
      "metadata": {
        "id": "1ZP-9gtng_Po",
        "colab_type": "code",
        "colab": {}
      },
      "source": [
        ""
      ],
      "execution_count": null,
      "outputs": []
    },
    {
      "cell_type": "code",
      "metadata": {
        "id": "rmFqm8Xzg_Pp",
        "colab_type": "code",
        "colab": {}
      },
      "source": [
        ""
      ],
      "execution_count": null,
      "outputs": []
    },
    {
      "cell_type": "code",
      "metadata": {
        "id": "UmFDsJklg_Pr",
        "colab_type": "code",
        "colab": {}
      },
      "source": [
        ""
      ],
      "execution_count": null,
      "outputs": []
    },
    {
      "cell_type": "code",
      "metadata": {
        "id": "BP0FpRSHg_Pv",
        "colab_type": "code",
        "colab": {}
      },
      "source": [
        ""
      ],
      "execution_count": null,
      "outputs": []
    },
    {
      "cell_type": "code",
      "metadata": {
        "id": "SXRqnjwlg_Px",
        "colab_type": "code",
        "colab": {}
      },
      "source": [
        ""
      ],
      "execution_count": null,
      "outputs": []
    },
    {
      "cell_type": "code",
      "metadata": {
        "id": "oclV0W2ag_Pz",
        "colab_type": "code",
        "colab": {}
      },
      "source": [
        ""
      ],
      "execution_count": null,
      "outputs": []
    },
    {
      "cell_type": "code",
      "metadata": {
        "id": "cDMETHJDg_P0",
        "colab_type": "code",
        "colab": {}
      },
      "source": [
        ""
      ],
      "execution_count": null,
      "outputs": []
    },
    {
      "cell_type": "code",
      "metadata": {
        "id": "zCCR6wCYg_P2",
        "colab_type": "code",
        "colab": {}
      },
      "source": [
        ""
      ],
      "execution_count": null,
      "outputs": []
    },
    {
      "cell_type": "code",
      "metadata": {
        "id": "VvaMPs2cg_P3",
        "colab_type": "code",
        "colab": {}
      },
      "source": [
        ""
      ],
      "execution_count": null,
      "outputs": []
    },
    {
      "cell_type": "code",
      "metadata": {
        "id": "vsDvgEllg_P6",
        "colab_type": "code",
        "colab": {}
      },
      "source": [
        ""
      ],
      "execution_count": null,
      "outputs": []
    },
    {
      "cell_type": "code",
      "metadata": {
        "id": "UsnDGJZhg_P7",
        "colab_type": "code",
        "colab": {}
      },
      "source": [
        ""
      ],
      "execution_count": null,
      "outputs": []
    },
    {
      "cell_type": "code",
      "metadata": {
        "id": "hN71dUD4g_P8",
        "colab_type": "code",
        "colab": {}
      },
      "source": [
        ""
      ],
      "execution_count": null,
      "outputs": []
    },
    {
      "cell_type": "code",
      "metadata": {
        "id": "lkH-NYckg_P9",
        "colab_type": "code",
        "colab": {}
      },
      "source": [
        ""
      ],
      "execution_count": null,
      "outputs": []
    },
    {
      "cell_type": "code",
      "metadata": {
        "id": "yvI7b4Ttg_P-",
        "colab_type": "code",
        "colab": {}
      },
      "source": [
        ""
      ],
      "execution_count": null,
      "outputs": []
    },
    {
      "cell_type": "code",
      "metadata": {
        "id": "DXEz6_iVg_QA",
        "colab_type": "code",
        "colab": {}
      },
      "source": [
        ""
      ],
      "execution_count": null,
      "outputs": []
    },
    {
      "cell_type": "code",
      "metadata": {
        "id": "TvsqGi6-g_QC",
        "colab_type": "code",
        "colab": {}
      },
      "source": [
        ""
      ],
      "execution_count": null,
      "outputs": []
    },
    {
      "cell_type": "code",
      "metadata": {
        "id": "0DkFVXZyg_QE",
        "colab_type": "code",
        "colab": {}
      },
      "source": [
        ""
      ],
      "execution_count": null,
      "outputs": []
    },
    {
      "cell_type": "code",
      "metadata": {
        "id": "XGrHn5Npg_QF",
        "colab_type": "code",
        "colab": {}
      },
      "source": [
        ""
      ],
      "execution_count": null,
      "outputs": []
    },
    {
      "cell_type": "code",
      "metadata": {
        "id": "LMhlzwmSg_QG",
        "colab_type": "code",
        "colab": {}
      },
      "source": [
        ""
      ],
      "execution_count": null,
      "outputs": []
    },
    {
      "cell_type": "code",
      "metadata": {
        "id": "agfWHtAqg_QH",
        "colab_type": "code",
        "colab": {}
      },
      "source": [
        ""
      ],
      "execution_count": null,
      "outputs": []
    },
    {
      "cell_type": "code",
      "metadata": {
        "id": "seUuzJqjg_QK",
        "colab_type": "code",
        "colab": {}
      },
      "source": [
        ""
      ],
      "execution_count": null,
      "outputs": []
    },
    {
      "cell_type": "code",
      "metadata": {
        "id": "1dc8UNFjg_QL",
        "colab_type": "code",
        "colab": {}
      },
      "source": [
        ""
      ],
      "execution_count": null,
      "outputs": []
    },
    {
      "cell_type": "code",
      "metadata": {
        "id": "HeS5VPhUg_QN",
        "colab_type": "code",
        "colab": {}
      },
      "source": [
        ""
      ],
      "execution_count": null,
      "outputs": []
    },
    {
      "cell_type": "code",
      "metadata": {
        "id": "h8mWkRd7g_QR",
        "colab_type": "code",
        "colab": {}
      },
      "source": [
        ""
      ],
      "execution_count": null,
      "outputs": []
    },
    {
      "cell_type": "code",
      "metadata": {
        "id": "4waq2czeg_QS",
        "colab_type": "code",
        "colab": {}
      },
      "source": [
        ""
      ],
      "execution_count": null,
      "outputs": []
    },
    {
      "cell_type": "code",
      "metadata": {
        "id": "_wbYVO_cg_QU",
        "colab_type": "code",
        "colab": {}
      },
      "source": [
        ""
      ],
      "execution_count": null,
      "outputs": []
    },
    {
      "cell_type": "code",
      "metadata": {
        "id": "hwIsaTWzg_QV",
        "colab_type": "code",
        "colab": {}
      },
      "source": [
        ""
      ],
      "execution_count": null,
      "outputs": []
    },
    {
      "cell_type": "code",
      "metadata": {
        "id": "nQOQMbOgg_QW",
        "colab_type": "code",
        "colab": {}
      },
      "source": [
        ""
      ],
      "execution_count": null,
      "outputs": []
    },
    {
      "cell_type": "code",
      "metadata": {
        "id": "Le-FsKzqg_QX",
        "colab_type": "code",
        "colab": {}
      },
      "source": [
        ""
      ],
      "execution_count": null,
      "outputs": []
    },
    {
      "cell_type": "code",
      "metadata": {
        "id": "xAqkgZE7g_QZ",
        "colab_type": "code",
        "colab": {}
      },
      "source": [
        ""
      ],
      "execution_count": null,
      "outputs": []
    },
    {
      "cell_type": "code",
      "metadata": {
        "id": "iWhYKVL8g_Qi",
        "colab_type": "code",
        "colab": {}
      },
      "source": [
        ""
      ],
      "execution_count": null,
      "outputs": []
    }
  ]
}