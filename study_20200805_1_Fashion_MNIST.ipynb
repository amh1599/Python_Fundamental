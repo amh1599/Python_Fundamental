{
 "cells": [
  {
   "cell_type": "code",
   "execution_count": 2,
   "metadata": {},
   "outputs": [
    {
     "data": {
      "text/plain": [
       "<module 'tensorflow.keras.datasets.fashion_mnist' from 'C:\\\\Users\\\\user\\\\anaconda3\\\\lib\\\\site-packages\\\\tensorflow\\\\keras\\\\datasets\\\\fashion_mnist\\\\__init__.py'>"
      ]
     },
     "execution_count": 2,
     "metadata": {},
     "output_type": "execute_result"
    }
   ],
   "source": [
    "import tensorflow as tf\n",
    "fashion_mnist = tf.keras.datasets.fashion_mnist\n",
    "fashion_mnist"
   ]
  },
  {
   "cell_type": "code",
   "execution_count": 4,
   "metadata": {},
   "outputs": [
    {
     "name": "stdout",
     "output_type": "stream",
     "text": [
      "60000\n",
      "10000\n"
     ]
    }
   ],
   "source": [
    "(train_X, train_Y),(test_X, test_Y) = fashion_mnist.load_data()\n",
    "print(len(train_X))\n",
    "print(len(test_X))"
   ]
  },
  {
   "cell_type": "code",
   "execution_count": 10,
   "metadata": {},
   "outputs": [
    {
     "data": {
      "text/plain": [
       "<matplotlib.image.AxesImage at 0x1cf6c739808>"
      ]
     },
     "execution_count": 10,
     "metadata": {},
     "output_type": "execute_result"
    },
    {
     "data": {
      "image/png": "[encoded data removed]",
      "text/plain": [
       "<Figure size 432x288 with 1 Axes>"
      ]
     },
     "metadata": {
      "needs_background": "light"
     },
     "output_type": "display_data"
    }
   ],
   "source": [
    "import matplotlib.pyplot as plt\n",
    "plt.imshow(train_X[0], cmap='gray')"
   ]
  },
  {
   "cell_type": "code",
   "execution_count": 8,
   "metadata": {},
   "outputs": [
    {
     "name": "stdout",
     "output_type": "stream",
     "text": [
      "[[0.         0.         0.         0.         0.         0.\n",
      "  0.         0.         0.         0.         0.         0.\n",
      "  0.         0.         0.         0.         0.         0.\n",
      "  0.         0.         0.         0.         0.         0.\n",
      "  0.         0.         0.         0.        ]\n",
      " [0.         0.         0.         0.         0.         0.\n",
      "  0.         0.         0.         0.         0.         0.\n",
      "  0.         0.         0.         0.         0.         0.\n",
      "  0.         0.         0.         0.         0.         0.\n",
      "  0.         0.         0.         0.        ]\n",
      " [0.         0.         0.         0.         0.         0.\n",
      "  0.         0.         0.         0.         0.         0.\n",
      "  0.         0.         0.         0.         0.         0.\n",
      "  0.         0.         0.         0.         0.         0.\n",
      "  0.         0.         0.         0.        ]\n",
      " [0.         0.         0.         0.         0.         0.\n",
      "  0.         0.         0.         0.         0.         0.\n",
      "  0.00392157 0.         0.         0.05098039 0.28627451 0.\n",
      "  0.         0.00392157 0.01568627 0.         0.         0.\n",
      "  0.         0.00392157 0.00392157 0.        ]\n",
      " [0.         0.         0.         0.         0.         0.\n",
      "  0.         0.         0.         0.         0.         0.\n",
      "  0.01176471 0.         0.14117647 0.53333333 0.49803922 0.24313725\n",
      "  0.21176471 0.         0.         0.         0.00392157 0.01176471\n",
      "  0.01568627 0.         0.         0.01176471]\n",
      " [0.         0.         0.         0.         0.         0.\n",
      "  0.         0.         0.         0.         0.         0.\n",
      "  0.02352941 0.         0.4        0.8        0.69019608 0.5254902\n",
      "  0.56470588 0.48235294 0.09019608 0.         0.         0.\n",
      "  0.         0.04705882 0.03921569 0.        ]\n",
      " [0.         0.         0.         0.         0.         0.\n",
      "  0.         0.         0.         0.         0.         0.\n",
      "  0.         0.         0.60784314 0.9254902  0.81176471 0.69803922\n",
      "  0.41960784 0.61176471 0.63137255 0.42745098 0.25098039 0.09019608\n",
      "  0.30196078 0.50980392 0.28235294 0.05882353]\n",
      " [0.         0.         0.         0.         0.         0.\n",
      "  0.         0.         0.         0.         0.         0.00392157\n",
      "  0.         0.27058824 0.81176471 0.8745098  0.85490196 0.84705882\n",
      "  0.84705882 0.63921569 0.49803922 0.4745098  0.47843137 0.57254902\n",
      "  0.55294118 0.34509804 0.6745098  0.25882353]\n",
      " [0.         0.         0.         0.         0.         0.\n",
      "  0.         0.         0.         0.00392157 0.00392157 0.00392157\n",
      "  0.         0.78431373 0.90980392 0.90980392 0.91372549 0.89803922\n",
      "  0.8745098  0.8745098  0.84313725 0.83529412 0.64313725 0.49803922\n",
      "  0.48235294 0.76862745 0.89803922 0.        ]\n",
      " [0.         0.         0.         0.         0.         0.\n",
      "  0.         0.         0.         0.         0.         0.\n",
      "  0.         0.71764706 0.88235294 0.84705882 0.8745098  0.89411765\n",
      "  0.92156863 0.89019608 0.87843137 0.87058824 0.87843137 0.86666667\n",
      "  0.8745098  0.96078431 0.67843137 0.        ]\n",
      " [0.         0.         0.         0.         0.         0.\n",
      "  0.         0.         0.         0.         0.         0.\n",
      "  0.         0.75686275 0.89411765 0.85490196 0.83529412 0.77647059\n",
      "  0.70588235 0.83137255 0.82352941 0.82745098 0.83529412 0.8745098\n",
      "  0.8627451  0.95294118 0.79215686 0.        ]\n",
      " [0.         0.         0.         0.         0.         0.\n",
      "  0.         0.         0.         0.00392157 0.01176471 0.\n",
      "  0.04705882 0.85882353 0.8627451  0.83137255 0.85490196 0.75294118\n",
      "  0.6627451  0.89019608 0.81568627 0.85490196 0.87843137 0.83137255\n",
      "  0.88627451 0.77254902 0.81960784 0.20392157]\n",
      " [0.         0.         0.         0.         0.         0.\n",
      "  0.         0.         0.         0.         0.02352941 0.\n",
      "  0.38823529 0.95686275 0.87058824 0.8627451  0.85490196 0.79607843\n",
      "  0.77647059 0.86666667 0.84313725 0.83529412 0.87058824 0.8627451\n",
      "  0.96078431 0.46666667 0.65490196 0.21960784]\n",
      " [0.         0.         0.         0.         0.         0.\n",
      "  0.         0.         0.         0.01568627 0.         0.\n",
      "  0.21568627 0.9254902  0.89411765 0.90196078 0.89411765 0.94117647\n",
      "  0.90980392 0.83529412 0.85490196 0.8745098  0.91764706 0.85098039\n",
      "  0.85098039 0.81960784 0.36078431 0.        ]\n",
      " [0.         0.         0.00392157 0.01568627 0.02352941 0.02745098\n",
      "  0.00784314 0.         0.         0.         0.         0.\n",
      "  0.92941176 0.88627451 0.85098039 0.8745098  0.87058824 0.85882353\n",
      "  0.87058824 0.86666667 0.84705882 0.8745098  0.89803922 0.84313725\n",
      "  0.85490196 1.         0.30196078 0.        ]\n",
      " [0.         0.01176471 0.         0.         0.         0.\n",
      "  0.         0.         0.         0.24313725 0.56862745 0.8\n",
      "  0.89411765 0.81176471 0.83529412 0.86666667 0.85490196 0.81568627\n",
      "  0.82745098 0.85490196 0.87843137 0.8745098  0.85882353 0.84313725\n",
      "  0.87843137 0.95686275 0.62352941 0.        ]\n",
      " [0.         0.         0.         0.         0.07058824 0.17254902\n",
      "  0.32156863 0.41960784 0.74117647 0.89411765 0.8627451  0.87058824\n",
      "  0.85098039 0.88627451 0.78431373 0.80392157 0.82745098 0.90196078\n",
      "  0.87843137 0.91764706 0.69019608 0.7372549  0.98039216 0.97254902\n",
      "  0.91372549 0.93333333 0.84313725 0.        ]\n",
      " [0.         0.22352941 0.73333333 0.81568627 0.87843137 0.86666667\n",
      "  0.87843137 0.81568627 0.8        0.83921569 0.81568627 0.81960784\n",
      "  0.78431373 0.62352941 0.96078431 0.75686275 0.80784314 0.8745098\n",
      "  1.         1.         0.86666667 0.91764706 0.86666667 0.82745098\n",
      "  0.8627451  0.90980392 0.96470588 0.        ]\n",
      " [0.01176471 0.79215686 0.89411765 0.87843137 0.86666667 0.82745098\n",
      "  0.82745098 0.83921569 0.80392157 0.80392157 0.80392157 0.8627451\n",
      "  0.94117647 0.31372549 0.58823529 1.         0.89803922 0.86666667\n",
      "  0.7372549  0.60392157 0.74901961 0.82352941 0.8        0.81960784\n",
      "  0.87058824 0.89411765 0.88235294 0.        ]\n",
      " [0.38431373 0.91372549 0.77647059 0.82352941 0.87058824 0.89803922\n",
      "  0.89803922 0.91764706 0.97647059 0.8627451  0.76078431 0.84313725\n",
      "  0.85098039 0.94509804 0.25490196 0.28627451 0.41568627 0.45882353\n",
      "  0.65882353 0.85882353 0.86666667 0.84313725 0.85098039 0.8745098\n",
      "  0.8745098  0.87843137 0.89803922 0.11372549]\n",
      " [0.29411765 0.8        0.83137255 0.8        0.75686275 0.80392157\n",
      "  0.82745098 0.88235294 0.84705882 0.7254902  0.77254902 0.80784314\n",
      "  0.77647059 0.83529412 0.94117647 0.76470588 0.89019608 0.96078431\n",
      "  0.9372549  0.8745098  0.85490196 0.83137255 0.81960784 0.87058824\n",
      "  0.8627451  0.86666667 0.90196078 0.2627451 ]\n",
      " [0.18823529 0.79607843 0.71764706 0.76078431 0.83529412 0.77254902\n",
      "  0.7254902  0.74509804 0.76078431 0.75294118 0.79215686 0.83921569\n",
      "  0.85882353 0.86666667 0.8627451  0.9254902  0.88235294 0.84705882\n",
      "  0.78039216 0.80784314 0.72941176 0.70980392 0.69411765 0.6745098\n",
      "  0.70980392 0.80392157 0.80784314 0.45098039]\n",
      " [0.         0.47843137 0.85882353 0.75686275 0.70196078 0.67058824\n",
      "  0.71764706 0.76862745 0.8        0.82352941 0.83529412 0.81176471\n",
      "  0.82745098 0.82352941 0.78431373 0.76862745 0.76078431 0.74901961\n",
      "  0.76470588 0.74901961 0.77647059 0.75294118 0.69019608 0.61176471\n",
      "  0.65490196 0.69411765 0.82352941 0.36078431]\n",
      " [0.         0.         0.29019608 0.74117647 0.83137255 0.74901961\n",
      "  0.68627451 0.6745098  0.68627451 0.70980392 0.7254902  0.7372549\n",
      "  0.74117647 0.7372549  0.75686275 0.77647059 0.8        0.81960784\n",
      "  0.82352941 0.82352941 0.82745098 0.7372549  0.7372549  0.76078431\n",
      "  0.75294118 0.84705882 0.66666667 0.        ]\n",
      " [0.00784314 0.         0.         0.         0.25882353 0.78431373\n",
      "  0.87058824 0.92941176 0.9372549  0.94901961 0.96470588 0.95294118\n",
      "  0.95686275 0.86666667 0.8627451  0.75686275 0.74901961 0.70196078\n",
      "  0.71372549 0.71372549 0.70980392 0.69019608 0.65098039 0.65882353\n",
      "  0.38823529 0.22745098 0.         0.        ]\n",
      " [0.         0.         0.         0.         0.         0.\n",
      "  0.         0.15686275 0.23921569 0.17254902 0.28235294 0.16078431\n",
      "  0.1372549  0.         0.         0.         0.         0.\n",
      "  0.         0.         0.         0.         0.         0.\n",
      "  0.         0.         0.         0.        ]\n",
      " [0.         0.         0.         0.         0.         0.\n",
      "  0.         0.         0.         0.         0.         0.\n",
      "  0.         0.         0.         0.         0.         0.\n",
      "  0.         0.         0.         0.         0.         0.\n",
      "  0.         0.         0.         0.        ]\n",
      " [0.         0.         0.         0.         0.         0.\n",
      "  0.         0.         0.         0.         0.         0.\n",
      "  0.         0.         0.         0.         0.         0.\n",
      "  0.         0.         0.         0.         0.         0.\n",
      "  0.         0.         0.         0.        ]]\n"
     ]
    }
   ],
   "source": [
    "train_X = train_X /255\n",
    "test_X = test_X /255\n",
    "print(train_X[0])  # 28 by 28"
   ]
  },
  {
   "cell_type": "code",
   "execution_count": 11,
   "metadata": {},
   "outputs": [],
   "source": [
    "# 3 --> [0,0,1,0,0,0,0,0,0,0]\n",
    "# 5 --> [0,0,0,0,1,0,0,0,0,0] 이와 같이 변경\n",
    "# tf.keras.utils.to_categorical()\n",
    "# num_classes 가 5이면 3 --> [0,0,1,0,0]\n",
    "\n",
    "train_Y = tf.keras.utils.to_categorical(train_Y, num_classes=10)\n",
    "test_Y = tf.keras.utils.to_categorical(test_Y, num_classes=10)"
   ]
  },
  {
   "cell_type": "code",
   "execution_count": 12,
   "metadata": {},
   "outputs": [
    {
     "data": {
      "text/plain": [
       "array([0., 0., 0., 0., 0., 0., 0., 0., 0., 1.], dtype=float32)"
      ]
     },
     "execution_count": 12,
     "metadata": {},
     "output_type": "execute_result"
    }
   ],
   "source": [
    "train_Y[0]"
   ]
  },
  {
   "cell_type": "code",
   "execution_count": 18,
   "metadata": {},
   "outputs": [],
   "source": [
    "model = tf.keras.Sequential([\n",
    "    # 입력 레이어 --> 28by28 2차원을 1차원으로 받을 입력 레이어\n",
    "    tf.keras.layers.Flatten(input_shape=(28,28)),\n",
    "    \n",
    "    # 히든 레이어 --> 노드 128개, 활성함수는 relu\n",
    "    tf.keras.layers.Dense(units=128, activation=\"relu\"),\n",
    "    \n",
    "    # 출력 레이어 --> 노드 10개, softmax\n",
    "    tf.keras.layers.Dense(units=10, activation=\"softmax\")\n",
    "])\n",
    "\n",
    "# sparse_categorical_crossentropy --> y값을 0~9로 바로 사용 \n",
    "# categorical_crossentropy --> y값을 [0,0,0,1,0,0,0,0,0,0]\n",
    "model.compile(loss=\"categorical_crossentropy\",\n",
    "             optimizer = tf.keras.optimizers.Adam(),\n",
    "             metrics=[\"accuracy\"]    \n",
    ")"
   ]
  },
  {
   "cell_type": "code",
   "execution_count": 16,
   "metadata": {},
   "outputs": [
    {
     "name": "stdout",
     "output_type": "stream",
     "text": [
      "Model: \"sequential_1\"\n",
      "_________________________________________________________________\n",
      "Layer (type)                 Output Shape              Param #   \n",
      "=================================================================\n",
      "flatten_1 (Flatten)          (None, 784)               0         \n",
      "_________________________________________________________________\n",
      "dense_2 (Dense)              (None, 128)               100480    \n",
      "_________________________________________________________________\n",
      "dense_3 (Dense)              (None, 10)                1290      \n",
      "=================================================================\n",
      "Total params: 101,770\n",
      "Trainable params: 101,770\n",
      "Non-trainable params: 0\n",
      "_________________________________________________________________\n"
     ]
    }
   ],
   "source": [
    "model.summary()"
   ]
  },
  {
   "cell_type": "code",
   "execution_count": 19,
   "metadata": {
    "scrolled": true
   },
   "outputs": [
    {
     "name": "stdout",
     "output_type": "stream",
     "text": [
      "Epoch 1/25\n",
      "1407/1407 [==============================] - 2s 1ms/step - loss: 0.5240 - accuracy: 0.8177 - val_loss: 0.4384 - val_accuracy: 0.8355\n",
      "Epoch 2/25\n",
      "1407/1407 [==============================] - 2s 1ms/step - loss: 0.3939 - accuracy: 0.8588 - val_loss: 0.3879 - val_accuracy: 0.8636\n",
      "Epoch 3/25\n",
      "1407/1407 [==============================] - 2s 1ms/step - loss: 0.3504 - accuracy: 0.8720 - val_loss: 0.3502 - val_accuracy: 0.8744\n",
      "Epoch 4/25\n",
      "1407/1407 [==============================] - 2s 1ms/step - loss: 0.3225 - accuracy: 0.8823 - val_loss: 0.3278 - val_accuracy: 0.8813\n",
      "Epoch 5/25\n",
      "1407/1407 [==============================] - 2s 1ms/step - loss: 0.3021 - accuracy: 0.8894 - val_loss: 0.3363 - val_accuracy: 0.8791\n",
      "Epoch 6/25\n",
      "1407/1407 [==============================] - 2s 1ms/step - loss: 0.2860 - accuracy: 0.8938 - val_loss: 0.3317 - val_accuracy: 0.8825\n",
      "Epoch 7/25\n",
      "1407/1407 [==============================] - 2s 1ms/step - loss: 0.2735 - accuracy: 0.9002 - val_loss: 0.3244 - val_accuracy: 0.8845\n",
      "Epoch 8/25\n",
      "1407/1407 [==============================] - 2s 1ms/step - loss: 0.2619 - accuracy: 0.9025 - val_loss: 0.3098 - val_accuracy: 0.8867\n",
      "Epoch 9/25\n",
      "1407/1407 [==============================] - 2s 1ms/step - loss: 0.2498 - accuracy: 0.9059 - val_loss: 0.3316 - val_accuracy: 0.8823\n",
      "Epoch 10/25\n",
      "1407/1407 [==============================] - 2s 1ms/step - loss: 0.2411 - accuracy: 0.9096 - val_loss: 0.3311 - val_accuracy: 0.8861\n",
      "Epoch 11/25\n",
      "1407/1407 [==============================] - 2s 1ms/step - loss: 0.2300 - accuracy: 0.9148 - val_loss: 0.3282 - val_accuracy: 0.8863\n",
      "Epoch 12/25\n",
      "1407/1407 [==============================] - 2s 1ms/step - loss: 0.2255 - accuracy: 0.9157 - val_loss: 0.3340 - val_accuracy: 0.8862\n",
      "Epoch 13/25\n",
      "1407/1407 [==============================] - 2s 1ms/step - loss: 0.2165 - accuracy: 0.9195 - val_loss: 0.3420 - val_accuracy: 0.8795\n",
      "Epoch 14/25\n",
      "1407/1407 [==============================] - 2s 1ms/step - loss: 0.2099 - accuracy: 0.9214 - val_loss: 0.3297 - val_accuracy: 0.8885\n",
      "Epoch 15/25\n",
      "1407/1407 [==============================] - 2s 1ms/step - loss: 0.2038 - accuracy: 0.9224 - val_loss: 0.3257 - val_accuracy: 0.8875\n",
      "Epoch 16/25\n",
      "1407/1407 [==============================] - 2s 1ms/step - loss: 0.1947 - accuracy: 0.9278 - val_loss: 0.3288 - val_accuracy: 0.8901\n",
      "Epoch 17/25\n",
      "1407/1407 [==============================] - 2s 1ms/step - loss: 0.1929 - accuracy: 0.9262 - val_loss: 0.3199 - val_accuracy: 0.8942\n",
      "Epoch 18/25\n",
      "1407/1407 [==============================] - 2s 1ms/step - loss: 0.1861 - accuracy: 0.9311 - val_loss: 0.3418 - val_accuracy: 0.8904\n",
      "Epoch 19/25\n",
      "1407/1407 [==============================] - 2s 1ms/step - loss: 0.1790 - accuracy: 0.9331 - val_loss: 0.3506 - val_accuracy: 0.8885\n",
      "Epoch 20/25\n",
      "1407/1407 [==============================] - 2s 1ms/step - loss: 0.1744 - accuracy: 0.9342 - val_loss: 0.3392 - val_accuracy: 0.8895\n",
      "Epoch 21/25\n",
      "1407/1407 [==============================] - 2s 1ms/step - loss: 0.1697 - accuracy: 0.9368 - val_loss: 0.3601 - val_accuracy: 0.8872\n",
      "Epoch 22/25\n",
      "1407/1407 [==============================] - 2s 1ms/step - loss: 0.1641 - accuracy: 0.9383 - val_loss: 0.3637 - val_accuracy: 0.8911\n",
      "Epoch 23/25\n",
      "1407/1407 [==============================] - 2s 1ms/step - loss: 0.1613 - accuracy: 0.9395 - val_loss: 0.3427 - val_accuracy: 0.8919\n",
      "Epoch 24/25\n",
      "1407/1407 [==============================] - 2s 1ms/step - loss: 0.1543 - accuracy: 0.9421 - val_loss: 0.3796 - val_accuracy: 0.8835\n",
      "Epoch 25/25\n",
      "1407/1407 [==============================] - 2s 1ms/step - loss: 0.1495 - accuracy: 0.9441 - val_loss: 0.3751 - val_accuracy: 0.8869\n"
     ]
    }
   ],
   "source": [
    "his = model.fit(train_X,train_Y, epochs=25, validation_split=0.25)"
   ]
  },
  {
   "cell_type": "code",
   "execution_count": 24,
   "metadata": {},
   "outputs": [
    {
     "data": {
      "image/png": "[encoded data removed]",
      "text/plain": [
       "<Figure size 864x288 with 2 Axes>"
      ]
     },
     "metadata": {
      "needs_background": "light"
     },
     "output_type": "display_data"
    }
   ],
   "source": [
    "import matplotlib.pyplot as plt\n",
    "plt.figure(figsize=(12,4))\n",
    "\n",
    "plt.subplot(1,2,1)\n",
    "plt.plot(his.history[\"loss\"],\"b-\", label=\"train_loss\")\n",
    "plt.plot(his.history[\"val_loss\"],\"r--\", label=\"val_loss\")\n",
    "plt.xlabel(\"Epoch\")\n",
    "plt.legend()\n",
    "# overfiting 발생 하는것을 알 수 있음 (epoch는 5~6이 적당)\n",
    "\n",
    "plt.subplot(1,2,2)\n",
    "plt.plot(his.history[\"accuracy\"],\"g-\", label=\"train_accuracy\")\n",
    "plt.plot(his.history[\"val_accuracy\"],\"r--\", label=\"val_accuracy\")\n",
    "plt.xlabel(\"Epoch\")\n",
    "plt.legend()\n",
    "# overfiting 발생 (epoch는 5~6이 적당)\n",
    "\n",
    "\n",
    "plt.show()"
   ]
  },
  {
   "cell_type": "code",
   "execution_count": 25,
   "metadata": {},
   "outputs": [
    {
     "name": "stdout",
     "output_type": "stream",
     "text": [
      "313/313 [==============================] - 0s 772us/step - loss: 0.4065 - accuracy: 0.8790\n"
     ]
    },
    {
     "data": {
      "text/plain": [
       "[0.40651917457580566, 0.8790000081062317]"
      ]
     },
     "execution_count": 25,
     "metadata": {},
     "output_type": "execute_result"
    }
   ],
   "source": [
    "model.evaluate(test_X, test_Y)"
   ]
  },
  {
   "cell_type": "code",
   "execution_count": null,
   "metadata": {},
   "outputs": [],
   "source": []
  }
 ],
 "metadata": {
  "kernelspec": {
   "display_name": "Python 3",
   "language": "python",
   "name": "python3"
  },
  "language_info": {
   "codemirror_mode": {
    "name": "ipython",
    "version": 3
   },
   "file_extension": ".py",
   "mimetype": "text/x-python",
   "name": "python",
   "nbconvert_exporter": "python",
   "pygments_lexer": "ipython3",
   "version": "3.7.6"
  }
 },
 "nbformat": 4,
 "nbformat_minor": 4
}
