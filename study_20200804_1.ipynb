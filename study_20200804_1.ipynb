{
 "cells": [
  {
   "cell_type": "code",
   "execution_count": 1,
   "metadata": {},
   "outputs": [],
   "source": [
    "import tensorflow as tf"
   ]
  },
  {
   "cell_type": "code",
   "execution_count": 2,
   "metadata": {
    "scrolled": true
   },
   "outputs": [
    {
     "name": "stdout",
     "output_type": "stream",
     "text": [
      "   fixed acidity  volatile acidity  citric acid  residual sugar  chlorides  \\\n",
      "0            7.4              0.70         0.00             1.9      0.076   \n",
      "1            7.8              0.88         0.00             2.6      0.098   \n",
      "2            7.8              0.76         0.04             2.3      0.092   \n",
      "3           11.2              0.28         0.56             1.9      0.075   \n",
      "4            7.4              0.70         0.00             1.9      0.076   \n",
      "\n",
      "   free sulfur dioxide  total sulfur dioxide  density    pH  sulphates  \\\n",
      "0                 11.0                  34.0   0.9978  3.51       0.56   \n",
      "1                 25.0                  67.0   0.9968  3.20       0.68   \n",
      "2                 15.0                  54.0   0.9970  3.26       0.65   \n",
      "3                 17.0                  60.0   0.9980  3.16       0.58   \n",
      "4                 11.0                  34.0   0.9978  3.51       0.56   \n",
      "\n",
      "   alcohol  quality  \n",
      "0      9.4        5  \n",
      "1      9.8        5  \n",
      "2      9.8        5  \n",
      "3      9.8        6  \n",
      "4      9.4        5  \n",
      "   fixed acidity  volatile acidity  citric acid  residual sugar  chlorides  \\\n",
      "0            7.0              0.27         0.36            20.7      0.045   \n",
      "1            6.3              0.30         0.34             1.6      0.049   \n",
      "2            8.1              0.28         0.40             6.9      0.050   \n",
      "3            7.2              0.23         0.32             8.5      0.058   \n",
      "4            7.2              0.23         0.32             8.5      0.058   \n",
      "\n",
      "   free sulfur dioxide  total sulfur dioxide  density    pH  sulphates  \\\n",
      "0                 45.0                 170.0   1.0010  3.00       0.45   \n",
      "1                 14.0                 132.0   0.9940  3.30       0.49   \n",
      "2                 30.0                  97.0   0.9951  3.26       0.44   \n",
      "3                 47.0                 186.0   0.9956  3.19       0.40   \n",
      "4                 47.0                 186.0   0.9956  3.19       0.40   \n",
      "\n",
      "   alcohol  quality  \n",
      "0      8.8        6  \n",
      "1      9.5        6  \n",
      "2     10.1        6  \n",
      "3      9.9        6  \n",
      "4      9.9        6  \n"
     ]
    }
   ],
   "source": [
    "# 5.1 와인 데이터셋 불러오기\n",
    "import pandas as pd\n",
    "red = pd.read_csv('http://archive.ics.uci.edu/ml/machine-learning-databases/wine-quality/winequality-red.csv', sep=';')\n",
    "white = pd.read_csv('http://archive.ics.uci.edu/ml/machine-learning-databases/wine-quality/winequality-white.csv', sep=';')\n",
    "print(red.head())\n",
    "print(white.head())"
   ]
  },
  {
   "cell_type": "code",
   "execution_count": 4,
   "metadata": {
    "scrolled": true
   },
   "outputs": [],
   "source": [
    "# 5.2 와인 데이터셋 합치기\n",
    "red['type'] = 0\n",
    "white['type'] = 1\n",
    "\n",
    "wine = pd.concat([red, white])"
   ]
  },
  {
   "cell_type": "code",
   "execution_count": 5,
   "metadata": {},
   "outputs": [
    {
     "data": {
      "text/plain": [
       "1    4898\n",
       "0    1599\n",
       "Name: type, dtype: int64"
      ]
     },
     "execution_count": 5,
     "metadata": {},
     "output_type": "execute_result"
    }
   ],
   "source": [
    "wine[\"type\"].value_counts()"
   ]
  },
  {
   "cell_type": "code",
   "execution_count": 6,
   "metadata": {},
   "outputs": [
    {
     "data": {
      "text/html": [
       "<div>\n",
       "<style scoped>\n",
       "    .dataframe tbody tr th:only-of-type {\n",
       "        vertical-align: middle;\n",
       "    }\n",
       "\n",
       "    .dataframe tbody tr th {\n",
       "        vertical-align: top;\n",
       "    }\n",
       "\n",
       "    .dataframe thead th {\n",
       "        text-align: right;\n",
       "    }\n",
       "</style>\n",
       "<table border=\"1\" class=\"dataframe\">\n",
       "  <thead>\n",
       "    <tr style=\"text-align: right;\">\n",
       "      <th></th>\n",
       "      <th>fixed acidity</th>\n",
       "      <th>volatile acidity</th>\n",
       "      <th>citric acid</th>\n",
       "      <th>residual sugar</th>\n",
       "      <th>chlorides</th>\n",
       "      <th>free sulfur dioxide</th>\n",
       "      <th>total sulfur dioxide</th>\n",
       "      <th>density</th>\n",
       "      <th>pH</th>\n",
       "      <th>sulphates</th>\n",
       "      <th>alcohol</th>\n",
       "      <th>quality</th>\n",
       "      <th>type</th>\n",
       "    </tr>\n",
       "  </thead>\n",
       "  <tbody>\n",
       "    <tr>\n",
       "      <th>0</th>\n",
       "      <td>0.297521</td>\n",
       "      <td>0.413333</td>\n",
       "      <td>0.000000</td>\n",
       "      <td>0.019939</td>\n",
       "      <td>0.111296</td>\n",
       "      <td>0.034722</td>\n",
       "      <td>0.064516</td>\n",
       "      <td>0.206092</td>\n",
       "      <td>0.612403</td>\n",
       "      <td>0.191011</td>\n",
       "      <td>0.202899</td>\n",
       "      <td>0.333333</td>\n",
       "      <td>0.0</td>\n",
       "    </tr>\n",
       "    <tr>\n",
       "      <th>1</th>\n",
       "      <td>0.330579</td>\n",
       "      <td>0.533333</td>\n",
       "      <td>0.000000</td>\n",
       "      <td>0.030675</td>\n",
       "      <td>0.147841</td>\n",
       "      <td>0.083333</td>\n",
       "      <td>0.140553</td>\n",
       "      <td>0.186813</td>\n",
       "      <td>0.372093</td>\n",
       "      <td>0.258427</td>\n",
       "      <td>0.260870</td>\n",
       "      <td>0.333333</td>\n",
       "      <td>0.0</td>\n",
       "    </tr>\n",
       "    <tr>\n",
       "      <th>2</th>\n",
       "      <td>0.330579</td>\n",
       "      <td>0.453333</td>\n",
       "      <td>0.024096</td>\n",
       "      <td>0.026074</td>\n",
       "      <td>0.137874</td>\n",
       "      <td>0.048611</td>\n",
       "      <td>0.110599</td>\n",
       "      <td>0.190669</td>\n",
       "      <td>0.418605</td>\n",
       "      <td>0.241573</td>\n",
       "      <td>0.260870</td>\n",
       "      <td>0.333333</td>\n",
       "      <td>0.0</td>\n",
       "    </tr>\n",
       "    <tr>\n",
       "      <th>3</th>\n",
       "      <td>0.611570</td>\n",
       "      <td>0.133333</td>\n",
       "      <td>0.337349</td>\n",
       "      <td>0.019939</td>\n",
       "      <td>0.109635</td>\n",
       "      <td>0.055556</td>\n",
       "      <td>0.124424</td>\n",
       "      <td>0.209948</td>\n",
       "      <td>0.341085</td>\n",
       "      <td>0.202247</td>\n",
       "      <td>0.260870</td>\n",
       "      <td>0.500000</td>\n",
       "      <td>0.0</td>\n",
       "    </tr>\n",
       "    <tr>\n",
       "      <th>4</th>\n",
       "      <td>0.297521</td>\n",
       "      <td>0.413333</td>\n",
       "      <td>0.000000</td>\n",
       "      <td>0.019939</td>\n",
       "      <td>0.111296</td>\n",
       "      <td>0.034722</td>\n",
       "      <td>0.064516</td>\n",
       "      <td>0.206092</td>\n",
       "      <td>0.612403</td>\n",
       "      <td>0.191011</td>\n",
       "      <td>0.202899</td>\n",
       "      <td>0.333333</td>\n",
       "      <td>0.0</td>\n",
       "    </tr>\n",
       "  </tbody>\n",
       "</table>\n",
       "</div>"
      ],
      "text/plain": [
       "   fixed acidity  volatile acidity  citric acid  residual sugar  chlorides  \\\n",
       "0       0.297521          0.413333     0.000000        0.019939   0.111296   \n",
       "1       0.330579          0.533333     0.000000        0.030675   0.147841   \n",
       "2       0.330579          0.453333     0.024096        0.026074   0.137874   \n",
       "3       0.611570          0.133333     0.337349        0.019939   0.109635   \n",
       "4       0.297521          0.413333     0.000000        0.019939   0.111296   \n",
       "\n",
       "   free sulfur dioxide  total sulfur dioxide   density        pH  sulphates  \\\n",
       "0             0.034722              0.064516  0.206092  0.612403   0.191011   \n",
       "1             0.083333              0.140553  0.186813  0.372093   0.258427   \n",
       "2             0.048611              0.110599  0.190669  0.418605   0.241573   \n",
       "3             0.055556              0.124424  0.209948  0.341085   0.202247   \n",
       "4             0.034722              0.064516  0.206092  0.612403   0.191011   \n",
       "\n",
       "    alcohol   quality  type  \n",
       "0  0.202899  0.333333   0.0  \n",
       "1  0.260870  0.333333   0.0  \n",
       "2  0.260870  0.333333   0.0  \n",
       "3  0.260870  0.500000   0.0  \n",
       "4  0.202899  0.333333   0.0  "
      ]
     },
     "execution_count": 6,
     "metadata": {},
     "output_type": "execute_result"
    }
   ],
   "source": [
    "wine_norm = (wine - wine.min()) / (wine.max()-wine.min())\n",
    "wine_norm.head()"
   ]
  },
  {
   "cell_type": "code",
   "execution_count": 8,
   "metadata": {},
   "outputs": [],
   "source": [
    "import numpy as np\n",
    "wine_shuffle = wine_norm.sample(frac=1)\n",
    "wine_np = wine_shuffle.to_numpy()"
   ]
  },
  {
   "cell_type": "code",
   "execution_count": 12,
   "metadata": {},
   "outputs": [
    {
     "name": "stdout",
     "output_type": "stream",
     "text": [
      "[0.39669421 0.12666667 0.27710843 0.08435583 0.03820598 0.04166667\n",
      " 0.08064516 0.11355311 0.13178295 0.06741573 0.42028986 0.33333333]\n",
      "1.0\n",
      "[0.34710744 0.09333333 0.25301205 0.21472393 0.05813953 0.15277778\n",
      " 0.36175115 0.25428957 0.37984496 0.26404494 0.08695652 0.66666667]\n",
      "1.0\n"
     ]
    }
   ],
   "source": [
    "train_idx = int(len(wine_np)*0.8)\n",
    "train_X, train_y = wine_np[:train_idx, :-1], wine_np[:train_idx,-1]\n",
    "test_X, test_y = wine_np[train_idx:, :-1], wine_np[train_idx:,-1]\n",
    "print(train_X[0])\n",
    "print(train_y[0])\n",
    "print(test_X[0])\n",
    "print(test_y[0])"
   ]
  },
  {
   "cell_type": "code",
   "execution_count": 14,
   "metadata": {},
   "outputs": [
    {
     "data": {
      "text/plain": [
       "array([0., 1.], dtype=float32)"
      ]
     },
     "execution_count": 14,
     "metadata": {},
     "output_type": "execute_result"
    }
   ],
   "source": [
    "# 정답지를 one-hot-incoding을 해줘야 한다 (출력의 갯수를 맞추기 위해)\n",
    "train_y = tf.keras.utils.to_categorical(train_y, num_classes=2)\n",
    "train_y[0]"
   ]
  },
  {
   "cell_type": "code",
   "execution_count": 15,
   "metadata": {},
   "outputs": [
    {
     "data": {
      "text/plain": [
       "array([0., 1.], dtype=float32)"
      ]
     },
     "execution_count": 15,
     "metadata": {},
     "output_type": "execute_result"
    }
   ],
   "source": [
    "test_y = tf.keras.utils.to_categorical(test_y, num_classes=2)\n",
    "test_y[0]"
   ]
  },
  {
   "cell_type": "code",
   "execution_count": null,
   "metadata": {},
   "outputs": [],
   "source": []
  },
  {
   "cell_type": "code",
   "execution_count": 19,
   "metadata": {},
   "outputs": [
    {
     "name": "stdout",
     "output_type": "stream",
     "text": [
      "Model: \"sequential_2\"\n",
      "_________________________________________________________________\n",
      "Layer (type)                 Output Shape              Param #   \n",
      "=================================================================\n",
      "dense_8 (Dense)              (None, 48)                624       \n",
      "_________________________________________________________________\n",
      "dense_9 (Dense)              (None, 24)                1176      \n",
      "_________________________________________________________________\n",
      "dense_10 (Dense)             (None, 12)                300       \n",
      "_________________________________________________________________\n",
      "dense_11 (Dense)             (None, 2)                 26        \n",
      "=================================================================\n",
      "Total params: 2,126\n",
      "Trainable params: 2,126\n",
      "Non-trainable params: 0\n",
      "_________________________________________________________________\n"
     ]
    }
   ],
   "source": [
    "model = tf.keras.Sequential([\n",
    "    tf.keras.layers.Dense(units=48, activation=\"relu\",input_shape=(12,)),\n",
    "    tf.keras.layers.Dense(units=24, activation=\"relu\"),\n",
    "    tf.keras.layers.Dense(units=12, activation='relu'),\n",
    "    tf.keras.layers.Dense(units=2, activation=\"softmax\")\n",
    "])\n",
    "\n",
    "model.compile(\n",
    "    optimizer=tf.keras.optimizers.Adam(lr=0.07),\n",
    "    loss=\"categorical_crossentropy\",\n",
    "    metrics=[\"accuracy\"]\n",
    ")\n",
    "model.summary()"
   ]
  },
  {
   "cell_type": "code",
   "execution_count": 20,
   "metadata": {
    "scrolled": true
   },
   "outputs": [
    {
     "name": "stdout",
     "output_type": "stream",
     "text": [
      "Epoch 1/25\n",
      "122/122 [==============================] - 0s 2ms/step - loss: 0.1497 - accuracy: 0.9494 - val_loss: 0.0991 - val_accuracy: 0.9715\n",
      "Epoch 2/25\n",
      "122/122 [==============================] - 0s 1ms/step - loss: 0.0519 - accuracy: 0.9851 - val_loss: 0.0479 - val_accuracy: 0.9900\n",
      "Epoch 3/25\n",
      "122/122 [==============================] - 0s 1ms/step - loss: 0.0625 - accuracy: 0.9823 - val_loss: 0.0420 - val_accuracy: 0.9938\n",
      "Epoch 4/25\n",
      "122/122 [==============================] - 0s 1ms/step - loss: 0.0515 - accuracy: 0.9854 - val_loss: 0.0416 - val_accuracy: 0.9915\n",
      "Epoch 5/25\n",
      "122/122 [==============================] - 0s 1ms/step - loss: 0.0469 - accuracy: 0.9869 - val_loss: 0.0285 - val_accuracy: 0.9923\n",
      "Epoch 6/25\n",
      "122/122 [==============================] - 0s 1ms/step - loss: 0.0457 - accuracy: 0.9897 - val_loss: 0.0344 - val_accuracy: 0.9931\n",
      "Epoch 7/25\n",
      "122/122 [==============================] - 0s 1ms/step - loss: 0.0433 - accuracy: 0.9872 - val_loss: 0.0494 - val_accuracy: 0.9846\n",
      "Epoch 8/25\n",
      "122/122 [==============================] - 0s 1ms/step - loss: 0.0382 - accuracy: 0.9902 - val_loss: 0.0787 - val_accuracy: 0.9731\n",
      "Epoch 9/25\n",
      "122/122 [==============================] - 0s 1ms/step - loss: 0.0519 - accuracy: 0.9861 - val_loss: 0.0424 - val_accuracy: 0.9931\n",
      "Epoch 10/25\n",
      "122/122 [==============================] - 0s 1ms/step - loss: 0.0441 - accuracy: 0.9874 - val_loss: 0.0319 - val_accuracy: 0.9931\n",
      "Epoch 11/25\n",
      "122/122 [==============================] - 0s 1ms/step - loss: 0.0423 - accuracy: 0.9869 - val_loss: 0.0470 - val_accuracy: 0.9869\n",
      "Epoch 12/25\n",
      "122/122 [==============================] - 0s 1ms/step - loss: 0.0332 - accuracy: 0.9908 - val_loss: 0.0316 - val_accuracy: 0.9931\n",
      "Epoch 13/25\n",
      "122/122 [==============================] - 0s 1ms/step - loss: 0.0335 - accuracy: 0.9910 - val_loss: 0.0278 - val_accuracy: 0.9931\n",
      "Epoch 14/25\n",
      "122/122 [==============================] - 0s 1ms/step - loss: 0.0373 - accuracy: 0.9887 - val_loss: 0.0289 - val_accuracy: 0.9923\n",
      "Epoch 15/25\n",
      "122/122 [==============================] - 0s 1ms/step - loss: 0.0370 - accuracy: 0.9892 - val_loss: 0.0449 - val_accuracy: 0.9892\n",
      "Epoch 16/25\n",
      "122/122 [==============================] - 0s 1ms/step - loss: 0.0398 - accuracy: 0.9887 - val_loss: 0.0266 - val_accuracy: 0.9938\n",
      "Epoch 17/25\n",
      "122/122 [==============================] - 0s 1ms/step - loss: 0.0318 - accuracy: 0.9915 - val_loss: 0.0296 - val_accuracy: 0.9923\n",
      "Epoch 18/25\n",
      "122/122 [==============================] - 0s 1ms/step - loss: 0.0379 - accuracy: 0.9885 - val_loss: 0.0330 - val_accuracy: 0.9931\n",
      "Epoch 19/25\n",
      "122/122 [==============================] - 0s 1ms/step - loss: 0.0319 - accuracy: 0.9913 - val_loss: 0.0289 - val_accuracy: 0.9946\n",
      "Epoch 20/25\n",
      "122/122 [==============================] - 0s 1ms/step - loss: 0.0323 - accuracy: 0.9920 - val_loss: 0.0297 - val_accuracy: 0.9931\n",
      "Epoch 21/25\n",
      "122/122 [==============================] - 0s 1ms/step - loss: 0.0363 - accuracy: 0.9902 - val_loss: 0.0433 - val_accuracy: 0.9892\n",
      "Epoch 22/25\n",
      "122/122 [==============================] - 0s 1ms/step - loss: 0.0362 - accuracy: 0.9900 - val_loss: 0.0313 - val_accuracy: 0.9931\n",
      "Epoch 23/25\n",
      "122/122 [==============================] - 0s 1ms/step - loss: 0.0352 - accuracy: 0.9910 - val_loss: 0.0302 - val_accuracy: 0.9938\n",
      "Epoch 24/25\n",
      "122/122 [==============================] - 0s 1ms/step - loss: 0.0395 - accuracy: 0.9877 - val_loss: 0.0278 - val_accuracy: 0.9946\n",
      "Epoch 25/25\n",
      "122/122 [==============================] - 0s 1ms/step - loss: 0.0337 - accuracy: 0.9905 - val_loss: 0.0536 - val_accuracy: 0.9854\n"
     ]
    },
    {
     "data": {
      "text/plain": [
       "<tensorflow.python.keras.callbacks.History at 0x1d7b837e388>"
      ]
     },
     "execution_count": 20,
     "metadata": {},
     "output_type": "execute_result"
    }
   ],
   "source": [
    "model.fit(train_X, train_y, epochs=25, batch_size=32, validation_split=0.25)"
   ]
  },
  {
   "cell_type": "code",
   "execution_count": null,
   "metadata": {},
   "outputs": [],
   "source": []
  }
 ],
 "metadata": {
  "kernelspec": {
   "display_name": "Python 3",
   "language": "python",
   "name": "python3"
  },
  "language_info": {
   "codemirror_mode": {
    "name": "ipython",
    "version": 3
   },
   "file_extension": ".py",
   "mimetype": "text/x-python",
   "name": "python",
   "nbconvert_exporter": "python",
   "pygments_lexer": "ipython3",
   "version": "3.7.6"
  }
 },
 "nbformat": 4,
 "nbformat_minor": 4
}
