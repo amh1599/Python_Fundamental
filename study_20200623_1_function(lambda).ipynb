{
 "cells": [
  {
   "cell_type": "markdown",
   "metadata": {},
   "source": [
    "# 함수"
   ]
  },
  {
   "cell_type": "code",
   "execution_count": 2,
   "metadata": {},
   "outputs": [
    {
     "data": {
      "text/plain": [
       "4"
      ]
     },
     "execution_count": 2,
     "metadata": {},
     "output_type": "execute_result"
    }
   ],
   "source": [
    "sum([1,3])"
   ]
  },
  {
   "cell_type": "code",
   "execution_count": 5,
   "metadata": {},
   "outputs": [],
   "source": [
    "# 항수 정의\n",
    "def sum2(a,b):\n",
    "    result = a+b\n",
    "    return(result)\n",
    "\n",
    "def multiple2(a,b):\n",
    "    reuslt = a*b\n",
    "    return(result)\n",
    "\n",
    "# 입력이 없는 함수\n",
    "def noinput():\n",
    "    result = \"Hello Python!\"\n",
    "    return(result)"
   ]
  },
  {
   "cell_type": "code",
   "execution_count": 6,
   "metadata": {},
   "outputs": [
    {
     "name": "stdout",
     "output_type": "stream",
     "text": [
      "30\n"
     ]
    }
   ],
   "source": [
    "print(sum2(10,20))"
   ]
  },
  {
   "cell_type": "code",
   "execution_count": 9,
   "metadata": {},
   "outputs": [
    {
     "name": "stdout",
     "output_type": "stream",
     "text": [
      "21\n",
      "550\n"
     ]
    }
   ],
   "source": [
    "# 함수 정의 args\n",
    "def sumrandom(*args):\n",
    "    result =0\n",
    "    for i in args:\n",
    "        result+=i\n",
    "    return(result)\n",
    "\n",
    "print(sumrandom(1,2,3,4,5,6))\n",
    "print(sumrandom(10,20,30,40,50,60,70,80,90,100))"
   ]
  },
  {
   "cell_type": "code",
   "execution_count": 13,
   "metadata": {},
   "outputs": [
    {
     "name": "stdout",
     "output_type": "stream",
     "text": [
      "150\n",
      "5\n",
      "No Function!!!\n"
     ]
    }
   ],
   "source": [
    "def myfunction(func, *args):\n",
    "    if func==\"sum\":\n",
    "        result =0\n",
    "        for i in args:\n",
    "            result+=i\n",
    "        return(result)\n",
    "    elif func==\"count\":\n",
    "        return(len(args))\n",
    "    else:\n",
    "        return(\"No Function!!!\")\n",
    "    \n",
    "a=myfunction(\"sum\",10,20,30,40,50)\n",
    "b=myfunction(\"count\",10,20,30,40,50)\n",
    "c=myfunction(\"nono\",10,20,30,40,50)\n",
    "print(a)\n",
    "print(b)\n",
    "print(c)"
   ]
  },
  {
   "cell_type": "code",
   "execution_count": 15,
   "metadata": {},
   "outputs": [
    {
     "name": "stdout",
     "output_type": "stream",
     "text": [
      "(40, 300, 0.3333333333333333, 50)\n"
     ]
    }
   ],
   "source": [
    "# 여러개의 결과값\n",
    "def multifunc(a,b):\n",
    "    return a+b, a*b, a/b, a+b+10   # 튜플로 반환\n",
    "print(multifunc(10,30))"
   ]
  },
  {
   "cell_type": "code",
   "execution_count": null,
   "metadata": {},
   "outputs": [],
   "source": []
  },
  {
   "cell_type": "markdown",
   "metadata": {},
   "source": [
    "# lambda 함수"
   ]
  },
  {
   "cell_type": "code",
   "execution_count": 18,
   "metadata": {},
   "outputs": [
    {
     "name": "stdout",
     "output_type": "stream",
     "text": [
      "30\n"
     ]
    },
    {
     "data": {
      "text/plain": [
       "40"
      ]
     },
     "execution_count": 18,
     "metadata": {},
     "output_type": "execute_result"
    }
   ],
   "source": [
    "# 일반정인 함수\n",
    "def sum2(a,b):\n",
    "    return a+b\n",
    "print(sum2(10,20))\n",
    "\n",
    "# lambda 함수로 변환\n",
    "(lambda x,y: x+y)(10,30)   # lambda함수는 1회용이므로 필요하면 다시 선언해야 한다"
   ]
  },
  {
   "cell_type": "code",
   "execution_count": null,
   "metadata": {},
   "outputs": [],
   "source": []
  },
  {
   "cell_type": "markdown",
   "metadata": {},
   "source": [
    "### 예제 1"
   ]
  },
  {
   "cell_type": "code",
   "execution_count": null,
   "metadata": {},
   "outputs": [],
   "source": [
    "함수의 입력인자는 2개 있습니다\n",
    "1)\n",
    "2)\n",
    "입력인자1이 지정한 것 이외의 것이 들어가면 \"Check sel parameter!\"라는 메세지로 출력\n"
   ]
  },
  {
   "cell_type": "code",
   "execution_count": 26,
   "metadata": {},
   "outputs": [
    {
     "name": "stdout",
     "output_type": "stream",
     "text": [
      "(15, 120)\n",
      "(1, 5)\n",
      "Check sel parameter!\n"
     ]
    }
   ],
   "source": [
    "def myfunc(func,*args):\n",
    "    res1=0\n",
    "    res2=1\n",
    "    if func==\"sel1\":\n",
    "        for i in args:\n",
    "            res1+=i\n",
    "            res2*=i\n",
    "        return res1, res2\n",
    "    elif func==\"sel2\":\n",
    "        return args[0], args[len(args)-1]\n",
    "    else:\n",
    "        return \"Check sel parameter!\"\n",
    "    \n",
    "print(myfunc(\"sel1\",1,2,3,4,5))\n",
    "print(myfunc(\"sel2\",1,2,3,4,5))\n",
    "print(myfunc(\"sel\",1,2,3,4,5))"
   ]
  },
  {
   "cell_type": "code",
   "execution_count": null,
   "metadata": {},
   "outputs": [],
   "source": []
  }
 ],
 "metadata": {
  "kernelspec": {
   "display_name": "Python 3",
   "language": "python",
   "name": "python3"
  },
  "language_info": {
   "codemirror_mode": {
    "name": "ipython",
    "version": 3
   },
   "file_extension": ".py",
   "mimetype": "text/x-python",
   "name": "python",
   "nbconvert_exporter": "python",
   "pygments_lexer": "ipython3",
   "version": "3.7.6"
  }
 },
 "nbformat": 4,
 "nbformat_minor": 4
}
