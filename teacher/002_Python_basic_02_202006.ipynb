{
 "cells": [
  {
   "cell_type": "markdown",
   "metadata": {},
   "source": [
    "Python 기본 문법 - Part 2-"
   ]
  },
  {
   "cell_type": "markdown",
   "metadata": {},
   "source": [
    "1) 함수 만들기\n",
    "def 함수이름(입력인수들):\n",
    "    함수 내에서 수행할 내용 코드들\n",
    "    return 결과값"
   ]
  },
  {
   "cell_type": "code",
   "execution_count": 1,
   "metadata": {},
   "outputs": [
    {
     "data": {
      "text/plain": [
       "4"
      ]
     },
     "execution_count": 1,
     "metadata": {},
     "output_type": "execute_result"
    }
   ],
   "source": [
    "sum([1,3])"
   ]
  },
  {
   "cell_type": "code",
   "execution_count": 1,
   "metadata": {},
   "outputs": [
    {
     "data": {
      "text/plain": [
       "15"
      ]
     },
     "execution_count": 1,
     "metadata": {},
     "output_type": "execute_result"
    }
   ],
   "source": [
    "sum([1,3,5,6])"
   ]
  },
  {
   "cell_type": "code",
   "execution_count": 2,
   "metadata": {},
   "outputs": [],
   "source": [
    "# 더하기 함수\n",
    "def sum2(a,b):\n",
    "    result = a + b\n",
    "    return(result)\n"
   ]
  },
  {
   "cell_type": "code",
   "execution_count": 3,
   "metadata": {},
   "outputs": [
    {
     "name": "stdout",
     "output_type": "stream",
     "text": [
      "40\n",
      "40\n"
     ]
    }
   ],
   "source": [
    "print(sum2(10, 30))\n",
    "print(10 + 30)"
   ]
  },
  {
   "cell_type": "code",
   "execution_count": 4,
   "metadata": {},
   "outputs": [
    {
     "data": {
      "text/plain": [
       "30"
      ]
     },
     "execution_count": 4,
     "metadata": {},
     "output_type": "execute_result"
    }
   ],
   "source": [
    "sum2(10,20)"
   ]
  },
  {
   "cell_type": "code",
   "execution_count": 4,
   "metadata": {},
   "outputs": [],
   "source": [
    "# 곱하는 함수\n",
    "def mutiple2(a,b):\n",
    "    result = a * b\n",
    "    return(result)"
   ]
  },
  {
   "cell_type": "code",
   "execution_count": 5,
   "metadata": {},
   "outputs": [
    {
     "name": "stdout",
     "output_type": "stream",
     "text": [
      "15\n"
     ]
    }
   ],
   "source": [
    "i = mutiple2(3,4)\n",
    "print(i +3)"
   ]
  },
  {
   "cell_type": "markdown",
   "metadata": {},
   "source": [
    "2) 입력이 없는 함수 만들기\n",
    "def 함수이름():\n",
    "    함수 내에서 수행할 내용 코드들\n",
    "    return 결과값"
   ]
  },
  {
   "cell_type": "code",
   "execution_count": 6,
   "metadata": {},
   "outputs": [
    {
     "name": "stdout",
     "output_type": "stream",
     "text": [
      "Hello Python!\n"
     ]
    }
   ],
   "source": [
    "def noinput():\n",
    "    result = \"Hello Python!\"\n",
    "    return(result)\n",
    "\n",
    "a = noinput()\n",
    "print(a)"
   ]
  },
  {
   "cell_type": "markdown",
   "metadata": {},
   "source": [
    "3) 결과값이 없는 함수 만들기\n",
    "def 함수이름(입력 인수들):\n",
    "    함수 내에서 수행할 내용 코드들"
   ]
  },
  {
   "cell_type": "code",
   "execution_count": 7,
   "metadata": {},
   "outputs": [
    {
     "name": "stdout",
     "output_type": "stream",
     "text": [
      "Hello Python!! : 5\n"
     ]
    }
   ],
   "source": [
    "def noreturn(a, b):\n",
    "    temp = a + b\n",
    "    print(\"Hello Python!! : \" +  str(temp) )\n",
    "\n",
    "a = noreturn(2,3)"
   ]
  },
  {
   "cell_type": "code",
   "execution_count": 8,
   "metadata": {},
   "outputs": [
    {
     "name": "stdout",
     "output_type": "stream",
     "text": [
      "None\n"
     ]
    }
   ],
   "source": [
    "print(a)"
   ]
  },
  {
   "cell_type": "code",
   "execution_count": 9,
   "metadata": {},
   "outputs": [
    {
     "name": "stdout",
     "output_type": "stream",
     "text": [
      "Hello Python!! : 5\n"
     ]
    }
   ],
   "source": [
    "noreturn(2,3)"
   ]
  },
  {
   "cell_type": "markdown",
   "metadata": {},
   "source": [
    "4-1) 입력/결과 모두 없는 함수"
   ]
  },
  {
   "cell_type": "code",
   "execution_count": 10,
   "metadata": {},
   "outputs": [
    {
     "name": "stdout",
     "output_type": "stream",
     "text": [
      "Hello Python!\n",
      "None\n",
      "-----------\n",
      "Hello Python!\n"
     ]
    }
   ],
   "source": [
    "def noinreturn():\n",
    "    print(\"Hello Python!\")\n",
    "\n",
    "a = noinreturn()\n",
    "print(a)\n",
    "print(\"-----------\")\n",
    "noinreturn()"
   ]
  },
  {
   "cell_type": "markdown",
   "metadata": {},
   "source": [
    "def 함수이름(*입력변수):\n",
    "    함수 내에서 수행할 내용 코드들\n",
    "    return 결과값"
   ]
  },
  {
   "cell_type": "code",
   "execution_count": 11,
   "metadata": {},
   "outputs": [
    {
     "ename": "SyntaxError",
     "evalue": "invalid syntax (<ipython-input-11-83010bd8f5bd>, line 3)",
     "output_type": "error",
     "traceback": [
      "\u001b[0;36m  File \u001b[0;32m\"<ipython-input-11-83010bd8f5bd>\"\u001b[0;36m, line \u001b[0;32m3\u001b[0m\n\u001b[0;31m    +기능 , 입력의 수가;;;;;;몰라....\u001b[0m\n\u001b[0m               ^\u001b[0m\n\u001b[0;31mSyntaxError\u001b[0m\u001b[0;31m:\u001b[0m invalid syntax\n"
     ]
    }
   ],
   "source": [
    "1,2,3,4,5,6,6,56,6,5,4,4,4,4,4,4,4\n",
    "44343,3232,32,323,32,3,333\n",
    "+기능 , 입력의 수가;;;;;;몰라...."
   ]
  },
  {
   "cell_type": "code",
   "execution_count": null,
   "metadata": {},
   "outputs": [],
   "source": [
    "# 참고) args : \n",
    "def sumrandom(*args):\n",
    "    result = 0\n",
    "    for i in args:\n",
    "        result = result + i\n",
    "    return result\n",
    "\n",
    "\n",
    "print(sumrandom(1,2,3,4,5,6))\n",
    "print(sumrandom(10,20,30,40,50,60,70,80,90,100))"
   ]
  },
  {
   "cell_type": "code",
   "execution_count": null,
   "metadata": {},
   "outputs": [],
   "source": [
    "sumrandom(1,3,5,7)"
   ]
  },
  {
   "cell_type": "markdown",
   "metadata": {},
   "source": [
    "4-2) 추가적인 방법"
   ]
  },
  {
   "cell_type": "code",
   "execution_count": null,
   "metadata": {},
   "outputs": [],
   "source": [
    "def myfunction(func, *args):\n",
    "    if func==\"sum\":\n",
    "        args: 리스트......\n",
    "        args~~~~더하는 기능 --> 출력...내보내기\n",
    "        ????????\n",
    "    elif func ==\"count\":\n",
    "        args ~~~ 몇 개가 있는지 세기 --> 출력...내보내기..\n",
    "        temp = len(args)\n",
    "        return(temp)\n",
    "    else:\n",
    "        return(\"No Function!!!\")\n",
    "    \n",
    "    \n",
    "    \n",
    "    \n",
    "    \n",
    "    \n",
    "    \n",
    "    "
   ]
  },
  {
   "cell_type": "code",
   "execution_count": 5,
   "metadata": {},
   "outputs": [
    {
     "name": "stdout",
     "output_type": "stream",
     "text": [
      "150\n",
      "5\n",
      "No func!\n"
     ]
    }
   ],
   "source": [
    "def myfunction(func, *args):\n",
    "    if func ==\"sum\":\n",
    "        result = 0\n",
    "        for i in args:\n",
    "            result = result + i\n",
    "        return result\n",
    "    elif func ==\"count\":\n",
    "        return len(args)\n",
    "    else:\n",
    "        return \"No func!\"\n",
    "    \n",
    "a = myfunction(\"sum\",10,20,30,40,50)\n",
    "b = myfunction(\"count\",10,20,30,40,50)\n",
    "c = myfunction(\"nono\",10,20,30,40,50)\n",
    "print(a)\n",
    "print(b)\n",
    "print(c)"
   ]
  },
  {
   "cell_type": "code",
   "execution_count": null,
   "metadata": {},
   "outputs": [],
   "source": [
    "myfunction(\"sum\",10,20)"
   ]
  },
  {
   "cell_type": "markdown",
   "metadata": {},
   "source": [
    "4-3) 여러개의 결과값"
   ]
  },
  {
   "cell_type": "code",
   "execution_count": 6,
   "metadata": {},
   "outputs": [
    {
     "name": "stdout",
     "output_type": "stream",
     "text": [
      "(40, 300, 0.3333333333333333, 50)\n"
     ]
    }
   ],
   "source": [
    "def multifunc(a,b): \n",
    "    return a+b, a*b, a/b, a+b+10\n",
    "print(multifunc(10,30))"
   ]
  },
  {
   "cell_type": "markdown",
   "metadata": {},
   "source": [
    "* 연습문제 : 몇 개의 입력이 들어올지 모르는 상황에서 들어온 입력들에 대한 평균값을 계산하고 출력하는 함수를 만들어 보세요!!!"
   ]
  },
  {
   "cell_type": "code",
   "execution_count": null,
   "metadata": {},
   "outputs": [],
   "source": [
    "def mean2(*args):\n",
    "    result = 0\n",
    "    for i in args:\n",
    "        result = result + i\n",
    "    result = result / len(args)\n",
    "    return(result)\n",
    "a = mean2(10,20,30,40,50,60)\n",
    "b = mean2(1,2,3,4,5,6,7,8,9,10)\n",
    "print(a)\n",
    "print(b)"
   ]
  },
  {
   "cell_type": "markdown",
   "metadata": {},
   "source": [
    "[함수의 범위]"
   ]
  },
  {
   "cell_type": "code",
   "execution_count": 12,
   "metadata": {},
   "outputs": [
    {
     "name": "stdout",
     "output_type": "stream",
     "text": [
      "11\n",
      "11\n",
      "1\n"
     ]
    }
   ],
   "source": [
    "a = 1\n",
    "def func(a):\n",
    "    a = a +10\n",
    "    return a\n",
    "\n",
    "print(func(a))\n",
    "print(func(1))\n",
    "print(a)"
   ]
  },
  {
   "cell_type": "code",
   "execution_count": 15,
   "metadata": {},
   "outputs": [
    {
     "name": "stdout",
     "output_type": "stream",
     "text": [
      "11\n"
     ]
    }
   ],
   "source": [
    "a = 1\n",
    "def func(a):\n",
    "    a = a +10\n",
    "    return a\n",
    "\n",
    "a = func(a)\n",
    "print(a)"
   ]
  },
  {
   "cell_type": "code",
   "execution_count": 20,
   "metadata": {},
   "outputs": [
    {
     "ename": "SyntaxError",
     "evalue": "name 'a' is parameter and global (<ipython-input-20-2b381b34ff6a>, line 6)",
     "output_type": "error",
     "traceback": [
      "\u001b[0;36m  File \u001b[0;32m\"<ipython-input-20-2b381b34ff6a>\"\u001b[0;36m, line \u001b[0;32m6\u001b[0m\n\u001b[0;31m    \u001b[0m\n\u001b[0m    ^\u001b[0m\n\u001b[0;31mSyntaxError\u001b[0m\u001b[0;31m:\u001b[0m name 'a' is parameter and global\n"
     ]
    }
   ],
   "source": [
    "a = 1\n",
    "def func(a):\n",
    "    global a\n",
    "    a = a +10\n",
    "    return a\n",
    "\n",
    "\n",
    "print(a)\n",
    "print(func())\n",
    "print(a)"
   ]
  },
  {
   "cell_type": "code",
   "execution_count": 21,
   "metadata": {},
   "outputs": [
    {
     "name": "stdout",
     "output_type": "stream",
     "text": [
      "11\n",
      "11\n"
     ]
    }
   ],
   "source": [
    "a = 1\n",
    "def func():\n",
    "    global a\n",
    "    a = a +10\n",
    "    return a\n",
    "\n",
    "print(func())\n",
    "print(a)"
   ]
  },
  {
   "cell_type": "markdown",
   "metadata": {},
   "source": [
    "[lambda 함수]"
   ]
  },
  {
   "cell_type": "markdown",
   "metadata": {},
   "source": [
    "lambda 인자들 : 표현식\n",
    "lambda 인자1, 인자2, .... : 표현식"
   ]
  },
  {
   "cell_type": "code",
   "execution_count": null,
   "metadata": {},
   "outputs": [],
   "source": [
    "# a+b의 기존의 함수형식으로 정의하여 사용\n",
    "def sum2(a,b):\n",
    "    return a+b\n",
    "sum2(10,20)"
   ]
  },
  {
   "cell_type": "code",
   "execution_count": null,
   "metadata": {},
   "outputs": [],
   "source": [
    "sum2(100,200)"
   ]
  },
  {
   "cell_type": "code",
   "execution_count": 7,
   "metadata": {},
   "outputs": [
    {
     "data": {
      "text/plain": [
       "30"
      ]
     },
     "execution_count": 7,
     "metadata": {},
     "output_type": "execute_result"
    }
   ],
   "source": [
    "# lambda 형식으로 지정하여 사용하고, 한 번 사용하였기에, \n",
    "# 다시 사용하기 위해서는 동일한 코드를 다시 작성해야 함.\n",
    "(lambda x,y: x+y)(10,20)"
   ]
  },
  {
   "cell_type": "code",
   "execution_count": null,
   "metadata": {},
   "outputs": [],
   "source": [
    "(lambda x,y: x+y)(100,140)"
   ]
  },
  {
   "cell_type": "code",
   "execution_count": null,
   "metadata": {},
   "outputs": [],
   "source": []
  },
  {
   "cell_type": "code",
   "execution_count": null,
   "metadata": {},
   "outputs": [],
   "source": [
    "# sum2는 이미 앞에서 정의를 하였기에, 다시 호출해서 사용가능함.\n",
    "# lambda는 다시 함수 코드를 작성해야지만 사용이 가능함.\n",
    "print (sum2(20,30))\n",
    "print ((lambda x,y: x+y)(20,30))"
   ]
  },
  {
   "cell_type": "markdown",
   "metadata": {},
   "source": [
    "[ 과제 ]\n",
    "함수의 입력인자는 2개가 있습니다.\n",
    "\n",
    "1)입력인자1 : sel1, sel2 ( sel1은 임의의 입력인자 2에 대한 모든 +, * 를 수행한다, sel2 는 입력인자2 중에서 가장 처음수와 가장 마지막수를 결과로 준다.)\n",
    "\n",
    "2) 입력인자2 : 입력하는 숫자가 정해지지 않은 숫자들(단, 2개 이상)\n",
    "\n",
    "입력인자1이 지정한 것 이외의 것이 들어가면 \"Check sel parameter!\"라는 메시지로 출력하기"
   ]
  },
  {
   "cell_type": "markdown",
   "metadata": {},
   "source": [
    "아래의 결과들을 테스트하여 하단의 [결과]와 동일한 결과가 나타나는지 확인하세요.\n",
    "[테스트]\n",
    "print myfunc(\"sel1\", 1,2,3,4,5)\n",
    "print myfunc(\"sel2\", 1,2,3,4)\n",
    "print myfunc(\"sel\", 1,2,3,4,5)\n",
    "\n",
    "[결과]\n",
    "(15, 120) # 1+2+3+4+5=15, 1*2*3*4*5=120\n",
    "(1, 4) # 1,2,3,4 중에서 가장 처음의 수는 1, 가장 마지막의 수는 4\n",
    "Check sel parameter!!!"
   ]
  },
  {
   "cell_type": "code",
   "execution_count": 10,
   "metadata": {},
   "outputs": [],
   "source": [
    "def myfunc(choice, *argc):\n",
    "    if choice == \"sel1\":\n",
    "        temp1 = 0\n",
    "        temp2 = 1\n",
    "        for i in argc:\n",
    "            temp1 = temp1 + i\n",
    "            temp2 = temp2 * i\n",
    "        return (temp1, temp2)       \n",
    "    elif choice == \"sel2\":\n",
    "        tempNum = len(argc)\n",
    "        return (argc[0], argc[tempNum-1])\n",
    "    else:\n",
    "        return \"Check sel parameter!!!\""
   ]
  },
  {
   "cell_type": "code",
   "execution_count": 9,
   "metadata": {},
   "outputs": [
    {
     "name": "stdout",
     "output_type": "stream",
     "text": [
      "(15, 120)\n",
      "(1, 4)\n",
      "Check sel parameter!!!\n"
     ]
    }
   ],
   "source": [
    "\n",
    "print (myfunc(\"sel1\", 1,2,3,4,5))\n",
    "print (myfunc(\"sel2\", 1,2,3,4))\n",
    "print (myfunc(\"sel\", 1,2,3,4,5))"
   ]
  }
 ],
 "metadata": {
  "kernelspec": {
   "display_name": "Python 3",
   "language": "python",
   "name": "python3"
  },
  "language_info": {
   "codemirror_mode": {
    "name": "ipython",
    "version": 3
   },
   "file_extension": ".py",
   "mimetype": "text/x-python",
   "name": "python",
   "nbconvert_exporter": "python",
   "pygments_lexer": "ipython3",
   "version": "3.7.6"
  },
  "toc": {
   "base_numbering": 1,
   "nav_menu": {},
   "number_sections": true,
   "sideBar": true,
   "skip_h1_title": false,
   "title_cell": "Table of Contents",
   "title_sidebar": "Contents",
   "toc_cell": false,
   "toc_position": {},
   "toc_section_display": true,
   "toc_window_display": false
  },
  "varInspector": {
   "cols": {
    "lenName": 16,
    "lenType": 16,
    "lenVar": 40
   },
   "kernels_config": {
    "python": {
     "delete_cmd_postfix": "",
     "delete_cmd_prefix": "del ",
     "library": "var_list.py",
     "varRefreshCmd": "print(var_dic_list())"
    },
    "r": {
     "delete_cmd_postfix": ") ",
     "delete_cmd_prefix": "rm(",
     "library": "var_list.r",
     "varRefreshCmd": "cat(var_dic_list()) "
    }
   },
   "types_to_exclude": [
    "module",
    "function",
    "builtin_function_or_method",
    "instance",
    "_Feature"
   ],
   "window_display": false
  },
  "widgets": {
   "state": {},
   "version": "1.1.2"
  }
 },
 "nbformat": 4,
 "nbformat_minor": 1
}
