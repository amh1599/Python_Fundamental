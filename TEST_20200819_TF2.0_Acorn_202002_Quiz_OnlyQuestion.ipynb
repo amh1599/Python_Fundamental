{
 "cells": [
  {
   "cell_type": "markdown",
   "metadata": {},
   "source": [
    "# TF-2.0을 기반으로 Deep Learning Model Test"
   ]
  },
  {
   "cell_type": "markdown",
   "metadata": {},
   "source": [
    "* 가이드 라인 : 아래와 같은 결과 들이 나올 수 있도록 해당하는 셀을 만들고, 좋은 성능이 나오는 모델을 찾아보세요!!!"
   ]
  },
  {
   "cell_type": "markdown",
   "metadata": {},
   "source": [
    "### 필요한 패키지 불러오기.."
   ]
  },
  {
   "cell_type": "code",
   "execution_count": 1,
   "metadata": {},
   "outputs": [],
   "source": [
    "# 3.4 텐서플로 2.0 버전 선택\n",
    "try:\n",
    "    # %tensorflow_version only exists in Colab.\n",
    "    %tensorflow_version 2.x\n",
    "except Exception:\n",
    "    pass\n",
    "import tensorflow as tf\n"
   ]
  },
  {
   "cell_type": "code",
   "execution_count": 2,
   "metadata": {},
   "outputs": [],
   "source": [
    "import numpy as np\n",
    "import random\n",
    "seed = 1234\n",
    "np.random.seed(seed)\n",
    "tf.random.set_seed(seed)\n",
    "random.seed(seed)"
   ]
  },
  {
   "cell_type": "code",
   "execution_count": 3,
   "metadata": {},
   "outputs": [
    {
     "name": "stdout",
     "output_type": "stream",
     "text": [
      "2.3.0\n"
     ]
    }
   ],
   "source": [
    "import tensorflow as tf\n",
    "print(tf.__version__)"
   ]
  },
  {
   "cell_type": "markdown",
   "metadata": {},
   "source": [
    "# 문제_1) winequality dataset을 기반으로 좋은 분류 모델을 작성하세요!!!"
   ]
  },
  {
   "cell_type": "markdown",
   "metadata": {},
   "source": [
    "* 와인 데이터 불러오기 : red/white"
   ]
  },
  {
   "cell_type": "code",
   "execution_count": 4,
   "metadata": {},
   "outputs": [
    {
     "name": "stdout",
     "output_type": "stream",
     "text": [
      "   fixed acidity  volatile acidity  citric acid  residual sugar  chlorides  \\\n",
      "0            7.4              0.70          0.0             1.9      0.076   \n",
      "1            7.8              0.88          0.0             2.6      0.098   \n",
      "\n",
      "   free sulfur dioxide  total sulfur dioxide  density    pH  sulphates  \\\n",
      "0                 11.0                  34.0   0.9978  3.51       0.56   \n",
      "1                 25.0                  67.0   0.9968  3.20       0.68   \n",
      "\n",
      "   alcohol  quality  \n",
      "0      9.4        5  \n",
      "1      9.8        5  \n",
      "   fixed acidity  volatile acidity  citric acid  residual sugar  chlorides  \\\n",
      "0            7.0              0.27         0.36            20.7      0.045   \n",
      "1            6.3              0.30         0.34             1.6      0.049   \n",
      "\n",
      "   free sulfur dioxide  total sulfur dioxide  density   pH  sulphates  \\\n",
      "0                 45.0                 170.0    1.001  3.0       0.45   \n",
      "1                 14.0                 132.0    0.994  3.3       0.49   \n",
      "\n",
      "   alcohol  quality  \n",
      "0      8.8        6  \n",
      "1      9.5        6  \n"
     ]
    }
   ],
   "source": [
    "import pandas as pd\n",
    "red = pd.read_csv('http://archive.ics.uci.edu/ml/machine-learning-databases/wine-quality/winequality-red.csv', sep=';')\n",
    "white = pd.read_csv('http://archive.ics.uci.edu/ml/machine-learning-databases/wine-quality/winequality-white.csv', sep=';')\n",
    "print(red.head(2))\n",
    "print(white.head(2))"
   ]
  },
  {
   "cell_type": "markdown",
   "metadata": {},
   "source": [
    "* 각기 red =0, white =1 로 변환하기 + type컬럼에 작성하기 --> red set + white set합쳐서 하나의 wine 이라는 데이터 셋 완성!!!"
   ]
  },
  {
   "cell_type": "code",
   "execution_count": 5,
   "metadata": {},
   "outputs": [
    {
     "name": "stdout",
     "output_type": "stream",
     "text": [
      "   fixed acidity  volatile acidity  citric acid  residual sugar  chlorides  \\\n",
      "0            7.4              0.70          0.0             1.9      0.076   \n",
      "1            7.8              0.88          0.0             2.6      0.098   \n",
      "\n",
      "   free sulfur dioxide  total sulfur dioxide  density    pH  sulphates  \\\n",
      "0                 11.0                  34.0   0.9978  3.51       0.56   \n",
      "1                 25.0                  67.0   0.9968  3.20       0.68   \n",
      "\n",
      "   alcohol  quality  type  \n",
      "0      9.4        5     0  \n",
      "1      9.8        5     0  \n",
      "   fixed acidity  volatile acidity  citric acid  residual sugar  chlorides  \\\n",
      "0            7.0              0.27         0.36            20.7      0.045   \n",
      "1            6.3              0.30         0.34             1.6      0.049   \n",
      "\n",
      "   free sulfur dioxide  total sulfur dioxide  density   pH  sulphates  \\\n",
      "0                 45.0                 170.0    1.001  3.0       0.45   \n",
      "1                 14.0                 132.0    0.994  3.3       0.49   \n",
      "\n",
      "   alcohol  quality  type  \n",
      "0      8.8        6     1  \n",
      "1      9.5        6     1  \n"
     ]
    }
   ],
   "source": [
    "red['type'] = 0\n",
    "white['type'] = 1\n",
    "print(red.head(2))\n",
    "print(white.head(2))\n",
    "\n",
    "wine = pd.concat([red, white])"
   ]
  },
  {
   "cell_type": "markdown",
   "metadata": {},
   "source": [
    "* 정규화 수행 + random하게 train/test로 할 것들에 대한 인덱스 처리"
   ]
  },
  {
   "cell_type": "code",
   "execution_count": 6,
   "metadata": {},
   "outputs": [],
   "source": [
    "wine_norm = (wine - wine.min()) / (wine.max() - wine.min())"
   ]
  },
  {
   "cell_type": "code",
   "execution_count": 7,
   "metadata": {},
   "outputs": [
    {
     "name": "stdout",
     "output_type": "stream",
     "text": [
      "      fixed acidity  volatile acidity  citric acid  residual sugar  chlorides  \\\n",
      "3543       0.181818          0.166667     0.120482        0.018405   0.036545   \n",
      "2252       0.280992          0.140000     0.120482        0.108896   0.061462   \n",
      "\n",
      "      free sulfur dioxide  total sulfur dioxide   density        pH  \\\n",
      "3543             0.166667              0.352535  0.092346  0.534884   \n",
      "2252             0.173611              0.387097  0.167920  0.341085   \n",
      "\n",
      "      sulphates   alcohol   quality  type  \n",
      "3543   0.174157  0.434783  0.500000   1.0  \n",
      "2252   0.168539  0.217391  0.333333   1.0  \n",
      "[[0.18181818 0.16666667 0.12048193 0.01840491 0.03654485 0.16666667\n",
      "  0.35253456 0.09234625 0.53488372 0.1741573  0.43478261 0.5\n",
      "  1.        ]\n",
      " [0.28099174 0.14       0.12048193 0.10889571 0.06146179 0.17361111\n",
      "  0.38709677 0.1679198  0.34108527 0.16853933 0.2173913  0.33333333\n",
      "  1.        ]]\n"
     ]
    }
   ],
   "source": [
    "import numpy as np\n",
    "wine_shuffle = wine_norm.sample(frac=1,random_state=1234)\n",
    "print(wine_shuffle.head(2))\n",
    "wine_np = wine_shuffle.to_numpy()\n",
    "print(wine_np[:2])"
   ]
  },
  {
   "cell_type": "markdown",
   "metadata": {},
   "source": [
    "* 그 값을 기준으로 80프로는 train으로 남은 20프로는 test로"
   ]
  },
  {
   "cell_type": "code",
   "execution_count": 8,
   "metadata": {},
   "outputs": [],
   "source": [
    "train_idx = int(len(wine_np) * 0.8)\n",
    "train_X, train_Y = wine_np[:train_idx, :-1], wine_np[:train_idx, -1]\n",
    "test_X, test_Y = wine_np[train_idx:, :-1], wine_np[train_idx:, -1]"
   ]
  },
  {
   "cell_type": "markdown",
   "metadata": {},
   "source": [
    "### 문제 1- 1) 위의 데이터를 바탕으로 아래 주어진 조건의 DNN의 모델을 만들고, 수행하세요!!! \n",
    " - 조건1 : 모델 구조 : 입력 레이어 + 히든1층(노드 24, activation = relu) + 히든 2층(노드 12, activation=12) + 아웃풋 레이어\n",
    " - 조건2: loss = \"categorical_crossentropy\", metrics = [\"accuracy],optimizer=tf.keras.optimizers.Adam(lr=0.07)를 바탕으로 최적화를 수행하세요..\n",
    " - 조건3 :model.evaluate(test_X, test_Y,verbose=2) 을 수행해서 test_X 에 대한 결과를 나타내세요!!!\n",
    " - 주의 사항 : (단, train_X, test_X)는 그대로 유지를 해야, 다른 분들과 동일한 평가를 수행할 수 있습니다!!\n",
    " - 주의 사항 : DNN을 할 때의 y의 값이 어떻게 되어야 하는지 잘 고민을 해야할 것입니다!!!"
   ]
  },
  {
   "cell_type": "code",
   "execution_count": 9,
   "metadata": {},
   "outputs": [],
   "source": [
    "train_Y = tf.keras.utils.to_categorical(train_Y, num_classes=2)\n",
    "test_Y = tf.keras.utils.to_categorical(test_Y, num_classes=2)"
   ]
  },
  {
   "cell_type": "code",
   "execution_count": 10,
   "metadata": {
    "scrolled": true
   },
   "outputs": [
    {
     "name": "stdout",
     "output_type": "stream",
     "text": [
      "Model: \"sequential\"\n",
      "_________________________________________________________________\n",
      "Layer (type)                 Output Shape              Param #   \n",
      "=================================================================\n",
      "dense (Dense)                (None, 48)                624       \n",
      "_________________________________________________________________\n",
      "dense_1 (Dense)              (None, 24)                1176      \n",
      "_________________________________________________________________\n",
      "dense_2 (Dense)              (None, 12)                300       \n",
      "_________________________________________________________________\n",
      "dense_3 (Dense)              (None, 2)                 26        \n",
      "=================================================================\n",
      "Total params: 2,126\n",
      "Trainable params: 2,126\n",
      "Non-trainable params: 0\n",
      "_________________________________________________________________\n"
     ]
    }
   ],
   "source": [
    "model = tf.keras.Sequential([    \n",
    "    tf.keras.layers.Dense(input_shape=(12,),units=48,activation=\"relu\"),\n",
    "    tf.keras.layers.Dense(units=24,activation=\"relu\"),\n",
    "    tf.keras.layers.Dense(units=12,activation=\"relu\"),\n",
    "    tf.keras.layers.Dense(units=2,activation=\"softmax\")\n",
    "])\n",
    "\n",
    "model.compile(optimizer=tf.keras.optimizers.Adam(lr=0.07), loss='categorical_crossentropy', metrics=['accuracy'])\n",
    "\n",
    "model.summary()"
   ]
  },
  {
   "cell_type": "code",
   "execution_count": 11,
   "metadata": {
    "scrolled": false
   },
   "outputs": [
    {
     "name": "stdout",
     "output_type": "stream",
     "text": [
      "Epoch 1/20\n",
      "  1/114 [..............................] - ETA: 0s - loss: 0.6995 - accuracy: 0.4375WARNING:tensorflow:Callbacks method `on_train_batch_begin` is slow compared to the batch time (batch time: 0.0000s vs `on_train_batch_begin` time: 0.0011s). Check your callbacks.\n",
      "114/114 [==============================] - 0s 2ms/step - loss: 0.1287 - accuracy: 0.9497 - val_loss: 0.0469 - val_accuracy: 0.9897\n",
      "Epoch 2/20\n",
      "114/114 [==============================] - 0s 1ms/step - loss: 0.0638 - accuracy: 0.9841 - val_loss: 0.0320 - val_accuracy: 0.9936\n",
      "Epoch 3/20\n",
      "114/114 [==============================] - 0s 1ms/step - loss: 0.0593 - accuracy: 0.9843 - val_loss: 0.0642 - val_accuracy: 0.9846\n",
      "Epoch 4/20\n",
      "114/114 [==============================] - 0s 1ms/step - loss: 0.0647 - accuracy: 0.9835 - val_loss: 0.0635 - val_accuracy: 0.9910\n",
      "Epoch 5/20\n",
      "114/114 [==============================] - 0s 1ms/step - loss: 0.0558 - accuracy: 0.9854 - val_loss: 0.0816 - val_accuracy: 0.9827\n",
      "Epoch 6/20\n",
      "114/114 [==============================] - 0s 1ms/step - loss: 0.0537 - accuracy: 0.9849 - val_loss: 0.0373 - val_accuracy: 0.9897\n",
      "Epoch 7/20\n",
      "114/114 [==============================] - 0s 1ms/step - loss: 0.0490 - accuracy: 0.9854 - val_loss: 0.0297 - val_accuracy: 0.9936\n",
      "Epoch 8/20\n",
      "114/114 [==============================] - 0s 1ms/step - loss: 0.0538 - accuracy: 0.9857 - val_loss: 0.0267 - val_accuracy: 0.9942\n",
      "Epoch 9/20\n",
      "114/114 [==============================] - 0s 1ms/step - loss: 0.0401 - accuracy: 0.9898 - val_loss: 0.0312 - val_accuracy: 0.9936\n",
      "Epoch 10/20\n",
      "114/114 [==============================] - 0s 1ms/step - loss: 0.0522 - accuracy: 0.9857 - val_loss: 0.1678 - val_accuracy: 0.9545\n",
      "Epoch 11/20\n",
      "114/114 [==============================] - 0s 1ms/step - loss: 0.0612 - accuracy: 0.9849 - val_loss: 0.0302 - val_accuracy: 0.9929\n",
      "Epoch 12/20\n",
      "114/114 [==============================] - 0s 1ms/step - loss: 0.0357 - accuracy: 0.9907 - val_loss: 0.0397 - val_accuracy: 0.9904\n",
      "Epoch 13/20\n",
      "114/114 [==============================] - 0s 1ms/step - loss: 0.0458 - accuracy: 0.9871 - val_loss: 0.0282 - val_accuracy: 0.9929\n",
      "Epoch 14/20\n",
      "114/114 [==============================] - 0s 1ms/step - loss: 0.0410 - accuracy: 0.9893 - val_loss: 0.0354 - val_accuracy: 0.9897\n",
      "Epoch 15/20\n",
      "114/114 [==============================] - 0s 1ms/step - loss: 0.0411 - accuracy: 0.9893 - val_loss: 0.0271 - val_accuracy: 0.9929\n",
      "Epoch 16/20\n",
      "114/114 [==============================] - ETA: 0s - loss: 0.0533 - accuracy: 0.98 - 0s 1ms/step - loss: 0.0621 - accuracy: 0.9852 - val_loss: 0.0389 - val_accuracy: 0.9878\n",
      "Epoch 17/20\n",
      "114/114 [==============================] - 0s 1ms/step - loss: 0.0377 - accuracy: 0.9907 - val_loss: 0.0388 - val_accuracy: 0.9917\n",
      "Epoch 18/20\n",
      "114/114 [==============================] - 0s 1ms/step - loss: 0.0443 - accuracy: 0.9882 - val_loss: 0.0293 - val_accuracy: 0.9929\n",
      "Epoch 19/20\n",
      "114/114 [==============================] - 0s 1ms/step - loss: 0.0372 - accuracy: 0.9896 - val_loss: 0.0280 - val_accuracy: 0.9929\n",
      "Epoch 20/20\n",
      "114/114 [==============================] - 0s 1ms/step - loss: 0.0398 - accuracy: 0.9898 - val_loss: 0.0360 - val_accuracy: 0.9897\n"
     ]
    }
   ],
   "source": [
    "history = model.fit(train_X, train_Y, epochs=20, validation_split=0.3,batch_size=32)"
   ]
  },
  {
   "cell_type": "code",
   "execution_count": 12,
   "metadata": {},
   "outputs": [
    {
     "data": {
      "image/png": "[encoded data removed]",
      "text/plain": [
       "<Figure size 864x288 with 2 Axes>"
      ]
     },
     "metadata": {
      "needs_background": "light"
     },
     "output_type": "display_data"
    }
   ],
   "source": [
    "import matplotlib.pyplot as plt\n",
    "plt.figure(figsize=(12, 4))\n",
    "\n",
    "plt.subplot(1, 2, 1)\n",
    "plt.plot(history.history['loss'], 'b-', label='loss')\n",
    "plt.plot(history.history['val_loss'], 'r--', label='val_loss')\n",
    "plt.xlabel('Epoch')\n",
    "plt.legend()\n",
    "\n",
    "plt.subplot(1, 2, 2)\n",
    "plt.plot(history.history['accuracy'], 'g-', label='accuracy')\n",
    "plt.plot(history.history['val_accuracy'], 'k--', label='val_accuracy')\n",
    "plt.xlabel('Epoch')\n",
    "plt.ylim(0.7, 1)\n",
    "plt.legend()\n",
    "\n",
    "plt.show()"
   ]
  },
  {
   "cell_type": "code",
   "execution_count": 13,
   "metadata": {},
   "outputs": [
    {
     "name": "stdout",
     "output_type": "stream",
     "text": [
      "41/41 - 0s - loss: 0.0325 - accuracy: 0.9923\n"
     ]
    },
    {
     "data": {
      "text/plain": [
       "[0.03254899010062218, 0.9923076629638672]"
      ]
     },
     "execution_count": 13,
     "metadata": {},
     "output_type": "execute_result"
    }
   ],
   "source": [
    "model.evaluate(test_X, test_Y,verbose=2)"
   ]
  },
  {
   "cell_type": "code",
   "execution_count": null,
   "metadata": {},
   "outputs": [],
   "source": []
  },
  {
   "cell_type": "markdown",
   "metadata": {},
   "source": [
    "### 문제 1- 2)  위에서 작성한 것보다 보다 좋은 개선된 모델을 만들어 보세요!!![ 목표 : 0.99 accuracy 이상]\n",
    " - 단, DNN 구조의 모델을 기본으로 하고, 다른  ML알고리즘이 아닌  DNN의 구조를 바탕으로 다양한 모델을 만들어서  좋은 모델을 찾아보세요.\n",
    " - model.evaluate(test_X, test_Y,verbose=2) 위와 동일하게 한 결과에 대해서 개선된 부분을 찾아보시길 바랍니다."
   ]
  },
  {
   "cell_type": "code",
   "execution_count": 23,
   "metadata": {
    "scrolled": true
   },
   "outputs": [
    {
     "name": "stdout",
     "output_type": "stream",
     "text": [
      "Epoch 1/20\n",
      "114/114 [==============================] - 0s 2ms/step - loss: 0.1704 - accuracy: 0.9285 - val_loss: 0.0411 - val_accuracy: 0.9904\n",
      "Epoch 2/20\n",
      "114/114 [==============================] - 0s 1ms/step - loss: 0.0898 - accuracy: 0.9758 - val_loss: 0.1036 - val_accuracy: 0.9615\n",
      "Epoch 3/20\n",
      "114/114 [==============================] - 0s 1ms/step - loss: 0.0696 - accuracy: 0.9808 - val_loss: 0.0690 - val_accuracy: 0.9923\n",
      "Epoch 4/20\n",
      "114/114 [==============================] - 0s 1ms/step - loss: 0.0927 - accuracy: 0.9753 - val_loss: 0.0679 - val_accuracy: 0.9910\n",
      "Epoch 5/20\n",
      "114/114 [==============================] - 0s 1ms/step - loss: 0.1188 - accuracy: 0.9722 - val_loss: 0.0393 - val_accuracy: 0.9929\n",
      "Epoch 6/20\n",
      "114/114 [==============================] - 0s 1ms/step - loss: 0.0668 - accuracy: 0.9852 - val_loss: 0.0411 - val_accuracy: 0.9891\n",
      "Epoch 7/20\n",
      "114/114 [==============================] - 0s 1ms/step - loss: 0.0534 - accuracy: 0.9860 - val_loss: 0.0496 - val_accuracy: 0.9917\n",
      "Epoch 8/20\n",
      "114/114 [==============================] - 0s 1ms/step - loss: 0.0619 - accuracy: 0.9863 - val_loss: 0.0843 - val_accuracy: 0.9795\n",
      "Epoch 9/20\n",
      "114/114 [==============================] - 0s 1ms/step - loss: 0.0612 - accuracy: 0.9876 - val_loss: 0.0319 - val_accuracy: 0.9936\n",
      "Epoch 10/20\n",
      "114/114 [==============================] - 0s 1ms/step - loss: 0.1208 - accuracy: 0.9733 - val_loss: 0.0390 - val_accuracy: 0.9923\n",
      "Epoch 11/20\n",
      "114/114 [==============================] - 0s 1ms/step - loss: 0.0505 - accuracy: 0.9874 - val_loss: 0.0397 - val_accuracy: 0.9917\n",
      "Epoch 12/20\n",
      "114/114 [==============================] - 0s 1ms/step - loss: 0.0454 - accuracy: 0.9915 - val_loss: 0.0462 - val_accuracy: 0.9872\n",
      "Epoch 13/20\n",
      "114/114 [==============================] - 0s 1ms/step - loss: 0.0564 - accuracy: 0.9846 - val_loss: 0.0435 - val_accuracy: 0.9936\n",
      "Epoch 14/20\n",
      "114/114 [==============================] - 0s 1ms/step - loss: 0.0434 - accuracy: 0.9898 - val_loss: 0.0430 - val_accuracy: 0.9910\n",
      "Epoch 15/20\n",
      "114/114 [==============================] - 0s 1ms/step - loss: 0.0548 - accuracy: 0.9879 - val_loss: 0.0340 - val_accuracy: 0.9917\n",
      "Epoch 16/20\n",
      "114/114 [==============================] - 0s 1ms/step - loss: 0.0480 - accuracy: 0.9898 - val_loss: 0.0459 - val_accuracy: 0.9949\n",
      "Epoch 17/20\n",
      "114/114 [==============================] - 0s 1ms/step - loss: 0.0432 - accuracy: 0.9898 - val_loss: 0.0284 - val_accuracy: 0.9942\n",
      "Epoch 18/20\n",
      "114/114 [==============================] - 0s 1ms/step - loss: 0.0457 - accuracy: 0.9896 - val_loss: 0.0294 - val_accuracy: 0.9923\n",
      "Epoch 19/20\n",
      "114/114 [==============================] - 0s 1ms/step - loss: 0.0420 - accuracy: 0.9893 - val_loss: 0.0333 - val_accuracy: 0.9942\n",
      "Epoch 20/20\n",
      "114/114 [==============================] - 0s 1ms/step - loss: 0.0412 - accuracy: 0.9901 - val_loss: 0.0434 - val_accuracy: 0.9936\n",
      "41/41 - 0s - loss: 0.0380 - accuracy: 0.9931\n"
     ]
    },
    {
     "data": {
      "text/plain": [
       "[0.03798060119152069, 0.9930769205093384]"
      ]
     },
     "execution_count": 23,
     "metadata": {},
     "output_type": "execute_result"
    }
   ],
   "source": [
    "model = tf.keras.Sequential([\n",
    "    tf.keras.layers.Dense(input_shape=(12,),units=48,activation=\"relu\"),\n",
    "    tf.keras.layers.Dense(units=24,activation=\"relu\"),\n",
    "    tf.keras.layers.Dense(units=12,activation=\"relu\"),\n",
    "    tf.keras.layers.Dense(units=6,activation=\"relu\"),\n",
    "    tf.keras.layers.Dense(units=2,activation=\"softmax\")\n",
    "])\n",
    "\n",
    "model.compile(optimizer=tf.keras.optimizers.Adam(lr=0.07),  loss='categorical_crossentropy', metrics=['accuracy'])\n",
    "\n",
    "history = model.fit(train_X, train_Y, epochs=20, validation_split=0.3,batch_size=32)\n",
    "model.evaluate(test_X, test_Y,verbose=2)"
   ]
  },
  {
   "cell_type": "markdown",
   "metadata": {},
   "source": [
    " "
   ]
  },
  {
   "cell_type": "markdown",
   "metadata": {},
   "source": [
    " "
   ]
  },
  {
   "cell_type": "markdown",
   "metadata": {},
   "source": [
    " "
   ]
  },
  {
   "cell_type": "markdown",
   "metadata": {},
   "source": [
    "# 문제_ 2) Fashion_MNIST 데이터를 활용한 CNN모델을 만들기"
   ]
  },
  {
   "cell_type": "markdown",
   "metadata": {},
   "source": [
    "* 데이터 불러오기"
   ]
  },
  {
   "cell_type": "code",
   "execution_count": 24,
   "metadata": {},
   "outputs": [],
   "source": [
    "import tensorflow as tf\n",
    "\n",
    "fashion_mnist = tf.keras.datasets.fashion_mnist\n",
    "(train_X, train_Y), (test_X, test_Y) = fashion_mnist.load_data()\n",
    "\n",
    "train_X = train_X / 255.0\n",
    "test_X = test_X / 255.0"
   ]
  },
  {
   "cell_type": "markdown",
   "metadata": {},
   "source": [
    "* train_X, test_X의 모양 변경 : 28 by 28 and 1 channel"
   ]
  },
  {
   "cell_type": "code",
   "execution_count": 25,
   "metadata": {},
   "outputs": [],
   "source": [
    "train_X = train_X.reshape(-1, 28, 28, 1)\n",
    "test_X = test_X.reshape(-1, 28, 28, 1)"
   ]
  },
  {
   "cell_type": "markdown",
   "metadata": {},
   "source": [
    "* target label 설명   \n",
    " - 0 : 티셔츠/상의\n",
    " - 1 : 바지\n",
    " - 2 :스웨터\n",
    " - 3 :드레스\n",
    " - 4 :코트\n",
    " - 5 : 샌들\n",
    " - 6 : 셔츠\n",
    " - 7 : 운동화\n",
    " - 8 : 가방\n",
    " - 9 : 부츠"
   ]
  },
  {
   "cell_type": "markdown",
   "metadata": {},
   "source": [
    "* 참고로 실제 데이터 확인"
   ]
  },
  {
   "cell_type": "code",
   "execution_count": 26,
   "metadata": {},
   "outputs": [
    {
     "data": {
      "image/png": "[encoded data removed]",
      "text/plain": [
       "<Figure size 720x720 with 16 Axes>"
      ]
     },
     "metadata": {
      "needs_background": "light"
     },
     "output_type": "display_data"
    },
    {
     "name": "stdout",
     "output_type": "stream",
     "text": [
      "[9 0 0 3 0 2 7 2 5 5 0 9 5 5 7 9]\n"
     ]
    }
   ],
   "source": [
    "import matplotlib.pyplot as plt\n",
    "# 전체 그래프의 사이즈를 width=10, height=10 으로 지정합니다.\n",
    "plt.figure(figsize=(10, 10))\n",
    "for c in range(16):\n",
    "    # 4행 4열로 지정한 grid 에서 c+1 번째의 칸에 그래프를 그립니다. 1~16 번째 칸을 채우게 됩니다.\n",
    "    plt.subplot(4,4,c+1)\n",
    "    plt.imshow(train_X[c].reshape(28,28), cmap='gray')\n",
    "    \n",
    "plt.show()\n",
    "\n",
    "# train 데이터의 첫번째 ~ 16번째 까지의 라벨을 프린트합니다.\n",
    "print(train_Y[:16])"
   ]
  },
  {
   "cell_type": "markdown",
   "metadata": {},
   "source": [
    "### 문제 2- 1)  CNN 모델을 활용하여 분류 모델을 완성하세요..\n",
    " - 조건 : \n",
    "     - 입력 레이어\n",
    "     - conv1 layer : 3by3의 커널로 Conv2D, 필터 수 16개\n",
    "     - conv2 layer : 3by3 의 커널로 Conv2D, 필터 수 : 32개\n",
    "     - Neural Network : node : 128개, activation : relu\n",
    "     - 출력 레이터\n",
    "     - 컴파일 조건 : loss = \"sparse_categorical_crossentropy\", metrics=[\"accuracy\"],optimizer=tf.keras.optimizers.Adam()를 기반으로 할 것..\n",
    " - 조건 : model.evaluate(test_X, test_Y, verbose=0)에 대한 출력 확인\n",
    " - 조건 : 학습은 train_X, train_Y 사용"
   ]
  },
  {
   "cell_type": "code",
   "execution_count": 31,
   "metadata": {},
   "outputs": [
    {
     "name": "stdout",
     "output_type": "stream",
     "text": [
      "Epoch 1/3\n",
      "1313/1313 [==============================] - 24s 19ms/step - loss: 0.4679 - accuracy: 0.8319 - val_loss: 0.3796 - val_accuracy: 0.8640\n",
      "Epoch 2/3\n",
      "1313/1313 [==============================] - 25s 19ms/step - loss: 0.3264 - accuracy: 0.8820 - val_loss: 0.3852 - val_accuracy: 0.8661\n",
      "Epoch 3/3\n",
      "1313/1313 [==============================] - 25s 19ms/step - loss: 0.2690 - accuracy: 0.9017 - val_loss: 0.3579 - val_accuracy: 0.8722\n"
     ]
    },
    {
     "data": {
      "text/plain": [
       "[0.3829123079776764, 0.8650000095367432]"
      ]
     },
     "execution_count": 31,
     "metadata": {},
     "output_type": "execute_result"
    }
   ],
   "source": [
    "model = tf.keras.Sequential([\n",
    "    tf.keras.layers.Conv2D(input_shape=(28,28,1), kernel_size=(3,3), filters=16),\n",
    "    tf.keras.layers.Conv2D(kernel_size=(3,3), filters=32),\n",
    "    tf.keras.layers.Flatten(),\n",
    "    tf.keras.layers.Dense(units=128, activation=\"relu\"),\n",
    "    tf.keras.layers.Dense(units=10,activation=\"softmax\")\n",
    "])\n",
    "\n",
    "model.compile(optimizer=tf.keras.optimizers.Adam(),  loss='sparse_categorical_crossentropy', metrics=['accuracy'])\n",
    "\n",
    "history = model.fit(train_X,train_Y,epochs=3, validation_split=0.3)\n",
    "model.evaluate(test_X, test_Y, verbose=0)"
   ]
  },
  {
   "cell_type": "markdown",
   "metadata": {},
   "source": [
    "* 위에서 학습한 것을 확인하는 용도 코드"
   ]
  },
  {
   "cell_type": "code",
   "execution_count": 32,
   "metadata": {},
   "outputs": [
    {
     "data": {
      "image/png": "[encoded data removed]",
      "text/plain": [
       "<Figure size 864x288 with 2 Axes>"
      ]
     },
     "metadata": {
      "needs_background": "light"
     },
     "output_type": "display_data"
    },
    {
     "data": {
      "text/plain": [
       "[0.3829123079776764, 0.8650000095367432]"
      ]
     },
     "execution_count": 32,
     "metadata": {},
     "output_type": "execute_result"
    }
   ],
   "source": [
    "import matplotlib.pyplot as plt\n",
    "plt.figure(figsize=(12, 4))\n",
    "\n",
    "plt.subplot(1, 2, 1)\n",
    "plt.plot(history.history['loss'], 'b-', label='loss')\n",
    "plt.plot(history.history['val_loss'], 'r--', label='val_loss')\n",
    "plt.xlabel('Epoch')\n",
    "plt.legend()\n",
    "\n",
    "plt.subplot(1, 2, 2)\n",
    "plt.plot(history.history['accuracy'], 'g-', label='accuracy')\n",
    "plt.plot(history.history['val_accuracy'], 'k--', label='val_accuracy')\n",
    "plt.xlabel('Epoch')\n",
    "plt.ylim(0.7, 1)\n",
    "plt.legend()\n",
    "\n",
    "plt.show()\n",
    "\n",
    "model.evaluate(test_X, test_Y, verbose=0)"
   ]
  },
  {
   "cell_type": "markdown",
   "metadata": {},
   "source": [
    "### 문제 2- 2)  위에서 작성한 것보다 보다 좋은 개선된 모델을 만들어 보세요!!! [목표 : accuracy 0.91이상]\n",
    " - 단, CNN 구조의 모델을 기본으로 하고, 위의 것 보다 좋은 모델을 만들어 보세요!!!\n",
    " - 다양한 방식을 활용해서 레이어 구조 변경, 다른 모델 차용 등....\n",
    " - model.evaluate(test_X, test_Y,verbose=0) 위와 동일하게 한 결과에 대해서 개선된 부분을 찾아보시길 바랍니다."
   ]
  },
  {
   "cell_type": "code",
   "execution_count": 79,
   "metadata": {},
   "outputs": [
    {
     "name": "stdout",
     "output_type": "stream",
     "text": [
      "Epoch 1/15\n",
      "1313/1313 [==============================] - 54s 41ms/step - loss: 0.6512 - accuracy: 0.7696 - val_loss: 0.3700 - val_accuracy: 0.8624\n",
      "Epoch 2/15\n",
      "1313/1313 [==============================] - 57s 43ms/step - loss: 0.4550 - accuracy: 0.8412 - val_loss: 0.3583 - val_accuracy: 0.8723\n",
      "Epoch 3/15\n",
      "1313/1313 [==============================] - 57s 43ms/step - loss: 0.4149 - accuracy: 0.8528 - val_loss: 0.3206 - val_accuracy: 0.8848\n",
      "Epoch 4/15\n",
      "1313/1313 [==============================] - 56s 43ms/step - loss: 0.3987 - accuracy: 0.8595 - val_loss: 0.3028 - val_accuracy: 0.8899\n",
      "Epoch 5/15\n",
      "1313/1313 [==============================] - 57s 43ms/step - loss: 0.3817 - accuracy: 0.8650 - val_loss: 0.3063 - val_accuracy: 0.8902\n",
      "Epoch 6/15\n",
      "1313/1313 [==============================] - 57s 43ms/step - loss: 0.3768 - accuracy: 0.8662 - val_loss: 0.3024 - val_accuracy: 0.8914\n",
      "Epoch 7/15\n",
      "1313/1313 [==============================] - 57s 43ms/step - loss: 0.3615 - accuracy: 0.8705 - val_loss: 0.2899 - val_accuracy: 0.8968\n",
      "Epoch 8/15\n",
      "1313/1313 [==============================] - 56s 43ms/step - loss: 0.3521 - accuracy: 0.8737 - val_loss: 0.2968 - val_accuracy: 0.8928\n",
      "Epoch 9/15\n",
      "1313/1313 [==============================] - 57s 43ms/step - loss: 0.3572 - accuracy: 0.8732 - val_loss: 0.2929 - val_accuracy: 0.8949\n",
      "Epoch 10/15\n",
      "1313/1313 [==============================] - 57s 43ms/step - loss: 0.3442 - accuracy: 0.8777 - val_loss: 0.3245 - val_accuracy: 0.8844\n",
      "Epoch 11/15\n",
      "1313/1313 [==============================] - 57s 43ms/step - loss: 0.3519 - accuracy: 0.8749 - val_loss: 0.2796 - val_accuracy: 0.9012\n",
      "Epoch 12/15\n",
      "1313/1313 [==============================] - 57s 43ms/step - loss: 0.3433 - accuracy: 0.8769 - val_loss: 0.2891 - val_accuracy: 0.9011\n",
      "Epoch 13/15\n",
      "1313/1313 [==============================] - 59s 45ms/step - loss: 0.3391 - accuracy: 0.8794 - val_loss: 0.2990 - val_accuracy: 0.8874\n",
      "Epoch 14/15\n",
      "1313/1313 [==============================] - 59s 45ms/step - loss: 0.3379 - accuracy: 0.8794 - val_loss: 0.2914 - val_accuracy: 0.8972\n",
      "Epoch 15/15\n",
      "1313/1313 [==============================] - 58s 44ms/step - loss: 0.3358 - accuracy: 0.8809 - val_loss: 0.2810 - val_accuracy: 0.8996\n"
     ]
    },
    {
     "data": {
      "text/plain": [
       "[0.29401203989982605, 0.8967000246047974]"
      ]
     },
     "execution_count": 79,
     "metadata": {},
     "output_type": "execute_result"
    }
   ],
   "source": [
    "# 하나의 예시....\n",
    "model = tf.keras.Sequential([\n",
    "    tf.keras.layers.Conv2D(input_shape=(28,28,1), kernel_size=(3,3), filters=16, padding=\"same\"),\n",
    "    tf.keras.layers.Conv2D(kernel_size=(3,3), filters=32, padding=\"same\"),\n",
    "    tf.keras.layers.MaxPool2D(pool_size=(2,2)),\n",
    "    tf.keras.layers.Dropout(rate=0.5),\n",
    "    tf.keras.layers.Conv2D(kernel_size=(3,3), filters=64, padding=\"same\"),\n",
    "    tf.keras.layers.Conv2D(kernel_size=(3,3), filters=128, padding=\"same\"),\n",
    "    tf.keras.layers.MaxPool2D(pool_size=(2,2)),\n",
    "    tf.keras.layers.Dropout(rate=0.5),\n",
    "    tf.keras.layers.Flatten(),\n",
    "    tf.keras.layers.Dense(units=256, activation=\"relu\"),\n",
    "    tf.keras.layers.Dropout(rate=0.5),\n",
    "    tf.keras.layers.Dense(units=128, activation=\"relu\"),\n",
    "    tf.keras.layers.Dropout(rate=0.5),\n",
    "    tf.keras.layers.Dense(units=10,activation=\"softmax\")\n",
    "])\n",
    "\n",
    "model.compile(optimizer=tf.keras.optimizers.Adam(), loss='sparse_categorical_crossentropy', metrics=['accuracy'])\n",
    "\n",
    "model.fit(train_X,train_Y,epochs=15, validation_split=0.3)\n",
    "model.evaluate(test_X, test_Y, verbose=0)"
   ]
  },
  {
   "cell_type": "code",
   "execution_count": null,
   "metadata": {},
   "outputs": [],
   "source": []
  },
  {
   "cell_type": "markdown",
   "metadata": {},
   "source": [
    "# 문제3) 수업 중에 다루었던 Titanic data 을 활용하여 생존 여부를 예측하는 모델을 작성하세요!!!"
   ]
  },
  {
   "cell_type": "markdown",
   "metadata": {},
   "source": [
    "* 필요 패키지들"
   ]
  },
  {
   "cell_type": "code",
   "execution_count": 38,
   "metadata": {},
   "outputs": [],
   "source": [
    "import numpy as np\n",
    "import pandas as pd\n",
    "from matplotlib import pyplot as plt"
   ]
  },
  {
   "cell_type": "markdown",
   "metadata": {},
   "source": [
    "### 문제 3-1) 아래의 titanic_train.csv를 불러오고, .head(3)을 통해서 데이터를 확인하세요!!"
   ]
  },
  {
   "cell_type": "code",
   "execution_count": 39,
   "metadata": {},
   "outputs": [
    {
     "data": {
      "text/html": [
       "<div>\n",
       "<style scoped>\n",
       "    .dataframe tbody tr th:only-of-type {\n",
       "        vertical-align: middle;\n",
       "    }\n",
       "\n",
       "    .dataframe tbody tr th {\n",
       "        vertical-align: top;\n",
       "    }\n",
       "\n",
       "    .dataframe thead th {\n",
       "        text-align: right;\n",
       "    }\n",
       "</style>\n",
       "<table border=\"1\" class=\"dataframe\">\n",
       "  <thead>\n",
       "    <tr style=\"text-align: right;\">\n",
       "      <th></th>\n",
       "      <th>PassengerId</th>\n",
       "      <th>Survived</th>\n",
       "      <th>Pclass</th>\n",
       "      <th>Name</th>\n",
       "      <th>Sex</th>\n",
       "      <th>Age</th>\n",
       "      <th>SibSp</th>\n",
       "      <th>Parch</th>\n",
       "      <th>Ticket</th>\n",
       "      <th>Fare</th>\n",
       "      <th>Cabin</th>\n",
       "      <th>Embarked</th>\n",
       "    </tr>\n",
       "  </thead>\n",
       "  <tbody>\n",
       "    <tr>\n",
       "      <th>0</th>\n",
       "      <td>1</td>\n",
       "      <td>0</td>\n",
       "      <td>3</td>\n",
       "      <td>Braund, Mr. Owen Harris</td>\n",
       "      <td>male</td>\n",
       "      <td>22.0</td>\n",
       "      <td>1</td>\n",
       "      <td>0</td>\n",
       "      <td>A/5 21171</td>\n",
       "      <td>7.2500</td>\n",
       "      <td>NaN</td>\n",
       "      <td>S</td>\n",
       "    </tr>\n",
       "    <tr>\n",
       "      <th>1</th>\n",
       "      <td>2</td>\n",
       "      <td>1</td>\n",
       "      <td>1</td>\n",
       "      <td>Cumings, Mrs. John Bradley (Florence Briggs Th...</td>\n",
       "      <td>female</td>\n",
       "      <td>38.0</td>\n",
       "      <td>1</td>\n",
       "      <td>0</td>\n",
       "      <td>PC 17599</td>\n",
       "      <td>71.2833</td>\n",
       "      <td>C85</td>\n",
       "      <td>C</td>\n",
       "    </tr>\n",
       "    <tr>\n",
       "      <th>2</th>\n",
       "      <td>3</td>\n",
       "      <td>1</td>\n",
       "      <td>3</td>\n",
       "      <td>Heikkinen, Miss. Laina</td>\n",
       "      <td>female</td>\n",
       "      <td>26.0</td>\n",
       "      <td>0</td>\n",
       "      <td>0</td>\n",
       "      <td>STON/O2. 3101282</td>\n",
       "      <td>7.9250</td>\n",
       "      <td>NaN</td>\n",
       "      <td>S</td>\n",
       "    </tr>\n",
       "  </tbody>\n",
       "</table>\n",
       "</div>"
      ],
      "text/plain": [
       "   PassengerId  Survived  Pclass  \\\n",
       "0            1         0       3   \n",
       "1            2         1       1   \n",
       "2            3         1       3   \n",
       "\n",
       "                                                Name     Sex   Age  SibSp  \\\n",
       "0                            Braund, Mr. Owen Harris    male  22.0      1   \n",
       "1  Cumings, Mrs. John Bradley (Florence Briggs Th...  female  38.0      1   \n",
       "2                             Heikkinen, Miss. Laina  female  26.0      0   \n",
       "\n",
       "   Parch            Ticket     Fare Cabin Embarked  \n",
       "0      0         A/5 21171   7.2500   NaN        S  \n",
       "1      0          PC 17599  71.2833   C85        C  \n",
       "2      0  STON/O2. 3101282   7.9250   NaN        S  "
      ]
     },
     "execution_count": 39,
     "metadata": {},
     "output_type": "execute_result"
    }
   ],
   "source": [
    "df = pd.read_csv(\"sampledata\\\\titanic_train.csv\")\n",
    "df.head(3)"
   ]
  },
  {
   "cell_type": "markdown",
   "metadata": {},
   "source": [
    "### 참고 : 데이터 항목 설명\n",
    " - surveved : 생존여부(0/1),   \n",
    " - Pclass : 티켓의 클래스(1은 1st, 2는 2nd ..),    \n",
    " - n ame : 승객이름,    \n",
    " - sex : 승객성별,      \n",
    " - Age : 승객나이,    \n",
    " - SibSp : 함께 탑승한 형재와 배우자의 수,      \n",
    " - parch : 함께 탑승한 부모, 아이의 수,       \n",
    " - ticket: 티켓번호,      \n",
    " - Fare: 탑승료,      \n",
    " - cabin : 객실번호,       \n",
    " - embarked :탑승항구(C:Cherboug, Q :Queenstown, S:south ampton)"
   ]
  },
  {
   "cell_type": "markdown",
   "metadata": {},
   "source": [
    "#### outlier 제거를 위한 부분 --> 2칼럼 초과하여 3칼럼 모두 이상치인 데이터는 제거를 하기 위한 부분"
   ]
  },
  {
   "cell_type": "code",
   "execution_count": 40,
   "metadata": {},
   "outputs": [],
   "source": [
    "from collections import Counter\n",
    "# by ) Tukey method (Tukey JW., 1977) 을 사용을 하고, 수치 데이터 아웃라이어가 2개 이상 발생 시 해당 데이터를 제거하기 위한 작업 중\n",
    "def detect_outliers(df, n, features):\n",
    "    outlier_indices = []\n",
    "    for col in features:\n",
    "        # 1st quartile (25%)\n",
    "        Q1 = np.percentile(df[col], 25)\n",
    "        # 3rd quartile (75%)\n",
    "        Q3 = np.percentile(df[col],75)\n",
    "        # Interquartile range (IQR)\n",
    "        IQR = Q3 - Q1\n",
    "        # outlier step\n",
    "        outlier_step = 1.5 * IQR\n",
    "        outlier_list_col = df[(df[col] < Q1 - outlier_step) | (df[col] > Q3 + outlier_step )].index\n",
    "        \n",
    "        outlier_indices.extend(outlier_list_col)\n",
    "    # select observations containing more than 2 outliers\n",
    "    outlier_indices = Counter(outlier_indices)  \n",
    "    multiple_outliers = list( k for k, v in outlier_indices.items() if v > n )\n",
    "    \n",
    "    return multiple_outliers   "
   ]
  },
  {
   "cell_type": "code",
   "execution_count": 41,
   "metadata": {},
   "outputs": [],
   "source": [
    "# detect outliers from Age, SibSp , Parch and Fare\n",
    "Outliers_to_drop = detect_outliers(df,2,[\"Age\",\"SibSp\",\"Parch\",\"Fare\"])"
   ]
  },
  {
   "cell_type": "code",
   "execution_count": 42,
   "metadata": {},
   "outputs": [
    {
     "name": "stdout",
     "output_type": "stream",
     "text": [
      "<class 'pandas.core.frame.DataFrame'>\n",
      "RangeIndex: 881 entries, 0 to 880\n",
      "Data columns (total 12 columns):\n",
      " #   Column       Non-Null Count  Dtype  \n",
      "---  ------       --------------  -----  \n",
      " 0   PassengerId  881 non-null    int64  \n",
      " 1   Survived     881 non-null    int64  \n",
      " 2   Pclass       881 non-null    int64  \n",
      " 3   Name         881 non-null    object \n",
      " 4   Sex          881 non-null    object \n",
      " 5   Age          711 non-null    float64\n",
      " 6   SibSp        881 non-null    int64  \n",
      " 7   Parch        881 non-null    int64  \n",
      " 8   Ticket       881 non-null    object \n",
      " 9   Fare         881 non-null    float64\n",
      " 10  Cabin        201 non-null    object \n",
      " 11  Embarked     879 non-null    object \n",
      "dtypes: float64(2), int64(5), object(5)\n",
      "memory usage: 82.7+ KB\n"
     ]
    }
   ],
   "source": [
    "df = df.drop(Outliers_to_drop, axis = 0).reset_index(drop=True)\n",
    "df.info()"
   ]
  },
  {
   "cell_type": "markdown",
   "metadata": {},
   "source": [
    "* 아래와 같이 빵구난 데이터를 확인하세요!"
   ]
  },
  {
   "cell_type": "code",
   "execution_count": 43,
   "metadata": {},
   "outputs": [
    {
     "data": {
      "text/plain": [
       "PassengerId      0\n",
       "Survived         0\n",
       "Pclass           0\n",
       "Name             0\n",
       "Sex              0\n",
       "Age            170\n",
       "SibSp            0\n",
       "Parch            0\n",
       "Ticket           0\n",
       "Fare             0\n",
       "Cabin          680\n",
       "Embarked         2\n",
       "dtype: int64"
      ]
     },
     "execution_count": 43,
     "metadata": {},
     "output_type": "execute_result"
    }
   ],
   "source": [
    "df.isnull().sum()"
   ]
  },
  {
   "cell_type": "markdown",
   "metadata": {},
   "source": [
    "### 문제 3_2) Embarked의 빠진 2개의 데이터를 \"S\"의 문자열 값으로 채우세요!! --> 그리고 제대로 채워졌는지 확인하세요!!!"
   ]
  },
  {
   "cell_type": "code",
   "execution_count": 44,
   "metadata": {},
   "outputs": [],
   "source": [
    "df[\"Embarked\"] = df[\"Embarked\"].fillna(\"S\")"
   ]
  },
  {
   "cell_type": "code",
   "execution_count": 45,
   "metadata": {},
   "outputs": [
    {
     "data": {
      "text/plain": [
       "S    636\n",
       "C    168\n",
       "Q     77\n",
       "Name: Embarked, dtype: int64"
      ]
     },
     "execution_count": 45,
     "metadata": {},
     "output_type": "execute_result"
    }
   ],
   "source": [
    "df[\"Embarked\"] .value_counts(dropna=False)"
   ]
  },
  {
   "cell_type": "markdown",
   "metadata": {},
   "source": [
    "* 나이에 대한 빠진 값을 --> SibSp / Parch / Pclass의 값이 같으면 그 데이터들을 모아서 중간값으로 예측, 아니면 나이 데이터 중에서 단순 중간값으로 채우기!!"
   ]
  },
  {
   "cell_type": "code",
   "execution_count": 46,
   "metadata": {},
   "outputs": [],
   "source": [
    "index_NaN_age = list(df[\"Age\"][df[\"Age\"].isnull()].index)\n",
    "\n",
    "age_idx = df.columns.get_loc(\"Age\")\n",
    "SibSp_idx = df.columns.get_loc(\"SibSp\")\n",
    "Parch_idx = df.columns.get_loc(\"Parch\")\n",
    "Pclass_idx = df.columns.get_loc(\"Pclass\")\n",
    "\n",
    "for i in index_NaN_age :\n",
    "    age_med = df[\"Age\"].median()\n",
    "    age_pred = df[\"Age\"][((df['SibSp'] == df.iloc[i][\"SibSp\"]) \n",
    "                             & (df['Parch'] == df.iloc[i][\"Parch\"]) & \n",
    "                             (df['Pclass'] == df.iloc[i][\"Pclass\"]))].median()\n",
    "    if not np.isnan(age_pred) :\n",
    "        df.iat[i, age_idx] = age_pred\n",
    "    else :\n",
    "        df.iat[i, age_idx]  = age_med"
   ]
  },
  {
   "cell_type": "markdown",
   "metadata": {},
   "source": [
    "### 문제3_3) 아래와 같이 Cabin의 컬럼에 대해서 빠진 680데이터에는  \"X\"라는 문자열의 값으로 채우고, 맨 앞의 1글자만으로 객실을 단순화 하세요!!! (아래 결과표 참고)"
   ]
  },
  {
   "cell_type": "code",
   "execution_count": 47,
   "metadata": {},
   "outputs": [
    {
     "data": {
      "text/plain": [
       "NaN        680\n",
       "B96 B98      4\n",
       "G6           4\n",
       "E101         3\n",
       "C22 C26      3\n",
       "          ... \n",
       "B50          1\n",
       "A10          1\n",
       "E31          1\n",
       "T            1\n",
       "B94          1\n",
       "Name: Cabin, Length: 148, dtype: int64"
      ]
     },
     "execution_count": 47,
     "metadata": {},
     "output_type": "execute_result"
    }
   ],
   "source": [
    "df[\"Cabin\"] .value_counts(dropna=False)"
   ]
  },
  {
   "cell_type": "code",
   "execution_count": 48,
   "metadata": {},
   "outputs": [
    {
     "data": {
      "text/plain": [
       "X    680\n",
       "C     56\n",
       "B     47\n",
       "D     33\n",
       "E     32\n",
       "A     15\n",
       "F     13\n",
       "G      4\n",
       "T      1\n",
       "Name: Cabin, dtype: int64"
      ]
     },
     "execution_count": 48,
     "metadata": {},
     "output_type": "execute_result"
    }
   ],
   "source": [
    "df[\"Cabin\"] = df[\"Cabin\"].fillna(\"X\")\n",
    "df[\"Cabin\"] = df[\"Cabin\"].apply(lambda x : str(x)[:1])\n",
    "\n",
    "df[\"Cabin\"].value_counts(dropna=False)"
   ]
  },
  {
   "cell_type": "markdown",
   "metadata": {},
   "source": [
    "* 전체적으로 우선은 빠진 데이터가 없는지 확인!!"
   ]
  },
  {
   "cell_type": "code",
   "execution_count": 49,
   "metadata": {},
   "outputs": [
    {
     "data": {
      "text/plain": [
       "PassengerId    0\n",
       "Survived       0\n",
       "Pclass         0\n",
       "Name           0\n",
       "Sex            0\n",
       "Age            0\n",
       "SibSp          0\n",
       "Parch          0\n",
       "Ticket         0\n",
       "Fare           0\n",
       "Cabin          0\n",
       "Embarked       0\n",
       "dtype: int64"
      ]
     },
     "execution_count": 49,
     "metadata": {},
     "output_type": "execute_result"
    }
   ],
   "source": [
    "df.isnull().sum()"
   ]
  },
  {
   "cell_type": "markdown",
   "metadata": {},
   "source": [
    "* 기본적인 일괄적인 전처리 예정   \n",
    " - 수행 1 : \"PassengerId\", \"Name\", \"Ticket\" 컬럼 삭제   \n",
    " - 수행 2: \"Cabin\", \"Sex\", \"Embarked\" 컬럼 인코더 수행"
   ]
  },
  {
   "cell_type": "code",
   "execution_count": 50,
   "metadata": {},
   "outputs": [],
   "source": [
    "from sklearn import preprocessing\n",
    "from sklearn.preprocessing import LabelEncoder\n",
    "from sklearn.preprocessing import OneHotEncoder"
   ]
  },
  {
   "cell_type": "code",
   "execution_count": 51,
   "metadata": {},
   "outputs": [],
   "source": [
    "#\n",
    "def drop_feature(df):\n",
    "    df.drop([\"PassengerId\", \"Name\", \"Ticket\"], axis=1, inplace=True)\n",
    "    return df"
   ]
  },
  {
   "cell_type": "code",
   "execution_count": 52,
   "metadata": {},
   "outputs": [],
   "source": [
    "def format_features(df):\n",
    "    # 변경할 컬럼 리스트    \n",
    "    features = [\"Cabin\", \"Sex\", \"Embarked\"]\n",
    "    for feature in features:\n",
    "        # 각기 컬럼별로 수행할 인코더 설정 -> 컬럼 별로 다르게 되니 매 for 마다 새로운 것이 불러올 것!!\n",
    "        le = preprocessing.LabelEncoder()\n",
    "        # 인코딩할 컬럼 설절 및 그에 맞는 학습 수행 -> fit\n",
    "        le = le.fit(df.loc[:,feature])\n",
    "        # 실제 학습한 내용을 적용!!!! -> transform\n",
    "        df.loc[:, feature] = le.transform(df.loc[:, feature])\n",
    "    \n",
    "    \n",
    "    # Scalar  사용할 수 있음!!!!\n",
    "\n",
    "    return df  "
   ]
  },
  {
   "cell_type": "code",
   "execution_count": 53,
   "metadata": {},
   "outputs": [],
   "source": [
    "def titanic_transform(df):\n",
    "    df = drop_feature(df)\n",
    "    df = format_features(df)\n",
    "    return df"
   ]
  },
  {
   "cell_type": "code",
   "execution_count": 54,
   "metadata": {},
   "outputs": [
    {
     "data": {
      "text/html": [
       "<div>\n",
       "<style scoped>\n",
       "    .dataframe tbody tr th:only-of-type {\n",
       "        vertical-align: middle;\n",
       "    }\n",
       "\n",
       "    .dataframe tbody tr th {\n",
       "        vertical-align: top;\n",
       "    }\n",
       "\n",
       "    .dataframe thead th {\n",
       "        text-align: right;\n",
       "    }\n",
       "</style>\n",
       "<table border=\"1\" class=\"dataframe\">\n",
       "  <thead>\n",
       "    <tr style=\"text-align: right;\">\n",
       "      <th></th>\n",
       "      <th>Survived</th>\n",
       "      <th>Pclass</th>\n",
       "      <th>Sex</th>\n",
       "      <th>Age</th>\n",
       "      <th>SibSp</th>\n",
       "      <th>Parch</th>\n",
       "      <th>Fare</th>\n",
       "      <th>Cabin</th>\n",
       "      <th>Embarked</th>\n",
       "    </tr>\n",
       "  </thead>\n",
       "  <tbody>\n",
       "    <tr>\n",
       "      <th>0</th>\n",
       "      <td>0</td>\n",
       "      <td>3</td>\n",
       "      <td>1</td>\n",
       "      <td>22.0</td>\n",
       "      <td>1</td>\n",
       "      <td>0</td>\n",
       "      <td>7.2500</td>\n",
       "      <td>8</td>\n",
       "      <td>2</td>\n",
       "    </tr>\n",
       "    <tr>\n",
       "      <th>1</th>\n",
       "      <td>1</td>\n",
       "      <td>1</td>\n",
       "      <td>0</td>\n",
       "      <td>38.0</td>\n",
       "      <td>1</td>\n",
       "      <td>0</td>\n",
       "      <td>71.2833</td>\n",
       "      <td>2</td>\n",
       "      <td>0</td>\n",
       "    </tr>\n",
       "    <tr>\n",
       "      <th>2</th>\n",
       "      <td>1</td>\n",
       "      <td>3</td>\n",
       "      <td>0</td>\n",
       "      <td>26.0</td>\n",
       "      <td>0</td>\n",
       "      <td>0</td>\n",
       "      <td>7.9250</td>\n",
       "      <td>8</td>\n",
       "      <td>2</td>\n",
       "    </tr>\n",
       "  </tbody>\n",
       "</table>\n",
       "</div>"
      ],
      "text/plain": [
       "   Survived  Pclass  Sex   Age  SibSp  Parch     Fare  Cabin  Embarked\n",
       "0         0       3    1  22.0      1      0   7.2500      8         2\n",
       "1         1       1    0  38.0      1      0  71.2833      2         0\n",
       "2         1       3    0  26.0      0      0   7.9250      8         2"
      ]
     },
     "execution_count": 54,
     "metadata": {},
     "output_type": "execute_result"
    }
   ],
   "source": [
    "X_titanic_train = titanic_transform(df)\n",
    "X_titanic_train.head(3)"
   ]
  },
  {
   "cell_type": "code",
   "execution_count": 55,
   "metadata": {},
   "outputs": [],
   "source": [
    "y_titanic_train = X_titanic_train.iloc[:,0]\n",
    "X_titanic_train =X_titanic_train.iloc[:,1:]"
   ]
  },
  {
   "cell_type": "markdown",
   "metadata": {},
   "source": [
    "* 데이터 분리"
   ]
  },
  {
   "cell_type": "code",
   "execution_count": 56,
   "metadata": {},
   "outputs": [],
   "source": [
    "from sklearn.model_selection import train_test_split"
   ]
  },
  {
   "cell_type": "code",
   "execution_count": 57,
   "metadata": {},
   "outputs": [],
   "source": [
    "X_train, X_test, y_train, y_test = train_test_split(X_titanic_train, \n",
    "                                                    y_titanic_train, \n",
    "                                                    stratify = y_titanic_train,\n",
    "                                                    test_size=0.3, \n",
    "                                                    random_state=1234)"
   ]
  },
  {
   "cell_type": "markdown",
   "metadata": {},
   "source": [
    "* 참고) 우리의 비교 모델!!! Random Forest의 정확도 0.81"
   ]
  },
  {
   "cell_type": "code",
   "execution_count": 58,
   "metadata": {},
   "outputs": [],
   "source": [
    "from sklearn.ensemble import RandomForestClassifier\n",
    "from sklearn.metrics import accuracy_score"
   ]
  },
  {
   "cell_type": "code",
   "execution_count": 59,
   "metadata": {},
   "outputs": [
    {
     "name": "stdout",
     "output_type": "stream",
     "text": [
      "Random Forest 의 Test Accuracy Result  :  0.8151\n"
     ]
    }
   ],
   "source": [
    "rf_clf = RandomForestClassifier(n_jobs=-1, random_state=1234)\n",
    "rf_clf.fit(X_train,y_train)\n",
    "\n",
    "rfc_predictions = rf_clf.predict(X_test)\n",
    "accuracy = accuracy_score(y_test, rfc_predictions)\n",
    "print(\"Random Forest 의 Test Accuracy Result  : {0: .4f}\".format(accuracy))"
   ]
  },
  {
   "cell_type": "markdown",
   "metadata": {},
   "source": [
    "### 문제3_4) 비교 모델 Random Forest의 정확도 0.815보다 높은 DNN 모델을 만들어서 타이타닉의 생존을 예측하는 분류 모델을 만드세요!!(DNN모델 이외의 제약 조건은 없음!!!!)"
   ]
  },
  {
   "cell_type": "code",
   "execution_count": 81,
   "metadata": {},
   "outputs": [],
   "source": [
    "y_train = tf.keras.utils.to_categorical(y_train, num_classes=2)\n",
    "y_test = tf.keras.utils.to_categorical(y_test, num_classes=2)"
   ]
  },
  {
   "cell_type": "code",
   "execution_count": 93,
   "metadata": {},
   "outputs": [
    {
     "name": "stdout",
     "output_type": "stream",
     "text": [
      "Epoch 1/50\n",
      "14/14 [==============================] - 0s 8ms/step - loss: 0.6455 - accuracy: 0.6381 - val_loss: 0.6213 - val_accuracy: 0.6108\n",
      "Epoch 2/50\n",
      "14/14 [==============================] - 0s 2ms/step - loss: 0.6147 - accuracy: 0.6868 - val_loss: 0.6321 - val_accuracy: 0.6595\n",
      "Epoch 3/50\n",
      "14/14 [==============================] - 0s 2ms/step - loss: 0.6118 - accuracy: 0.6821 - val_loss: 0.6506 - val_accuracy: 0.5892\n",
      "Epoch 4/50\n",
      "14/14 [==============================] - 0s 2ms/step - loss: 0.6135 - accuracy: 0.6636 - val_loss: 0.6170 - val_accuracy: 0.5730\n",
      "Epoch 5/50\n",
      "14/14 [==============================] - 0s 2ms/step - loss: 0.6141 - accuracy: 0.6937 - val_loss: 0.5957 - val_accuracy: 0.6432\n",
      "Epoch 6/50\n",
      "14/14 [==============================] - 0s 2ms/step - loss: 0.5991 - accuracy: 0.7030 - val_loss: 0.5996 - val_accuracy: 0.6486\n",
      "Epoch 7/50\n",
      "14/14 [==============================] - 0s 2ms/step - loss: 0.5953 - accuracy: 0.6868 - val_loss: 0.5858 - val_accuracy: 0.6378\n",
      "Epoch 8/50\n",
      "14/14 [==============================] - 0s 2ms/step - loss: 0.5859 - accuracy: 0.6891 - val_loss: 0.6214 - val_accuracy: 0.6378\n",
      "Epoch 9/50\n",
      "14/14 [==============================] - 0s 2ms/step - loss: 0.6005 - accuracy: 0.6497 - val_loss: 0.5796 - val_accuracy: 0.6541\n",
      "Epoch 10/50\n",
      "14/14 [==============================] - 0s 2ms/step - loss: 0.5921 - accuracy: 0.6868 - val_loss: 0.6036 - val_accuracy: 0.6216\n",
      "Epoch 11/50\n",
      "14/14 [==============================] - 0s 2ms/step - loss: 0.5906 - accuracy: 0.7100 - val_loss: 0.6159 - val_accuracy: 0.6595\n",
      "Epoch 12/50\n",
      "14/14 [==============================] - 0s 2ms/step - loss: 0.5737 - accuracy: 0.7030 - val_loss: 0.5895 - val_accuracy: 0.6541\n",
      "Epoch 13/50\n",
      "14/14 [==============================] - 0s 2ms/step - loss: 0.5700 - accuracy: 0.7146 - val_loss: 0.5888 - val_accuracy: 0.6486\n",
      "Epoch 14/50\n",
      "14/14 [==============================] - 0s 2ms/step - loss: 0.5656 - accuracy: 0.6891 - val_loss: 0.5851 - val_accuracy: 0.6486\n",
      "Epoch 15/50\n",
      "14/14 [==============================] - 0s 2ms/step - loss: 0.5601 - accuracy: 0.7100 - val_loss: 0.5632 - val_accuracy: 0.7135\n",
      "Epoch 16/50\n",
      "14/14 [==============================] - 0s 2ms/step - loss: 0.5637 - accuracy: 0.7285 - val_loss: 0.6021 - val_accuracy: 0.6649\n",
      "Epoch 17/50\n",
      "14/14 [==============================] - 0s 2ms/step - loss: 0.5514 - accuracy: 0.7262 - val_loss: 0.5560 - val_accuracy: 0.6757\n",
      "Epoch 18/50\n",
      "14/14 [==============================] - 0s 2ms/step - loss: 0.5223 - accuracy: 0.7401 - val_loss: 0.5381 - val_accuracy: 0.7351\n",
      "Epoch 19/50\n",
      "14/14 [==============================] - 0s 2ms/step - loss: 0.5254 - accuracy: 0.7425 - val_loss: 0.6179 - val_accuracy: 0.6703\n",
      "Epoch 20/50\n",
      "14/14 [==============================] - 0s 2ms/step - loss: 0.5248 - accuracy: 0.7564 - val_loss: 0.5804 - val_accuracy: 0.6649\n",
      "Epoch 21/50\n",
      "14/14 [==============================] - 0s 2ms/step - loss: 0.5210 - accuracy: 0.7517 - val_loss: 0.5363 - val_accuracy: 0.7243\n",
      "Epoch 22/50\n",
      "14/14 [==============================] - 0s 2ms/step - loss: 0.5020 - accuracy: 0.7726 - val_loss: 0.5354 - val_accuracy: 0.7730\n",
      "Epoch 23/50\n",
      "14/14 [==============================] - 0s 2ms/step - loss: 0.5070 - accuracy: 0.7726 - val_loss: 0.5213 - val_accuracy: 0.7405\n",
      "Epoch 24/50\n",
      "14/14 [==============================] - 0s 2ms/step - loss: 0.4973 - accuracy: 0.7935 - val_loss: 0.5544 - val_accuracy: 0.7514\n",
      "Epoch 25/50\n",
      "14/14 [==============================] - 0s 2ms/step - loss: 0.4896 - accuracy: 0.7726 - val_loss: 0.5161 - val_accuracy: 0.7405\n",
      "Epoch 26/50\n",
      "14/14 [==============================] - 0s 2ms/step - loss: 0.4772 - accuracy: 0.7796 - val_loss: 0.6343 - val_accuracy: 0.7297\n",
      "Epoch 27/50\n",
      "14/14 [==============================] - 0s 2ms/step - loss: 0.4733 - accuracy: 0.7889 - val_loss: 0.5839 - val_accuracy: 0.7405\n",
      "Epoch 28/50\n",
      "14/14 [==============================] - 0s 2ms/step - loss: 0.4968 - accuracy: 0.7796 - val_loss: 0.5238 - val_accuracy: 0.7351\n",
      "Epoch 29/50\n",
      "14/14 [==============================] - 0s 2ms/step - loss: 0.5468 - accuracy: 0.7332 - val_loss: 0.5386 - val_accuracy: 0.7676\n",
      "Epoch 30/50\n",
      "14/14 [==============================] - 0s 2ms/step - loss: 0.5166 - accuracy: 0.7401 - val_loss: 0.5178 - val_accuracy: 0.7514\n",
      "Epoch 31/50\n",
      "14/14 [==============================] - 0s 2ms/step - loss: 0.4742 - accuracy: 0.8051 - val_loss: 0.5493 - val_accuracy: 0.7676\n",
      "Epoch 32/50\n",
      "14/14 [==============================] - 0s 2ms/step - loss: 0.4607 - accuracy: 0.7935 - val_loss: 0.5697 - val_accuracy: 0.7514\n",
      "Epoch 33/50\n",
      "14/14 [==============================] - 0s 2ms/step - loss: 0.4511 - accuracy: 0.7958 - val_loss: 0.5641 - val_accuracy: 0.7784\n",
      "Epoch 34/50\n",
      "14/14 [==============================] - 0s 2ms/step - loss: 0.4523 - accuracy: 0.8051 - val_loss: 0.6074 - val_accuracy: 0.7514\n",
      "Epoch 35/50\n",
      "14/14 [==============================] - 0s 2ms/step - loss: 0.4656 - accuracy: 0.8051 - val_loss: 0.5214 - val_accuracy: 0.7784\n",
      "Epoch 36/50\n",
      "14/14 [==============================] - 0s 2ms/step - loss: 0.4325 - accuracy: 0.8121 - val_loss: 0.6084 - val_accuracy: 0.7622\n",
      "Epoch 37/50\n",
      "14/14 [==============================] - 0s 2ms/step - loss: 0.4447 - accuracy: 0.8097 - val_loss: 0.6396 - val_accuracy: 0.7568\n",
      "Epoch 38/50\n",
      "14/14 [==============================] - 0s 2ms/step - loss: 0.4905 - accuracy: 0.7773 - val_loss: 0.9760 - val_accuracy: 0.6270\n",
      "Epoch 39/50\n",
      "14/14 [==============================] - 0s 2ms/step - loss: 0.5916 - accuracy: 0.7007 - val_loss: 0.5370 - val_accuracy: 0.7622\n",
      "Epoch 40/50\n",
      "14/14 [==============================] - 0s 2ms/step - loss: 0.5235 - accuracy: 0.7262 - val_loss: 0.5205 - val_accuracy: 0.7676\n",
      "Epoch 41/50\n",
      "14/14 [==============================] - 0s 2ms/step - loss: 0.4937 - accuracy: 0.7796 - val_loss: 0.5891 - val_accuracy: 0.7730\n",
      "Epoch 42/50\n",
      "14/14 [==============================] - 0s 2ms/step - loss: 0.4562 - accuracy: 0.8074 - val_loss: 0.5296 - val_accuracy: 0.7514\n",
      "Epoch 43/50\n",
      "14/14 [==============================] - 0s 2ms/step - loss: 0.4613 - accuracy: 0.8097 - val_loss: 0.5359 - val_accuracy: 0.7676\n",
      "Epoch 44/50\n",
      "14/14 [==============================] - 0s 2ms/step - loss: 0.4437 - accuracy: 0.7889 - val_loss: 0.5332 - val_accuracy: 0.7568\n",
      "Epoch 45/50\n",
      "14/14 [==============================] - 0s 2ms/step - loss: 0.4460 - accuracy: 0.7981 - val_loss: 0.5843 - val_accuracy: 0.8000\n",
      "Epoch 46/50\n",
      "14/14 [==============================] - 0s 2ms/step - loss: 0.4249 - accuracy: 0.8051 - val_loss: 0.5734 - val_accuracy: 0.8054\n",
      "Epoch 47/50\n",
      "14/14 [==============================] - 0s 2ms/step - loss: 0.4298 - accuracy: 0.8190 - val_loss: 0.5493 - val_accuracy: 0.7784\n",
      "Epoch 48/50\n",
      "14/14 [==============================] - 0s 2ms/step - loss: 0.4525 - accuracy: 0.8097 - val_loss: 0.6899 - val_accuracy: 0.7243\n",
      "Epoch 49/50\n",
      "14/14 [==============================] - 0s 2ms/step - loss: 0.4793 - accuracy: 0.8005 - val_loss: 0.5218 - val_accuracy: 0.7622\n",
      "Epoch 50/50\n",
      "14/14 [==============================] - 0s 2ms/step - loss: 0.4257 - accuracy: 0.8121 - val_loss: 0.5427 - val_accuracy: 0.7676\n",
      "9/9 - 0s - loss: 0.4270 - accuracy: 0.8302\n"
     ]
    },
    {
     "data": {
      "text/plain": [
       "[0.42704346776008606, 0.8301886916160583]"
      ]
     },
     "execution_count": 93,
     "metadata": {},
     "output_type": "execute_result"
    }
   ],
   "source": [
    "model = tf.keras.Sequential([\n",
    "    tf.keras.layers.Dense(input_shape=(8,),units=256,activation=\"relu\"),\n",
    "    tf.keras.layers.Dense(units=128,activation=\"relu\"),\n",
    "    tf.keras.layers.Dense(units=64,activation=\"relu\"),\n",
    "    tf.keras.layers.Dense(units=32,activation=\"relu\"),\n",
    "    tf.keras.layers.Dense(units=16,activation=\"relu\"),\n",
    "    tf.keras.layers.Dense(units=2,activation=\"softmax\")\n",
    "])\n",
    "\n",
    "model.compile(optimizer=tf.keras.optimizers.Adam(),  loss='categorical_crossentropy', metrics=['accuracy'])\n",
    "\n",
    "history = model.fit(X_train, y_train, epochs=50, validation_split=0.3,batch_size=32)\n",
    "model.evaluate(X_test, y_test,verbose=2)"
   ]
  },
  {
   "cell_type": "code",
   "execution_count": 117,
   "metadata": {},
   "outputs": [
    {
     "name": "stdout",
     "output_type": "stream",
     "text": [
      "265/1 - 0s - loss: 0.5289 - accuracy: 0.8264\n"
     ]
    },
    {
     "data": {
      "text/plain": [
       "[0.41572618574466347, 0.8264151]"
      ]
     },
     "execution_count": 117,
     "metadata": {},
     "output_type": "execute_result"
    }
   ],
   "source": []
  },
  {
   "cell_type": "code",
   "execution_count": 118,
   "metadata": {},
   "outputs": [
    {
     "name": "stdout",
     "output_type": "stream",
     "text": [
      "265/1 - 1s - loss: 0.5478 - accuracy: 0.8377\n"
     ]
    },
    {
     "data": {
      "text/plain": [
       "[0.41806211651496167, 0.83773583]"
      ]
     },
     "execution_count": 118,
     "metadata": {},
     "output_type": "execute_result"
    }
   ],
   "source": []
  },
  {
   "cell_type": "code",
   "execution_count": null,
   "metadata": {},
   "outputs": [],
   "source": []
  }
 ],
 "metadata": {
  "kernelspec": {
   "display_name": "Python 3",
   "language": "python",
   "name": "python3"
  },
  "language_info": {
   "codemirror_mode": {
    "name": "ipython",
    "version": 3
   },
   "file_extension": ".py",
   "mimetype": "text/x-python",
   "name": "python",
   "nbconvert_exporter": "python",
   "pygments_lexer": "ipython3",
   "version": "3.7.6"
  }
 },
 "nbformat": 4,
 "nbformat_minor": 4
}
